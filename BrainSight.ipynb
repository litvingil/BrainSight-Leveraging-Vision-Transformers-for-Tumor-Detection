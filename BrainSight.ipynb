{
  "cells": [
    {
      "cell_type": "markdown",
      "metadata": {
        "id": "view-in-github",
        "colab_type": "text"
      },
      "source": [
        "<a href=\"https://colab.research.google.com/github/litvingil/BrainSight-Leveraging-Vision-Transformers-for-Tumor-Detection/blob/main/BrainSight.ipynb\" target=\"_parent\"><img src=\"https://colab.research.google.com/assets/colab-badge.svg\" alt=\"Open In Colab\"/></a>"
      ]
    },
    {
      "cell_type": "markdown",
      "source": [
        "#Install requirements"
      ],
      "metadata": {
        "id": "TeEamIVn8mps"
      }
    },
    {
      "cell_type": "code",
      "source": [
        "from google.colab import drive\n",
        "drive.mount('/content/drive')"
      ],
      "metadata": {
        "colab": {
          "base_uri": "https://localhost:8080/"
        },
        "id": "_EwgoY3LzYzr",
        "outputId": "a1a8e9f8-d4a7-41fb-c061-21a6358c6607"
      },
      "execution_count": 1,
      "outputs": [
        {
          "output_type": "stream",
          "name": "stdout",
          "text": [
            "Mounted at /content/drive\n"
          ]
        }
      ]
    },
    {
      "cell_type": "code",
      "source": [
        "# seed = 1234567\n",
        "seed = 9921378\n",
        "output_vit_no_aug = '/content/drive/MyDrive/colab_files/final_deep_project/vit_no_aug'\n",
        "output_vit_no_aug2 = '/content/drive/MyDrive/colab_files/final_deep_project/vit_no_aug2'\n",
        "output_vit_no_aug3 = '/content/drive/MyDrive/colab_files/final_deep_project/vit_no_aug3'\n",
        "output_vit_with_aug = '/content/drive/MyDrive/colab_files/final_deep_project/vit_with_aug'\n",
        "output_cnn_no_aug = '/content/drive/MyDrive/colab_files/final_deep_project/cnn_no_aug'\n",
        "output_cnn_with_aug = '/content/drive/MyDrive/colab_files/final_deep_project/cnn_with_aug'\n",
        "data_path = '/content/drive/MyDrive/colab_files/final_deep_project/data'"
      ],
      "metadata": {
        "id": "Is_CC0SS3vin"
      },
      "execution_count": 2,
      "outputs": []
    },
    {
      "cell_type": "code",
      "execution_count": 3,
      "metadata": {
        "id": "Rqd722nVA6IV",
        "colab": {
          "base_uri": "https://localhost:8080/"
        },
        "outputId": "f01a7873-5cec-45da-aff3-60c6a067dd69"
      },
      "outputs": [
        {
          "output_type": "stream",
          "name": "stdout",
          "text": [
            "Collecting datasets\n",
            "  Downloading datasets-2.13.1-py3-none-any.whl (486 kB)\n",
            "\u001b[?25l     \u001b[90m━━━━━━━━━━━━━━━━━━━━━━━━━━━━━━━━━━━━━━━━\u001b[0m \u001b[32m0.0/486.2 kB\u001b[0m \u001b[31m?\u001b[0m eta \u001b[36m-:--:--\u001b[0m\r\u001b[2K     \u001b[90m━━━━━━━━━━━━━━━━━━━━━━━━━━━━━━━━━━━━━━\u001b[0m \u001b[32m486.2/486.2 kB\u001b[0m \u001b[31m27.7 MB/s\u001b[0m eta \u001b[36m0:00:00\u001b[0m\n",
            "\u001b[?25hRequirement already satisfied: numpy>=1.17 in /usr/local/lib/python3.10/dist-packages (from datasets) (1.22.4)\n",
            "Requirement already satisfied: pyarrow>=8.0.0 in /usr/local/lib/python3.10/dist-packages (from datasets) (9.0.0)\n",
            "Collecting dill<0.3.7,>=0.3.0 (from datasets)\n",
            "  Downloading dill-0.3.6-py3-none-any.whl (110 kB)\n",
            "\u001b[?25l     \u001b[90m━━━━━━━━━━━━━━━━━━━━━━━━━━━━━━━━━━━━━━━━\u001b[0m \u001b[32m0.0/110.5 kB\u001b[0m \u001b[31m?\u001b[0m eta \u001b[36m-:--:--\u001b[0m\r\u001b[2K     \u001b[90m━━━━━━━━━━━━━━━━━━━━━━━━━━━━━━━━━━━━━━\u001b[0m \u001b[32m110.5/110.5 kB\u001b[0m \u001b[31m17.2 MB/s\u001b[0m eta \u001b[36m0:00:00\u001b[0m\n",
            "\u001b[?25hRequirement already satisfied: pandas in /usr/local/lib/python3.10/dist-packages (from datasets) (1.5.3)\n",
            "Requirement already satisfied: requests>=2.19.0 in /usr/local/lib/python3.10/dist-packages (from datasets) (2.27.1)\n",
            "Requirement already satisfied: tqdm>=4.62.1 in /usr/local/lib/python3.10/dist-packages (from datasets) (4.65.0)\n",
            "Collecting xxhash (from datasets)\n",
            "  Downloading xxhash-3.2.0-cp310-cp310-manylinux_2_17_x86_64.manylinux2014_x86_64.whl (212 kB)\n",
            "\u001b[2K     \u001b[90m━━━━━━━━━━━━━━━━━━━━━━━━━━━━━━━━━━━━━━\u001b[0m \u001b[32m212.5/212.5 kB\u001b[0m \u001b[31m29.9 MB/s\u001b[0m eta \u001b[36m0:00:00\u001b[0m\n",
            "\u001b[?25hCollecting multiprocess (from datasets)\n",
            "  Downloading multiprocess-0.70.14-py310-none-any.whl (134 kB)\n",
            "\u001b[2K     \u001b[90m━━━━━━━━━━━━━━━━━━━━━━━━━━━━━━━━━━━━━━\u001b[0m \u001b[32m134.3/134.3 kB\u001b[0m \u001b[31m20.8 MB/s\u001b[0m eta \u001b[36m0:00:00\u001b[0m\n",
            "\u001b[?25hRequirement already satisfied: fsspec[http]>=2021.11.1 in /usr/local/lib/python3.10/dist-packages (from datasets) (2023.6.0)\n",
            "Requirement already satisfied: aiohttp in /usr/local/lib/python3.10/dist-packages (from datasets) (3.8.4)\n",
            "Collecting huggingface-hub<1.0.0,>=0.11.0 (from datasets)\n",
            "  Downloading huggingface_hub-0.16.2-py3-none-any.whl (268 kB)\n",
            "\u001b[2K     \u001b[90m━━━━━━━━━━━━━━━━━━━━━━━━━━━━━━━━━━━━━━\u001b[0m \u001b[32m268.5/268.5 kB\u001b[0m \u001b[31m34.5 MB/s\u001b[0m eta \u001b[36m0:00:00\u001b[0m\n",
            "\u001b[?25hRequirement already satisfied: packaging in /usr/local/lib/python3.10/dist-packages (from datasets) (23.1)\n",
            "Requirement already satisfied: pyyaml>=5.1 in /usr/local/lib/python3.10/dist-packages (from datasets) (6.0)\n",
            "Requirement already satisfied: attrs>=17.3.0 in /usr/local/lib/python3.10/dist-packages (from aiohttp->datasets) (23.1.0)\n",
            "Requirement already satisfied: charset-normalizer<4.0,>=2.0 in /usr/local/lib/python3.10/dist-packages (from aiohttp->datasets) (2.0.12)\n",
            "Requirement already satisfied: multidict<7.0,>=4.5 in /usr/local/lib/python3.10/dist-packages (from aiohttp->datasets) (6.0.4)\n",
            "Requirement already satisfied: async-timeout<5.0,>=4.0.0a3 in /usr/local/lib/python3.10/dist-packages (from aiohttp->datasets) (4.0.2)\n",
            "Requirement already satisfied: yarl<2.0,>=1.0 in /usr/local/lib/python3.10/dist-packages (from aiohttp->datasets) (1.9.2)\n",
            "Requirement already satisfied: frozenlist>=1.1.1 in /usr/local/lib/python3.10/dist-packages (from aiohttp->datasets) (1.3.3)\n",
            "Requirement already satisfied: aiosignal>=1.1.2 in /usr/local/lib/python3.10/dist-packages (from aiohttp->datasets) (1.3.1)\n",
            "Requirement already satisfied: filelock in /usr/local/lib/python3.10/dist-packages (from huggingface-hub<1.0.0,>=0.11.0->datasets) (3.12.2)\n",
            "Requirement already satisfied: typing-extensions>=3.7.4.3 in /usr/local/lib/python3.10/dist-packages (from huggingface-hub<1.0.0,>=0.11.0->datasets) (4.6.3)\n",
            "Requirement already satisfied: urllib3<1.27,>=1.21.1 in /usr/local/lib/python3.10/dist-packages (from requests>=2.19.0->datasets) (1.26.16)\n",
            "Requirement already satisfied: certifi>=2017.4.17 in /usr/local/lib/python3.10/dist-packages (from requests>=2.19.0->datasets) (2023.5.7)\n",
            "Requirement already satisfied: idna<4,>=2.5 in /usr/local/lib/python3.10/dist-packages (from requests>=2.19.0->datasets) (3.4)\n",
            "Requirement already satisfied: python-dateutil>=2.8.1 in /usr/local/lib/python3.10/dist-packages (from pandas->datasets) (2.8.2)\n",
            "Requirement already satisfied: pytz>=2020.1 in /usr/local/lib/python3.10/dist-packages (from pandas->datasets) (2022.7.1)\n",
            "Requirement already satisfied: six>=1.5 in /usr/local/lib/python3.10/dist-packages (from python-dateutil>=2.8.1->pandas->datasets) (1.16.0)\n",
            "Installing collected packages: xxhash, dill, multiprocess, huggingface-hub, datasets\n",
            "Successfully installed datasets-2.13.1 dill-0.3.6 huggingface-hub-0.16.2 multiprocess-0.70.14 xxhash-3.2.0\n",
            "Collecting transformers[torch]\n",
            "  Downloading transformers-4.30.2-py3-none-any.whl (7.2 MB)\n",
            "\u001b[2K     \u001b[90m━━━━━━━━━━━━━━━━━━━━━━━━━━━━━━━━━━━━━━━━\u001b[0m \u001b[32m7.2/7.2 MB\u001b[0m \u001b[31m101.9 MB/s\u001b[0m eta \u001b[36m0:00:00\u001b[0m\n",
            "\u001b[?25hRequirement already satisfied: filelock in /usr/local/lib/python3.10/dist-packages (from transformers[torch]) (3.12.2)\n",
            "Requirement already satisfied: huggingface-hub<1.0,>=0.14.1 in /usr/local/lib/python3.10/dist-packages (from transformers[torch]) (0.16.2)\n",
            "Requirement already satisfied: numpy>=1.17 in /usr/local/lib/python3.10/dist-packages (from transformers[torch]) (1.22.4)\n",
            "Requirement already satisfied: packaging>=20.0 in /usr/local/lib/python3.10/dist-packages (from transformers[torch]) (23.1)\n",
            "Requirement already satisfied: pyyaml>=5.1 in /usr/local/lib/python3.10/dist-packages (from transformers[torch]) (6.0)\n",
            "Requirement already satisfied: regex!=2019.12.17 in /usr/local/lib/python3.10/dist-packages (from transformers[torch]) (2022.10.31)\n",
            "Requirement already satisfied: requests in /usr/local/lib/python3.10/dist-packages (from transformers[torch]) (2.27.1)\n",
            "Collecting tokenizers!=0.11.3,<0.14,>=0.11.1 (from transformers[torch])\n",
            "  Downloading tokenizers-0.13.3-cp310-cp310-manylinux_2_17_x86_64.manylinux2014_x86_64.whl (7.8 MB)\n",
            "\u001b[2K     \u001b[90m━━━━━━━━━━━━━━━━━━━━━━━━━━━━━━━━━━━━━━━━\u001b[0m \u001b[32m7.8/7.8 MB\u001b[0m \u001b[31m110.5 MB/s\u001b[0m eta \u001b[36m0:00:00\u001b[0m\n",
            "\u001b[?25hCollecting safetensors>=0.3.1 (from transformers[torch])\n",
            "  Downloading safetensors-0.3.1-cp310-cp310-manylinux_2_17_x86_64.manylinux2014_x86_64.whl (1.3 MB)\n",
            "\u001b[2K     \u001b[90m━━━━━━━━━━━━━━━━━━━━━━━━━━━━━━━━━━━━━━━━\u001b[0m \u001b[32m1.3/1.3 MB\u001b[0m \u001b[31m90.8 MB/s\u001b[0m eta \u001b[36m0:00:00\u001b[0m\n",
            "\u001b[?25hRequirement already satisfied: tqdm>=4.27 in /usr/local/lib/python3.10/dist-packages (from transformers[torch]) (4.65.0)\n",
            "Requirement already satisfied: torch!=1.12.0,>=1.9 in /usr/local/lib/python3.10/dist-packages (from transformers[torch]) (2.0.1+cu118)\n",
            "Collecting accelerate>=0.20.2 (from transformers[torch])\n",
            "  Downloading accelerate-0.20.3-py3-none-any.whl (227 kB)\n",
            "\u001b[2K     \u001b[90m━━━━━━━━━━━━━━━━━━━━━━━━━━━━━━━━━━━━━━\u001b[0m \u001b[32m227.6/227.6 kB\u001b[0m \u001b[31m33.8 MB/s\u001b[0m eta \u001b[36m0:00:00\u001b[0m\n",
            "\u001b[?25hRequirement already satisfied: psutil in /usr/local/lib/python3.10/dist-packages (from accelerate>=0.20.2->transformers[torch]) (5.9.5)\n",
            "Requirement already satisfied: fsspec in /usr/local/lib/python3.10/dist-packages (from huggingface-hub<1.0,>=0.14.1->transformers[torch]) (2023.6.0)\n",
            "Requirement already satisfied: typing-extensions>=3.7.4.3 in /usr/local/lib/python3.10/dist-packages (from huggingface-hub<1.0,>=0.14.1->transformers[torch]) (4.6.3)\n",
            "Requirement already satisfied: sympy in /usr/local/lib/python3.10/dist-packages (from torch!=1.12.0,>=1.9->transformers[torch]) (1.11.1)\n",
            "Requirement already satisfied: networkx in /usr/local/lib/python3.10/dist-packages (from torch!=1.12.0,>=1.9->transformers[torch]) (3.1)\n",
            "Requirement already satisfied: jinja2 in /usr/local/lib/python3.10/dist-packages (from torch!=1.12.0,>=1.9->transformers[torch]) (3.1.2)\n",
            "Requirement already satisfied: triton==2.0.0 in /usr/local/lib/python3.10/dist-packages (from torch!=1.12.0,>=1.9->transformers[torch]) (2.0.0)\n",
            "Requirement already satisfied: cmake in /usr/local/lib/python3.10/dist-packages (from triton==2.0.0->torch!=1.12.0,>=1.9->transformers[torch]) (3.25.2)\n",
            "Requirement already satisfied: lit in /usr/local/lib/python3.10/dist-packages (from triton==2.0.0->torch!=1.12.0,>=1.9->transformers[torch]) (16.0.6)\n",
            "Requirement already satisfied: urllib3<1.27,>=1.21.1 in /usr/local/lib/python3.10/dist-packages (from requests->transformers[torch]) (1.26.16)\n",
            "Requirement already satisfied: certifi>=2017.4.17 in /usr/local/lib/python3.10/dist-packages (from requests->transformers[torch]) (2023.5.7)\n",
            "Requirement already satisfied: charset-normalizer~=2.0.0 in /usr/local/lib/python3.10/dist-packages (from requests->transformers[torch]) (2.0.12)\n",
            "Requirement already satisfied: idna<4,>=2.5 in /usr/local/lib/python3.10/dist-packages (from requests->transformers[torch]) (3.4)\n",
            "Requirement already satisfied: MarkupSafe>=2.0 in /usr/local/lib/python3.10/dist-packages (from jinja2->torch!=1.12.0,>=1.9->transformers[torch]) (2.1.3)\n",
            "Requirement already satisfied: mpmath>=0.19 in /usr/local/lib/python3.10/dist-packages (from sympy->torch!=1.12.0,>=1.9->transformers[torch]) (1.3.0)\n",
            "Installing collected packages: tokenizers, safetensors, transformers, accelerate\n",
            "Successfully installed accelerate-0.20.3 safetensors-0.3.1 tokenizers-0.13.3 transformers-4.30.2\n",
            "Requirement already satisfied: accelerate in /usr/local/lib/python3.10/dist-packages (0.20.3)\n",
            "Requirement already satisfied: numpy>=1.17 in /usr/local/lib/python3.10/dist-packages (from accelerate) (1.22.4)\n",
            "Requirement already satisfied: packaging>=20.0 in /usr/local/lib/python3.10/dist-packages (from accelerate) (23.1)\n",
            "Requirement already satisfied: psutil in /usr/local/lib/python3.10/dist-packages (from accelerate) (5.9.5)\n",
            "Requirement already satisfied: pyyaml in /usr/local/lib/python3.10/dist-packages (from accelerate) (6.0)\n",
            "Requirement already satisfied: torch>=1.6.0 in /usr/local/lib/python3.10/dist-packages (from accelerate) (2.0.1+cu118)\n",
            "Requirement already satisfied: filelock in /usr/local/lib/python3.10/dist-packages (from torch>=1.6.0->accelerate) (3.12.2)\n",
            "Requirement already satisfied: typing-extensions in /usr/local/lib/python3.10/dist-packages (from torch>=1.6.0->accelerate) (4.6.3)\n",
            "Requirement already satisfied: sympy in /usr/local/lib/python3.10/dist-packages (from torch>=1.6.0->accelerate) (1.11.1)\n",
            "Requirement already satisfied: networkx in /usr/local/lib/python3.10/dist-packages (from torch>=1.6.0->accelerate) (3.1)\n",
            "Requirement already satisfied: jinja2 in /usr/local/lib/python3.10/dist-packages (from torch>=1.6.0->accelerate) (3.1.2)\n",
            "Requirement already satisfied: triton==2.0.0 in /usr/local/lib/python3.10/dist-packages (from torch>=1.6.0->accelerate) (2.0.0)\n",
            "Requirement already satisfied: cmake in /usr/local/lib/python3.10/dist-packages (from triton==2.0.0->torch>=1.6.0->accelerate) (3.25.2)\n",
            "Requirement already satisfied: lit in /usr/local/lib/python3.10/dist-packages (from triton==2.0.0->torch>=1.6.0->accelerate) (16.0.6)\n",
            "Requirement already satisfied: MarkupSafe>=2.0 in /usr/local/lib/python3.10/dist-packages (from jinja2->torch>=1.6.0->accelerate) (2.1.3)\n",
            "Requirement already satisfied: mpmath>=0.19 in /usr/local/lib/python3.10/dist-packages (from sympy->torch>=1.6.0->accelerate) (1.3.0)\n",
            "Collecting wandb\n",
            "  Downloading wandb-0.15.5-py3-none-any.whl (2.1 MB)\n",
            "\u001b[2K     \u001b[90m━━━━━━━━━━━━━━━━━━━━━━━━━━━━━━━━━━━━━━━━\u001b[0m \u001b[32m2.1/2.1 MB\u001b[0m \u001b[31m51.4 MB/s\u001b[0m eta \u001b[36m0:00:00\u001b[0m\n",
            "\u001b[?25hRequirement already satisfied: Click!=8.0.0,>=7.1 in /usr/local/lib/python3.10/dist-packages (from wandb) (8.1.3)\n",
            "Collecting GitPython!=3.1.29,>=1.0.0 (from wandb)\n",
            "  Downloading GitPython-3.1.31-py3-none-any.whl (184 kB)\n",
            "\u001b[2K     \u001b[90m━━━━━━━━━━━━━━━━━━━━━━━━━━━━━━━━━━━━━━\u001b[0m \u001b[32m184.3/184.3 kB\u001b[0m \u001b[31m28.2 MB/s\u001b[0m eta \u001b[36m0:00:00\u001b[0m\n",
            "\u001b[?25hRequirement already satisfied: requests<3,>=2.0.0 in /usr/local/lib/python3.10/dist-packages (from wandb) (2.27.1)\n",
            "Requirement already satisfied: psutil>=5.0.0 in /usr/local/lib/python3.10/dist-packages (from wandb) (5.9.5)\n",
            "Collecting sentry-sdk>=1.0.0 (from wandb)\n",
            "  Downloading sentry_sdk-1.27.0-py2.py3-none-any.whl (211 kB)\n",
            "\u001b[2K     \u001b[90m━━━━━━━━━━━━━━━━━━━━━━━━━━━━━━━━━━━━━━\u001b[0m \u001b[32m211.3/211.3 kB\u001b[0m \u001b[31m29.9 MB/s\u001b[0m eta \u001b[36m0:00:00\u001b[0m\n",
            "\u001b[?25hCollecting docker-pycreds>=0.4.0 (from wandb)\n",
            "  Downloading docker_pycreds-0.4.0-py2.py3-none-any.whl (9.0 kB)\n",
            "Requirement already satisfied: PyYAML in /usr/local/lib/python3.10/dist-packages (from wandb) (6.0)\n",
            "Collecting pathtools (from wandb)\n",
            "  Downloading pathtools-0.1.2.tar.gz (11 kB)\n",
            "  Preparing metadata (setup.py) ... \u001b[?25l\u001b[?25hdone\n",
            "Collecting setproctitle (from wandb)\n",
            "  Downloading setproctitle-1.3.2-cp310-cp310-manylinux_2_5_x86_64.manylinux1_x86_64.manylinux_2_17_x86_64.manylinux2014_x86_64.whl (30 kB)\n",
            "Requirement already satisfied: setuptools in /usr/local/lib/python3.10/dist-packages (from wandb) (67.7.2)\n",
            "Requirement already satisfied: appdirs>=1.4.3 in /usr/local/lib/python3.10/dist-packages (from wandb) (1.4.4)\n",
            "Requirement already satisfied: protobuf!=4.21.0,<5,>=3.19.0 in /usr/local/lib/python3.10/dist-packages (from wandb) (3.20.3)\n",
            "Requirement already satisfied: six>=1.4.0 in /usr/local/lib/python3.10/dist-packages (from docker-pycreds>=0.4.0->wandb) (1.16.0)\n",
            "Collecting gitdb<5,>=4.0.1 (from GitPython!=3.1.29,>=1.0.0->wandb)\n",
            "  Downloading gitdb-4.0.10-py3-none-any.whl (62 kB)\n",
            "\u001b[2K     \u001b[90m━━━━━━━━━━━━━━━━━━━━━━━━━━━━━━━━━━━━━━━━\u001b[0m \u001b[32m62.7/62.7 kB\u001b[0m \u001b[31m9.5 MB/s\u001b[0m eta \u001b[36m0:00:00\u001b[0m\n",
            "\u001b[?25hRequirement already satisfied: urllib3<1.27,>=1.21.1 in /usr/local/lib/python3.10/dist-packages (from requests<3,>=2.0.0->wandb) (1.26.16)\n",
            "Requirement already satisfied: certifi>=2017.4.17 in /usr/local/lib/python3.10/dist-packages (from requests<3,>=2.0.0->wandb) (2023.5.7)\n",
            "Requirement already satisfied: charset-normalizer~=2.0.0 in /usr/local/lib/python3.10/dist-packages (from requests<3,>=2.0.0->wandb) (2.0.12)\n",
            "Requirement already satisfied: idna<4,>=2.5 in /usr/local/lib/python3.10/dist-packages (from requests<3,>=2.0.0->wandb) (3.4)\n",
            "Collecting smmap<6,>=3.0.1 (from gitdb<5,>=4.0.1->GitPython!=3.1.29,>=1.0.0->wandb)\n",
            "  Downloading smmap-5.0.0-py3-none-any.whl (24 kB)\n",
            "Building wheels for collected packages: pathtools\n",
            "  Building wheel for pathtools (setup.py) ... \u001b[?25l\u001b[?25hdone\n",
            "  Created wheel for pathtools: filename=pathtools-0.1.2-py3-none-any.whl size=8791 sha256=ba3a81cf3e44bde7468e7b7d9ac8a15725cd3397f883105ac54f68d9a189a036\n",
            "  Stored in directory: /root/.cache/pip/wheels/e7/f3/22/152153d6eb222ee7a56ff8617d80ee5207207a8c00a7aab794\n",
            "Successfully built pathtools\n",
            "Installing collected packages: pathtools, smmap, setproctitle, sentry-sdk, docker-pycreds, gitdb, GitPython, wandb\n",
            "Successfully installed GitPython-3.1.31 docker-pycreds-0.4.0 gitdb-4.0.10 pathtools-0.1.2 sentry-sdk-1.27.0 setproctitle-1.3.2 smmap-5.0.0 wandb-0.15.5\n",
            "Requirement already satisfied: imgaug in /usr/local/lib/python3.10/dist-packages (0.4.0)\n",
            "Requirement already satisfied: six in /usr/local/lib/python3.10/dist-packages (from imgaug) (1.16.0)\n",
            "Requirement already satisfied: numpy>=1.15 in /usr/local/lib/python3.10/dist-packages (from imgaug) (1.22.4)\n",
            "Requirement already satisfied: scipy in /usr/local/lib/python3.10/dist-packages (from imgaug) (1.10.1)\n",
            "Requirement already satisfied: Pillow in /usr/local/lib/python3.10/dist-packages (from imgaug) (8.4.0)\n",
            "Requirement already satisfied: matplotlib in /usr/local/lib/python3.10/dist-packages (from imgaug) (3.7.1)\n",
            "Requirement already satisfied: scikit-image>=0.14.2 in /usr/local/lib/python3.10/dist-packages (from imgaug) (0.19.3)\n",
            "Requirement already satisfied: opencv-python in /usr/local/lib/python3.10/dist-packages (from imgaug) (4.7.0.72)\n",
            "Requirement already satisfied: imageio in /usr/local/lib/python3.10/dist-packages (from imgaug) (2.25.1)\n",
            "Requirement already satisfied: Shapely in /usr/local/lib/python3.10/dist-packages (from imgaug) (2.0.1)\n",
            "Requirement already satisfied: networkx>=2.2 in /usr/local/lib/python3.10/dist-packages (from scikit-image>=0.14.2->imgaug) (3.1)\n",
            "Requirement already satisfied: tifffile>=2019.7.26 in /usr/local/lib/python3.10/dist-packages (from scikit-image>=0.14.2->imgaug) (2023.4.12)\n",
            "Requirement already satisfied: PyWavelets>=1.1.1 in /usr/local/lib/python3.10/dist-packages (from scikit-image>=0.14.2->imgaug) (1.4.1)\n",
            "Requirement already satisfied: packaging>=20.0 in /usr/local/lib/python3.10/dist-packages (from scikit-image>=0.14.2->imgaug) (23.1)\n",
            "Requirement already satisfied: contourpy>=1.0.1 in /usr/local/lib/python3.10/dist-packages (from matplotlib->imgaug) (1.1.0)\n",
            "Requirement already satisfied: cycler>=0.10 in /usr/local/lib/python3.10/dist-packages (from matplotlib->imgaug) (0.11.0)\n",
            "Requirement already satisfied: fonttools>=4.22.0 in /usr/local/lib/python3.10/dist-packages (from matplotlib->imgaug) (4.40.0)\n",
            "Requirement already satisfied: kiwisolver>=1.0.1 in /usr/local/lib/python3.10/dist-packages (from matplotlib->imgaug) (1.4.4)\n",
            "Requirement already satisfied: pyparsing>=2.3.1 in /usr/local/lib/python3.10/dist-packages (from matplotlib->imgaug) (3.1.0)\n",
            "Requirement already satisfied: python-dateutil>=2.7 in /usr/local/lib/python3.10/dist-packages (from matplotlib->imgaug) (2.8.2)\n"
          ]
        }
      ],
      "source": [
        "!pip install datasets\n",
        "!pip install transformers[torch]\n",
        "!pip install accelerate -U\n",
        "!pip install wandb\n",
        "\n",
        "!pip install imgaug"
      ]
    },
    {
      "cell_type": "markdown",
      "source": [
        "# Load the dataset"
      ],
      "metadata": {
        "id": "e8pOlK68_21b"
      }
    },
    {
      "cell_type": "code",
      "source": [
        "import os\n",
        "import numpy as np\n",
        "\n",
        "# Create the required directories\n",
        "os.makedirs(data_path + '/brain_tumor_dataset', exist_ok=True)\n",
        "os.makedirs(data_path + '/brain_dataset/train', exist_ok=True)\n",
        "os.makedirs(data_path +'/brain_dataset/test', exist_ok=True)\n",
        "\n",
        "# Names of tumor types\n",
        "tumor_types = ['meningioma','glioma','pituitary tumor']\n",
        "\n",
        "# Create directories for each tumor type in both train and test sets\n",
        "for tumor_type in tumor_types:\n",
        "  os.makedirs(data_path + f'/brain_dataset/test/{tumor_type}', exist_ok=True)\n",
        "  os.makedirs(data_path + f'/brain_dataset/train/{tumor_type}', exist_ok=True)\n",
        "\n",
        "# Install necessary Python libraries\n",
        "!pip install hdf5storage\n",
        "\n",
        "\n",
        "# Change directory\n",
        "%cd $data_path'/brain_tumor_dataset'\n",
        "\n",
        "# Download the dataset\n",
        "!wget https://ndownloader.figshare.com/articles/1512427/versions/5\n",
        "\n",
        "# Unzip the dataset and delete the zip\n",
        "!unzip 5 && rm 5\n",
        "\n",
        "# Concatenate the multiple zipped data in a single zip\n",
        "!cat brainTumorDataPublic_* > brainTumorDataPublic_temp.zip\n",
        "!zip -FF brainTumorDataPublic_temp.zip --out data.zip\n",
        "\n",
        "# Remove the temporary files\n",
        "!rm brainTumorDataPublic_*\n",
        "\n",
        "# Unzip the full archive and delete it\n",
        "!unzip data.zip -d data && rm data.zip\n",
        "\n",
        "# Check that \"data\" contains 3064 files\n",
        "!ls data | wc -l\n",
        "\n",
        "# Change directory to previous\n",
        "%cd ..\n",
        "\n",
        "# Clone the GitHub repository containing the script for converting the MATLAB files to NumPy\n",
        "!git clone https://github.com/guillaumefrd/brain-tumor-mri-dataset.git\n",
        "!cp brain-tumor-mri-dataset/matlab_to_numpy.py $data_path\n",
        "\n",
        "# Run the Python script to convert the MATLAB files to NumPy\n",
        "!python $data_path'/matlab_to_numpy.py' $data_path'/brain_tumor_dataset'"
      ],
      "metadata": {
        "id": "KhjuUITtAElJ"
      },
      "execution_count": null,
      "outputs": []
    },
    {
      "cell_type": "code",
      "source": [
        "# Load labels, images, and masks\n",
        "%cd $data_path'/brain_tumor_dataset'\n",
        "\n",
        "labels = np.load('labels.npy') - 1  # Subtracting 1 from labels to make them 0-indexed\n",
        "images = np.load('images.npy')\n",
        "masks = np.load('masks.npy')"
      ],
      "metadata": {
        "colab": {
          "base_uri": "https://localhost:8080/"
        },
        "id": "MJ51t2JuBkuY",
        "outputId": "07926976-2d94-41f2-8b91-e4eba82992ba"
      },
      "execution_count": null,
      "outputs": [
        {
          "output_type": "stream",
          "name": "stdout",
          "text": [
            "/content/drive/MyDrive/colab_files/final_deep_project/data/brain_tumor_dataset\n"
          ]
        }
      ]
    },
    {
      "cell_type": "code",
      "source": [
        "from PIL import Image\n",
        "# Normalize images and convert to PIL format\n",
        "def normalize_and_convert_images_to_pil(images):\n",
        "  normalized_pil_images = []\n",
        "  for image in images:\n",
        "    normalized_image = (image - np.min(image)) * (255.0 / (np.max(image) - np.min(image)))\n",
        "    normalized_pil_images.append(Image.fromarray(normalized_image.astype(np.uint8)).convert('RGB'))\n",
        "  return normalized_pil_images"
      ],
      "metadata": {
        "id": "t0O4JO__Dgxo"
      },
      "execution_count": null,
      "outputs": []
    },
    {
      "cell_type": "code",
      "source": [
        "# Split the dataset into train and test\n",
        "train_test_split_ratio = 0.8\n",
        "num_samples = labels.shape[0]\n",
        "indices = np.random.RandomState(seed).permutation(num_samples)\n",
        "train_indices = indices[:int(num_samples * train_test_split_ratio)]\n",
        "test_indices = indices[int(num_samples * train_test_split_ratio):]"
      ],
      "metadata": {
        "id": "Z44H99xMDguP"
      },
      "execution_count": null,
      "outputs": []
    },
    {
      "cell_type": "code",
      "source": [
        "# Convert images to PIL format\n",
        "pil_images = normalize_and_convert_images_to_pil(images)"
      ],
      "metadata": {
        "id": "nBFH973FDgrn"
      },
      "execution_count": null,
      "outputs": []
    },
    {
      "cell_type": "code",
      "source": [
        "# Save images to respective directories\n",
        "index_to_tumor_type = {i: tumor_type for i, tumor_type in enumerate(tumor_types)}\n",
        "for train_index in train_indices:\n",
        "  pil_images[train_index].save(data_path + f'/brain_dataset/train/{index_to_tumor_type[labels[train_index]]}/{train_index}.png')\n",
        "for test_index in test_indices:\n",
        "  pil_images[test_index].save(data_path + f'/brain_dataset/test/{index_to_tumor_type[labels[test_index]]}/{test_index}.png')"
      ],
      "metadata": {
        "id": "fewWPkFTDgow"
      },
      "execution_count": null,
      "outputs": []
    },
    {
      "cell_type": "markdown",
      "source": [
        "# Imports"
      ],
      "metadata": {
        "id": "MmThcO_M_z0_"
      }
    },
    {
      "cell_type": "code",
      "execution_count": 4,
      "metadata": {
        "id": "NC1eyP1tWN6h"
      },
      "outputs": [],
      "source": [
        "import numpy as np\n",
        "import matplotlib.pyplot as plt\n",
        "from PIL import Image\n",
        "\n",
        "import torch\n",
        "from datasets import load_dataset, load_metric\n",
        "\n",
        "from transformers import TrainingArguments, ViTFeatureExtractor, ViTForImageClassification, Trainer\n",
        "\n",
        "import wandb\n",
        "\n",
        "# Importing required libraries\n",
        "import numpy as np\n",
        "import matplotlib.pyplot as plt\n",
        "from PIL import Image\n",
        "import torch\n",
        "from torch.utils.data import DataLoader\n",
        "from torchvision import transforms\n",
        "from torchvision.transforms import Lambda\n",
        "from torchvision.datasets import ImageFolder\n",
        "from datasets import load_metric\n",
        "from transformers import TrainingArguments, Trainer, ViTForImageClassification, ViTFeatureExtractor\n",
        "from accelerate import Accelerator\n",
        "import imgaug.augmenters as iaa\n"
      ]
    },
    {
      "cell_type": "code",
      "source": [
        "labels_names = ['meningioma','glioma','pituitary tumor']"
      ],
      "metadata": {
        "id": "-q5MwX8ZR3qO"
      },
      "execution_count": 5,
      "outputs": []
    },
    {
      "cell_type": "markdown",
      "source": [
        "# Helper Functions"
      ],
      "metadata": {
        "id": "RmWpNS1r7rTj"
      }
    },
    {
      "cell_type": "code",
      "source": [
        "def collate_fn(batch):\n",
        "    return {\n",
        "        'pixel_values': torch.stack([x['pixel_values'] for x in batch]),\n",
        "        'labels': torch.tensor([x['labels'] for x in batch])\n",
        "    }\n",
        "\n",
        "metric = load_metric(\"accuracy\")\n",
        "\n",
        "def compute_metrics(p):\n",
        "    return metric.compute(predictions=np.argmax(p.predictions, axis=1), references=p.label_ids)"
      ],
      "metadata": {
        "id": "bu6EiBzg8Zcg",
        "colab": {
          "base_uri": "https://localhost:8080/",
          "height": 133,
          "referenced_widgets": [
            "c274518a78be489c8e37f2d713adce2e",
            "66ceb6d5524248d9a321cd6a6014c2ff",
            "b1fef4bc421d465caa1dbeb97a65bba3",
            "6f8e010856cd4940b859b5d1a06ad0a3",
            "a9f7f4897e95436897024426d20d324e",
            "7bfc198d6c554b219865e00e2ba5cc45",
            "058757c72182488e8e5ee9db427adc81",
            "b281060b8107458bac092186336962d9",
            "0a1492b49ca749b38f43804366a93761",
            "b6e37bdf317b4f1d82afd5cd1d276dbf",
            "376501286ad042419cd58399eef26929"
          ]
        },
        "outputId": "d178dd48-483c-4332-b701-23578eb41d2b"
      },
      "execution_count": 6,
      "outputs": [
        {
          "output_type": "stream",
          "name": "stderr",
          "text": [
            "<ipython-input-6-25e90a6ff46d>:7: FutureWarning: load_metric is deprecated and will be removed in the next major version of datasets. Use 'evaluate.load' instead, from the new library 🤗 Evaluate: https://huggingface.co/docs/evaluate\n",
            "  metric = load_metric(\"accuracy\")\n"
          ]
        },
        {
          "output_type": "display_data",
          "data": {
            "text/plain": [
              "Downloading builder script:   0%|          | 0.00/1.65k [00:00<?, ?B/s]"
            ],
            "application/vnd.jupyter.widget-view+json": {
              "version_major": 2,
              "version_minor": 0,
              "model_id": "c274518a78be489c8e37f2d713adce2e"
            }
          },
          "metadata": {}
        }
      ]
    },
    {
      "cell_type": "code",
      "source": [
        "#confusion matrix functions\n",
        "from sklearn.metrics import confusion_matrix\n",
        "import pandas as pd\n",
        "from sklearn import metrics as met\n",
        "\n",
        "def compute_metrics(p):\n",
        "    preds = np.argmax(p.predictions, axis=1)\n",
        "    cm = confusion_matrix(p.label_ids, preds)\n",
        "    return cm\n",
        "\n",
        "def print_confusion_matrix(cm, labels_names):\n",
        "    df_cm = pd.DataFrame(cm, index=labels_names, columns=labels_names)\n",
        "    print(df_cm)\n"
      ],
      "metadata": {
        "id": "ZH-Zvk0dH3a9"
      },
      "execution_count": 7,
      "outputs": []
    },
    {
      "cell_type": "markdown",
      "source": [
        "# ViT\n"
      ],
      "metadata": {
        "id": "Usu2m9bO2ZZW"
      }
    },
    {
      "cell_type": "markdown",
      "source": [
        "## Transforms"
      ],
      "metadata": {
        "id": "wJMVzli1Fs0D"
      }
    },
    {
      "cell_type": "code",
      "source": [
        "# Define the augmentation pipeline with imgaug\n",
        "augmenter = iaa.Sequential([\n",
        "    iaa.Fliplr(0.5),  # horizontally flip with probability of 0.5\n",
        "    iaa.Sometimes(0.3, iaa.GaussianBlur((0, 1.0))),  # apply Gaussian blur with probability of 0.3\n",
        "    iaa.Sometimes(0.5, iaa.SaltAndPepper(0.05)),  # Add Salt and Pepper noise with probability of 0.5\n",
        "    iaa.Sometimes(0.3, iaa.AdditivePoissonNoise(lam=(0, 30))),  # Add Poisson noise with probability of 0.3\n",
        "])\n",
        "\n",
        "# imgaug works with numpy images (HWC) but torchvision with PIL images, so we have to convert\n",
        "imgaug_transform = Lambda(lambda img: augmenter.augment_image(np.array(img)))"
      ],
      "metadata": {
        "id": "sK4IDdTqF8hz"
      },
      "execution_count": null,
      "outputs": []
    },
    {
      "cell_type": "code",
      "source": [
        "# Define transformations for the train dataset (without augmentation)\n",
        "train_transforms_without_aug = transforms.Compose([\n",
        "    transforms.Resize((224, 224),interpolation=Image.BILINEAR),  # Resize 512x512 images to 224x224 using bilinear interpolation\n",
        "    transforms.ToTensor(),  # Convert image to PyTorch tensor and automatically rescale to [0,1] by dividing by 255\n",
        "    transforms.Normalize((0.5, 0.5, 0.5), (0.5, 0.5, 0.5))  # Normalize image tensor to range [-1,1]\n",
        "])\n",
        "\n",
        "# Define transformations for the train dataset (including augmentation)\n",
        "train_transforms_with_aug = transforms.Compose([\n",
        "    transforms.Resize((224, 224),interpolation=Image.BILINEAR),  # Resize 512x512 images to 224x224 using bilinear interpolation\n",
        "    imgaug_transform,\n",
        "    transforms.ToTensor(),  # Convert image to PyTorch tensor and automatically rescale to [0,1] by dividing by 255\n",
        "    transforms.Normalize((0.5, 0.5, 0.5), (0.5, 0.5, 0.5))  # Normalize image tensor to range [-1,1]\n",
        "])\n",
        "\n",
        "# Define transformations for the test dataset\n",
        "test_transforms = transforms.Compose([\n",
        "    transforms.Resize((224, 224),interpolation=Image.BILINEAR),  # Resize 512x512 images to 224x224 using bilinear interpolation\n",
        "    transforms.ToTensor(),  # Convert image to PyTorch tensor and automatically rescale to [0,1] by dividing by 255\n",
        "    transforms.Normalize((0.5, 0.5, 0.5), (0.5, 0.5, 0.5))  # Normalize image tensor to range [-1,1]\n",
        "])"
      ],
      "metadata": {
        "id": "KDlpGaAUFwW7"
      },
      "execution_count": null,
      "outputs": []
    },
    {
      "cell_type": "markdown",
      "source": [
        "## Without augmentation"
      ],
      "metadata": {
        "id": "_rH5oLzJP7sK"
      }
    },
    {
      "cell_type": "code",
      "source": [
        "ViT_base = 'google/vit-base-patch16-224-in21k'\n",
        "\n",
        "# Load the datasets from folders and process the dataset with the transform\n",
        "train_dataset = ImageFolder(data_path + '/brain_dataset/train', transform=train_transforms_without_aug)\n",
        "test_dataset = ImageFolder(data_path + '/brain_dataset/test', transform=test_transforms)"
      ],
      "metadata": {
        "id": "J0pZnj1BQLn7"
      },
      "execution_count": null,
      "outputs": []
    },
    {
      "cell_type": "code",
      "execution_count": null,
      "metadata": {
        "colab": {
          "base_uri": "https://localhost:8080/",
          "height": 321
        },
        "id": "1xY3XqFfZQ2t",
        "outputId": "c95dc161-80b5-4ae1-c15f-0ea48b8ac2d7"
      },
      "outputs": [
        {
          "output_type": "stream",
          "name": "stderr",
          "text": [
            "Some weights of the model checkpoint at google/vit-base-patch16-224-in21k were not used when initializing ViTForImageClassification: ['pooler.dense.bias', 'pooler.dense.weight']\n",
            "- This IS expected if you are initializing ViTForImageClassification from the checkpoint of a model trained on another task or with another architecture (e.g. initializing a BertForSequenceClassification model from a BertForPreTraining model).\n",
            "- This IS NOT expected if you are initializing ViTForImageClassification from the checkpoint of a model that you expect to be exactly identical (initializing a BertForSequenceClassification model from a BertForSequenceClassification model).\n",
            "Some weights of ViTForImageClassification were not initialized from the model checkpoint at google/vit-base-patch16-224-in21k and are newly initialized: ['classifier.weight', 'classifier.bias']\n",
            "You should probably TRAIN this model on a down-stream task to be able to use it for predictions and inference.\n",
            "\u001b[34m\u001b[1mwandb\u001b[0m: Currently logged in as: \u001b[33mlitvingil\u001b[0m (\u001b[33mdeep_bekeif\u001b[0m). Use \u001b[1m`wandb login --relogin`\u001b[0m to force relogin\n"
          ]
        },
        {
          "output_type": "display_data",
          "data": {
            "text/plain": [
              "<IPython.core.display.HTML object>"
            ],
            "text/html": [
              "Tracking run with wandb version 0.15.4"
            ]
          },
          "metadata": {}
        },
        {
          "output_type": "display_data",
          "data": {
            "text/plain": [
              "<IPython.core.display.HTML object>"
            ],
            "text/html": [
              "Run data is saved locally in <code>/content/wandb/run-20230702_101819-vis2i7xd</code>"
            ]
          },
          "metadata": {}
        },
        {
          "output_type": "display_data",
          "data": {
            "text/plain": [
              "<IPython.core.display.HTML object>"
            ],
            "text/html": [
              "Syncing run <strong><a href='https://wandb.ai/deep_bekeif/vit_no_aug/runs/vis2i7xd' target=\"_blank\">polished-flower-13</a></strong> to <a href='https://wandb.ai/deep_bekeif/vit_no_aug' target=\"_blank\">Weights & Biases</a> (<a href='https://wandb.me/run' target=\"_blank\">docs</a>)<br/>"
            ]
          },
          "metadata": {}
        },
        {
          "output_type": "display_data",
          "data": {
            "text/plain": [
              "<IPython.core.display.HTML object>"
            ],
            "text/html": [
              " View project at <a href='https://wandb.ai/deep_bekeif/vit_no_aug' target=\"_blank\">https://wandb.ai/deep_bekeif/vit_no_aug</a>"
            ]
          },
          "metadata": {}
        },
        {
          "output_type": "display_data",
          "data": {
            "text/plain": [
              "<IPython.core.display.HTML object>"
            ],
            "text/html": [
              " View run at <a href='https://wandb.ai/deep_bekeif/vit_no_aug/runs/vis2i7xd' target=\"_blank\">https://wandb.ai/deep_bekeif/vit_no_aug/runs/vis2i7xd</a>"
            ]
          },
          "metadata": {}
        },
        {
          "output_type": "stream",
          "name": "stderr",
          "text": [
            "Some weights of the model checkpoint at google/vit-base-patch16-224-in21k were not used when initializing ViTForImageClassification: ['pooler.dense.bias', 'pooler.dense.weight']\n",
            "- This IS expected if you are initializing ViTForImageClassification from the checkpoint of a model trained on another task or with another architecture (e.g. initializing a BertForSequenceClassification model from a BertForPreTraining model).\n",
            "- This IS NOT expected if you are initializing ViTForImageClassification from the checkpoint of a model that you expect to be exactly identical (initializing a BertForSequenceClassification model from a BertForSequenceClassification model).\n",
            "Some weights of ViTForImageClassification were not initialized from the model checkpoint at google/vit-base-patch16-224-in21k and are newly initialized: ['classifier.weight', 'classifier.bias']\n",
            "You should probably TRAIN this model on a down-stream task to be able to use it for predictions and inference.\n"
          ]
        }
      ],
      "source": [
        "# define the model\n",
        "def model_init():\n",
        "  return ViTForImageClassification.from_pretrained(\n",
        "    ViT_base,\n",
        "    num_labels=len(labels_names),\n",
        "    id2label={str(i): tumor_type for i, tumor_type in enumerate(labels_names)},\n",
        "    label2id={tumor_type: i for i, tumor_type in enumerate(labels_names)},\n",
        ")\n",
        "\n",
        "model = model_init()\n",
        "\n",
        "# Initialize a new run\n",
        "wandb.init(project=\"vit_no_aug\")\n",
        "\n",
        "# Define the TrainingArguments\n",
        "training_args = TrainingArguments(\n",
        "  output_dir=output_vit_no_aug,\n",
        "  per_device_train_batch_size=16,\n",
        "  evaluation_strategy=\"steps\",\n",
        "  num_train_epochs=5,\n",
        "  fp16=True,\n",
        "  save_steps=100,#100\n",
        "  eval_steps=50,#100\n",
        "  logging_steps=10,\n",
        "  learning_rate=2e-4,\n",
        "  save_total_limit=2,\n",
        "  remove_unused_columns=False,\n",
        "  push_to_hub=False,\n",
        "  report_to='wandb',\n",
        "  load_best_model_at_end=True,\n",
        "  seed = seed\n",
        ")\n",
        "\n",
        "\n",
        "trainer = Trainer(\n",
        "    model_init=model_init,\n",
        "    args=training_args,\n",
        "    compute_metrics=compute_metrics,\n",
        "    train_dataset=train_dataset,\n",
        "    eval_dataset=test_dataset,\n",
        "    data_collator= lambda samples: {'pixel_values': torch.stack([sample[0] for sample in samples]),\n",
        "                                   'labels': torch.tensor([sample[1] for sample in samples])},\n",
        ")\n"
      ]
    },
    {
      "cell_type": "code",
      "source": [
        "#final\n",
        "train_results = trainer.train()\n",
        "trainer.save_model()\n",
        "trainer.log_metrics(\"train\", train_results.metrics)\n",
        "trainer.save_metrics(\"train\", train_results.metrics)\n",
        "trainer.save_state()\n",
        "\n",
        "wandb.finish()"
      ],
      "metadata": {
        "colab": {
          "base_uri": "https://localhost:8080/",
          "height": 1000
        },
        "id": "34eo5Uu-HIe8",
        "outputId": "f481a6f3-bc5e-40fc-acdf-7c16afa4304a"
      },
      "execution_count": null,
      "outputs": [
        {
          "output_type": "stream",
          "name": "stderr",
          "text": [
            "Some weights of the model checkpoint at google/vit-base-patch16-224-in21k were not used when initializing ViTForImageClassification: ['pooler.dense.bias', 'pooler.dense.weight']\n",
            "- This IS expected if you are initializing ViTForImageClassification from the checkpoint of a model trained on another task or with another architecture (e.g. initializing a BertForSequenceClassification model from a BertForPreTraining model).\n",
            "- This IS NOT expected if you are initializing ViTForImageClassification from the checkpoint of a model that you expect to be exactly identical (initializing a BertForSequenceClassification model from a BertForSequenceClassification model).\n",
            "Some weights of ViTForImageClassification were not initialized from the model checkpoint at google/vit-base-patch16-224-in21k and are newly initialized: ['classifier.weight', 'classifier.bias']\n",
            "You should probably TRAIN this model on a down-stream task to be able to use it for predictions and inference.\n",
            "/usr/local/lib/python3.10/dist-packages/transformers/optimization.py:411: FutureWarning: This implementation of AdamW is deprecated and will be removed in a future version. Use the PyTorch implementation torch.optim.AdamW instead, or set `no_deprecation_warning=True` to disable this warning\n",
            "  warnings.warn(\n"
          ]
        },
        {
          "output_type": "display_data",
          "data": {
            "text/plain": [
              "<IPython.core.display.HTML object>"
            ],
            "text/html": [
              "\n",
              "    <div>\n",
              "      \n",
              "      <progress value='770' max='770' style='width:300px; height:20px; vertical-align: middle;'></progress>\n",
              "      [770/770 17:33, Epoch 5/5]\n",
              "    </div>\n",
              "    <table border=\"1\" class=\"dataframe\">\n",
              "  <thead>\n",
              " <tr style=\"text-align: left;\">\n",
              "      <th>Step</th>\n",
              "      <th>Training Loss</th>\n",
              "      <th>Validation Loss</th>\n",
              "      <th>Accuracy</th>\n",
              "    </tr>\n",
              "  </thead>\n",
              "  <tbody>\n",
              "    <tr>\n",
              "      <td>50</td>\n",
              "      <td>0.208500</td>\n",
              "      <td>0.362267</td>\n",
              "      <td>0.872757</td>\n",
              "    </tr>\n",
              "    <tr>\n",
              "      <td>100</td>\n",
              "      <td>0.173500</td>\n",
              "      <td>0.135880</td>\n",
              "      <td>0.949429</td>\n",
              "    </tr>\n",
              "    <tr>\n",
              "      <td>150</td>\n",
              "      <td>0.123100</td>\n",
              "      <td>0.141044</td>\n",
              "      <td>0.952692</td>\n",
              "    </tr>\n",
              "    <tr>\n",
              "      <td>200</td>\n",
              "      <td>0.076000</td>\n",
              "      <td>0.142741</td>\n",
              "      <td>0.947798</td>\n",
              "    </tr>\n",
              "    <tr>\n",
              "      <td>250</td>\n",
              "      <td>0.100600</td>\n",
              "      <td>0.249677</td>\n",
              "      <td>0.941272</td>\n",
              "    </tr>\n",
              "    <tr>\n",
              "      <td>300</td>\n",
              "      <td>0.086400</td>\n",
              "      <td>0.120581</td>\n",
              "      <td>0.964111</td>\n",
              "    </tr>\n",
              "    <tr>\n",
              "      <td>350</td>\n",
              "      <td>0.070100</td>\n",
              "      <td>0.150766</td>\n",
              "      <td>0.955954</td>\n",
              "    </tr>\n",
              "    <tr>\n",
              "      <td>400</td>\n",
              "      <td>0.056400</td>\n",
              "      <td>0.152167</td>\n",
              "      <td>0.960848</td>\n",
              "    </tr>\n",
              "    <tr>\n",
              "      <td>450</td>\n",
              "      <td>0.032600</td>\n",
              "      <td>0.143290</td>\n",
              "      <td>0.962480</td>\n",
              "    </tr>\n",
              "    <tr>\n",
              "      <td>500</td>\n",
              "      <td>0.004700</td>\n",
              "      <td>0.135229</td>\n",
              "      <td>0.967374</td>\n",
              "    </tr>\n",
              "    <tr>\n",
              "      <td>550</td>\n",
              "      <td>0.015200</td>\n",
              "      <td>0.139668</td>\n",
              "      <td>0.967374</td>\n",
              "    </tr>\n",
              "    <tr>\n",
              "      <td>600</td>\n",
              "      <td>0.004900</td>\n",
              "      <td>0.119744</td>\n",
              "      <td>0.967374</td>\n",
              "    </tr>\n",
              "    <tr>\n",
              "      <td>650</td>\n",
              "      <td>0.003600</td>\n",
              "      <td>0.133235</td>\n",
              "      <td>0.967374</td>\n",
              "    </tr>\n",
              "    <tr>\n",
              "      <td>700</td>\n",
              "      <td>0.003300</td>\n",
              "      <td>0.117723</td>\n",
              "      <td>0.969005</td>\n",
              "    </tr>\n",
              "    <tr>\n",
              "      <td>750</td>\n",
              "      <td>0.003200</td>\n",
              "      <td>0.113195</td>\n",
              "      <td>0.972268</td>\n",
              "    </tr>\n",
              "  </tbody>\n",
              "</table><p>"
            ]
          },
          "metadata": {}
        },
        {
          "output_type": "stream",
          "name": "stdout",
          "text": [
            "***** train metrics *****\n",
            "  epoch                    =         5.0\n",
            "  total_flos               = 884451758GF\n",
            "  train_loss               =      0.0985\n",
            "  train_runtime            =  0:17:38.38\n",
            "  train_samples_per_second =      11.579\n",
            "  train_steps_per_second   =       0.728\n"
          ]
        },
        {
          "output_type": "display_data",
          "data": {
            "text/plain": [
              "<IPython.core.display.HTML object>"
            ],
            "text/html": [
              "Waiting for W&B process to finish... <strong style=\"color:green\">(success).</strong>"
            ]
          },
          "metadata": {}
        },
        {
          "output_type": "display_data",
          "data": {
            "text/plain": [
              "<IPython.core.display.HTML object>"
            ],
            "text/html": [
              "<style>\n",
              "    table.wandb td:nth-child(1) { padding: 0 10px; text-align: left ; width: auto;} td:nth-child(2) {text-align: left ; width: 100%}\n",
              "    .wandb-row { display: flex; flex-direction: row; flex-wrap: wrap; justify-content: flex-start; width: 100% }\n",
              "    .wandb-col { display: flex; flex-direction: column; flex-basis: 100%; flex: 1; padding: 10px; }\n",
              "    </style>\n",
              "<div class=\"wandb-row\"><div class=\"wandb-col\"><h3>Run history:</h3><br/><table class=\"wandb\"><tr><td>eval/accuracy</td><td>▁▆▇▆▆▇▇▇▇██████</td></tr><tr><td>eval/loss</td><td>█▂▂▂▅▁▂▂▂▂▂▁▂▁▁</td></tr><tr><td>eval/runtime</td><td>█▁▁▁▁▁▁▁▁▁▁▁▁▁▁</td></tr><tr><td>eval/samples_per_second</td><td>▁██████████████</td></tr><tr><td>eval/steps_per_second</td><td>▁██████████████</td></tr><tr><td>train/epoch</td><td>▁▁▁▂▂▂▂▂▂▃▃▃▃▃▄▄▄▄▄▄▅▅▅▅▅▆▆▆▆▆▆▇▇▇▇▇▇███</td></tr><tr><td>train/global_step</td><td>▁▁▁▂▂▂▂▂▂▃▃▃▃▃▄▄▄▄▄▄▅▅▅▅▅▆▆▆▆▆▆▇▇▇▇▇▇███</td></tr><tr><td>train/learning_rate</td><td>████▇▇▇▇▇▆▆▆▆▆▆▅▅▅▅▅▅▄▄▄▄▄▃▃▃▃▃▂▂▂▂▂▂▁▁▁</td></tr><tr><td>train/loss</td><td>█▆▄▃▂▂▂▂▃▂▂▂▂▁▂▂▁▁▂▁▁▂▁▁▁▁▁▁▁▁▁▁▁▁▁▁▁▁▁▁</td></tr><tr><td>train/total_flos</td><td>▁</td></tr><tr><td>train/train_loss</td><td>▁</td></tr><tr><td>train/train_runtime</td><td>▁</td></tr><tr><td>train/train_samples_per_second</td><td>▁</td></tr><tr><td>train/train_steps_per_second</td><td>▁</td></tr></table><br/></div><div class=\"wandb-col\"><h3>Run summary:</h3><br/><table class=\"wandb\"><tr><td>eval/accuracy</td><td>0.97227</td></tr><tr><td>eval/loss</td><td>0.1132</td></tr><tr><td>eval/runtime</td><td>8.3325</td></tr><tr><td>eval/samples_per_second</td><td>73.568</td></tr><tr><td>eval/steps_per_second</td><td>9.241</td></tr><tr><td>train/epoch</td><td>5.0</td></tr><tr><td>train/global_step</td><td>770</td></tr><tr><td>train/learning_rate</td><td>0.0</td></tr><tr><td>train/loss</td><td>0.0031</td></tr><tr><td>train/total_flos</td><td>9.496728442678579e+17</td></tr><tr><td>train/train_loss</td><td>0.09847</td></tr><tr><td>train/train_runtime</td><td>1058.384</td></tr><tr><td>train/train_samples_per_second</td><td>11.579</td></tr><tr><td>train/train_steps_per_second</td><td>0.728</td></tr></table><br/></div></div>"
            ]
          },
          "metadata": {}
        },
        {
          "output_type": "display_data",
          "data": {
            "text/plain": [
              "<IPython.core.display.HTML object>"
            ],
            "text/html": [
              " View run <strong style=\"color:#cdcd00\">polished-flower-13</strong> at: <a href='https://wandb.ai/deep_bekeif/vit_no_aug/runs/vis2i7xd' target=\"_blank\">https://wandb.ai/deep_bekeif/vit_no_aug/runs/vis2i7xd</a><br/>Synced 5 W&B file(s), 0 media file(s), 0 artifact file(s) and 0 other file(s)"
            ]
          },
          "metadata": {}
        },
        {
          "output_type": "display_data",
          "data": {
            "text/plain": [
              "<IPython.core.display.HTML object>"
            ],
            "text/html": [
              "Find logs at: <code>./wandb/run-20230702_101819-vis2i7xd/logs</code>"
            ]
          },
          "metadata": {}
        }
      ]
    },
    {
      "cell_type": "code",
      "source": [
        "#display Confusion Matrix\n",
        "pred = trainer.predict(test_dataset)\n",
        "\n",
        "cm_display = met.ConfusionMatrixDisplay(confusion_matrix = compute_metrics(pred), display_labels = labels_names)\n",
        "\n",
        "cm_display.plot()\n",
        "plt.show()\n"
      ],
      "metadata": {
        "colab": {
          "base_uri": "https://localhost:8080/",
          "height": 449
        },
        "id": "-5lJDHQYIDyT",
        "outputId": "b7c601a6-4f10-4ccb-b789-8ce07b66a6ad"
      },
      "execution_count": null,
      "outputs": [
        {
          "output_type": "display_data",
          "data": {
            "text/plain": [
              "<IPython.core.display.HTML object>"
            ],
            "text/html": []
          },
          "metadata": {}
        },
        {
          "output_type": "display_data",
          "data": {
            "text/plain": [
              "<Figure size 640x480 with 2 Axes>"
            ],
            "image/png": "[encoded data removed]"
          },
          "metadata": {}
        }
      ]
    },
    {
      "cell_type": "markdown",
      "source": [
        "## With augmentation"
      ],
      "metadata": {
        "id": "GtJNGP6yS9I8"
      }
    },
    {
      "cell_type": "code",
      "source": [
        "ViT_base = 'google/vit-base-patch16-224-in21k'\n",
        "\n",
        "# Load the datasets from folders and process the dataset with the transform\n",
        "train_dataset = ImageFolder(data_path + '/brain_dataset/train', transform=train_transforms_with_aug)\n",
        "test_dataset = ImageFolder(data_path + '/brain_dataset/test', transform=test_transforms)"
      ],
      "metadata": {
        "id": "6z16QIvITNFZ"
      },
      "execution_count": null,
      "outputs": []
    },
    {
      "cell_type": "code",
      "source": [
        "# define the model\n",
        "model = ViTForImageClassification.from_pretrained(\n",
        "    ViT_base,\n",
        "    num_labels=len(labels_names),\n",
        "    id2label={str(i): c for i, c in enumerate(labels_names)},\n",
        "    label2id={c: str(i) for i, c in enumerate(labels_names)}\n",
        ")\n",
        "\n",
        "# Initialize a new run\n",
        "wandb.init(project=\"vit_with_aug\")\n",
        "\n",
        "# Define the TrainingArguments\n",
        "training_args = TrainingArguments(\n",
        "  output_dir=output_vit_with_aug,\n",
        "  per_device_train_batch_size=16,\n",
        "  evaluation_strategy=\"steps\",\n",
        "  num_train_epochs=5,\n",
        "  fp16=True,\n",
        "  save_steps=100,#100\n",
        "  eval_steps=50,#100\n",
        "  logging_steps=10,\n",
        "  learning_rate=2e-4,\n",
        "  save_total_limit=2,\n",
        "  remove_unused_columns=False,\n",
        "  push_to_hub=False,\n",
        "  report_to='wandb',\n",
        "  load_best_model_at_end=True,\n",
        "  seed = seed\n",
        ")\n",
        "\n",
        "\n",
        "trainer = Trainer(\n",
        "    model=model,\n",
        "    args=training_args,\n",
        "    compute_metrics=compute_metrics,\n",
        "    train_dataset=train_dataset,\n",
        "    eval_dataset=test_dataset,\n",
        "    data_collator= lambda samples: {'pixel_values': torch.stack([sample[0] for sample in samples]),\n",
        "                                   'labels': torch.tensor([sample[1] for sample in samples])},\n",
        ")\n"
      ],
      "metadata": {
        "colab": {
          "base_uri": "https://localhost:8080/",
          "height": 214
        },
        "id": "02IbTxwrTIkD",
        "outputId": "2ebfb171-6d80-4a2f-e7b0-73907ede86f7"
      },
      "execution_count": null,
      "outputs": [
        {
          "output_type": "stream",
          "name": "stderr",
          "text": [
            "Some weights of the model checkpoint at google/vit-base-patch16-224-in21k were not used when initializing ViTForImageClassification: ['pooler.dense.bias', 'pooler.dense.weight']\n",
            "- This IS expected if you are initializing ViTForImageClassification from the checkpoint of a model trained on another task or with another architecture (e.g. initializing a BertForSequenceClassification model from a BertForPreTraining model).\n",
            "- This IS NOT expected if you are initializing ViTForImageClassification from the checkpoint of a model that you expect to be exactly identical (initializing a BertForSequenceClassification model from a BertForSequenceClassification model).\n",
            "Some weights of ViTForImageClassification were not initialized from the model checkpoint at google/vit-base-patch16-224-in21k and are newly initialized: ['classifier.weight', 'classifier.bias']\n",
            "You should probably TRAIN this model on a down-stream task to be able to use it for predictions and inference.\n"
          ]
        },
        {
          "output_type": "display_data",
          "data": {
            "text/plain": [
              "<IPython.core.display.HTML object>"
            ],
            "text/html": [
              "Tracking run with wandb version 0.15.4"
            ]
          },
          "metadata": {}
        },
        {
          "output_type": "display_data",
          "data": {
            "text/plain": [
              "<IPython.core.display.HTML object>"
            ],
            "text/html": [
              "Run data is saved locally in <code>/content/wandb/run-20230702_104241-nk1vo8nc</code>"
            ]
          },
          "metadata": {}
        },
        {
          "output_type": "display_data",
          "data": {
            "text/plain": [
              "<IPython.core.display.HTML object>"
            ],
            "text/html": [
              "Syncing run <strong><a href='https://wandb.ai/deep_bekeif/vit_with_aug/runs/nk1vo8nc' target=\"_blank\">fine-flower-2</a></strong> to <a href='https://wandb.ai/deep_bekeif/vit_with_aug' target=\"_blank\">Weights & Biases</a> (<a href='https://wandb.me/run' target=\"_blank\">docs</a>)<br/>"
            ]
          },
          "metadata": {}
        },
        {
          "output_type": "display_data",
          "data": {
            "text/plain": [
              "<IPython.core.display.HTML object>"
            ],
            "text/html": [
              " View project at <a href='https://wandb.ai/deep_bekeif/vit_with_aug' target=\"_blank\">https://wandb.ai/deep_bekeif/vit_with_aug</a>"
            ]
          },
          "metadata": {}
        },
        {
          "output_type": "display_data",
          "data": {
            "text/plain": [
              "<IPython.core.display.HTML object>"
            ],
            "text/html": [
              " View run at <a href='https://wandb.ai/deep_bekeif/vit_with_aug/runs/nk1vo8nc' target=\"_blank\">https://wandb.ai/deep_bekeif/vit_with_aug/runs/nk1vo8nc</a>"
            ]
          },
          "metadata": {}
        }
      ]
    },
    {
      "cell_type": "code",
      "source": [
        "train_results = trainer.train()\n",
        "trainer.save_model()\n",
        "trainer.log_metrics(\"train\", train_results.metrics)\n",
        "trainer.save_metrics(\"train\", train_results.metrics)\n",
        "trainer.save_state()\n",
        "\n",
        "wandb.finish()"
      ],
      "metadata": {
        "colab": {
          "base_uri": "https://localhost:8080/",
          "height": 1000,
          "referenced_widgets": [
            "7b0b645b32144ccf810f3a15796ef66c",
            "1e4a25437b634ef894b21972431432b4",
            "e936fd6952fe41dca9ffe96a6450787b",
            "06ce33f8bd3048248a7076bd1515d46b",
            "7a130b04a5ce4dce99eb61334816e362",
            "a08c3126a6684d97a0c2f6517ade5eed",
            "19061d6836ed4fa697b1f8697e7d46d9",
            "9b5bf20b83cc4d7496466d045034ea9d"
          ]
        },
        "id": "595CF1SN-J5g",
        "outputId": "cc42d525-53d7-470b-9bb6-bc16d4258295"
      },
      "execution_count": null,
      "outputs": [
        {
          "output_type": "stream",
          "name": "stderr",
          "text": [
            "/usr/local/lib/python3.10/dist-packages/transformers/optimization.py:411: FutureWarning: This implementation of AdamW is deprecated and will be removed in a future version. Use the PyTorch implementation torch.optim.AdamW instead, or set `no_deprecation_warning=True` to disable this warning\n",
            "  warnings.warn(\n"
          ]
        },
        {
          "output_type": "display_data",
          "data": {
            "text/plain": [
              "<IPython.core.display.HTML object>"
            ],
            "text/html": [
              "\n",
              "    <div>\n",
              "      \n",
              "      <progress value='770' max='770' style='width:300px; height:20px; vertical-align: middle;'></progress>\n",
              "      [770/770 06:15, Epoch 5/5]\n",
              "    </div>\n",
              "    <table border=\"1\" class=\"dataframe\">\n",
              "  <thead>\n",
              " <tr style=\"text-align: left;\">\n",
              "      <th>Step</th>\n",
              "      <th>Training Loss</th>\n",
              "      <th>Validation Loss</th>\n",
              "      <th>Accuracy</th>\n",
              "    </tr>\n",
              "  </thead>\n",
              "  <tbody>\n",
              "    <tr>\n",
              "      <td>50</td>\n",
              "      <td>0.349200</td>\n",
              "      <td>0.279296</td>\n",
              "      <td>0.913540</td>\n",
              "    </tr>\n",
              "    <tr>\n",
              "      <td>100</td>\n",
              "      <td>0.283300</td>\n",
              "      <td>0.200849</td>\n",
              "      <td>0.929853</td>\n",
              "    </tr>\n",
              "    <tr>\n",
              "      <td>150</td>\n",
              "      <td>0.303900</td>\n",
              "      <td>0.235043</td>\n",
              "      <td>0.929853</td>\n",
              "    </tr>\n",
              "    <tr>\n",
              "      <td>200</td>\n",
              "      <td>0.166300</td>\n",
              "      <td>0.137872</td>\n",
              "      <td>0.959217</td>\n",
              "    </tr>\n",
              "    <tr>\n",
              "      <td>250</td>\n",
              "      <td>0.174900</td>\n",
              "      <td>0.143445</td>\n",
              "      <td>0.955954</td>\n",
              "    </tr>\n",
              "    <tr>\n",
              "      <td>300</td>\n",
              "      <td>0.112500</td>\n",
              "      <td>0.131100</td>\n",
              "      <td>0.957586</td>\n",
              "    </tr>\n",
              "    <tr>\n",
              "      <td>350</td>\n",
              "      <td>0.087700</td>\n",
              "      <td>0.138253</td>\n",
              "      <td>0.959217</td>\n",
              "    </tr>\n",
              "    <tr>\n",
              "      <td>400</td>\n",
              "      <td>0.154600</td>\n",
              "      <td>0.116634</td>\n",
              "      <td>0.960848</td>\n",
              "    </tr>\n",
              "    <tr>\n",
              "      <td>450</td>\n",
              "      <td>0.084500</td>\n",
              "      <td>0.106484</td>\n",
              "      <td>0.964111</td>\n",
              "    </tr>\n",
              "    <tr>\n",
              "      <td>500</td>\n",
              "      <td>0.057300</td>\n",
              "      <td>0.093910</td>\n",
              "      <td>0.965742</td>\n",
              "    </tr>\n",
              "    <tr>\n",
              "      <td>550</td>\n",
              "      <td>0.096400</td>\n",
              "      <td>0.097435</td>\n",
              "      <td>0.972268</td>\n",
              "    </tr>\n",
              "    <tr>\n",
              "      <td>600</td>\n",
              "      <td>0.015100</td>\n",
              "      <td>0.093249</td>\n",
              "      <td>0.969005</td>\n",
              "    </tr>\n",
              "    <tr>\n",
              "      <td>650</td>\n",
              "      <td>0.039400</td>\n",
              "      <td>0.098203</td>\n",
              "      <td>0.970636</td>\n",
              "    </tr>\n",
              "    <tr>\n",
              "      <td>700</td>\n",
              "      <td>0.033700</td>\n",
              "      <td>0.092190</td>\n",
              "      <td>0.969005</td>\n",
              "    </tr>\n",
              "    <tr>\n",
              "      <td>750</td>\n",
              "      <td>0.008000</td>\n",
              "      <td>0.098421</td>\n",
              "      <td>0.969005</td>\n",
              "    </tr>\n",
              "  </tbody>\n",
              "</table><p>"
            ]
          },
          "metadata": {}
        },
        {
          "output_type": "stream",
          "name": "stdout",
          "text": [
            "***** train metrics *****\n",
            "  epoch                    =         5.0\n",
            "  total_flos               = 884451758GF\n",
            "  train_loss               =      0.1763\n",
            "  train_runtime            =  0:06:15.88\n",
            "  train_samples_per_second =      32.603\n",
            "  train_steps_per_second   =       2.048\n"
          ]
        },
        {
          "output_type": "display_data",
          "data": {
            "text/plain": [
              "<IPython.core.display.HTML object>"
            ],
            "text/html": [
              "Waiting for W&B process to finish... <strong style=\"color:green\">(success).</strong>"
            ]
          },
          "metadata": {}
        },
        {
          "output_type": "display_data",
          "data": {
            "text/plain": [
              "VBox(children=(Label(value='0.002 MB of 0.002 MB uploaded (0.000 MB deduped)\\r'), FloatProgress(value=1.0, max…"
            ],
            "application/vnd.jupyter.widget-view+json": {
              "version_major": 2,
              "version_minor": 0,
              "model_id": "7b0b645b32144ccf810f3a15796ef66c"
            }
          },
          "metadata": {}
        },
        {
          "output_type": "display_data",
          "data": {
            "text/plain": [
              "<IPython.core.display.HTML object>"
            ],
            "text/html": [
              "<style>\n",
              "    table.wandb td:nth-child(1) { padding: 0 10px; text-align: left ; width: auto;} td:nth-child(2) {text-align: left ; width: 100%}\n",
              "    .wandb-row { display: flex; flex-direction: row; flex-wrap: wrap; justify-content: flex-start; width: 100% }\n",
              "    .wandb-col { display: flex; flex-direction: column; flex-basis: 100%; flex: 1; padding: 10px; }\n",
              "    </style>\n",
              "<div class=\"wandb-row\"><div class=\"wandb-col\"><h3>Run history:</h3><br/><table class=\"wandb\"><tr><td>eval/accuracy</td><td>▁▃▃▆▆▆▆▇▇▇█████</td></tr><tr><td>eval/loss</td><td>█▅▆▃▃▂▃▂▂▁▁▁▁▁▁</td></tr><tr><td>eval/runtime</td><td>▄▂▃▃█▁▂▃▂▂▃▂▂▃▄</td></tr><tr><td>eval/samples_per_second</td><td>▅▆▅▅▁█▇▆▇▇▆▇▇▆▅</td></tr><tr><td>eval/steps_per_second</td><td>▅▆▅▅▁█▇▆▇▇▆▇▇▆▅</td></tr><tr><td>train/epoch</td><td>▁▁▁▂▂▂▂▂▂▃▃▃▃▃▄▄▄▄▄▄▅▅▅▅▅▆▆▆▆▆▆▇▇▇▇▇▇███</td></tr><tr><td>train/global_step</td><td>▁▁▁▂▂▂▂▂▂▃▃▃▃▃▄▄▄▄▄▄▅▅▅▅▅▆▆▆▆▆▆▇▇▇▇▇▇███</td></tr><tr><td>train/learning_rate</td><td>████▇▇▇▇▇▆▆▆▆▆▆▅▅▅▅▅▅▄▄▄▄▄▃▃▃▃▃▂▂▂▂▂▂▁▁▁</td></tr><tr><td>train/loss</td><td>█▆▄▄▃▃▃▃▄▃▂▂▂▂▂▂▁▂▂▂▂▂▁▂▁▁▁▁▂▁▂▁▁▁▁▁▁▁▁▁</td></tr><tr><td>train/total_flos</td><td>▁</td></tr><tr><td>train/train_loss</td><td>▁</td></tr><tr><td>train/train_runtime</td><td>▁</td></tr><tr><td>train/train_samples_per_second</td><td>▁</td></tr><tr><td>train/train_steps_per_second</td><td>▁</td></tr></table><br/></div><div class=\"wandb-col\"><h3>Run summary:</h3><br/><table class=\"wandb\"><tr><td>eval/accuracy</td><td>0.969</td></tr><tr><td>eval/loss</td><td>0.09842</td></tr><tr><td>eval/runtime</td><td>8.3177</td></tr><tr><td>eval/samples_per_second</td><td>73.698</td></tr><tr><td>eval/steps_per_second</td><td>9.257</td></tr><tr><td>train/epoch</td><td>5.0</td></tr><tr><td>train/global_step</td><td>770</td></tr><tr><td>train/learning_rate</td><td>0.0</td></tr><tr><td>train/loss</td><td>0.0336</td></tr><tr><td>train/total_flos</td><td>9.496728442678579e+17</td></tr><tr><td>train/train_loss</td><td>0.17629</td></tr><tr><td>train/train_runtime</td><td>375.8868</td></tr><tr><td>train/train_samples_per_second</td><td>32.603</td></tr><tr><td>train/train_steps_per_second</td><td>2.048</td></tr></table><br/></div></div>"
            ]
          },
          "metadata": {}
        },
        {
          "output_type": "display_data",
          "data": {
            "text/plain": [
              "<IPython.core.display.HTML object>"
            ],
            "text/html": [
              " View run <strong style=\"color:#cdcd00\">fine-flower-2</strong> at: <a href='https://wandb.ai/deep_bekeif/vit_with_aug/runs/nk1vo8nc' target=\"_blank\">https://wandb.ai/deep_bekeif/vit_with_aug/runs/nk1vo8nc</a><br/>Synced 5 W&B file(s), 0 media file(s), 0 artifact file(s) and 0 other file(s)"
            ]
          },
          "metadata": {}
        },
        {
          "output_type": "display_data",
          "data": {
            "text/plain": [
              "<IPython.core.display.HTML object>"
            ],
            "text/html": [
              "Find logs at: <code>./wandb/run-20230702_104241-nk1vo8nc/logs</code>"
            ]
          },
          "metadata": {}
        }
      ]
    },
    {
      "cell_type": "code",
      "source": [
        "#display Confusion Matrix\n",
        "pred = trainer.predict(test_dataset)\n",
        "\n",
        "cm_display = met.ConfusionMatrixDisplay(confusion_matrix = compute_metrics(pred), display_labels = labels_names)\n",
        "\n",
        "cm_display.plot()\n",
        "plt.show()\n"
      ],
      "metadata": {
        "colab": {
          "base_uri": "https://localhost:8080/",
          "height": 449
        },
        "id": "wruMfxToIKyP",
        "outputId": "85a70048-7019-4d55-b932-966e1ce61a45"
      },
      "execution_count": null,
      "outputs": [
        {
          "output_type": "display_data",
          "data": {
            "text/plain": [
              "<Figure size 640x480 with 2 Axes>"
            ],
            "image/png": "[encoded data removed]"
          },
          "metadata": {}
        }
      ]
    },
    {
      "cell_type": "markdown",
      "source": [
        "## Load pretrain\n"
      ],
      "metadata": {
        "id": "5C9ZT2fPUbqc"
      }
    },
    {
      "cell_type": "code",
      "source": [
        "from transformers import ViTForImageClassification\n",
        "model = ViTForImageClassification.from_pretrained('/content/drive/MyDrive/colab_files/brain_tumor_dataset/vit-model')"
      ],
      "metadata": {
        "id": "2SKRUkjkT4GC"
      },
      "execution_count": null,
      "outputs": []
    },
    {
      "cell_type": "markdown",
      "metadata": {
        "id": "4cZvzMmILYsi"
      },
      "source": [
        "# CNN\n"
      ]
    },
    {
      "cell_type": "markdown",
      "source": [
        "## Transforms"
      ],
      "metadata": {
        "id": "rpZxcrVvFepQ"
      }
    },
    {
      "cell_type": "code",
      "source": [
        "torch.cuda.empty_cache()"
      ],
      "metadata": {
        "id": "mXq6QZZwOsso"
      },
      "execution_count": null,
      "outputs": []
    },
    {
      "cell_type": "code",
      "source": [
        "# Define the augmentation pipeline with imgaug\n",
        "augmenter = iaa.Sequential([\n",
        "    iaa.Fliplr(0.5),  # horizontally flip with probability of 0.5\n",
        "    iaa.Sometimes(0.3, iaa.GaussianBlur((0, 1.0))),  # apply Gaussian blur with probability of 0.3\n",
        "    iaa.Sometimes(0.5, iaa.SaltAndPepper(0.05)),  # Add Salt and Pepper noise with probability of 0.5\n",
        "    iaa.Sometimes(0.3, iaa.AdditivePoissonNoise(lam=(0, 30))),  # Add Poisson noise with probability of 0.3\n",
        "])\n",
        "\n",
        "# imgaug works with numpy images (HWC) but torchvision with PIL images, so we have to convert\n",
        "imgaug_transform = Lambda(lambda img: augmenter.augment_image(np.array(img)))"
      ],
      "metadata": {
        "id": "BVTUV3wuGBkj"
      },
      "execution_count": null,
      "outputs": []
    },
    {
      "cell_type": "code",
      "source": [
        "# Define transformations for the train and test datasets\n",
        "# Define the cropping percentage\n",
        "crop_percentage = 0.875\n",
        "\n",
        "# Define transformations for the train dataset\n",
        "train_transforms_without_aug = transforms.Compose([\n",
        "    transforms.CenterCrop((int(512 * crop_percentage),int(512 * crop_percentage))),\n",
        "    transforms.Resize((224, 224),interpolation=Image.BICUBIC), # Resize 508x508 images to 224x224 using BICUBIC interpolation\n",
        "    transforms.ToTensor(), # Convert image to PyTorch tensor and automatically rescale to [0,1] by dividing by 255\n",
        "    transforms.Normalize(mean=[0.485, 0.456, 0.406], std=[0.229, 0.224, 0.225]),\n",
        "])\n",
        "\n",
        "# Define transformations for the train dataset (including augmentation)\n",
        "train_transforms_with_aug = transforms.Compose([\n",
        "    transforms.CenterCrop((int(512 * crop_percentage),int(512 * crop_percentage))),\n",
        "    transforms.Resize((224, 224),interpolation=Image.BICUBIC), # Resize 508x508 images to 224x224 using BICUBIC interpolation\n",
        "    imgaug_transform,\n",
        "    transforms.ToTensor(), # Convert image to PyTorch tensor and automatically rescale to [0,1] by dividing by 255\n",
        "    transforms.Normalize(mean=[0.485, 0.456, 0.406], std=[0.229, 0.224, 0.225]),\n",
        "])\n",
        "\n",
        "\n",
        "# Define transformations for the test dataset\n",
        "\n",
        "test_transforms_without_aug = transforms.Compose([\n",
        "    transforms.CenterCrop((int(512 * crop_percentage),int(512 * crop_percentage))),\n",
        "    transforms.Resize((224, 224),interpolation=Image.BICUBIC), # Resize 508x508 images to 224x224 using BICUBIC interpolation\n",
        "    transforms.ToTensor(), # Convert image to PyTorch tensor and automatically rescale to [0,1] by dividing by 255\n",
        "    transforms.Normalize(mean=[0.485, 0.456, 0.406], std=[0.229, 0.224, 0.225]),\n",
        "])\n"
      ],
      "metadata": {
        "id": "-tN_vpAcFhFS"
      },
      "execution_count": null,
      "outputs": []
    },
    {
      "cell_type": "markdown",
      "source": [
        "## Without augmentation"
      ],
      "metadata": {
        "id": "krzSz6X_UuhZ"
      }
    },
    {
      "cell_type": "code",
      "execution_count": null,
      "metadata": {
        "id": "X5JCFIgER-Do"
      },
      "outputs": [],
      "source": [
        "CNN_base = 'microsoft/resnet-50'\n",
        "\n",
        "# Load the datasets from folders and process the dataset with the transform\n",
        "train_dataset = ImageFolder(data_path + '/brain_dataset/train', transform=train_transforms_without_aug)\n",
        "test_dataset = ImageFolder(data_path + '/brain_dataset/test', transform=test_transforms_without_aug)"
      ]
    },
    {
      "cell_type": "code",
      "execution_count": null,
      "metadata": {
        "colab": {
          "base_uri": "https://localhost:8080/",
          "height": 339
        },
        "id": "cqPxTR5DQTT7",
        "outputId": "cc83f746-afc0-4c63-e060-cacd6d4df551"
      },
      "outputs": [
        {
          "output_type": "stream",
          "name": "stderr",
          "text": [
            "You are using a model of type resnet to instantiate a model of type vit. This is not supported for all configurations of models and can yield errors.\n",
            "Some weights of the model checkpoint at microsoft/resnet-50 were not used when initializing ViTForImageClassification: ['resnet.embedder.embedder.normalization.running_var', 'resnet.encoder.stages.3.layers.2.layer.1.normalization.running_mean', 'resnet.encoder.stages.1.layers.0.layer.0.normalization.num_batches_tracked', 'resnet.encoder.stages.2.layers.3.layer.0.normalization.running_mean', 'resnet.encoder.stages.1.layers.3.layer.2.normalization.weight', 'resnet.encoder.stages.1.layers.3.layer.1.convolution.weight', 'resnet.encoder.stages.2.layers.1.layer.2.normalization.num_batches_tracked', 'resnet.encoder.stages.2.layers.0.layer.1.normalization.running_var', 'resnet.encoder.stages.2.layers.2.layer.2.normalization.running_mean', 'resnet.encoder.stages.3.layers.2.layer.0.normalization.bias', 'resnet.encoder.stages.1.layers.1.layer.0.normalization.running_var', 'resnet.embedder.embedder.convolution.weight', 'resnet.embedder.embedder.normalization.weight', 'resnet.encoder.stages.3.layers.2.layer.0.normalization.weight', 'resnet.encoder.stages.2.layers.0.layer.1.normalization.bias', 'resnet.encoder.stages.2.layers.4.layer.0.normalization.running_mean', 'resnet.encoder.stages.0.layers.2.layer.0.normalization.running_mean', 'resnet.encoder.stages.0.layers.0.layer.2.normalization.running_mean', 'resnet.encoder.stages.1.layers.1.layer.1.normalization.running_var', 'resnet.encoder.stages.1.layers.0.layer.0.convolution.weight', 'resnet.encoder.stages.1.layers.3.layer.0.normalization.bias', 'resnet.encoder.stages.3.layers.2.layer.2.normalization.bias', 'resnet.encoder.stages.2.layers.4.layer.1.normalization.running_mean', 'resnet.encoder.stages.3.layers.0.layer.1.normalization.num_batches_tracked', 'resnet.encoder.stages.3.layers.2.layer.1.normalization.running_var', 'resnet.encoder.stages.0.layers.1.layer.1.normalization.weight', 'resnet.encoder.stages.3.layers.1.layer.1.normalization.bias', 'resnet.encoder.stages.2.layers.5.layer.0.convolution.weight', 'resnet.encoder.stages.0.layers.2.layer.1.normalization.running_mean', 'resnet.encoder.stages.0.layers.1.layer.2.normalization.running_mean', 'resnet.encoder.stages.0.layers.0.layer.0.normalization.num_batches_tracked', 'resnet.encoder.stages.1.layers.1.layer.1.normalization.bias', 'resnet.encoder.stages.3.layers.0.layer.0.normalization.bias', 'resnet.encoder.stages.2.layers.4.layer.2.convolution.weight', 'resnet.encoder.stages.0.layers.1.layer.2.normalization.bias', 'resnet.encoder.stages.2.layers.5.layer.2.normalization.num_batches_tracked', 'resnet.encoder.stages.0.layers.0.layer.1.normalization.num_batches_tracked', 'resnet.encoder.stages.3.layers.0.layer.2.normalization.num_batches_tracked', 'resnet.encoder.stages.2.layers.1.layer.0.normalization.num_batches_tracked', 'resnet.encoder.stages.3.layers.1.layer.1.normalization.running_mean', 'resnet.encoder.stages.1.layers.0.layer.1.normalization.bias', 'resnet.encoder.stages.2.layers.3.layer.1.convolution.weight', 'resnet.encoder.stages.2.layers.3.layer.0.normalization.running_var', 'resnet.encoder.stages.3.layers.0.shortcut.convolution.weight', 'resnet.encoder.stages.0.layers.0.layer.2.convolution.weight', 'resnet.encoder.stages.1.layers.3.layer.2.normalization.num_batches_tracked', 'resnet.encoder.stages.3.layers.0.layer.1.convolution.weight', 'resnet.encoder.stages.3.layers.0.layer.2.normalization.running_mean', 'resnet.encoder.stages.3.layers.0.layer.0.normalization.weight', 'resnet.encoder.stages.2.layers.5.layer.0.normalization.weight', 'resnet.encoder.stages.1.layers.1.layer.2.normalization.bias', 'resnet.encoder.stages.2.layers.0.layer.0.normalization.num_batches_tracked', 'resnet.embedder.embedder.normalization.num_batches_tracked', 'resnet.encoder.stages.1.layers.2.layer.1.normalization.weight', 'resnet.encoder.stages.1.layers.3.layer.1.normalization.weight', 'resnet.encoder.stages.2.layers.5.layer.2.normalization.running_mean', 'resnet.encoder.stages.1.layers.0.layer.1.normalization.running_var', 'resnet.encoder.stages.3.layers.2.layer.0.normalization.running_var', 'resnet.encoder.stages.0.layers.0.layer.1.normalization.running_mean', 'resnet.encoder.stages.2.layers.0.layer.2.convolution.weight', 'resnet.encoder.stages.1.layers.2.layer.1.normalization.running_mean', 'resnet.encoder.stages.3.layers.1.layer.1.normalization.num_batches_tracked', 'resnet.encoder.stages.1.layers.0.shortcut.normalization.running_var', 'resnet.encoder.stages.2.layers.2.layer.2.normalization.num_batches_tracked', 'resnet.encoder.stages.3.layers.2.layer.1.normalization.bias', 'resnet.encoder.stages.1.layers.3.layer.0.normalization.running_var', 'resnet.encoder.stages.2.layers.1.layer.1.normalization.num_batches_tracked', 'resnet.encoder.stages.1.layers.1.layer.0.convolution.weight', 'resnet.encoder.stages.3.layers.0.layer.0.normalization.running_var', 'resnet.encoder.stages.2.layers.0.layer.1.normalization.num_batches_tracked', 'resnet.encoder.stages.1.layers.2.layer.2.normalization.running_mean', 'resnet.encoder.stages.2.layers.4.layer.0.normalization.bias', 'resnet.encoder.stages.2.layers.3.layer.0.convolution.weight', 'resnet.encoder.stages.2.layers.4.layer.1.normalization.num_batches_tracked', 'resnet.encoder.stages.3.layers.1.layer.2.normalization.weight', 'resnet.encoder.stages.3.layers.0.layer.2.normalization.running_var', 'resnet.encoder.stages.3.layers.0.layer.0.normalization.running_mean', 'resnet.encoder.stages.1.layers.0.layer.0.normalization.weight', 'resnet.encoder.stages.0.layers.0.layer.1.normalization.running_var', 'resnet.encoder.stages.2.layers.4.layer.2.normalization.num_batches_tracked', 'resnet.encoder.stages.2.layers.0.layer.1.normalization.weight', 'resnet.encoder.stages.2.layers.3.layer.0.normalization.bias', 'resnet.encoder.stages.0.layers.0.shortcut.normalization.num_batches_tracked', 'resnet.encoder.stages.0.layers.0.shortcut.normalization.running_var', 'resnet.encoder.stages.3.layers.1.layer.2.normalization.running_var', 'resnet.encoder.stages.0.layers.2.layer.1.convolution.weight', 'resnet.encoder.stages.0.layers.0.layer.2.normalization.bias', 'resnet.encoder.stages.1.layers.1.layer.2.normalization.running_var', 'resnet.encoder.stages.2.layers.4.layer.1.normalization.weight', 'resnet.encoder.stages.3.layers.0.layer.0.convolution.weight', 'resnet.encoder.stages.1.layers.0.shortcut.normalization.weight', 'resnet.encoder.stages.2.layers.2.layer.1.normalization.weight', 'resnet.encoder.stages.3.layers.2.layer.1.convolution.weight', 'resnet.encoder.stages.3.layers.1.layer.0.normalization.num_batches_tracked', 'resnet.encoder.stages.0.layers.2.layer.2.normalization.weight', 'resnet.encoder.stages.2.layers.4.layer.0.convolution.weight', 'resnet.encoder.stages.3.layers.2.layer.0.normalization.num_batches_tracked', 'resnet.encoder.stages.2.layers.2.layer.1.normalization.running_var', 'resnet.encoder.stages.2.layers.4.layer.2.normalization.running_mean', 'resnet.encoder.stages.3.layers.2.layer.1.normalization.weight', 'resnet.encoder.stages.0.layers.1.layer.1.convolution.weight', 'resnet.encoder.stages.2.layers.2.layer.1.normalization.bias', 'resnet.encoder.stages.1.layers.1.layer.0.normalization.num_batches_tracked', 'resnet.encoder.stages.1.layers.2.layer.0.convolution.weight', 'resnet.encoder.stages.2.layers.3.layer.1.normalization.running_var', 'resnet.encoder.stages.1.layers.2.layer.2.convolution.weight', 'resnet.encoder.stages.1.layers.3.layer.1.normalization.num_batches_tracked', 'resnet.encoder.stages.1.layers.0.layer.2.normalization.weight', 'resnet.encoder.stages.1.layers.2.layer.0.normalization.bias', 'resnet.encoder.stages.0.layers.1.layer.0.normalization.running_var', 'resnet.encoder.stages.1.layers.0.layer.1.normalization.running_mean', 'resnet.encoder.stages.3.layers.2.layer.1.normalization.num_batches_tracked', 'resnet.encoder.stages.2.layers.5.layer.1.normalization.weight', 'resnet.encoder.stages.3.layers.2.layer.2.normalization.weight', 'resnet.encoder.stages.3.layers.1.layer.0.normalization.bias', 'resnet.encoder.stages.3.layers.1.layer.0.normalization.running_mean', 'resnet.encoder.stages.2.layers.1.layer.2.convolution.weight', 'resnet.encoder.stages.0.layers.2.layer.0.normalization.bias', 'resnet.encoder.stages.2.layers.4.layer.2.normalization.running_var', 'resnet.encoder.stages.1.layers.3.layer.0.convolution.weight', 'resnet.encoder.stages.2.layers.0.layer.1.normalization.running_mean', 'resnet.encoder.stages.2.layers.0.shortcut.normalization.running_mean', 'resnet.encoder.stages.0.layers.2.layer.0.normalization.running_var', 'resnet.encoder.stages.1.layers.2.layer.0.normalization.weight', 'resnet.encoder.stages.2.layers.3.layer.2.convolution.weight', 'resnet.encoder.stages.2.layers.4.layer.1.normalization.bias', 'resnet.encoder.stages.0.layers.0.layer.0.normalization.running_mean', 'resnet.encoder.stages.2.layers.1.layer.2.normalization.running_mean', 'resnet.encoder.stages.1.layers.0.layer.2.normalization.num_batches_tracked', 'resnet.encoder.stages.2.layers.0.shortcut.normalization.running_var', 'resnet.encoder.stages.2.layers.4.layer.2.normalization.weight', 'resnet.encoder.stages.2.layers.2.layer.1.normalization.num_batches_tracked', 'resnet.encoder.stages.1.layers.1.layer.1.convolution.weight', 'resnet.encoder.stages.0.layers.1.layer.2.convolution.weight', 'resnet.encoder.stages.1.layers.3.layer.0.normalization.num_batches_tracked', 'resnet.encoder.stages.2.layers.3.layer.0.normalization.weight', 'resnet.encoder.stages.0.layers.1.layer.2.normalization.num_batches_tracked', 'resnet.encoder.stages.2.layers.2.layer.0.normalization.weight', 'resnet.encoder.stages.2.layers.0.layer.0.normalization.running_var', 'resnet.encoder.stages.1.layers.2.layer.0.normalization.running_mean', 'resnet.encoder.stages.0.layers.1.layer.2.normalization.running_var', 'resnet.encoder.stages.0.layers.0.layer.0.normalization.bias', 'resnet.encoder.stages.3.layers.0.layer.0.normalization.num_batches_tracked', 'resnet.encoder.stages.0.layers.0.layer.2.normalization.weight', 'resnet.encoder.stages.3.layers.0.shortcut.normalization.bias', 'resnet.encoder.stages.2.layers.3.layer.2.normalization.running_mean', 'resnet.encoder.stages.1.layers.3.layer.1.normalization.running_var', 'resnet.encoder.stages.2.layers.3.layer.2.normalization.running_var', 'resnet.encoder.stages.1.layers.2.layer.0.normalization.num_batches_tracked', 'resnet.encoder.stages.3.layers.1.layer.2.normalization.running_mean', 'resnet.encoder.stages.2.layers.0.layer.0.normalization.bias', 'resnet.encoder.stages.2.layers.1.layer.0.normalization.running_var', 'resnet.encoder.stages.2.layers.3.layer.2.normalization.num_batches_tracked', 'resnet.encoder.stages.0.layers.1.layer.1.normalization.running_var', 'resnet.encoder.stages.2.layers.0.shortcut.normalization.num_batches_tracked', 'resnet.encoder.stages.0.layers.2.layer.1.normalization.running_var', 'resnet.encoder.stages.3.layers.0.layer.1.normalization.bias', 'resnet.encoder.stages.0.layers.0.layer.2.normalization.running_var', 'resnet.encoder.stages.2.layers.1.layer.2.normalization.running_var', 'resnet.encoder.stages.1.layers.3.layer.0.normalization.running_mean', 'resnet.encoder.stages.3.layers.0.shortcut.normalization.weight', 'resnet.encoder.stages.1.layers.2.layer.1.normalization.bias', 'resnet.encoder.stages.3.layers.0.layer.1.normalization.running_mean', 'resnet.encoder.stages.2.layers.3.layer.1.normalization.bias', 'resnet.encoder.stages.3.layers.0.layer.2.normalization.weight', 'resnet.encoder.stages.2.layers.4.layer.2.normalization.bias', 'resnet.encoder.stages.2.layers.0.layer.0.normalization.weight', 'resnet.encoder.stages.0.layers.1.layer.0.convolution.weight', 'resnet.encoder.stages.3.layers.1.layer.1.convolution.weight', 'resnet.encoder.stages.3.layers.1.layer.2.normalization.bias', 'resnet.encoder.stages.0.layers.1.layer.0.normalization.weight', 'resnet.encoder.stages.2.layers.2.layer.2.convolution.weight', 'resnet.encoder.stages.2.layers.5.layer.2.normalization.bias', 'resnet.encoder.stages.0.layers.2.layer.0.convolution.weight', 'resnet.encoder.stages.2.layers.5.layer.2.normalization.weight', 'resnet.encoder.stages.2.layers.4.layer.0.normalization.num_batches_tracked', 'resnet.encoder.stages.1.layers.2.layer.0.normalization.running_var', 'resnet.encoder.stages.3.layers.2.layer.2.normalization.running_var', 'resnet.encoder.stages.2.layers.5.layer.1.normalization.num_batches_tracked', 'resnet.encoder.stages.2.layers.5.layer.2.convolution.weight', 'resnet.encoder.stages.2.layers.1.layer.1.normalization.running_var', 'resnet.encoder.stages.1.layers.1.layer.0.normalization.running_mean', 'resnet.encoder.stages.2.layers.2.layer.1.convolution.weight', 'resnet.encoder.stages.2.layers.0.shortcut.normalization.weight', 'resnet.encoder.stages.2.layers.0.layer.2.normalization.running_mean', 'resnet.encoder.stages.0.layers.0.shortcut.normalization.weight', 'resnet.encoder.stages.0.layers.2.layer.1.normalization.bias', 'resnet.encoder.stages.3.layers.0.shortcut.normalization.num_batches_tracked', 'resnet.encoder.stages.3.layers.1.layer.2.convolution.weight', 'resnet.encoder.stages.1.layers.0.layer.1.convolution.weight', 'resnet.encoder.stages.3.layers.0.layer.1.normalization.running_var', 'resnet.encoder.stages.3.layers.1.layer.1.normalization.running_var', 'resnet.encoder.stages.3.layers.2.layer.2.convolution.weight', 'resnet.encoder.stages.2.layers.0.layer.2.normalization.bias', 'resnet.encoder.stages.1.layers.2.layer.1.normalization.num_batches_tracked', 'resnet.encoder.stages.1.layers.0.shortcut.normalization.num_batches_tracked', 'resnet.encoder.stages.1.layers.2.layer.2.normalization.weight', 'resnet.encoder.stages.2.layers.1.layer.1.normalization.running_mean', 'resnet.encoder.stages.1.layers.1.layer.0.normalization.weight', 'resnet.encoder.stages.3.layers.1.layer.1.normalization.weight', 'resnet.encoder.stages.2.layers.4.layer.1.normalization.running_var', 'resnet.encoder.stages.2.layers.5.layer.0.normalization.running_var', 'resnet.encoder.stages.2.layers.5.layer.1.normalization.bias', 'resnet.encoder.stages.2.layers.1.layer.1.convolution.weight', 'resnet.encoder.stages.2.layers.2.layer.2.normalization.bias', 'resnet.encoder.stages.1.layers.0.layer.2.normalization.running_var', 'resnet.encoder.stages.1.layers.0.layer.0.normalization.running_mean', 'resnet.encoder.stages.3.layers.2.layer.0.convolution.weight', 'resnet.encoder.stages.1.layers.0.layer.1.normalization.num_batches_tracked', 'resnet.encoder.stages.1.layers.2.layer.1.convolution.weight', 'resnet.encoder.stages.0.layers.0.layer.2.normalization.num_batches_tracked', 'resnet.encoder.stages.2.layers.1.layer.2.normalization.bias', 'resnet.encoder.stages.2.layers.5.layer.2.normalization.running_var', 'resnet.encoder.stages.1.layers.0.layer.2.convolution.weight', 'resnet.encoder.stages.3.layers.0.layer.2.convolution.weight', 'resnet.encoder.stages.2.layers.1.layer.0.normalization.running_mean', 'resnet.encoder.stages.1.layers.3.layer.2.normalization.bias', 'resnet.encoder.stages.2.layers.5.layer.0.normalization.running_mean', 'resnet.encoder.stages.1.layers.3.layer.2.convolution.weight', 'classifier.1.bias', 'resnet.encoder.stages.1.layers.2.layer.2.normalization.num_batches_tracked', 'resnet.encoder.stages.1.layers.0.layer.0.normalization.running_var', 'resnet.encoder.stages.2.layers.5.layer.1.convolution.weight', 'resnet.encoder.stages.0.layers.2.layer.2.normalization.running_var', 'resnet.encoder.stages.1.layers.0.layer.0.normalization.bias', 'resnet.encoder.stages.2.layers.0.layer.2.normalization.num_batches_tracked', 'resnet.encoder.stages.2.layers.5.layer.0.normalization.bias', 'resnet.encoder.stages.0.layers.2.layer.2.normalization.bias', 'resnet.encoder.stages.2.layers.2.layer.0.normalization.num_batches_tracked', 'resnet.encoder.stages.0.layers.1.layer.0.normalization.running_mean', 'resnet.encoder.stages.0.layers.2.layer.0.normalization.num_batches_tracked', 'classifier.1.weight', 'resnet.encoder.stages.0.layers.1.layer.1.normalization.bias', 'resnet.encoder.stages.0.layers.1.layer.2.normalization.weight', 'resnet.encoder.stages.0.layers.0.layer.1.normalization.bias', 'resnet.encoder.stages.0.layers.0.layer.0.normalization.running_var', 'resnet.encoder.stages.2.layers.2.layer.0.normalization.bias', 'resnet.encoder.stages.3.layers.2.layer.2.normalization.num_batches_tracked', 'resnet.encoder.stages.2.layers.4.layer.1.convolution.weight', 'resnet.encoder.stages.2.layers.3.layer.1.normalization.running_mean', 'resnet.encoder.stages.0.layers.2.layer.1.normalization.weight', 'resnet.encoder.stages.1.layers.2.layer.2.normalization.running_var', 'resnet.encoder.stages.0.layers.0.shortcut.normalization.bias', 'resnet.encoder.stages.1.layers.0.shortcut.normalization.running_mean', 'resnet.encoder.stages.1.layers.1.layer.1.normalization.running_mean', 'resnet.encoder.stages.0.layers.1.layer.0.normalization.num_batches_tracked', 'resnet.embedder.embedder.normalization.running_mean', 'resnet.encoder.stages.2.layers.2.layer.0.convolution.weight', 'resnet.encoder.stages.0.layers.0.layer.0.convolution.weight', 'resnet.encoder.stages.2.layers.3.layer.2.normalization.bias', 'resnet.encoder.stages.2.layers.5.layer.0.normalization.num_batches_tracked', 'resnet.encoder.stages.3.layers.1.layer.0.normalization.weight', 'resnet.encoder.stages.2.layers.0.shortcut.normalization.bias', 'resnet.encoder.stages.2.layers.3.layer.2.normalization.weight', 'resnet.encoder.stages.0.layers.0.shortcut.normalization.running_mean', 'resnet.encoder.stages.3.layers.0.layer.1.normalization.weight', 'resnet.encoder.stages.0.layers.2.layer.0.normalization.weight', 'resnet.encoder.stages.2.layers.4.layer.0.normalization.weight', 'resnet.encoder.stages.2.layers.2.layer.0.normalization.running_var', 'resnet.encoder.stages.0.layers.2.layer.2.convolution.weight', 'resnet.encoder.stages.2.layers.1.layer.2.normalization.weight', 'resnet.encoder.stages.1.layers.0.layer.2.normalization.bias', 'resnet.encoder.stages.1.layers.1.layer.0.normalization.bias', 'resnet.encoder.stages.2.layers.1.layer.1.normalization.weight', 'resnet.encoder.stages.2.layers.3.layer.0.normalization.num_batches_tracked', 'resnet.encoder.stages.3.layers.1.layer.0.normalization.running_var', 'resnet.encoder.stages.2.layers.1.layer.0.normalization.bias', 'resnet.encoder.stages.1.layers.2.layer.1.normalization.running_var', 'resnet.encoder.stages.0.layers.1.layer.0.normalization.bias', 'resnet.encoder.stages.0.layers.0.layer.1.convolution.weight', 'resnet.encoder.stages.3.layers.1.layer.2.normalization.num_batches_tracked', 'resnet.encoder.stages.0.layers.0.layer.0.normalization.weight', 'resnet.encoder.stages.1.layers.1.layer.1.normalization.num_batches_tracked', 'resnet.encoder.stages.1.layers.1.layer.2.normalization.running_mean', 'resnet.encoder.stages.2.layers.2.layer.1.normalization.running_mean', 'resnet.encoder.stages.2.layers.5.layer.1.normalization.running_var', 'resnet.encoder.stages.1.layers.2.layer.2.normalization.bias', 'resnet.encoder.stages.1.layers.0.layer.1.normalization.weight', 'resnet.encoder.stages.1.layers.1.layer.2.convolution.weight', 'resnet.encoder.stages.2.layers.1.layer.0.convolution.weight', 'resnet.encoder.stages.3.layers.1.layer.0.convolution.weight', 'resnet.encoder.stages.2.layers.5.layer.1.normalization.running_mean', 'resnet.encoder.stages.3.layers.0.shortcut.normalization.running_var', 'resnet.encoder.stages.0.layers.2.layer.2.normalization.num_batches_tracked', 'resnet.encoder.stages.1.layers.1.layer.1.normalization.weight', 'resnet.encoder.stages.0.layers.1.layer.1.normalization.num_batches_tracked', 'resnet.encoder.stages.3.layers.0.layer.2.normalization.bias', 'resnet.encoder.stages.2.layers.0.layer.0.normalization.running_mean', 'resnet.encoder.stages.0.layers.2.layer.1.normalization.num_batches_tracked', 'resnet.encoder.stages.2.layers.3.layer.1.normalization.weight', 'resnet.encoder.stages.1.layers.3.layer.1.normalization.running_mean', 'resnet.encoder.stages.1.layers.0.layer.2.normalization.running_mean', 'resnet.encoder.stages.2.layers.0.layer.2.normalization.weight', 'resnet.encoder.stages.2.layers.0.layer.0.convolution.weight', 'resnet.encoder.stages.1.layers.0.shortcut.normalization.bias', 'resnet.encoder.stages.2.layers.2.layer.2.normalization.weight', 'resnet.encoder.stages.0.layers.2.layer.2.normalization.running_mean', 'resnet.encoder.stages.1.layers.1.layer.2.normalization.num_batches_tracked', 'resnet.encoder.stages.2.layers.0.layer.1.convolution.weight', 'resnet.encoder.stages.1.layers.3.layer.2.normalization.running_mean', 'resnet.encoder.stages.3.layers.2.layer.2.normalization.running_mean', 'resnet.encoder.stages.2.layers.4.layer.0.normalization.running_var', 'resnet.encoder.stages.1.layers.1.layer.2.normalization.weight', 'resnet.embedder.embedder.normalization.bias', 'resnet.encoder.stages.1.layers.3.layer.0.normalization.weight', 'resnet.encoder.stages.3.layers.0.shortcut.normalization.running_mean', 'resnet.encoder.stages.1.layers.3.layer.1.normalization.bias', 'resnet.encoder.stages.0.layers.0.shortcut.convolution.weight', 'resnet.encoder.stages.0.layers.1.layer.1.normalization.running_mean', 'resnet.encoder.stages.2.layers.2.layer.2.normalization.running_var', 'resnet.encoder.stages.3.layers.2.layer.0.normalization.running_mean', 'resnet.encoder.stages.2.layers.1.layer.1.normalization.bias', 'resnet.encoder.stages.0.layers.0.layer.1.normalization.weight', 'resnet.encoder.stages.2.layers.0.layer.2.normalization.running_var', 'resnet.encoder.stages.2.layers.0.shortcut.convolution.weight', 'resnet.encoder.stages.1.layers.0.shortcut.convolution.weight', 'resnet.encoder.stages.2.layers.3.layer.1.normalization.num_batches_tracked', 'resnet.encoder.stages.2.layers.1.layer.0.normalization.weight', 'resnet.encoder.stages.1.layers.3.layer.2.normalization.running_var', 'resnet.encoder.stages.2.layers.2.layer.0.normalization.running_mean']\n",
            "- This IS expected if you are initializing ViTForImageClassification from the checkpoint of a model trained on another task or with another architecture (e.g. initializing a BertForSequenceClassification model from a BertForPreTraining model).\n",
            "- This IS NOT expected if you are initializing ViTForImageClassification from the checkpoint of a model that you expect to be exactly identical (initializing a BertForSequenceClassification model from a BertForSequenceClassification model).\n",
            "Some weights of ViTForImageClassification were not initialized from the model checkpoint at microsoft/resnet-50 and are newly initialized: ['encoder.layer.10.attention.output.dense.bias', 'encoder.layer.11.layernorm_after.weight', 'encoder.layer.7.attention.output.dense.bias', 'encoder.layer.3.layernorm_before.bias', 'encoder.layer.9.attention.output.dense.bias', 'encoder.layer.4.output.dense.bias', 'encoder.layer.7.attention.attention.value.weight', 'encoder.layer.11.layernorm_before.bias', 'encoder.layer.0.intermediate.dense.weight', 'encoder.layer.8.attention.attention.query.bias', 'encoder.layer.1.attention.attention.key.weight', 'encoder.layer.1.output.dense.bias', 'encoder.layer.8.attention.attention.value.bias', 'encoder.layer.11.layernorm_before.weight', 'encoder.layer.7.attention.attention.query.bias', 'encoder.layer.4.attention.attention.key.bias', 'encoder.layer.1.attention.attention.query.bias', 'encoder.layer.9.layernorm_before.weight', 'encoder.layer.0.attention.output.dense.bias', 'encoder.layer.10.attention.attention.value.weight', 'encoder.layer.11.attention.output.dense.bias', 'encoder.layer.9.attention.attention.key.bias', 'encoder.layer.0.intermediate.dense.bias', 'encoder.layer.8.intermediate.dense.weight', 'encoder.layer.9.layernorm_before.bias', 'encoder.layer.8.attention.attention.query.weight', 'encoder.layer.9.output.dense.weight', 'encoder.layer.1.attention.output.dense.weight', 'encoder.layer.5.attention.attention.query.weight', 'encoder.layer.7.attention.attention.query.weight', 'encoder.layer.4.layernorm_before.weight', 'embeddings.patch_embeddings.projection.weight', 'encoder.layer.0.layernorm_before.bias', 'encoder.layer.2.output.dense.weight', 'encoder.layer.3.layernorm_before.weight', 'encoder.layer.6.attention.attention.query.weight', 'encoder.layer.3.attention.attention.query.weight', 'encoder.layer.7.output.dense.weight', 'encoder.layer.4.attention.output.dense.bias', 'encoder.layer.5.attention.attention.value.bias', 'encoder.layer.10.attention.attention.key.bias', 'encoder.layer.10.intermediate.dense.weight', 'encoder.layer.5.output.dense.bias', 'encoder.layer.7.layernorm_after.weight', 'embeddings.position_embeddings', 'encoder.layer.2.layernorm_after.bias', 'encoder.layer.1.intermediate.dense.weight', 'encoder.layer.11.attention.attention.query.weight', 'encoder.layer.5.attention.attention.query.bias', 'encoder.layer.5.layernorm_after.bias', 'encoder.layer.9.attention.attention.query.weight', 'encoder.layer.11.attention.output.dense.weight', 'encoder.layer.5.intermediate.dense.weight', 'encoder.layer.2.layernorm_before.bias', 'encoder.layer.2.output.dense.bias', 'encoder.layer.5.attention.attention.key.bias', 'encoder.layer.8.output.dense.bias', 'encoder.layer.1.layernorm_after.weight', 'encoder.layer.5.attention.attention.value.weight', 'encoder.layer.5.intermediate.dense.bias', 'encoder.layer.10.output.dense.weight', 'encoder.layer.10.attention.attention.key.weight', 'encoder.layer.2.attention.attention.value.bias', 'encoder.layer.11.output.dense.bias', 'encoder.layer.9.attention.attention.value.weight', 'encoder.layer.5.layernorm_before.bias', 'encoder.layer.7.attention.output.dense.weight', 'encoder.layer.2.attention.attention.query.bias', 'encoder.layer.9.attention.attention.key.weight', 'encoder.layer.6.layernorm_after.weight', 'encoder.layer.6.attention.attention.value.bias', 'encoder.layer.11.attention.attention.value.weight', 'encoder.layer.1.attention.output.dense.bias', 'encoder.layer.0.attention.output.dense.weight', 'encoder.layer.6.output.dense.weight', 'encoder.layer.0.layernorm_after.weight', 'encoder.layer.4.attention.attention.key.weight', 'classifier.weight', 'encoder.layer.4.attention.attention.query.bias', 'encoder.layer.7.intermediate.dense.bias', 'encoder.layer.9.attention.attention.query.bias', 'encoder.layer.8.output.dense.weight', 'encoder.layer.4.layernorm_after.weight', 'encoder.layer.0.attention.attention.query.bias', 'encoder.layer.8.attention.output.dense.bias', 'encoder.layer.11.layernorm_after.bias', 'encoder.layer.9.layernorm_after.bias', 'encoder.layer.10.intermediate.dense.bias', 'encoder.layer.0.output.dense.bias', 'encoder.layer.8.layernorm_after.weight', 'encoder.layer.8.intermediate.dense.bias', 'encoder.layer.3.attention.attention.value.bias', 'encoder.layer.0.output.dense.weight', 'encoder.layer.3.intermediate.dense.weight', 'encoder.layer.4.attention.output.dense.weight', 'encoder.layer.6.layernorm_before.weight', 'encoder.layer.8.attention.attention.key.weight', 'encoder.layer.10.output.dense.bias', 'encoder.layer.3.layernorm_after.weight', 'encoder.layer.6.intermediate.dense.bias', 'encoder.layer.4.attention.attention.value.bias', 'encoder.layer.5.attention.output.dense.bias', 'encoder.layer.9.output.dense.bias', 'encoder.layer.1.attention.attention.query.weight', 'encoder.layer.2.attention.attention.key.bias', 'encoder.layer.4.intermediate.dense.weight', 'encoder.layer.6.attention.attention.query.bias', 'encoder.layer.5.attention.output.dense.weight', 'encoder.layer.9.layernorm_after.weight', 'encoder.layer.3.attention.attention.key.bias', 'encoder.layer.11.intermediate.dense.bias', 'encoder.layer.0.attention.attention.query.weight', 'encoder.layer.1.attention.attention.value.weight', 'encoder.layer.11.intermediate.dense.weight', 'encoder.layer.8.layernorm_before.weight', 'encoder.layer.2.attention.output.dense.bias', 'encoder.layer.6.layernorm_before.bias', 'encoder.layer.2.attention.attention.value.weight', 'encoder.layer.1.attention.attention.value.bias', 'encoder.layer.7.attention.attention.key.bias', 'encoder.layer.6.output.dense.bias', 'layernorm.weight', 'encoder.layer.3.layernorm_after.bias', 'encoder.layer.4.intermediate.dense.bias', 'encoder.layer.2.attention.output.dense.weight', 'encoder.layer.3.attention.attention.query.bias', 'encoder.layer.1.output.dense.weight', 'encoder.layer.7.intermediate.dense.weight', 'encoder.layer.11.attention.attention.key.weight', 'encoder.layer.9.intermediate.dense.bias', 'encoder.layer.2.attention.attention.query.weight', 'encoder.layer.0.layernorm_after.bias', 'encoder.layer.6.layernorm_after.bias', 'encoder.layer.7.output.dense.bias', 'encoder.layer.6.attention.attention.key.weight', 'encoder.layer.5.layernorm_after.weight', 'embeddings.cls_token', 'encoder.layer.7.layernorm_before.weight', 'encoder.layer.8.layernorm_before.bias', 'encoder.layer.3.output.dense.weight', 'encoder.layer.0.attention.attention.value.bias', 'classifier.bias', 'encoder.layer.2.intermediate.dense.weight', 'encoder.layer.1.attention.attention.key.bias', 'encoder.layer.3.attention.output.dense.weight', 'encoder.layer.11.attention.attention.value.bias', 'encoder.layer.10.layernorm_after.weight', 'encoder.layer.6.attention.output.dense.bias', 'encoder.layer.2.layernorm_before.weight', 'encoder.layer.10.layernorm_before.bias', 'encoder.layer.5.attention.attention.key.weight', 'encoder.layer.3.attention.attention.value.weight', 'encoder.layer.6.intermediate.dense.weight', 'encoder.layer.7.attention.attention.key.weight', 'encoder.layer.0.layernorm_before.weight', 'encoder.layer.4.attention.attention.query.weight', 'embeddings.patch_embeddings.projection.bias', 'encoder.layer.7.layernorm_before.bias', 'encoder.layer.7.layernorm_after.bias', 'encoder.layer.3.output.dense.bias', 'encoder.layer.7.attention.attention.value.bias', 'encoder.layer.6.attention.attention.value.weight', 'encoder.layer.2.attention.attention.key.weight', 'encoder.layer.3.intermediate.dense.bias', 'encoder.layer.10.layernorm_after.bias', 'encoder.layer.10.attention.output.dense.weight', 'encoder.layer.4.layernorm_after.bias', 'encoder.layer.11.output.dense.weight', 'encoder.layer.4.attention.attention.value.weight', 'encoder.layer.3.attention.output.dense.bias', 'encoder.layer.2.layernorm_after.weight', 'encoder.layer.0.attention.attention.value.weight', 'encoder.layer.2.intermediate.dense.bias', 'layernorm.bias', 'encoder.layer.4.output.dense.weight', 'encoder.layer.5.output.dense.weight', 'encoder.layer.9.attention.attention.value.bias', 'encoder.layer.8.attention.attention.value.weight', 'encoder.layer.8.layernorm_after.bias', 'encoder.layer.1.layernorm_after.bias', 'encoder.layer.10.layernorm_before.weight', 'encoder.layer.0.attention.attention.key.bias', 'encoder.layer.11.attention.attention.key.bias', 'encoder.layer.6.attention.output.dense.weight', 'encoder.layer.10.attention.attention.query.weight', 'encoder.layer.9.intermediate.dense.weight', 'encoder.layer.10.attention.attention.query.bias', 'encoder.layer.3.attention.attention.key.weight', 'encoder.layer.8.attention.output.dense.weight', 'encoder.layer.8.attention.attention.key.bias', 'encoder.layer.10.attention.attention.value.bias', 'encoder.layer.1.intermediate.dense.bias', 'encoder.layer.4.layernorm_before.bias', 'encoder.layer.9.attention.output.dense.weight', 'encoder.layer.1.layernorm_before.weight', 'encoder.layer.6.attention.attention.key.bias', 'encoder.layer.1.layernorm_before.bias', 'encoder.layer.0.attention.attention.key.weight', 'encoder.layer.11.attention.attention.query.bias', 'encoder.layer.5.layernorm_before.weight']\n",
            "You should probably TRAIN this model on a down-stream task to be able to use it for predictions and inference.\n"
          ]
        },
        {
          "output_type": "display_data",
          "data": {
            "text/plain": [
              "<IPython.core.display.HTML object>"
            ],
            "text/html": [
              "Tracking run with wandb version 0.15.4"
            ]
          },
          "metadata": {}
        },
        {
          "output_type": "display_data",
          "data": {
            "text/plain": [
              "<IPython.core.display.HTML object>"
            ],
            "text/html": [
              "Run data is saved locally in <code>/content/wandb/run-20230702_111551-uv2ku8z2</code>"
            ]
          },
          "metadata": {}
        },
        {
          "output_type": "display_data",
          "data": {
            "text/plain": [
              "<IPython.core.display.HTML object>"
            ],
            "text/html": [
              "Syncing run <strong><a href='https://wandb.ai/deep_bekeif/cnn_no_aug/runs/uv2ku8z2' target=\"_blank\">lunar-shape-5</a></strong> to <a href='https://wandb.ai/deep_bekeif/cnn_no_aug' target=\"_blank\">Weights & Biases</a> (<a href='https://wandb.me/run' target=\"_blank\">docs</a>)<br/>"
            ]
          },
          "metadata": {}
        },
        {
          "output_type": "display_data",
          "data": {
            "text/plain": [
              "<IPython.core.display.HTML object>"
            ],
            "text/html": [
              " View project at <a href='https://wandb.ai/deep_bekeif/cnn_no_aug' target=\"_blank\">https://wandb.ai/deep_bekeif/cnn_no_aug</a>"
            ]
          },
          "metadata": {}
        },
        {
          "output_type": "display_data",
          "data": {
            "text/plain": [
              "<IPython.core.display.HTML object>"
            ],
            "text/html": [
              " View run at <a href='https://wandb.ai/deep_bekeif/cnn_no_aug/runs/uv2ku8z2' target=\"_blank\">https://wandb.ai/deep_bekeif/cnn_no_aug/runs/uv2ku8z2</a>"
            ]
          },
          "metadata": {}
        },
        {
          "output_type": "stream",
          "name": "stderr",
          "text": [
            "You are using a model of type resnet to instantiate a model of type vit. This is not supported for all configurations of models and can yield errors.\n",
            "Some weights of the model checkpoint at microsoft/resnet-50 were not used when initializing ViTForImageClassification: ['resnet.embedder.embedder.normalization.running_var', 'resnet.encoder.stages.3.layers.2.layer.1.normalization.running_mean', 'resnet.encoder.stages.1.layers.0.layer.0.normalization.num_batches_tracked', 'resnet.encoder.stages.2.layers.3.layer.0.normalization.running_mean', 'resnet.encoder.stages.1.layers.3.layer.2.normalization.weight', 'resnet.encoder.stages.1.layers.3.layer.1.convolution.weight', 'resnet.encoder.stages.2.layers.1.layer.2.normalization.num_batches_tracked', 'resnet.encoder.stages.2.layers.0.layer.1.normalization.running_var', 'resnet.encoder.stages.2.layers.2.layer.2.normalization.running_mean', 'resnet.encoder.stages.3.layers.2.layer.0.normalization.bias', 'resnet.encoder.stages.1.layers.1.layer.0.normalization.running_var', 'resnet.embedder.embedder.convolution.weight', 'resnet.embedder.embedder.normalization.weight', 'resnet.encoder.stages.3.layers.2.layer.0.normalization.weight', 'resnet.encoder.stages.2.layers.0.layer.1.normalization.bias', 'resnet.encoder.stages.2.layers.4.layer.0.normalization.running_mean', 'resnet.encoder.stages.0.layers.2.layer.0.normalization.running_mean', 'resnet.encoder.stages.0.layers.0.layer.2.normalization.running_mean', 'resnet.encoder.stages.1.layers.1.layer.1.normalization.running_var', 'resnet.encoder.stages.1.layers.0.layer.0.convolution.weight', 'resnet.encoder.stages.1.layers.3.layer.0.normalization.bias', 'resnet.encoder.stages.3.layers.2.layer.2.normalization.bias', 'resnet.encoder.stages.2.layers.4.layer.1.normalization.running_mean', 'resnet.encoder.stages.3.layers.0.layer.1.normalization.num_batches_tracked', 'resnet.encoder.stages.3.layers.2.layer.1.normalization.running_var', 'resnet.encoder.stages.0.layers.1.layer.1.normalization.weight', 'resnet.encoder.stages.3.layers.1.layer.1.normalization.bias', 'resnet.encoder.stages.2.layers.5.layer.0.convolution.weight', 'resnet.encoder.stages.0.layers.2.layer.1.normalization.running_mean', 'resnet.encoder.stages.0.layers.1.layer.2.normalization.running_mean', 'resnet.encoder.stages.0.layers.0.layer.0.normalization.num_batches_tracked', 'resnet.encoder.stages.1.layers.1.layer.1.normalization.bias', 'resnet.encoder.stages.3.layers.0.layer.0.normalization.bias', 'resnet.encoder.stages.2.layers.4.layer.2.convolution.weight', 'resnet.encoder.stages.0.layers.1.layer.2.normalization.bias', 'resnet.encoder.stages.2.layers.5.layer.2.normalization.num_batches_tracked', 'resnet.encoder.stages.0.layers.0.layer.1.normalization.num_batches_tracked', 'resnet.encoder.stages.3.layers.0.layer.2.normalization.num_batches_tracked', 'resnet.encoder.stages.2.layers.1.layer.0.normalization.num_batches_tracked', 'resnet.encoder.stages.3.layers.1.layer.1.normalization.running_mean', 'resnet.encoder.stages.1.layers.0.layer.1.normalization.bias', 'resnet.encoder.stages.2.layers.3.layer.1.convolution.weight', 'resnet.encoder.stages.2.layers.3.layer.0.normalization.running_var', 'resnet.encoder.stages.3.layers.0.shortcut.convolution.weight', 'resnet.encoder.stages.0.layers.0.layer.2.convolution.weight', 'resnet.encoder.stages.1.layers.3.layer.2.normalization.num_batches_tracked', 'resnet.encoder.stages.3.layers.0.layer.1.convolution.weight', 'resnet.encoder.stages.3.layers.0.layer.2.normalization.running_mean', 'resnet.encoder.stages.3.layers.0.layer.0.normalization.weight', 'resnet.encoder.stages.2.layers.5.layer.0.normalization.weight', 'resnet.encoder.stages.1.layers.1.layer.2.normalization.bias', 'resnet.encoder.stages.2.layers.0.layer.0.normalization.num_batches_tracked', 'resnet.embedder.embedder.normalization.num_batches_tracked', 'resnet.encoder.stages.1.layers.2.layer.1.normalization.weight', 'resnet.encoder.stages.1.layers.3.layer.1.normalization.weight', 'resnet.encoder.stages.2.layers.5.layer.2.normalization.running_mean', 'resnet.encoder.stages.1.layers.0.layer.1.normalization.running_var', 'resnet.encoder.stages.3.layers.2.layer.0.normalization.running_var', 'resnet.encoder.stages.0.layers.0.layer.1.normalization.running_mean', 'resnet.encoder.stages.2.layers.0.layer.2.convolution.weight', 'resnet.encoder.stages.1.layers.2.layer.1.normalization.running_mean', 'resnet.encoder.stages.3.layers.1.layer.1.normalization.num_batches_tracked', 'resnet.encoder.stages.1.layers.0.shortcut.normalization.running_var', 'resnet.encoder.stages.2.layers.2.layer.2.normalization.num_batches_tracked', 'resnet.encoder.stages.3.layers.2.layer.1.normalization.bias', 'resnet.encoder.stages.1.layers.3.layer.0.normalization.running_var', 'resnet.encoder.stages.2.layers.1.layer.1.normalization.num_batches_tracked', 'resnet.encoder.stages.1.layers.1.layer.0.convolution.weight', 'resnet.encoder.stages.3.layers.0.layer.0.normalization.running_var', 'resnet.encoder.stages.2.layers.0.layer.1.normalization.num_batches_tracked', 'resnet.encoder.stages.1.layers.2.layer.2.normalization.running_mean', 'resnet.encoder.stages.2.layers.4.layer.0.normalization.bias', 'resnet.encoder.stages.2.layers.3.layer.0.convolution.weight', 'resnet.encoder.stages.2.layers.4.layer.1.normalization.num_batches_tracked', 'resnet.encoder.stages.3.layers.1.layer.2.normalization.weight', 'resnet.encoder.stages.3.layers.0.layer.2.normalization.running_var', 'resnet.encoder.stages.3.layers.0.layer.0.normalization.running_mean', 'resnet.encoder.stages.1.layers.0.layer.0.normalization.weight', 'resnet.encoder.stages.0.layers.0.layer.1.normalization.running_var', 'resnet.encoder.stages.2.layers.4.layer.2.normalization.num_batches_tracked', 'resnet.encoder.stages.2.layers.0.layer.1.normalization.weight', 'resnet.encoder.stages.2.layers.3.layer.0.normalization.bias', 'resnet.encoder.stages.0.layers.0.shortcut.normalization.num_batches_tracked', 'resnet.encoder.stages.0.layers.0.shortcut.normalization.running_var', 'resnet.encoder.stages.3.layers.1.layer.2.normalization.running_var', 'resnet.encoder.stages.0.layers.2.layer.1.convolution.weight', 'resnet.encoder.stages.0.layers.0.layer.2.normalization.bias', 'resnet.encoder.stages.1.layers.1.layer.2.normalization.running_var', 'resnet.encoder.stages.2.layers.4.layer.1.normalization.weight', 'resnet.encoder.stages.3.layers.0.layer.0.convolution.weight', 'resnet.encoder.stages.1.layers.0.shortcut.normalization.weight', 'resnet.encoder.stages.2.layers.2.layer.1.normalization.weight', 'resnet.encoder.stages.3.layers.2.layer.1.convolution.weight', 'resnet.encoder.stages.3.layers.1.layer.0.normalization.num_batches_tracked', 'resnet.encoder.stages.0.layers.2.layer.2.normalization.weight', 'resnet.encoder.stages.2.layers.4.layer.0.convolution.weight', 'resnet.encoder.stages.3.layers.2.layer.0.normalization.num_batches_tracked', 'resnet.encoder.stages.2.layers.2.layer.1.normalization.running_var', 'resnet.encoder.stages.2.layers.4.layer.2.normalization.running_mean', 'resnet.encoder.stages.3.layers.2.layer.1.normalization.weight', 'resnet.encoder.stages.0.layers.1.layer.1.convolution.weight', 'resnet.encoder.stages.2.layers.2.layer.1.normalization.bias', 'resnet.encoder.stages.1.layers.1.layer.0.normalization.num_batches_tracked', 'resnet.encoder.stages.1.layers.2.layer.0.convolution.weight', 'resnet.encoder.stages.2.layers.3.layer.1.normalization.running_var', 'resnet.encoder.stages.1.layers.2.layer.2.convolution.weight', 'resnet.encoder.stages.1.layers.3.layer.1.normalization.num_batches_tracked', 'resnet.encoder.stages.1.layers.0.layer.2.normalization.weight', 'resnet.encoder.stages.1.layers.2.layer.0.normalization.bias', 'resnet.encoder.stages.0.layers.1.layer.0.normalization.running_var', 'resnet.encoder.stages.1.layers.0.layer.1.normalization.running_mean', 'resnet.encoder.stages.3.layers.2.layer.1.normalization.num_batches_tracked', 'resnet.encoder.stages.2.layers.5.layer.1.normalization.weight', 'resnet.encoder.stages.3.layers.2.layer.2.normalization.weight', 'resnet.encoder.stages.3.layers.1.layer.0.normalization.bias', 'resnet.encoder.stages.3.layers.1.layer.0.normalization.running_mean', 'resnet.encoder.stages.2.layers.1.layer.2.convolution.weight', 'resnet.encoder.stages.0.layers.2.layer.0.normalization.bias', 'resnet.encoder.stages.2.layers.4.layer.2.normalization.running_var', 'resnet.encoder.stages.1.layers.3.layer.0.convolution.weight', 'resnet.encoder.stages.2.layers.0.layer.1.normalization.running_mean', 'resnet.encoder.stages.2.layers.0.shortcut.normalization.running_mean', 'resnet.encoder.stages.0.layers.2.layer.0.normalization.running_var', 'resnet.encoder.stages.1.layers.2.layer.0.normalization.weight', 'resnet.encoder.stages.2.layers.3.layer.2.convolution.weight', 'resnet.encoder.stages.2.layers.4.layer.1.normalization.bias', 'resnet.encoder.stages.0.layers.0.layer.0.normalization.running_mean', 'resnet.encoder.stages.2.layers.1.layer.2.normalization.running_mean', 'resnet.encoder.stages.1.layers.0.layer.2.normalization.num_batches_tracked', 'resnet.encoder.stages.2.layers.0.shortcut.normalization.running_var', 'resnet.encoder.stages.2.layers.4.layer.2.normalization.weight', 'resnet.encoder.stages.2.layers.2.layer.1.normalization.num_batches_tracked', 'resnet.encoder.stages.1.layers.1.layer.1.convolution.weight', 'resnet.encoder.stages.0.layers.1.layer.2.convolution.weight', 'resnet.encoder.stages.1.layers.3.layer.0.normalization.num_batches_tracked', 'resnet.encoder.stages.2.layers.3.layer.0.normalization.weight', 'resnet.encoder.stages.0.layers.1.layer.2.normalization.num_batches_tracked', 'resnet.encoder.stages.2.layers.2.layer.0.normalization.weight', 'resnet.encoder.stages.2.layers.0.layer.0.normalization.running_var', 'resnet.encoder.stages.1.layers.2.layer.0.normalization.running_mean', 'resnet.encoder.stages.0.layers.1.layer.2.normalization.running_var', 'resnet.encoder.stages.0.layers.0.layer.0.normalization.bias', 'resnet.encoder.stages.3.layers.0.layer.0.normalization.num_batches_tracked', 'resnet.encoder.stages.0.layers.0.layer.2.normalization.weight', 'resnet.encoder.stages.3.layers.0.shortcut.normalization.bias', 'resnet.encoder.stages.2.layers.3.layer.2.normalization.running_mean', 'resnet.encoder.stages.1.layers.3.layer.1.normalization.running_var', 'resnet.encoder.stages.2.layers.3.layer.2.normalization.running_var', 'resnet.encoder.stages.1.layers.2.layer.0.normalization.num_batches_tracked', 'resnet.encoder.stages.3.layers.1.layer.2.normalization.running_mean', 'resnet.encoder.stages.2.layers.0.layer.0.normalization.bias', 'resnet.encoder.stages.2.layers.1.layer.0.normalization.running_var', 'resnet.encoder.stages.2.layers.3.layer.2.normalization.num_batches_tracked', 'resnet.encoder.stages.0.layers.1.layer.1.normalization.running_var', 'resnet.encoder.stages.2.layers.0.shortcut.normalization.num_batches_tracked', 'resnet.encoder.stages.0.layers.2.layer.1.normalization.running_var', 'resnet.encoder.stages.3.layers.0.layer.1.normalization.bias', 'resnet.encoder.stages.0.layers.0.layer.2.normalization.running_var', 'resnet.encoder.stages.2.layers.1.layer.2.normalization.running_var', 'resnet.encoder.stages.1.layers.3.layer.0.normalization.running_mean', 'resnet.encoder.stages.3.layers.0.shortcut.normalization.weight', 'resnet.encoder.stages.1.layers.2.layer.1.normalization.bias', 'resnet.encoder.stages.3.layers.0.layer.1.normalization.running_mean', 'resnet.encoder.stages.2.layers.3.layer.1.normalization.bias', 'resnet.encoder.stages.3.layers.0.layer.2.normalization.weight', 'resnet.encoder.stages.2.layers.4.layer.2.normalization.bias', 'resnet.encoder.stages.2.layers.0.layer.0.normalization.weight', 'resnet.encoder.stages.0.layers.1.layer.0.convolution.weight', 'resnet.encoder.stages.3.layers.1.layer.1.convolution.weight', 'resnet.encoder.stages.3.layers.1.layer.2.normalization.bias', 'resnet.encoder.stages.0.layers.1.layer.0.normalization.weight', 'resnet.encoder.stages.2.layers.2.layer.2.convolution.weight', 'resnet.encoder.stages.2.layers.5.layer.2.normalization.bias', 'resnet.encoder.stages.0.layers.2.layer.0.convolution.weight', 'resnet.encoder.stages.2.layers.5.layer.2.normalization.weight', 'resnet.encoder.stages.2.layers.4.layer.0.normalization.num_batches_tracked', 'resnet.encoder.stages.1.layers.2.layer.0.normalization.running_var', 'resnet.encoder.stages.3.layers.2.layer.2.normalization.running_var', 'resnet.encoder.stages.2.layers.5.layer.1.normalization.num_batches_tracked', 'resnet.encoder.stages.2.layers.5.layer.2.convolution.weight', 'resnet.encoder.stages.2.layers.1.layer.1.normalization.running_var', 'resnet.encoder.stages.1.layers.1.layer.0.normalization.running_mean', 'resnet.encoder.stages.2.layers.2.layer.1.convolution.weight', 'resnet.encoder.stages.2.layers.0.shortcut.normalization.weight', 'resnet.encoder.stages.2.layers.0.layer.2.normalization.running_mean', 'resnet.encoder.stages.0.layers.0.shortcut.normalization.weight', 'resnet.encoder.stages.0.layers.2.layer.1.normalization.bias', 'resnet.encoder.stages.3.layers.0.shortcut.normalization.num_batches_tracked', 'resnet.encoder.stages.3.layers.1.layer.2.convolution.weight', 'resnet.encoder.stages.1.layers.0.layer.1.convolution.weight', 'resnet.encoder.stages.3.layers.0.layer.1.normalization.running_var', 'resnet.encoder.stages.3.layers.1.layer.1.normalization.running_var', 'resnet.encoder.stages.3.layers.2.layer.2.convolution.weight', 'resnet.encoder.stages.2.layers.0.layer.2.normalization.bias', 'resnet.encoder.stages.1.layers.2.layer.1.normalization.num_batches_tracked', 'resnet.encoder.stages.1.layers.0.shortcut.normalization.num_batches_tracked', 'resnet.encoder.stages.1.layers.2.layer.2.normalization.weight', 'resnet.encoder.stages.2.layers.1.layer.1.normalization.running_mean', 'resnet.encoder.stages.1.layers.1.layer.0.normalization.weight', 'resnet.encoder.stages.3.layers.1.layer.1.normalization.weight', 'resnet.encoder.stages.2.layers.4.layer.1.normalization.running_var', 'resnet.encoder.stages.2.layers.5.layer.0.normalization.running_var', 'resnet.encoder.stages.2.layers.5.layer.1.normalization.bias', 'resnet.encoder.stages.2.layers.1.layer.1.convolution.weight', 'resnet.encoder.stages.2.layers.2.layer.2.normalization.bias', 'resnet.encoder.stages.1.layers.0.layer.2.normalization.running_var', 'resnet.encoder.stages.1.layers.0.layer.0.normalization.running_mean', 'resnet.encoder.stages.3.layers.2.layer.0.convolution.weight', 'resnet.encoder.stages.1.layers.0.layer.1.normalization.num_batches_tracked', 'resnet.encoder.stages.1.layers.2.layer.1.convolution.weight', 'resnet.encoder.stages.0.layers.0.layer.2.normalization.num_batches_tracked', 'resnet.encoder.stages.2.layers.1.layer.2.normalization.bias', 'resnet.encoder.stages.2.layers.5.layer.2.normalization.running_var', 'resnet.encoder.stages.1.layers.0.layer.2.convolution.weight', 'resnet.encoder.stages.3.layers.0.layer.2.convolution.weight', 'resnet.encoder.stages.2.layers.1.layer.0.normalization.running_mean', 'resnet.encoder.stages.1.layers.3.layer.2.normalization.bias', 'resnet.encoder.stages.2.layers.5.layer.0.normalization.running_mean', 'resnet.encoder.stages.1.layers.3.layer.2.convolution.weight', 'classifier.1.bias', 'resnet.encoder.stages.1.layers.2.layer.2.normalization.num_batches_tracked', 'resnet.encoder.stages.1.layers.0.layer.0.normalization.running_var', 'resnet.encoder.stages.2.layers.5.layer.1.convolution.weight', 'resnet.encoder.stages.0.layers.2.layer.2.normalization.running_var', 'resnet.encoder.stages.1.layers.0.layer.0.normalization.bias', 'resnet.encoder.stages.2.layers.0.layer.2.normalization.num_batches_tracked', 'resnet.encoder.stages.2.layers.5.layer.0.normalization.bias', 'resnet.encoder.stages.0.layers.2.layer.2.normalization.bias', 'resnet.encoder.stages.2.layers.2.layer.0.normalization.num_batches_tracked', 'resnet.encoder.stages.0.layers.1.layer.0.normalization.running_mean', 'resnet.encoder.stages.0.layers.2.layer.0.normalization.num_batches_tracked', 'classifier.1.weight', 'resnet.encoder.stages.0.layers.1.layer.1.normalization.bias', 'resnet.encoder.stages.0.layers.1.layer.2.normalization.weight', 'resnet.encoder.stages.0.layers.0.layer.1.normalization.bias', 'resnet.encoder.stages.0.layers.0.layer.0.normalization.running_var', 'resnet.encoder.stages.2.layers.2.layer.0.normalization.bias', 'resnet.encoder.stages.3.layers.2.layer.2.normalization.num_batches_tracked', 'resnet.encoder.stages.2.layers.4.layer.1.convolution.weight', 'resnet.encoder.stages.2.layers.3.layer.1.normalization.running_mean', 'resnet.encoder.stages.0.layers.2.layer.1.normalization.weight', 'resnet.encoder.stages.1.layers.2.layer.2.normalization.running_var', 'resnet.encoder.stages.0.layers.0.shortcut.normalization.bias', 'resnet.encoder.stages.1.layers.0.shortcut.normalization.running_mean', 'resnet.encoder.stages.1.layers.1.layer.1.normalization.running_mean', 'resnet.encoder.stages.0.layers.1.layer.0.normalization.num_batches_tracked', 'resnet.embedder.embedder.normalization.running_mean', 'resnet.encoder.stages.2.layers.2.layer.0.convolution.weight', 'resnet.encoder.stages.0.layers.0.layer.0.convolution.weight', 'resnet.encoder.stages.2.layers.3.layer.2.normalization.bias', 'resnet.encoder.stages.2.layers.5.layer.0.normalization.num_batches_tracked', 'resnet.encoder.stages.3.layers.1.layer.0.normalization.weight', 'resnet.encoder.stages.2.layers.0.shortcut.normalization.bias', 'resnet.encoder.stages.2.layers.3.layer.2.normalization.weight', 'resnet.encoder.stages.0.layers.0.shortcut.normalization.running_mean', 'resnet.encoder.stages.3.layers.0.layer.1.normalization.weight', 'resnet.encoder.stages.0.layers.2.layer.0.normalization.weight', 'resnet.encoder.stages.2.layers.4.layer.0.normalization.weight', 'resnet.encoder.stages.2.layers.2.layer.0.normalization.running_var', 'resnet.encoder.stages.0.layers.2.layer.2.convolution.weight', 'resnet.encoder.stages.2.layers.1.layer.2.normalization.weight', 'resnet.encoder.stages.1.layers.0.layer.2.normalization.bias', 'resnet.encoder.stages.1.layers.1.layer.0.normalization.bias', 'resnet.encoder.stages.2.layers.1.layer.1.normalization.weight', 'resnet.encoder.stages.2.layers.3.layer.0.normalization.num_batches_tracked', 'resnet.encoder.stages.3.layers.1.layer.0.normalization.running_var', 'resnet.encoder.stages.2.layers.1.layer.0.normalization.bias', 'resnet.encoder.stages.1.layers.2.layer.1.normalization.running_var', 'resnet.encoder.stages.0.layers.1.layer.0.normalization.bias', 'resnet.encoder.stages.0.layers.0.layer.1.convolution.weight', 'resnet.encoder.stages.3.layers.1.layer.2.normalization.num_batches_tracked', 'resnet.encoder.stages.0.layers.0.layer.0.normalization.weight', 'resnet.encoder.stages.1.layers.1.layer.1.normalization.num_batches_tracked', 'resnet.encoder.stages.1.layers.1.layer.2.normalization.running_mean', 'resnet.encoder.stages.2.layers.2.layer.1.normalization.running_mean', 'resnet.encoder.stages.2.layers.5.layer.1.normalization.running_var', 'resnet.encoder.stages.1.layers.2.layer.2.normalization.bias', 'resnet.encoder.stages.1.layers.0.layer.1.normalization.weight', 'resnet.encoder.stages.1.layers.1.layer.2.convolution.weight', 'resnet.encoder.stages.2.layers.1.layer.0.convolution.weight', 'resnet.encoder.stages.3.layers.1.layer.0.convolution.weight', 'resnet.encoder.stages.2.layers.5.layer.1.normalization.running_mean', 'resnet.encoder.stages.3.layers.0.shortcut.normalization.running_var', 'resnet.encoder.stages.0.layers.2.layer.2.normalization.num_batches_tracked', 'resnet.encoder.stages.1.layers.1.layer.1.normalization.weight', 'resnet.encoder.stages.0.layers.1.layer.1.normalization.num_batches_tracked', 'resnet.encoder.stages.3.layers.0.layer.2.normalization.bias', 'resnet.encoder.stages.2.layers.0.layer.0.normalization.running_mean', 'resnet.encoder.stages.0.layers.2.layer.1.normalization.num_batches_tracked', 'resnet.encoder.stages.2.layers.3.layer.1.normalization.weight', 'resnet.encoder.stages.1.layers.3.layer.1.normalization.running_mean', 'resnet.encoder.stages.1.layers.0.layer.2.normalization.running_mean', 'resnet.encoder.stages.2.layers.0.layer.2.normalization.weight', 'resnet.encoder.stages.2.layers.0.layer.0.convolution.weight', 'resnet.encoder.stages.1.layers.0.shortcut.normalization.bias', 'resnet.encoder.stages.2.layers.2.layer.2.normalization.weight', 'resnet.encoder.stages.0.layers.2.layer.2.normalization.running_mean', 'resnet.encoder.stages.1.layers.1.layer.2.normalization.num_batches_tracked', 'resnet.encoder.stages.2.layers.0.layer.1.convolution.weight', 'resnet.encoder.stages.1.layers.3.layer.2.normalization.running_mean', 'resnet.encoder.stages.3.layers.2.layer.2.normalization.running_mean', 'resnet.encoder.stages.2.layers.4.layer.0.normalization.running_var', 'resnet.encoder.stages.1.layers.1.layer.2.normalization.weight', 'resnet.embedder.embedder.normalization.bias', 'resnet.encoder.stages.1.layers.3.layer.0.normalization.weight', 'resnet.encoder.stages.3.layers.0.shortcut.normalization.running_mean', 'resnet.encoder.stages.1.layers.3.layer.1.normalization.bias', 'resnet.encoder.stages.0.layers.0.shortcut.convolution.weight', 'resnet.encoder.stages.0.layers.1.layer.1.normalization.running_mean', 'resnet.encoder.stages.2.layers.2.layer.2.normalization.running_var', 'resnet.encoder.stages.3.layers.2.layer.0.normalization.running_mean', 'resnet.encoder.stages.2.layers.1.layer.1.normalization.bias', 'resnet.encoder.stages.0.layers.0.layer.1.normalization.weight', 'resnet.encoder.stages.2.layers.0.layer.2.normalization.running_var', 'resnet.encoder.stages.2.layers.0.shortcut.convolution.weight', 'resnet.encoder.stages.1.layers.0.shortcut.convolution.weight', 'resnet.encoder.stages.2.layers.3.layer.1.normalization.num_batches_tracked', 'resnet.encoder.stages.2.layers.1.layer.0.normalization.weight', 'resnet.encoder.stages.1.layers.3.layer.2.normalization.running_var', 'resnet.encoder.stages.2.layers.2.layer.0.normalization.running_mean']\n",
            "- This IS expected if you are initializing ViTForImageClassification from the checkpoint of a model trained on another task or with another architecture (e.g. initializing a BertForSequenceClassification model from a BertForPreTraining model).\n",
            "- This IS NOT expected if you are initializing ViTForImageClassification from the checkpoint of a model that you expect to be exactly identical (initializing a BertForSequenceClassification model from a BertForSequenceClassification model).\n",
            "Some weights of ViTForImageClassification were not initialized from the model checkpoint at microsoft/resnet-50 and are newly initialized: ['encoder.layer.10.attention.output.dense.bias', 'encoder.layer.11.layernorm_after.weight', 'encoder.layer.7.attention.output.dense.bias', 'encoder.layer.3.layernorm_before.bias', 'encoder.layer.9.attention.output.dense.bias', 'encoder.layer.4.output.dense.bias', 'encoder.layer.7.attention.attention.value.weight', 'encoder.layer.11.layernorm_before.bias', 'encoder.layer.0.intermediate.dense.weight', 'encoder.layer.8.attention.attention.query.bias', 'encoder.layer.1.attention.attention.key.weight', 'encoder.layer.1.output.dense.bias', 'encoder.layer.8.attention.attention.value.bias', 'encoder.layer.11.layernorm_before.weight', 'encoder.layer.7.attention.attention.query.bias', 'encoder.layer.4.attention.attention.key.bias', 'encoder.layer.1.attention.attention.query.bias', 'encoder.layer.9.layernorm_before.weight', 'encoder.layer.0.attention.output.dense.bias', 'encoder.layer.10.attention.attention.value.weight', 'encoder.layer.11.attention.output.dense.bias', 'encoder.layer.9.attention.attention.key.bias', 'encoder.layer.0.intermediate.dense.bias', 'encoder.layer.8.intermediate.dense.weight', 'encoder.layer.9.layernorm_before.bias', 'encoder.layer.8.attention.attention.query.weight', 'encoder.layer.9.output.dense.weight', 'encoder.layer.1.attention.output.dense.weight', 'encoder.layer.5.attention.attention.query.weight', 'encoder.layer.7.attention.attention.query.weight', 'encoder.layer.4.layernorm_before.weight', 'embeddings.patch_embeddings.projection.weight', 'encoder.layer.0.layernorm_before.bias', 'encoder.layer.2.output.dense.weight', 'encoder.layer.3.layernorm_before.weight', 'encoder.layer.6.attention.attention.query.weight', 'encoder.layer.3.attention.attention.query.weight', 'encoder.layer.7.output.dense.weight', 'encoder.layer.4.attention.output.dense.bias', 'encoder.layer.5.attention.attention.value.bias', 'encoder.layer.10.attention.attention.key.bias', 'encoder.layer.10.intermediate.dense.weight', 'encoder.layer.5.output.dense.bias', 'encoder.layer.7.layernorm_after.weight', 'embeddings.position_embeddings', 'encoder.layer.2.layernorm_after.bias', 'encoder.layer.1.intermediate.dense.weight', 'encoder.layer.11.attention.attention.query.weight', 'encoder.layer.5.attention.attention.query.bias', 'encoder.layer.5.layernorm_after.bias', 'encoder.layer.9.attention.attention.query.weight', 'encoder.layer.11.attention.output.dense.weight', 'encoder.layer.5.intermediate.dense.weight', 'encoder.layer.2.layernorm_before.bias', 'encoder.layer.2.output.dense.bias', 'encoder.layer.5.attention.attention.key.bias', 'encoder.layer.8.output.dense.bias', 'encoder.layer.1.layernorm_after.weight', 'encoder.layer.5.attention.attention.value.weight', 'encoder.layer.5.intermediate.dense.bias', 'encoder.layer.10.output.dense.weight', 'encoder.layer.10.attention.attention.key.weight', 'encoder.layer.2.attention.attention.value.bias', 'encoder.layer.11.output.dense.bias', 'encoder.layer.9.attention.attention.value.weight', 'encoder.layer.5.layernorm_before.bias', 'encoder.layer.7.attention.output.dense.weight', 'encoder.layer.2.attention.attention.query.bias', 'encoder.layer.9.attention.attention.key.weight', 'encoder.layer.6.layernorm_after.weight', 'encoder.layer.6.attention.attention.value.bias', 'encoder.layer.11.attention.attention.value.weight', 'encoder.layer.1.attention.output.dense.bias', 'encoder.layer.0.attention.output.dense.weight', 'encoder.layer.6.output.dense.weight', 'encoder.layer.0.layernorm_after.weight', 'encoder.layer.4.attention.attention.key.weight', 'classifier.weight', 'encoder.layer.4.attention.attention.query.bias', 'encoder.layer.7.intermediate.dense.bias', 'encoder.layer.9.attention.attention.query.bias', 'encoder.layer.8.output.dense.weight', 'encoder.layer.4.layernorm_after.weight', 'encoder.layer.0.attention.attention.query.bias', 'encoder.layer.8.attention.output.dense.bias', 'encoder.layer.11.layernorm_after.bias', 'encoder.layer.9.layernorm_after.bias', 'encoder.layer.10.intermediate.dense.bias', 'encoder.layer.0.output.dense.bias', 'encoder.layer.8.layernorm_after.weight', 'encoder.layer.8.intermediate.dense.bias', 'encoder.layer.3.attention.attention.value.bias', 'encoder.layer.0.output.dense.weight', 'encoder.layer.3.intermediate.dense.weight', 'encoder.layer.4.attention.output.dense.weight', 'encoder.layer.6.layernorm_before.weight', 'encoder.layer.8.attention.attention.key.weight', 'encoder.layer.10.output.dense.bias', 'encoder.layer.3.layernorm_after.weight', 'encoder.layer.6.intermediate.dense.bias', 'encoder.layer.4.attention.attention.value.bias', 'encoder.layer.5.attention.output.dense.bias', 'encoder.layer.9.output.dense.bias', 'encoder.layer.1.attention.attention.query.weight', 'encoder.layer.2.attention.attention.key.bias', 'encoder.layer.4.intermediate.dense.weight', 'encoder.layer.6.attention.attention.query.bias', 'encoder.layer.5.attention.output.dense.weight', 'encoder.layer.9.layernorm_after.weight', 'encoder.layer.3.attention.attention.key.bias', 'encoder.layer.11.intermediate.dense.bias', 'encoder.layer.0.attention.attention.query.weight', 'encoder.layer.1.attention.attention.value.weight', 'encoder.layer.11.intermediate.dense.weight', 'encoder.layer.8.layernorm_before.weight', 'encoder.layer.2.attention.output.dense.bias', 'encoder.layer.6.layernorm_before.bias', 'encoder.layer.2.attention.attention.value.weight', 'encoder.layer.1.attention.attention.value.bias', 'encoder.layer.7.attention.attention.key.bias', 'encoder.layer.6.output.dense.bias', 'layernorm.weight', 'encoder.layer.3.layernorm_after.bias', 'encoder.layer.4.intermediate.dense.bias', 'encoder.layer.2.attention.output.dense.weight', 'encoder.layer.3.attention.attention.query.bias', 'encoder.layer.1.output.dense.weight', 'encoder.layer.7.intermediate.dense.weight', 'encoder.layer.11.attention.attention.key.weight', 'encoder.layer.9.intermediate.dense.bias', 'encoder.layer.2.attention.attention.query.weight', 'encoder.layer.0.layernorm_after.bias', 'encoder.layer.6.layernorm_after.bias', 'encoder.layer.7.output.dense.bias', 'encoder.layer.6.attention.attention.key.weight', 'encoder.layer.5.layernorm_after.weight', 'embeddings.cls_token', 'encoder.layer.7.layernorm_before.weight', 'encoder.layer.8.layernorm_before.bias', 'encoder.layer.3.output.dense.weight', 'encoder.layer.0.attention.attention.value.bias', 'classifier.bias', 'encoder.layer.2.intermediate.dense.weight', 'encoder.layer.1.attention.attention.key.bias', 'encoder.layer.3.attention.output.dense.weight', 'encoder.layer.11.attention.attention.value.bias', 'encoder.layer.10.layernorm_after.weight', 'encoder.layer.6.attention.output.dense.bias', 'encoder.layer.2.layernorm_before.weight', 'encoder.layer.10.layernorm_before.bias', 'encoder.layer.5.attention.attention.key.weight', 'encoder.layer.3.attention.attention.value.weight', 'encoder.layer.6.intermediate.dense.weight', 'encoder.layer.7.attention.attention.key.weight', 'encoder.layer.0.layernorm_before.weight', 'encoder.layer.4.attention.attention.query.weight', 'embeddings.patch_embeddings.projection.bias', 'encoder.layer.7.layernorm_before.bias', 'encoder.layer.7.layernorm_after.bias', 'encoder.layer.3.output.dense.bias', 'encoder.layer.7.attention.attention.value.bias', 'encoder.layer.6.attention.attention.value.weight', 'encoder.layer.2.attention.attention.key.weight', 'encoder.layer.3.intermediate.dense.bias', 'encoder.layer.10.layernorm_after.bias', 'encoder.layer.10.attention.output.dense.weight', 'encoder.layer.4.layernorm_after.bias', 'encoder.layer.11.output.dense.weight', 'encoder.layer.4.attention.attention.value.weight', 'encoder.layer.3.attention.output.dense.bias', 'encoder.layer.2.layernorm_after.weight', 'encoder.layer.0.attention.attention.value.weight', 'encoder.layer.2.intermediate.dense.bias', 'layernorm.bias', 'encoder.layer.4.output.dense.weight', 'encoder.layer.5.output.dense.weight', 'encoder.layer.9.attention.attention.value.bias', 'encoder.layer.8.attention.attention.value.weight', 'encoder.layer.8.layernorm_after.bias', 'encoder.layer.1.layernorm_after.bias', 'encoder.layer.10.layernorm_before.weight', 'encoder.layer.0.attention.attention.key.bias', 'encoder.layer.11.attention.attention.key.bias', 'encoder.layer.6.attention.output.dense.weight', 'encoder.layer.10.attention.attention.query.weight', 'encoder.layer.9.intermediate.dense.weight', 'encoder.layer.10.attention.attention.query.bias', 'encoder.layer.3.attention.attention.key.weight', 'encoder.layer.8.attention.output.dense.weight', 'encoder.layer.8.attention.attention.key.bias', 'encoder.layer.10.attention.attention.value.bias', 'encoder.layer.1.intermediate.dense.bias', 'encoder.layer.4.layernorm_before.bias', 'encoder.layer.9.attention.output.dense.weight', 'encoder.layer.1.layernorm_before.weight', 'encoder.layer.6.attention.attention.key.bias', 'encoder.layer.1.layernorm_before.bias', 'encoder.layer.0.attention.attention.key.weight', 'encoder.layer.11.attention.attention.query.bias', 'encoder.layer.5.layernorm_before.weight']\n",
            "You should probably TRAIN this model on a down-stream task to be able to use it for predictions and inference.\n"
          ]
        }
      ],
      "source": [
        "# define the model\n",
        "def model_init():\n",
        "  return ViTForImageClassification.from_pretrained(\n",
        "    CNN_base,\n",
        "    num_labels=len(labels_names),\n",
        "    id2label={str(i): tumor_type for i, tumor_type in enumerate(labels_names)},\n",
        "    label2id={tumor_type: i for i, tumor_type in enumerate(labels_names)},\n",
        ")\n",
        "\n",
        "model = model_init()\n",
        "# Initialize a new run\n",
        "wandb.init(project=\"cnn_no_aug\")\n",
        "\n",
        "# Define the TrainingArguments\n",
        "training_args = TrainingArguments(\n",
        "  output_dir=output_cnn_no_aug,\n",
        "  per_device_train_batch_size=16,\n",
        "  evaluation_strategy=\"steps\",\n",
        "  num_train_epochs=5, #4\n",
        "  fp16=True,\n",
        "  save_steps=100,#100\n",
        "  eval_steps=50,#100\n",
        "  logging_steps=10,\n",
        "  learning_rate=2e-4,\n",
        "  save_total_limit=2,\n",
        "  remove_unused_columns=False,\n",
        "  push_to_hub=False,\n",
        "  report_to='wandb',\n",
        "  load_best_model_at_end=True,\n",
        "  seed = seed\n",
        ")\n",
        "\n",
        "\n",
        "trainer = Trainer(\n",
        "    model_init=model_init,\n",
        "    args=training_args,\n",
        "    compute_metrics=compute_metrics,\n",
        "    train_dataset=train_dataset,\n",
        "    eval_dataset=test_dataset,\n",
        "    data_collator= lambda samples: {'pixel_values': torch.stack([sample[0] for sample in samples]),\n",
        "                                   'labels': torch.tensor([sample[1] for sample in samples])},\n",
        ")\n"
      ]
    },
    {
      "cell_type": "code",
      "execution_count": null,
      "metadata": {
        "colab": {
          "base_uri": "https://localhost:8080/",
          "height": 1000
        },
        "id": "SjE4QFApSppD",
        "outputId": "04e4b2b1-f684-43eb-859d-51964124fa12"
      },
      "outputs": [
        {
          "output_type": "stream",
          "name": "stderr",
          "text": [
            "You are using a model of type resnet to instantiate a model of type vit. This is not supported for all configurations of models and can yield errors.\n",
            "Some weights of the model checkpoint at microsoft/resnet-50 were not used when initializing ViTForImageClassification: ['resnet.embedder.embedder.normalization.running_var', 'resnet.encoder.stages.3.layers.2.layer.1.normalization.running_mean', 'resnet.encoder.stages.1.layers.0.layer.0.normalization.num_batches_tracked', 'resnet.encoder.stages.2.layers.3.layer.0.normalization.running_mean', 'resnet.encoder.stages.1.layers.3.layer.2.normalization.weight', 'resnet.encoder.stages.1.layers.3.layer.1.convolution.weight', 'resnet.encoder.stages.2.layers.1.layer.2.normalization.num_batches_tracked', 'resnet.encoder.stages.2.layers.0.layer.1.normalization.running_var', 'resnet.encoder.stages.2.layers.2.layer.2.normalization.running_mean', 'resnet.encoder.stages.3.layers.2.layer.0.normalization.bias', 'resnet.encoder.stages.1.layers.1.layer.0.normalization.running_var', 'resnet.embedder.embedder.convolution.weight', 'resnet.embedder.embedder.normalization.weight', 'resnet.encoder.stages.3.layers.2.layer.0.normalization.weight', 'resnet.encoder.stages.2.layers.0.layer.1.normalization.bias', 'resnet.encoder.stages.2.layers.4.layer.0.normalization.running_mean', 'resnet.encoder.stages.0.layers.2.layer.0.normalization.running_mean', 'resnet.encoder.stages.0.layers.0.layer.2.normalization.running_mean', 'resnet.encoder.stages.1.layers.1.layer.1.normalization.running_var', 'resnet.encoder.stages.1.layers.0.layer.0.convolution.weight', 'resnet.encoder.stages.1.layers.3.layer.0.normalization.bias', 'resnet.encoder.stages.3.layers.2.layer.2.normalization.bias', 'resnet.encoder.stages.2.layers.4.layer.1.normalization.running_mean', 'resnet.encoder.stages.3.layers.0.layer.1.normalization.num_batches_tracked', 'resnet.encoder.stages.3.layers.2.layer.1.normalization.running_var', 'resnet.encoder.stages.0.layers.1.layer.1.normalization.weight', 'resnet.encoder.stages.3.layers.1.layer.1.normalization.bias', 'resnet.encoder.stages.2.layers.5.layer.0.convolution.weight', 'resnet.encoder.stages.0.layers.2.layer.1.normalization.running_mean', 'resnet.encoder.stages.0.layers.1.layer.2.normalization.running_mean', 'resnet.encoder.stages.0.layers.0.layer.0.normalization.num_batches_tracked', 'resnet.encoder.stages.1.layers.1.layer.1.normalization.bias', 'resnet.encoder.stages.3.layers.0.layer.0.normalization.bias', 'resnet.encoder.stages.2.layers.4.layer.2.convolution.weight', 'resnet.encoder.stages.0.layers.1.layer.2.normalization.bias', 'resnet.encoder.stages.2.layers.5.layer.2.normalization.num_batches_tracked', 'resnet.encoder.stages.0.layers.0.layer.1.normalization.num_batches_tracked', 'resnet.encoder.stages.3.layers.0.layer.2.normalization.num_batches_tracked', 'resnet.encoder.stages.2.layers.1.layer.0.normalization.num_batches_tracked', 'resnet.encoder.stages.3.layers.1.layer.1.normalization.running_mean', 'resnet.encoder.stages.1.layers.0.layer.1.normalization.bias', 'resnet.encoder.stages.2.layers.3.layer.1.convolution.weight', 'resnet.encoder.stages.2.layers.3.layer.0.normalization.running_var', 'resnet.encoder.stages.3.layers.0.shortcut.convolution.weight', 'resnet.encoder.stages.0.layers.0.layer.2.convolution.weight', 'resnet.encoder.stages.1.layers.3.layer.2.normalization.num_batches_tracked', 'resnet.encoder.stages.3.layers.0.layer.1.convolution.weight', 'resnet.encoder.stages.3.layers.0.layer.2.normalization.running_mean', 'resnet.encoder.stages.3.layers.0.layer.0.normalization.weight', 'resnet.encoder.stages.2.layers.5.layer.0.normalization.weight', 'resnet.encoder.stages.1.layers.1.layer.2.normalization.bias', 'resnet.encoder.stages.2.layers.0.layer.0.normalization.num_batches_tracked', 'resnet.embedder.embedder.normalization.num_batches_tracked', 'resnet.encoder.stages.1.layers.2.layer.1.normalization.weight', 'resnet.encoder.stages.1.layers.3.layer.1.normalization.weight', 'resnet.encoder.stages.2.layers.5.layer.2.normalization.running_mean', 'resnet.encoder.stages.1.layers.0.layer.1.normalization.running_var', 'resnet.encoder.stages.3.layers.2.layer.0.normalization.running_var', 'resnet.encoder.stages.0.layers.0.layer.1.normalization.running_mean', 'resnet.encoder.stages.2.layers.0.layer.2.convolution.weight', 'resnet.encoder.stages.1.layers.2.layer.1.normalization.running_mean', 'resnet.encoder.stages.3.layers.1.layer.1.normalization.num_batches_tracked', 'resnet.encoder.stages.1.layers.0.shortcut.normalization.running_var', 'resnet.encoder.stages.2.layers.2.layer.2.normalization.num_batches_tracked', 'resnet.encoder.stages.3.layers.2.layer.1.normalization.bias', 'resnet.encoder.stages.1.layers.3.layer.0.normalization.running_var', 'resnet.encoder.stages.2.layers.1.layer.1.normalization.num_batches_tracked', 'resnet.encoder.stages.1.layers.1.layer.0.convolution.weight', 'resnet.encoder.stages.3.layers.0.layer.0.normalization.running_var', 'resnet.encoder.stages.2.layers.0.layer.1.normalization.num_batches_tracked', 'resnet.encoder.stages.1.layers.2.layer.2.normalization.running_mean', 'resnet.encoder.stages.2.layers.4.layer.0.normalization.bias', 'resnet.encoder.stages.2.layers.3.layer.0.convolution.weight', 'resnet.encoder.stages.2.layers.4.layer.1.normalization.num_batches_tracked', 'resnet.encoder.stages.3.layers.1.layer.2.normalization.weight', 'resnet.encoder.stages.3.layers.0.layer.2.normalization.running_var', 'resnet.encoder.stages.3.layers.0.layer.0.normalization.running_mean', 'resnet.encoder.stages.1.layers.0.layer.0.normalization.weight', 'resnet.encoder.stages.0.layers.0.layer.1.normalization.running_var', 'resnet.encoder.stages.2.layers.4.layer.2.normalization.num_batches_tracked', 'resnet.encoder.stages.2.layers.0.layer.1.normalization.weight', 'resnet.encoder.stages.2.layers.3.layer.0.normalization.bias', 'resnet.encoder.stages.0.layers.0.shortcut.normalization.num_batches_tracked', 'resnet.encoder.stages.0.layers.0.shortcut.normalization.running_var', 'resnet.encoder.stages.3.layers.1.layer.2.normalization.running_var', 'resnet.encoder.stages.0.layers.2.layer.1.convolution.weight', 'resnet.encoder.stages.0.layers.0.layer.2.normalization.bias', 'resnet.encoder.stages.1.layers.1.layer.2.normalization.running_var', 'resnet.encoder.stages.2.layers.4.layer.1.normalization.weight', 'resnet.encoder.stages.3.layers.0.layer.0.convolution.weight', 'resnet.encoder.stages.1.layers.0.shortcut.normalization.weight', 'resnet.encoder.stages.2.layers.2.layer.1.normalization.weight', 'resnet.encoder.stages.3.layers.2.layer.1.convolution.weight', 'resnet.encoder.stages.3.layers.1.layer.0.normalization.num_batches_tracked', 'resnet.encoder.stages.0.layers.2.layer.2.normalization.weight', 'resnet.encoder.stages.2.layers.4.layer.0.convolution.weight', 'resnet.encoder.stages.3.layers.2.layer.0.normalization.num_batches_tracked', 'resnet.encoder.stages.2.layers.2.layer.1.normalization.running_var', 'resnet.encoder.stages.2.layers.4.layer.2.normalization.running_mean', 'resnet.encoder.stages.3.layers.2.layer.1.normalization.weight', 'resnet.encoder.stages.0.layers.1.layer.1.convolution.weight', 'resnet.encoder.stages.2.layers.2.layer.1.normalization.bias', 'resnet.encoder.stages.1.layers.1.layer.0.normalization.num_batches_tracked', 'resnet.encoder.stages.1.layers.2.layer.0.convolution.weight', 'resnet.encoder.stages.2.layers.3.layer.1.normalization.running_var', 'resnet.encoder.stages.1.layers.2.layer.2.convolution.weight', 'resnet.encoder.stages.1.layers.3.layer.1.normalization.num_batches_tracked', 'resnet.encoder.stages.1.layers.0.layer.2.normalization.weight', 'resnet.encoder.stages.1.layers.2.layer.0.normalization.bias', 'resnet.encoder.stages.0.layers.1.layer.0.normalization.running_var', 'resnet.encoder.stages.1.layers.0.layer.1.normalization.running_mean', 'resnet.encoder.stages.3.layers.2.layer.1.normalization.num_batches_tracked', 'resnet.encoder.stages.2.layers.5.layer.1.normalization.weight', 'resnet.encoder.stages.3.layers.2.layer.2.normalization.weight', 'resnet.encoder.stages.3.layers.1.layer.0.normalization.bias', 'resnet.encoder.stages.3.layers.1.layer.0.normalization.running_mean', 'resnet.encoder.stages.2.layers.1.layer.2.convolution.weight', 'resnet.encoder.stages.0.layers.2.layer.0.normalization.bias', 'resnet.encoder.stages.2.layers.4.layer.2.normalization.running_var', 'resnet.encoder.stages.1.layers.3.layer.0.convolution.weight', 'resnet.encoder.stages.2.layers.0.layer.1.normalization.running_mean', 'resnet.encoder.stages.2.layers.0.shortcut.normalization.running_mean', 'resnet.encoder.stages.0.layers.2.layer.0.normalization.running_var', 'resnet.encoder.stages.1.layers.2.layer.0.normalization.weight', 'resnet.encoder.stages.2.layers.3.layer.2.convolution.weight', 'resnet.encoder.stages.2.layers.4.layer.1.normalization.bias', 'resnet.encoder.stages.0.layers.0.layer.0.normalization.running_mean', 'resnet.encoder.stages.2.layers.1.layer.2.normalization.running_mean', 'resnet.encoder.stages.1.layers.0.layer.2.normalization.num_batches_tracked', 'resnet.encoder.stages.2.layers.0.shortcut.normalization.running_var', 'resnet.encoder.stages.2.layers.4.layer.2.normalization.weight', 'resnet.encoder.stages.2.layers.2.layer.1.normalization.num_batches_tracked', 'resnet.encoder.stages.1.layers.1.layer.1.convolution.weight', 'resnet.encoder.stages.0.layers.1.layer.2.convolution.weight', 'resnet.encoder.stages.1.layers.3.layer.0.normalization.num_batches_tracked', 'resnet.encoder.stages.2.layers.3.layer.0.normalization.weight', 'resnet.encoder.stages.0.layers.1.layer.2.normalization.num_batches_tracked', 'resnet.encoder.stages.2.layers.2.layer.0.normalization.weight', 'resnet.encoder.stages.2.layers.0.layer.0.normalization.running_var', 'resnet.encoder.stages.1.layers.2.layer.0.normalization.running_mean', 'resnet.encoder.stages.0.layers.1.layer.2.normalization.running_var', 'resnet.encoder.stages.0.layers.0.layer.0.normalization.bias', 'resnet.encoder.stages.3.layers.0.layer.0.normalization.num_batches_tracked', 'resnet.encoder.stages.0.layers.0.layer.2.normalization.weight', 'resnet.encoder.stages.3.layers.0.shortcut.normalization.bias', 'resnet.encoder.stages.2.layers.3.layer.2.normalization.running_mean', 'resnet.encoder.stages.1.layers.3.layer.1.normalization.running_var', 'resnet.encoder.stages.2.layers.3.layer.2.normalization.running_var', 'resnet.encoder.stages.1.layers.2.layer.0.normalization.num_batches_tracked', 'resnet.encoder.stages.3.layers.1.layer.2.normalization.running_mean', 'resnet.encoder.stages.2.layers.0.layer.0.normalization.bias', 'resnet.encoder.stages.2.layers.1.layer.0.normalization.running_var', 'resnet.encoder.stages.2.layers.3.layer.2.normalization.num_batches_tracked', 'resnet.encoder.stages.0.layers.1.layer.1.normalization.running_var', 'resnet.encoder.stages.2.layers.0.shortcut.normalization.num_batches_tracked', 'resnet.encoder.stages.0.layers.2.layer.1.normalization.running_var', 'resnet.encoder.stages.3.layers.0.layer.1.normalization.bias', 'resnet.encoder.stages.0.layers.0.layer.2.normalization.running_var', 'resnet.encoder.stages.2.layers.1.layer.2.normalization.running_var', 'resnet.encoder.stages.1.layers.3.layer.0.normalization.running_mean', 'resnet.encoder.stages.3.layers.0.shortcut.normalization.weight', 'resnet.encoder.stages.1.layers.2.layer.1.normalization.bias', 'resnet.encoder.stages.3.layers.0.layer.1.normalization.running_mean', 'resnet.encoder.stages.2.layers.3.layer.1.normalization.bias', 'resnet.encoder.stages.3.layers.0.layer.2.normalization.weight', 'resnet.encoder.stages.2.layers.4.layer.2.normalization.bias', 'resnet.encoder.stages.2.layers.0.layer.0.normalization.weight', 'resnet.encoder.stages.0.layers.1.layer.0.convolution.weight', 'resnet.encoder.stages.3.layers.1.layer.1.convolution.weight', 'resnet.encoder.stages.3.layers.1.layer.2.normalization.bias', 'resnet.encoder.stages.0.layers.1.layer.0.normalization.weight', 'resnet.encoder.stages.2.layers.2.layer.2.convolution.weight', 'resnet.encoder.stages.2.layers.5.layer.2.normalization.bias', 'resnet.encoder.stages.0.layers.2.layer.0.convolution.weight', 'resnet.encoder.stages.2.layers.5.layer.2.normalization.weight', 'resnet.encoder.stages.2.layers.4.layer.0.normalization.num_batches_tracked', 'resnet.encoder.stages.1.layers.2.layer.0.normalization.running_var', 'resnet.encoder.stages.3.layers.2.layer.2.normalization.running_var', 'resnet.encoder.stages.2.layers.5.layer.1.normalization.num_batches_tracked', 'resnet.encoder.stages.2.layers.5.layer.2.convolution.weight', 'resnet.encoder.stages.2.layers.1.layer.1.normalization.running_var', 'resnet.encoder.stages.1.layers.1.layer.0.normalization.running_mean', 'resnet.encoder.stages.2.layers.2.layer.1.convolution.weight', 'resnet.encoder.stages.2.layers.0.shortcut.normalization.weight', 'resnet.encoder.stages.2.layers.0.layer.2.normalization.running_mean', 'resnet.encoder.stages.0.layers.0.shortcut.normalization.weight', 'resnet.encoder.stages.0.layers.2.layer.1.normalization.bias', 'resnet.encoder.stages.3.layers.0.shortcut.normalization.num_batches_tracked', 'resnet.encoder.stages.3.layers.1.layer.2.convolution.weight', 'resnet.encoder.stages.1.layers.0.layer.1.convolution.weight', 'resnet.encoder.stages.3.layers.0.layer.1.normalization.running_var', 'resnet.encoder.stages.3.layers.1.layer.1.normalization.running_var', 'resnet.encoder.stages.3.layers.2.layer.2.convolution.weight', 'resnet.encoder.stages.2.layers.0.layer.2.normalization.bias', 'resnet.encoder.stages.1.layers.2.layer.1.normalization.num_batches_tracked', 'resnet.encoder.stages.1.layers.0.shortcut.normalization.num_batches_tracked', 'resnet.encoder.stages.1.layers.2.layer.2.normalization.weight', 'resnet.encoder.stages.2.layers.1.layer.1.normalization.running_mean', 'resnet.encoder.stages.1.layers.1.layer.0.normalization.weight', 'resnet.encoder.stages.3.layers.1.layer.1.normalization.weight', 'resnet.encoder.stages.2.layers.4.layer.1.normalization.running_var', 'resnet.encoder.stages.2.layers.5.layer.0.normalization.running_var', 'resnet.encoder.stages.2.layers.5.layer.1.normalization.bias', 'resnet.encoder.stages.2.layers.1.layer.1.convolution.weight', 'resnet.encoder.stages.2.layers.2.layer.2.normalization.bias', 'resnet.encoder.stages.1.layers.0.layer.2.normalization.running_var', 'resnet.encoder.stages.1.layers.0.layer.0.normalization.running_mean', 'resnet.encoder.stages.3.layers.2.layer.0.convolution.weight', 'resnet.encoder.stages.1.layers.0.layer.1.normalization.num_batches_tracked', 'resnet.encoder.stages.1.layers.2.layer.1.convolution.weight', 'resnet.encoder.stages.0.layers.0.layer.2.normalization.num_batches_tracked', 'resnet.encoder.stages.2.layers.1.layer.2.normalization.bias', 'resnet.encoder.stages.2.layers.5.layer.2.normalization.running_var', 'resnet.encoder.stages.1.layers.0.layer.2.convolution.weight', 'resnet.encoder.stages.3.layers.0.layer.2.convolution.weight', 'resnet.encoder.stages.2.layers.1.layer.0.normalization.running_mean', 'resnet.encoder.stages.1.layers.3.layer.2.normalization.bias', 'resnet.encoder.stages.2.layers.5.layer.0.normalization.running_mean', 'resnet.encoder.stages.1.layers.3.layer.2.convolution.weight', 'classifier.1.bias', 'resnet.encoder.stages.1.layers.2.layer.2.normalization.num_batches_tracked', 'resnet.encoder.stages.1.layers.0.layer.0.normalization.running_var', 'resnet.encoder.stages.2.layers.5.layer.1.convolution.weight', 'resnet.encoder.stages.0.layers.2.layer.2.normalization.running_var', 'resnet.encoder.stages.1.layers.0.layer.0.normalization.bias', 'resnet.encoder.stages.2.layers.0.layer.2.normalization.num_batches_tracked', 'resnet.encoder.stages.2.layers.5.layer.0.normalization.bias', 'resnet.encoder.stages.0.layers.2.layer.2.normalization.bias', 'resnet.encoder.stages.2.layers.2.layer.0.normalization.num_batches_tracked', 'resnet.encoder.stages.0.layers.1.layer.0.normalization.running_mean', 'resnet.encoder.stages.0.layers.2.layer.0.normalization.num_batches_tracked', 'classifier.1.weight', 'resnet.encoder.stages.0.layers.1.layer.1.normalization.bias', 'resnet.encoder.stages.0.layers.1.layer.2.normalization.weight', 'resnet.encoder.stages.0.layers.0.layer.1.normalization.bias', 'resnet.encoder.stages.0.layers.0.layer.0.normalization.running_var', 'resnet.encoder.stages.2.layers.2.layer.0.normalization.bias', 'resnet.encoder.stages.3.layers.2.layer.2.normalization.num_batches_tracked', 'resnet.encoder.stages.2.layers.4.layer.1.convolution.weight', 'resnet.encoder.stages.2.layers.3.layer.1.normalization.running_mean', 'resnet.encoder.stages.0.layers.2.layer.1.normalization.weight', 'resnet.encoder.stages.1.layers.2.layer.2.normalization.running_var', 'resnet.encoder.stages.0.layers.0.shortcut.normalization.bias', 'resnet.encoder.stages.1.layers.0.shortcut.normalization.running_mean', 'resnet.encoder.stages.1.layers.1.layer.1.normalization.running_mean', 'resnet.encoder.stages.0.layers.1.layer.0.normalization.num_batches_tracked', 'resnet.embedder.embedder.normalization.running_mean', 'resnet.encoder.stages.2.layers.2.layer.0.convolution.weight', 'resnet.encoder.stages.0.layers.0.layer.0.convolution.weight', 'resnet.encoder.stages.2.layers.3.layer.2.normalization.bias', 'resnet.encoder.stages.2.layers.5.layer.0.normalization.num_batches_tracked', 'resnet.encoder.stages.3.layers.1.layer.0.normalization.weight', 'resnet.encoder.stages.2.layers.0.shortcut.normalization.bias', 'resnet.encoder.stages.2.layers.3.layer.2.normalization.weight', 'resnet.encoder.stages.0.layers.0.shortcut.normalization.running_mean', 'resnet.encoder.stages.3.layers.0.layer.1.normalization.weight', 'resnet.encoder.stages.0.layers.2.layer.0.normalization.weight', 'resnet.encoder.stages.2.layers.4.layer.0.normalization.weight', 'resnet.encoder.stages.2.layers.2.layer.0.normalization.running_var', 'resnet.encoder.stages.0.layers.2.layer.2.convolution.weight', 'resnet.encoder.stages.2.layers.1.layer.2.normalization.weight', 'resnet.encoder.stages.1.layers.0.layer.2.normalization.bias', 'resnet.encoder.stages.1.layers.1.layer.0.normalization.bias', 'resnet.encoder.stages.2.layers.1.layer.1.normalization.weight', 'resnet.encoder.stages.2.layers.3.layer.0.normalization.num_batches_tracked', 'resnet.encoder.stages.3.layers.1.layer.0.normalization.running_var', 'resnet.encoder.stages.2.layers.1.layer.0.normalization.bias', 'resnet.encoder.stages.1.layers.2.layer.1.normalization.running_var', 'resnet.encoder.stages.0.layers.1.layer.0.normalization.bias', 'resnet.encoder.stages.0.layers.0.layer.1.convolution.weight', 'resnet.encoder.stages.3.layers.1.layer.2.normalization.num_batches_tracked', 'resnet.encoder.stages.0.layers.0.layer.0.normalization.weight', 'resnet.encoder.stages.1.layers.1.layer.1.normalization.num_batches_tracked', 'resnet.encoder.stages.1.layers.1.layer.2.normalization.running_mean', 'resnet.encoder.stages.2.layers.2.layer.1.normalization.running_mean', 'resnet.encoder.stages.2.layers.5.layer.1.normalization.running_var', 'resnet.encoder.stages.1.layers.2.layer.2.normalization.bias', 'resnet.encoder.stages.1.layers.0.layer.1.normalization.weight', 'resnet.encoder.stages.1.layers.1.layer.2.convolution.weight', 'resnet.encoder.stages.2.layers.1.layer.0.convolution.weight', 'resnet.encoder.stages.3.layers.1.layer.0.convolution.weight', 'resnet.encoder.stages.2.layers.5.layer.1.normalization.running_mean', 'resnet.encoder.stages.3.layers.0.shortcut.normalization.running_var', 'resnet.encoder.stages.0.layers.2.layer.2.normalization.num_batches_tracked', 'resnet.encoder.stages.1.layers.1.layer.1.normalization.weight', 'resnet.encoder.stages.0.layers.1.layer.1.normalization.num_batches_tracked', 'resnet.encoder.stages.3.layers.0.layer.2.normalization.bias', 'resnet.encoder.stages.2.layers.0.layer.0.normalization.running_mean', 'resnet.encoder.stages.0.layers.2.layer.1.normalization.num_batches_tracked', 'resnet.encoder.stages.2.layers.3.layer.1.normalization.weight', 'resnet.encoder.stages.1.layers.3.layer.1.normalization.running_mean', 'resnet.encoder.stages.1.layers.0.layer.2.normalization.running_mean', 'resnet.encoder.stages.2.layers.0.layer.2.normalization.weight', 'resnet.encoder.stages.2.layers.0.layer.0.convolution.weight', 'resnet.encoder.stages.1.layers.0.shortcut.normalization.bias', 'resnet.encoder.stages.2.layers.2.layer.2.normalization.weight', 'resnet.encoder.stages.0.layers.2.layer.2.normalization.running_mean', 'resnet.encoder.stages.1.layers.1.layer.2.normalization.num_batches_tracked', 'resnet.encoder.stages.2.layers.0.layer.1.convolution.weight', 'resnet.encoder.stages.1.layers.3.layer.2.normalization.running_mean', 'resnet.encoder.stages.3.layers.2.layer.2.normalization.running_mean', 'resnet.encoder.stages.2.layers.4.layer.0.normalization.running_var', 'resnet.encoder.stages.1.layers.1.layer.2.normalization.weight', 'resnet.embedder.embedder.normalization.bias', 'resnet.encoder.stages.1.layers.3.layer.0.normalization.weight', 'resnet.encoder.stages.3.layers.0.shortcut.normalization.running_mean', 'resnet.encoder.stages.1.layers.3.layer.1.normalization.bias', 'resnet.encoder.stages.0.layers.0.shortcut.convolution.weight', 'resnet.encoder.stages.0.layers.1.layer.1.normalization.running_mean', 'resnet.encoder.stages.2.layers.2.layer.2.normalization.running_var', 'resnet.encoder.stages.3.layers.2.layer.0.normalization.running_mean', 'resnet.encoder.stages.2.layers.1.layer.1.normalization.bias', 'resnet.encoder.stages.0.layers.0.layer.1.normalization.weight', 'resnet.encoder.stages.2.layers.0.layer.2.normalization.running_var', 'resnet.encoder.stages.2.layers.0.shortcut.convolution.weight', 'resnet.encoder.stages.1.layers.0.shortcut.convolution.weight', 'resnet.encoder.stages.2.layers.3.layer.1.normalization.num_batches_tracked', 'resnet.encoder.stages.2.layers.1.layer.0.normalization.weight', 'resnet.encoder.stages.1.layers.3.layer.2.normalization.running_var', 'resnet.encoder.stages.2.layers.2.layer.0.normalization.running_mean']\n",
            "- This IS expected if you are initializing ViTForImageClassification from the checkpoint of a model trained on another task or with another architecture (e.g. initializing a BertForSequenceClassification model from a BertForPreTraining model).\n",
            "- This IS NOT expected if you are initializing ViTForImageClassification from the checkpoint of a model that you expect to be exactly identical (initializing a BertForSequenceClassification model from a BertForSequenceClassification model).\n",
            "Some weights of ViTForImageClassification were not initialized from the model checkpoint at microsoft/resnet-50 and are newly initialized: ['encoder.layer.10.attention.output.dense.bias', 'encoder.layer.11.layernorm_after.weight', 'encoder.layer.7.attention.output.dense.bias', 'encoder.layer.3.layernorm_before.bias', 'encoder.layer.9.attention.output.dense.bias', 'encoder.layer.4.output.dense.bias', 'encoder.layer.7.attention.attention.value.weight', 'encoder.layer.11.layernorm_before.bias', 'encoder.layer.0.intermediate.dense.weight', 'encoder.layer.8.attention.attention.query.bias', 'encoder.layer.1.attention.attention.key.weight', 'encoder.layer.1.output.dense.bias', 'encoder.layer.8.attention.attention.value.bias', 'encoder.layer.11.layernorm_before.weight', 'encoder.layer.7.attention.attention.query.bias', 'encoder.layer.4.attention.attention.key.bias', 'encoder.layer.1.attention.attention.query.bias', 'encoder.layer.9.layernorm_before.weight', 'encoder.layer.0.attention.output.dense.bias', 'encoder.layer.10.attention.attention.value.weight', 'encoder.layer.11.attention.output.dense.bias', 'encoder.layer.9.attention.attention.key.bias', 'encoder.layer.0.intermediate.dense.bias', 'encoder.layer.8.intermediate.dense.weight', 'encoder.layer.9.layernorm_before.bias', 'encoder.layer.8.attention.attention.query.weight', 'encoder.layer.9.output.dense.weight', 'encoder.layer.1.attention.output.dense.weight', 'encoder.layer.5.attention.attention.query.weight', 'encoder.layer.7.attention.attention.query.weight', 'encoder.layer.4.layernorm_before.weight', 'embeddings.patch_embeddings.projection.weight', 'encoder.layer.0.layernorm_before.bias', 'encoder.layer.2.output.dense.weight', 'encoder.layer.3.layernorm_before.weight', 'encoder.layer.6.attention.attention.query.weight', 'encoder.layer.3.attention.attention.query.weight', 'encoder.layer.7.output.dense.weight', 'encoder.layer.4.attention.output.dense.bias', 'encoder.layer.5.attention.attention.value.bias', 'encoder.layer.10.attention.attention.key.bias', 'encoder.layer.10.intermediate.dense.weight', 'encoder.layer.5.output.dense.bias', 'encoder.layer.7.layernorm_after.weight', 'embeddings.position_embeddings', 'encoder.layer.2.layernorm_after.bias', 'encoder.layer.1.intermediate.dense.weight', 'encoder.layer.11.attention.attention.query.weight', 'encoder.layer.5.attention.attention.query.bias', 'encoder.layer.5.layernorm_after.bias', 'encoder.layer.9.attention.attention.query.weight', 'encoder.layer.11.attention.output.dense.weight', 'encoder.layer.5.intermediate.dense.weight', 'encoder.layer.2.layernorm_before.bias', 'encoder.layer.2.output.dense.bias', 'encoder.layer.5.attention.attention.key.bias', 'encoder.layer.8.output.dense.bias', 'encoder.layer.1.layernorm_after.weight', 'encoder.layer.5.attention.attention.value.weight', 'encoder.layer.5.intermediate.dense.bias', 'encoder.layer.10.output.dense.weight', 'encoder.layer.10.attention.attention.key.weight', 'encoder.layer.2.attention.attention.value.bias', 'encoder.layer.11.output.dense.bias', 'encoder.layer.9.attention.attention.value.weight', 'encoder.layer.5.layernorm_before.bias', 'encoder.layer.7.attention.output.dense.weight', 'encoder.layer.2.attention.attention.query.bias', 'encoder.layer.9.attention.attention.key.weight', 'encoder.layer.6.layernorm_after.weight', 'encoder.layer.6.attention.attention.value.bias', 'encoder.layer.11.attention.attention.value.weight', 'encoder.layer.1.attention.output.dense.bias', 'encoder.layer.0.attention.output.dense.weight', 'encoder.layer.6.output.dense.weight', 'encoder.layer.0.layernorm_after.weight', 'encoder.layer.4.attention.attention.key.weight', 'classifier.weight', 'encoder.layer.4.attention.attention.query.bias', 'encoder.layer.7.intermediate.dense.bias', 'encoder.layer.9.attention.attention.query.bias', 'encoder.layer.8.output.dense.weight', 'encoder.layer.4.layernorm_after.weight', 'encoder.layer.0.attention.attention.query.bias', 'encoder.layer.8.attention.output.dense.bias', 'encoder.layer.11.layernorm_after.bias', 'encoder.layer.9.layernorm_after.bias', 'encoder.layer.10.intermediate.dense.bias', 'encoder.layer.0.output.dense.bias', 'encoder.layer.8.layernorm_after.weight', 'encoder.layer.8.intermediate.dense.bias', 'encoder.layer.3.attention.attention.value.bias', 'encoder.layer.0.output.dense.weight', 'encoder.layer.3.intermediate.dense.weight', 'encoder.layer.4.attention.output.dense.weight', 'encoder.layer.6.layernorm_before.weight', 'encoder.layer.8.attention.attention.key.weight', 'encoder.layer.10.output.dense.bias', 'encoder.layer.3.layernorm_after.weight', 'encoder.layer.6.intermediate.dense.bias', 'encoder.layer.4.attention.attention.value.bias', 'encoder.layer.5.attention.output.dense.bias', 'encoder.layer.9.output.dense.bias', 'encoder.layer.1.attention.attention.query.weight', 'encoder.layer.2.attention.attention.key.bias', 'encoder.layer.4.intermediate.dense.weight', 'encoder.layer.6.attention.attention.query.bias', 'encoder.layer.5.attention.output.dense.weight', 'encoder.layer.9.layernorm_after.weight', 'encoder.layer.3.attention.attention.key.bias', 'encoder.layer.11.intermediate.dense.bias', 'encoder.layer.0.attention.attention.query.weight', 'encoder.layer.1.attention.attention.value.weight', 'encoder.layer.11.intermediate.dense.weight', 'encoder.layer.8.layernorm_before.weight', 'encoder.layer.2.attention.output.dense.bias', 'encoder.layer.6.layernorm_before.bias', 'encoder.layer.2.attention.attention.value.weight', 'encoder.layer.1.attention.attention.value.bias', 'encoder.layer.7.attention.attention.key.bias', 'encoder.layer.6.output.dense.bias', 'layernorm.weight', 'encoder.layer.3.layernorm_after.bias', 'encoder.layer.4.intermediate.dense.bias', 'encoder.layer.2.attention.output.dense.weight', 'encoder.layer.3.attention.attention.query.bias', 'encoder.layer.1.output.dense.weight', 'encoder.layer.7.intermediate.dense.weight', 'encoder.layer.11.attention.attention.key.weight', 'encoder.layer.9.intermediate.dense.bias', 'encoder.layer.2.attention.attention.query.weight', 'encoder.layer.0.layernorm_after.bias', 'encoder.layer.6.layernorm_after.bias', 'encoder.layer.7.output.dense.bias', 'encoder.layer.6.attention.attention.key.weight', 'encoder.layer.5.layernorm_after.weight', 'embeddings.cls_token', 'encoder.layer.7.layernorm_before.weight', 'encoder.layer.8.layernorm_before.bias', 'encoder.layer.3.output.dense.weight', 'encoder.layer.0.attention.attention.value.bias', 'classifier.bias', 'encoder.layer.2.intermediate.dense.weight', 'encoder.layer.1.attention.attention.key.bias', 'encoder.layer.3.attention.output.dense.weight', 'encoder.layer.11.attention.attention.value.bias', 'encoder.layer.10.layernorm_after.weight', 'encoder.layer.6.attention.output.dense.bias', 'encoder.layer.2.layernorm_before.weight', 'encoder.layer.10.layernorm_before.bias', 'encoder.layer.5.attention.attention.key.weight', 'encoder.layer.3.attention.attention.value.weight', 'encoder.layer.6.intermediate.dense.weight', 'encoder.layer.7.attention.attention.key.weight', 'encoder.layer.0.layernorm_before.weight', 'encoder.layer.4.attention.attention.query.weight', 'embeddings.patch_embeddings.projection.bias', 'encoder.layer.7.layernorm_before.bias', 'encoder.layer.7.layernorm_after.bias', 'encoder.layer.3.output.dense.bias', 'encoder.layer.7.attention.attention.value.bias', 'encoder.layer.6.attention.attention.value.weight', 'encoder.layer.2.attention.attention.key.weight', 'encoder.layer.3.intermediate.dense.bias', 'encoder.layer.10.layernorm_after.bias', 'encoder.layer.10.attention.output.dense.weight', 'encoder.layer.4.layernorm_after.bias', 'encoder.layer.11.output.dense.weight', 'encoder.layer.4.attention.attention.value.weight', 'encoder.layer.3.attention.output.dense.bias', 'encoder.layer.2.layernorm_after.weight', 'encoder.layer.0.attention.attention.value.weight', 'encoder.layer.2.intermediate.dense.bias', 'layernorm.bias', 'encoder.layer.4.output.dense.weight', 'encoder.layer.5.output.dense.weight', 'encoder.layer.9.attention.attention.value.bias', 'encoder.layer.8.attention.attention.value.weight', 'encoder.layer.8.layernorm_after.bias', 'encoder.layer.1.layernorm_after.bias', 'encoder.layer.10.layernorm_before.weight', 'encoder.layer.0.attention.attention.key.bias', 'encoder.layer.11.attention.attention.key.bias', 'encoder.layer.6.attention.output.dense.weight', 'encoder.layer.10.attention.attention.query.weight', 'encoder.layer.9.intermediate.dense.weight', 'encoder.layer.10.attention.attention.query.bias', 'encoder.layer.3.attention.attention.key.weight', 'encoder.layer.8.attention.output.dense.weight', 'encoder.layer.8.attention.attention.key.bias', 'encoder.layer.10.attention.attention.value.bias', 'encoder.layer.1.intermediate.dense.bias', 'encoder.layer.4.layernorm_before.bias', 'encoder.layer.9.attention.output.dense.weight', 'encoder.layer.1.layernorm_before.weight', 'encoder.layer.6.attention.attention.key.bias', 'encoder.layer.1.layernorm_before.bias', 'encoder.layer.0.attention.attention.key.weight', 'encoder.layer.11.attention.attention.query.bias', 'encoder.layer.5.layernorm_before.weight']\n",
            "You should probably TRAIN this model on a down-stream task to be able to use it for predictions and inference.\n",
            "/usr/local/lib/python3.10/dist-packages/transformers/optimization.py:411: FutureWarning: This implementation of AdamW is deprecated and will be removed in a future version. Use the PyTorch implementation torch.optim.AdamW instead, or set `no_deprecation_warning=True` to disable this warning\n",
            "  warnings.warn(\n"
          ]
        },
        {
          "output_type": "display_data",
          "data": {
            "text/plain": [
              "<IPython.core.display.HTML object>"
            ],
            "text/html": [
              "\n",
              "    <div>\n",
              "      \n",
              "      <progress value='770' max='770' style='width:300px; height:20px; vertical-align: middle;'></progress>\n",
              "      [770/770 05:56, Epoch 5/5]\n",
              "    </div>\n",
              "    <table border=\"1\" class=\"dataframe\">\n",
              "  <thead>\n",
              " <tr style=\"text-align: left;\">\n",
              "      <th>Step</th>\n",
              "      <th>Training Loss</th>\n",
              "      <th>Validation Loss</th>\n",
              "      <th>Accuracy</th>\n",
              "    </tr>\n",
              "  </thead>\n",
              "  <tbody>\n",
              "    <tr>\n",
              "      <td>50</td>\n",
              "      <td>1.099900</td>\n",
              "      <td>1.062076</td>\n",
              "      <td>0.477977</td>\n",
              "    </tr>\n",
              "    <tr>\n",
              "      <td>100</td>\n",
              "      <td>0.937000</td>\n",
              "      <td>0.958416</td>\n",
              "      <td>0.492659</td>\n",
              "    </tr>\n",
              "    <tr>\n",
              "      <td>150</td>\n",
              "      <td>1.517200</td>\n",
              "      <td>0.978854</td>\n",
              "      <td>0.474715</td>\n",
              "    </tr>\n",
              "    <tr>\n",
              "      <td>200</td>\n",
              "      <td>0.887400</td>\n",
              "      <td>0.849945</td>\n",
              "      <td>0.636215</td>\n",
              "    </tr>\n",
              "    <tr>\n",
              "      <td>250</td>\n",
              "      <td>0.764900</td>\n",
              "      <td>0.683639</td>\n",
              "      <td>0.699837</td>\n",
              "    </tr>\n",
              "    <tr>\n",
              "      <td>300</td>\n",
              "      <td>0.893600</td>\n",
              "      <td>0.734032</td>\n",
              "      <td>0.655791</td>\n",
              "    </tr>\n",
              "    <tr>\n",
              "      <td>350</td>\n",
              "      <td>0.603400</td>\n",
              "      <td>0.633767</td>\n",
              "      <td>0.714519</td>\n",
              "    </tr>\n",
              "    <tr>\n",
              "      <td>400</td>\n",
              "      <td>0.730500</td>\n",
              "      <td>0.630683</td>\n",
              "      <td>0.722675</td>\n",
              "    </tr>\n",
              "    <tr>\n",
              "      <td>450</td>\n",
              "      <td>0.585400</td>\n",
              "      <td>0.671268</td>\n",
              "      <td>0.686786</td>\n",
              "    </tr>\n",
              "    <tr>\n",
              "      <td>500</td>\n",
              "      <td>0.549900</td>\n",
              "      <td>0.602359</td>\n",
              "      <td>0.743883</td>\n",
              "    </tr>\n",
              "    <tr>\n",
              "      <td>550</td>\n",
              "      <td>0.529600</td>\n",
              "      <td>0.587749</td>\n",
              "      <td>0.756933</td>\n",
              "    </tr>\n",
              "    <tr>\n",
              "      <td>600</td>\n",
              "      <td>0.511700</td>\n",
              "      <td>0.576059</td>\n",
              "      <td>0.768352</td>\n",
              "    </tr>\n",
              "    <tr>\n",
              "      <td>650</td>\n",
              "      <td>0.430300</td>\n",
              "      <td>0.577876</td>\n",
              "      <td>0.756933</td>\n",
              "    </tr>\n",
              "    <tr>\n",
              "      <td>700</td>\n",
              "      <td>0.526300</td>\n",
              "      <td>0.674868</td>\n",
              "      <td>0.732463</td>\n",
              "    </tr>\n",
              "    <tr>\n",
              "      <td>750</td>\n",
              "      <td>0.405500</td>\n",
              "      <td>0.560149</td>\n",
              "      <td>0.768352</td>\n",
              "    </tr>\n",
              "  </tbody>\n",
              "</table><p>"
            ]
          },
          "metadata": {}
        },
        {
          "output_type": "stream",
          "name": "stdout",
          "text": [
            "***** train metrics *****\n",
            "  epoch                    =         5.0\n",
            "  total_flos               = 884451758GF\n",
            "  train_loss               =      0.7646\n",
            "  train_runtime            =  0:05:56.60\n",
            "  train_samples_per_second =      34.366\n",
            "  train_steps_per_second   =       2.159\n"
          ]
        },
        {
          "output_type": "display_data",
          "data": {
            "text/plain": [
              "<IPython.core.display.HTML object>"
            ],
            "text/html": [
              "Waiting for W&B process to finish... <strong style=\"color:green\">(success).</strong>"
            ]
          },
          "metadata": {}
        },
        {
          "output_type": "display_data",
          "data": {
            "text/plain": [
              "<IPython.core.display.HTML object>"
            ],
            "text/html": [
              "<style>\n",
              "    table.wandb td:nth-child(1) { padding: 0 10px; text-align: left ; width: auto;} td:nth-child(2) {text-align: left ; width: 100%}\n",
              "    .wandb-row { display: flex; flex-direction: row; flex-wrap: wrap; justify-content: flex-start; width: 100% }\n",
              "    .wandb-col { display: flex; flex-direction: column; flex-basis: 100%; flex: 1; padding: 10px; }\n",
              "    </style>\n",
              "<div class=\"wandb-row\"><div class=\"wandb-col\"><h3>Run history:</h3><br/><table class=\"wandb\"><tr><td>eval/accuracy</td><td>▁▁▁▅▆▅▇▇▆▇███▇█</td></tr><tr><td>eval/loss</td><td>█▇▇▅▃▃▂▂▃▂▁▁▁▃▁</td></tr><tr><td>eval/runtime</td><td>▆▁▆▂▅▂▂▄▆▃█▁▁▄▅</td></tr><tr><td>eval/samples_per_second</td><td>▃█▃▇▄▇▇▅▃▆▁█▇▅▄</td></tr><tr><td>eval/steps_per_second</td><td>▃█▃▇▄▇▇▅▃▆▁█▇▅▄</td></tr><tr><td>train/epoch</td><td>▁▁▁▂▂▂▂▂▂▃▃▃▃▃▄▄▄▄▄▄▅▅▅▅▅▆▆▆▆▆▆▇▇▇▇▇▇███</td></tr><tr><td>train/global_step</td><td>▁▁▁▂▂▂▂▂▂▃▃▃▃▃▄▄▄▄▄▄▅▅▅▅▅▆▆▆▆▆▆▇▇▇▇▇▇███</td></tr><tr><td>train/learning_rate</td><td>████▇▇▇▇▇▆▆▆▆▆▆▅▅▅▅▅▅▄▄▄▄▄▃▃▃▃▃▂▂▂▂▂▂▁▁▁</td></tr><tr><td>train/loss</td><td>█▄▃▃▃▃▃▃▃▃▃▃▂▂▂▃▂▂▂▂▂▂▂▂▂▂▂▂▁▂▁▂▂▁▂▁▂▁▁▂</td></tr><tr><td>train/total_flos</td><td>▁</td></tr><tr><td>train/train_loss</td><td>▁</td></tr><tr><td>train/train_runtime</td><td>▁</td></tr><tr><td>train/train_samples_per_second</td><td>▁</td></tr><tr><td>train/train_steps_per_second</td><td>▁</td></tr></table><br/></div><div class=\"wandb-col\"><h3>Run summary:</h3><br/><table class=\"wandb\"><tr><td>eval/accuracy</td><td>0.76835</td></tr><tr><td>eval/loss</td><td>0.56015</td></tr><tr><td>eval/runtime</td><td>8.8785</td></tr><tr><td>eval/samples_per_second</td><td>69.043</td></tr><tr><td>eval/steps_per_second</td><td>8.673</td></tr><tr><td>train/epoch</td><td>5.0</td></tr><tr><td>train/global_step</td><td>770</td></tr><tr><td>train/learning_rate</td><td>0.0</td></tr><tr><td>train/loss</td><td>0.5551</td></tr><tr><td>train/total_flos</td><td>9.496728442678579e+17</td></tr><tr><td>train/train_loss</td><td>0.76455</td></tr><tr><td>train/train_runtime</td><td>356.6038</td></tr><tr><td>train/train_samples_per_second</td><td>34.366</td></tr><tr><td>train/train_steps_per_second</td><td>2.159</td></tr></table><br/></div></div>"
            ]
          },
          "metadata": {}
        },
        {
          "output_type": "display_data",
          "data": {
            "text/plain": [
              "<IPython.core.display.HTML object>"
            ],
            "text/html": [
              " View run <strong style=\"color:#cdcd00\">lunar-shape-5</strong> at: <a href='https://wandb.ai/deep_bekeif/cnn_no_aug/runs/uv2ku8z2' target=\"_blank\">https://wandb.ai/deep_bekeif/cnn_no_aug/runs/uv2ku8z2</a><br/>Synced 5 W&B file(s), 0 media file(s), 0 artifact file(s) and 0 other file(s)"
            ]
          },
          "metadata": {}
        },
        {
          "output_type": "display_data",
          "data": {
            "text/plain": [
              "<IPython.core.display.HTML object>"
            ],
            "text/html": [
              "Find logs at: <code>./wandb/run-20230702_111551-uv2ku8z2/logs</code>"
            ]
          },
          "metadata": {}
        }
      ],
      "source": [
        "train_results = trainer.train()\n",
        "trainer.save_model()\n",
        "trainer.log_metrics(\"train\", train_results.metrics)\n",
        "trainer.save_metrics(\"train\", train_results.metrics)\n",
        "trainer.save_state()\n",
        "\n",
        "wandb.finish()"
      ]
    },
    {
      "cell_type": "code",
      "source": [
        "#display Confusion Matrix\n",
        "pred = trainer.predict(test_dataset)\n",
        "\n",
        "cm_display = met.ConfusionMatrixDisplay(confusion_matrix = compute_metrics(pred), display_labels = labels_names)\n",
        "\n",
        "cm_display.plot()\n",
        "plt.show()\n"
      ],
      "metadata": {
        "colab": {
          "base_uri": "https://localhost:8080/",
          "height": 449
        },
        "id": "_B6YmSOoVm-B",
        "outputId": "ac0d9c12-65c4-4615-85ff-ae8ece9e7f7c"
      },
      "execution_count": null,
      "outputs": [
        {
          "output_type": "display_data",
          "data": {
            "text/plain": [
              "<IPython.core.display.HTML object>"
            ],
            "text/html": []
          },
          "metadata": {}
        },
        {
          "output_type": "display_data",
          "data": {
            "text/plain": [
              "<Figure size 640x480 with 2 Axes>"
            ],
            "image/png": "[encoded data removed]"
          },
          "metadata": {}
        }
      ]
    },
    {
      "cell_type": "markdown",
      "source": [
        "## With augmentation"
      ],
      "metadata": {
        "id": "B0QUfYorUxfu"
      }
    },
    {
      "cell_type": "code",
      "source": [
        "CNN_base = 'microsoft/resnet-50'\n",
        "\n",
        "# Load the datasets from folders and process the dataset with the transform\n",
        "train_dataset = ImageFolder(data_path + '/brain_dataset/train', transform=train_transforms_with_aug)\n",
        "test_dataset = ImageFolder(data_path + '/brain_dataset/test', transform=test_transforms_without_aug)"
      ],
      "metadata": {
        "id": "kUtxy7CLVkQc"
      },
      "execution_count": null,
      "outputs": []
    },
    {
      "cell_type": "code",
      "source": [
        "# define the model\n",
        "def model_init():\n",
        "  return ViTForImageClassification.from_pretrained(\n",
        "    CNN_base,\n",
        "    num_labels=len(labels_names),\n",
        "    id2label={str(i): tumor_type for i, tumor_type in enumerate(labels_names)},\n",
        "    label2id={tumor_type: i for i, tumor_type in enumerate(labels_names)},\n",
        ")\n",
        "\n",
        "model = model_init()\n",
        "# Initialize a new run\n",
        "wandb.init(project=\"cnn_with_aug\")\n",
        "\n",
        "# Define the TrainingArguments\n",
        "training_args = TrainingArguments(\n",
        "  output_dir=output_cnn_with_aug,\n",
        "  per_device_train_batch_size=16,\n",
        "  evaluation_strategy=\"steps\",\n",
        "  num_train_epochs=5, #4\n",
        "  fp16=True,\n",
        "  save_steps=100,#100\n",
        "  eval_steps=50,#100\n",
        "  logging_steps=10,\n",
        "  learning_rate=2e-4,\n",
        "  save_total_limit=2,\n",
        "  remove_unused_columns=False,\n",
        "  push_to_hub=False,\n",
        "  report_to='wandb',\n",
        "  load_best_model_at_end=True,\n",
        "  seed = seed\n",
        ")\n",
        "\n",
        "\n",
        "trainer = Trainer(\n",
        "    model_init=model_init,\n",
        "    args=training_args,\n",
        "    compute_metrics=compute_metrics,\n",
        "    train_dataset=train_dataset,\n",
        "    eval_dataset=test_dataset,\n",
        "    data_collator= lambda samples: {'pixel_values': torch.stack([sample[0] for sample in samples]),\n",
        "                                   'labels': torch.tensor([sample[1] for sample in samples])},\n",
        ")\n",
        "\n"
      ],
      "metadata": {
        "colab": {
          "base_uri": "https://localhost:8080/",
          "height": 339
        },
        "id": "Ryzm8WNXVgTl",
        "outputId": "094809dd-4ac4-4b08-a7b9-3b8a66d3cdfd"
      },
      "execution_count": null,
      "outputs": [
        {
          "output_type": "stream",
          "name": "stderr",
          "text": [
            "You are using a model of type resnet to instantiate a model of type vit. This is not supported for all configurations of models and can yield errors.\n",
            "Some weights of the model checkpoint at microsoft/resnet-50 were not used when initializing ViTForImageClassification: ['resnet.embedder.embedder.normalization.running_var', 'resnet.encoder.stages.3.layers.2.layer.1.normalization.running_mean', 'resnet.encoder.stages.1.layers.0.layer.0.normalization.num_batches_tracked', 'resnet.encoder.stages.2.layers.3.layer.0.normalization.running_mean', 'resnet.encoder.stages.1.layers.3.layer.2.normalization.weight', 'resnet.encoder.stages.1.layers.3.layer.1.convolution.weight', 'resnet.encoder.stages.2.layers.1.layer.2.normalization.num_batches_tracked', 'resnet.encoder.stages.2.layers.0.layer.1.normalization.running_var', 'resnet.encoder.stages.2.layers.2.layer.2.normalization.running_mean', 'resnet.encoder.stages.3.layers.2.layer.0.normalization.bias', 'resnet.encoder.stages.1.layers.1.layer.0.normalization.running_var', 'resnet.embedder.embedder.convolution.weight', 'resnet.embedder.embedder.normalization.weight', 'resnet.encoder.stages.3.layers.2.layer.0.normalization.weight', 'resnet.encoder.stages.2.layers.0.layer.1.normalization.bias', 'resnet.encoder.stages.2.layers.4.layer.0.normalization.running_mean', 'resnet.encoder.stages.0.layers.2.layer.0.normalization.running_mean', 'resnet.encoder.stages.0.layers.0.layer.2.normalization.running_mean', 'resnet.encoder.stages.1.layers.1.layer.1.normalization.running_var', 'resnet.encoder.stages.1.layers.0.layer.0.convolution.weight', 'resnet.encoder.stages.1.layers.3.layer.0.normalization.bias', 'resnet.encoder.stages.3.layers.2.layer.2.normalization.bias', 'resnet.encoder.stages.2.layers.4.layer.1.normalization.running_mean', 'resnet.encoder.stages.3.layers.0.layer.1.normalization.num_batches_tracked', 'resnet.encoder.stages.3.layers.2.layer.1.normalization.running_var', 'resnet.encoder.stages.0.layers.1.layer.1.normalization.weight', 'resnet.encoder.stages.3.layers.1.layer.1.normalization.bias', 'resnet.encoder.stages.2.layers.5.layer.0.convolution.weight', 'resnet.encoder.stages.0.layers.2.layer.1.normalization.running_mean', 'resnet.encoder.stages.0.layers.1.layer.2.normalization.running_mean', 'resnet.encoder.stages.0.layers.0.layer.0.normalization.num_batches_tracked', 'resnet.encoder.stages.1.layers.1.layer.1.normalization.bias', 'resnet.encoder.stages.3.layers.0.layer.0.normalization.bias', 'resnet.encoder.stages.2.layers.4.layer.2.convolution.weight', 'resnet.encoder.stages.0.layers.1.layer.2.normalization.bias', 'resnet.encoder.stages.2.layers.5.layer.2.normalization.num_batches_tracked', 'resnet.encoder.stages.0.layers.0.layer.1.normalization.num_batches_tracked', 'resnet.encoder.stages.3.layers.0.layer.2.normalization.num_batches_tracked', 'resnet.encoder.stages.2.layers.1.layer.0.normalization.num_batches_tracked', 'resnet.encoder.stages.3.layers.1.layer.1.normalization.running_mean', 'resnet.encoder.stages.1.layers.0.layer.1.normalization.bias', 'resnet.encoder.stages.2.layers.3.layer.1.convolution.weight', 'resnet.encoder.stages.2.layers.3.layer.0.normalization.running_var', 'resnet.encoder.stages.3.layers.0.shortcut.convolution.weight', 'resnet.encoder.stages.0.layers.0.layer.2.convolution.weight', 'resnet.encoder.stages.1.layers.3.layer.2.normalization.num_batches_tracked', 'resnet.encoder.stages.3.layers.0.layer.1.convolution.weight', 'resnet.encoder.stages.3.layers.0.layer.2.normalization.running_mean', 'resnet.encoder.stages.3.layers.0.layer.0.normalization.weight', 'resnet.encoder.stages.2.layers.5.layer.0.normalization.weight', 'resnet.encoder.stages.1.layers.1.layer.2.normalization.bias', 'resnet.encoder.stages.2.layers.0.layer.0.normalization.num_batches_tracked', 'resnet.embedder.embedder.normalization.num_batches_tracked', 'resnet.encoder.stages.1.layers.2.layer.1.normalization.weight', 'resnet.encoder.stages.1.layers.3.layer.1.normalization.weight', 'resnet.encoder.stages.2.layers.5.layer.2.normalization.running_mean', 'resnet.encoder.stages.1.layers.0.layer.1.normalization.running_var', 'resnet.encoder.stages.3.layers.2.layer.0.normalization.running_var', 'resnet.encoder.stages.0.layers.0.layer.1.normalization.running_mean', 'resnet.encoder.stages.2.layers.0.layer.2.convolution.weight', 'resnet.encoder.stages.1.layers.2.layer.1.normalization.running_mean', 'resnet.encoder.stages.3.layers.1.layer.1.normalization.num_batches_tracked', 'resnet.encoder.stages.1.layers.0.shortcut.normalization.running_var', 'resnet.encoder.stages.2.layers.2.layer.2.normalization.num_batches_tracked', 'resnet.encoder.stages.3.layers.2.layer.1.normalization.bias', 'resnet.encoder.stages.1.layers.3.layer.0.normalization.running_var', 'resnet.encoder.stages.2.layers.1.layer.1.normalization.num_batches_tracked', 'resnet.encoder.stages.1.layers.1.layer.0.convolution.weight', 'resnet.encoder.stages.3.layers.0.layer.0.normalization.running_var', 'resnet.encoder.stages.2.layers.0.layer.1.normalization.num_batches_tracked', 'resnet.encoder.stages.1.layers.2.layer.2.normalization.running_mean', 'resnet.encoder.stages.2.layers.4.layer.0.normalization.bias', 'resnet.encoder.stages.2.layers.3.layer.0.convolution.weight', 'resnet.encoder.stages.2.layers.4.layer.1.normalization.num_batches_tracked', 'resnet.encoder.stages.3.layers.1.layer.2.normalization.weight', 'resnet.encoder.stages.3.layers.0.layer.2.normalization.running_var', 'resnet.encoder.stages.3.layers.0.layer.0.normalization.running_mean', 'resnet.encoder.stages.1.layers.0.layer.0.normalization.weight', 'resnet.encoder.stages.0.layers.0.layer.1.normalization.running_var', 'resnet.encoder.stages.2.layers.4.layer.2.normalization.num_batches_tracked', 'resnet.encoder.stages.2.layers.0.layer.1.normalization.weight', 'resnet.encoder.stages.2.layers.3.layer.0.normalization.bias', 'resnet.encoder.stages.0.layers.0.shortcut.normalization.num_batches_tracked', 'resnet.encoder.stages.0.layers.0.shortcut.normalization.running_var', 'resnet.encoder.stages.3.layers.1.layer.2.normalization.running_var', 'resnet.encoder.stages.0.layers.2.layer.1.convolution.weight', 'resnet.encoder.stages.0.layers.0.layer.2.normalization.bias', 'resnet.encoder.stages.1.layers.1.layer.2.normalization.running_var', 'resnet.encoder.stages.2.layers.4.layer.1.normalization.weight', 'resnet.encoder.stages.3.layers.0.layer.0.convolution.weight', 'resnet.encoder.stages.1.layers.0.shortcut.normalization.weight', 'resnet.encoder.stages.2.layers.2.layer.1.normalization.weight', 'resnet.encoder.stages.3.layers.2.layer.1.convolution.weight', 'resnet.encoder.stages.3.layers.1.layer.0.normalization.num_batches_tracked', 'resnet.encoder.stages.0.layers.2.layer.2.normalization.weight', 'resnet.encoder.stages.2.layers.4.layer.0.convolution.weight', 'resnet.encoder.stages.3.layers.2.layer.0.normalization.num_batches_tracked', 'resnet.encoder.stages.2.layers.2.layer.1.normalization.running_var', 'resnet.encoder.stages.2.layers.4.layer.2.normalization.running_mean', 'resnet.encoder.stages.3.layers.2.layer.1.normalization.weight', 'resnet.encoder.stages.0.layers.1.layer.1.convolution.weight', 'resnet.encoder.stages.2.layers.2.layer.1.normalization.bias', 'resnet.encoder.stages.1.layers.1.layer.0.normalization.num_batches_tracked', 'resnet.encoder.stages.1.layers.2.layer.0.convolution.weight', 'resnet.encoder.stages.2.layers.3.layer.1.normalization.running_var', 'resnet.encoder.stages.1.layers.2.layer.2.convolution.weight', 'resnet.encoder.stages.1.layers.3.layer.1.normalization.num_batches_tracked', 'resnet.encoder.stages.1.layers.0.layer.2.normalization.weight', 'resnet.encoder.stages.1.layers.2.layer.0.normalization.bias', 'resnet.encoder.stages.0.layers.1.layer.0.normalization.running_var', 'resnet.encoder.stages.1.layers.0.layer.1.normalization.running_mean', 'resnet.encoder.stages.3.layers.2.layer.1.normalization.num_batches_tracked', 'resnet.encoder.stages.2.layers.5.layer.1.normalization.weight', 'resnet.encoder.stages.3.layers.2.layer.2.normalization.weight', 'resnet.encoder.stages.3.layers.1.layer.0.normalization.bias', 'resnet.encoder.stages.3.layers.1.layer.0.normalization.running_mean', 'resnet.encoder.stages.2.layers.1.layer.2.convolution.weight', 'resnet.encoder.stages.0.layers.2.layer.0.normalization.bias', 'resnet.encoder.stages.2.layers.4.layer.2.normalization.running_var', 'resnet.encoder.stages.1.layers.3.layer.0.convolution.weight', 'resnet.encoder.stages.2.layers.0.layer.1.normalization.running_mean', 'resnet.encoder.stages.2.layers.0.shortcut.normalization.running_mean', 'resnet.encoder.stages.0.layers.2.layer.0.normalization.running_var', 'resnet.encoder.stages.1.layers.2.layer.0.normalization.weight', 'resnet.encoder.stages.2.layers.3.layer.2.convolution.weight', 'resnet.encoder.stages.2.layers.4.layer.1.normalization.bias', 'resnet.encoder.stages.0.layers.0.layer.0.normalization.running_mean', 'resnet.encoder.stages.2.layers.1.layer.2.normalization.running_mean', 'resnet.encoder.stages.1.layers.0.layer.2.normalization.num_batches_tracked', 'resnet.encoder.stages.2.layers.0.shortcut.normalization.running_var', 'resnet.encoder.stages.2.layers.4.layer.2.normalization.weight', 'resnet.encoder.stages.2.layers.2.layer.1.normalization.num_batches_tracked', 'resnet.encoder.stages.1.layers.1.layer.1.convolution.weight', 'resnet.encoder.stages.0.layers.1.layer.2.convolution.weight', 'resnet.encoder.stages.1.layers.3.layer.0.normalization.num_batches_tracked', 'resnet.encoder.stages.2.layers.3.layer.0.normalization.weight', 'resnet.encoder.stages.0.layers.1.layer.2.normalization.num_batches_tracked', 'resnet.encoder.stages.2.layers.2.layer.0.normalization.weight', 'resnet.encoder.stages.2.layers.0.layer.0.normalization.running_var', 'resnet.encoder.stages.1.layers.2.layer.0.normalization.running_mean', 'resnet.encoder.stages.0.layers.1.layer.2.normalization.running_var', 'resnet.encoder.stages.0.layers.0.layer.0.normalization.bias', 'resnet.encoder.stages.3.layers.0.layer.0.normalization.num_batches_tracked', 'resnet.encoder.stages.0.layers.0.layer.2.normalization.weight', 'resnet.encoder.stages.3.layers.0.shortcut.normalization.bias', 'resnet.encoder.stages.2.layers.3.layer.2.normalization.running_mean', 'resnet.encoder.stages.1.layers.3.layer.1.normalization.running_var', 'resnet.encoder.stages.2.layers.3.layer.2.normalization.running_var', 'resnet.encoder.stages.1.layers.2.layer.0.normalization.num_batches_tracked', 'resnet.encoder.stages.3.layers.1.layer.2.normalization.running_mean', 'resnet.encoder.stages.2.layers.0.layer.0.normalization.bias', 'resnet.encoder.stages.2.layers.1.layer.0.normalization.running_var', 'resnet.encoder.stages.2.layers.3.layer.2.normalization.num_batches_tracked', 'resnet.encoder.stages.0.layers.1.layer.1.normalization.running_var', 'resnet.encoder.stages.2.layers.0.shortcut.normalization.num_batches_tracked', 'resnet.encoder.stages.0.layers.2.layer.1.normalization.running_var', 'resnet.encoder.stages.3.layers.0.layer.1.normalization.bias', 'resnet.encoder.stages.0.layers.0.layer.2.normalization.running_var', 'resnet.encoder.stages.2.layers.1.layer.2.normalization.running_var', 'resnet.encoder.stages.1.layers.3.layer.0.normalization.running_mean', 'resnet.encoder.stages.3.layers.0.shortcut.normalization.weight', 'resnet.encoder.stages.1.layers.2.layer.1.normalization.bias', 'resnet.encoder.stages.3.layers.0.layer.1.normalization.running_mean', 'resnet.encoder.stages.2.layers.3.layer.1.normalization.bias', 'resnet.encoder.stages.3.layers.0.layer.2.normalization.weight', 'resnet.encoder.stages.2.layers.4.layer.2.normalization.bias', 'resnet.encoder.stages.2.layers.0.layer.0.normalization.weight', 'resnet.encoder.stages.0.layers.1.layer.0.convolution.weight', 'resnet.encoder.stages.3.layers.1.layer.1.convolution.weight', 'resnet.encoder.stages.3.layers.1.layer.2.normalization.bias', 'resnet.encoder.stages.0.layers.1.layer.0.normalization.weight', 'resnet.encoder.stages.2.layers.2.layer.2.convolution.weight', 'resnet.encoder.stages.2.layers.5.layer.2.normalization.bias', 'resnet.encoder.stages.0.layers.2.layer.0.convolution.weight', 'resnet.encoder.stages.2.layers.5.layer.2.normalization.weight', 'resnet.encoder.stages.2.layers.4.layer.0.normalization.num_batches_tracked', 'resnet.encoder.stages.1.layers.2.layer.0.normalization.running_var', 'resnet.encoder.stages.3.layers.2.layer.2.normalization.running_var', 'resnet.encoder.stages.2.layers.5.layer.1.normalization.num_batches_tracked', 'resnet.encoder.stages.2.layers.5.layer.2.convolution.weight', 'resnet.encoder.stages.2.layers.1.layer.1.normalization.running_var', 'resnet.encoder.stages.1.layers.1.layer.0.normalization.running_mean', 'resnet.encoder.stages.2.layers.2.layer.1.convolution.weight', 'resnet.encoder.stages.2.layers.0.shortcut.normalization.weight', 'resnet.encoder.stages.2.layers.0.layer.2.normalization.running_mean', 'resnet.encoder.stages.0.layers.0.shortcut.normalization.weight', 'resnet.encoder.stages.0.layers.2.layer.1.normalization.bias', 'resnet.encoder.stages.3.layers.0.shortcut.normalization.num_batches_tracked', 'resnet.encoder.stages.3.layers.1.layer.2.convolution.weight', 'resnet.encoder.stages.1.layers.0.layer.1.convolution.weight', 'resnet.encoder.stages.3.layers.0.layer.1.normalization.running_var', 'resnet.encoder.stages.3.layers.1.layer.1.normalization.running_var', 'resnet.encoder.stages.3.layers.2.layer.2.convolution.weight', 'resnet.encoder.stages.2.layers.0.layer.2.normalization.bias', 'resnet.encoder.stages.1.layers.2.layer.1.normalization.num_batches_tracked', 'resnet.encoder.stages.1.layers.0.shortcut.normalization.num_batches_tracked', 'resnet.encoder.stages.1.layers.2.layer.2.normalization.weight', 'resnet.encoder.stages.2.layers.1.layer.1.normalization.running_mean', 'resnet.encoder.stages.1.layers.1.layer.0.normalization.weight', 'resnet.encoder.stages.3.layers.1.layer.1.normalization.weight', 'resnet.encoder.stages.2.layers.4.layer.1.normalization.running_var', 'resnet.encoder.stages.2.layers.5.layer.0.normalization.running_var', 'resnet.encoder.stages.2.layers.5.layer.1.normalization.bias', 'resnet.encoder.stages.2.layers.1.layer.1.convolution.weight', 'resnet.encoder.stages.2.layers.2.layer.2.normalization.bias', 'resnet.encoder.stages.1.layers.0.layer.2.normalization.running_var', 'resnet.encoder.stages.1.layers.0.layer.0.normalization.running_mean', 'resnet.encoder.stages.3.layers.2.layer.0.convolution.weight', 'resnet.encoder.stages.1.layers.0.layer.1.normalization.num_batches_tracked', 'resnet.encoder.stages.1.layers.2.layer.1.convolution.weight', 'resnet.encoder.stages.0.layers.0.layer.2.normalization.num_batches_tracked', 'resnet.encoder.stages.2.layers.1.layer.2.normalization.bias', 'resnet.encoder.stages.2.layers.5.layer.2.normalization.running_var', 'resnet.encoder.stages.1.layers.0.layer.2.convolution.weight', 'resnet.encoder.stages.3.layers.0.layer.2.convolution.weight', 'resnet.encoder.stages.2.layers.1.layer.0.normalization.running_mean', 'resnet.encoder.stages.1.layers.3.layer.2.normalization.bias', 'resnet.encoder.stages.2.layers.5.layer.0.normalization.running_mean', 'resnet.encoder.stages.1.layers.3.layer.2.convolution.weight', 'classifier.1.bias', 'resnet.encoder.stages.1.layers.2.layer.2.normalization.num_batches_tracked', 'resnet.encoder.stages.1.layers.0.layer.0.normalization.running_var', 'resnet.encoder.stages.2.layers.5.layer.1.convolution.weight', 'resnet.encoder.stages.0.layers.2.layer.2.normalization.running_var', 'resnet.encoder.stages.1.layers.0.layer.0.normalization.bias', 'resnet.encoder.stages.2.layers.0.layer.2.normalization.num_batches_tracked', 'resnet.encoder.stages.2.layers.5.layer.0.normalization.bias', 'resnet.encoder.stages.0.layers.2.layer.2.normalization.bias', 'resnet.encoder.stages.2.layers.2.layer.0.normalization.num_batches_tracked', 'resnet.encoder.stages.0.layers.1.layer.0.normalization.running_mean', 'resnet.encoder.stages.0.layers.2.layer.0.normalization.num_batches_tracked', 'classifier.1.weight', 'resnet.encoder.stages.0.layers.1.layer.1.normalization.bias', 'resnet.encoder.stages.0.layers.1.layer.2.normalization.weight', 'resnet.encoder.stages.0.layers.0.layer.1.normalization.bias', 'resnet.encoder.stages.0.layers.0.layer.0.normalization.running_var', 'resnet.encoder.stages.2.layers.2.layer.0.normalization.bias', 'resnet.encoder.stages.3.layers.2.layer.2.normalization.num_batches_tracked', 'resnet.encoder.stages.2.layers.4.layer.1.convolution.weight', 'resnet.encoder.stages.2.layers.3.layer.1.normalization.running_mean', 'resnet.encoder.stages.0.layers.2.layer.1.normalization.weight', 'resnet.encoder.stages.1.layers.2.layer.2.normalization.running_var', 'resnet.encoder.stages.0.layers.0.shortcut.normalization.bias', 'resnet.encoder.stages.1.layers.0.shortcut.normalization.running_mean', 'resnet.encoder.stages.1.layers.1.layer.1.normalization.running_mean', 'resnet.encoder.stages.0.layers.1.layer.0.normalization.num_batches_tracked', 'resnet.embedder.embedder.normalization.running_mean', 'resnet.encoder.stages.2.layers.2.layer.0.convolution.weight', 'resnet.encoder.stages.0.layers.0.layer.0.convolution.weight', 'resnet.encoder.stages.2.layers.3.layer.2.normalization.bias', 'resnet.encoder.stages.2.layers.5.layer.0.normalization.num_batches_tracked', 'resnet.encoder.stages.3.layers.1.layer.0.normalization.weight', 'resnet.encoder.stages.2.layers.0.shortcut.normalization.bias', 'resnet.encoder.stages.2.layers.3.layer.2.normalization.weight', 'resnet.encoder.stages.0.layers.0.shortcut.normalization.running_mean', 'resnet.encoder.stages.3.layers.0.layer.1.normalization.weight', 'resnet.encoder.stages.0.layers.2.layer.0.normalization.weight', 'resnet.encoder.stages.2.layers.4.layer.0.normalization.weight', 'resnet.encoder.stages.2.layers.2.layer.0.normalization.running_var', 'resnet.encoder.stages.0.layers.2.layer.2.convolution.weight', 'resnet.encoder.stages.2.layers.1.layer.2.normalization.weight', 'resnet.encoder.stages.1.layers.0.layer.2.normalization.bias', 'resnet.encoder.stages.1.layers.1.layer.0.normalization.bias', 'resnet.encoder.stages.2.layers.1.layer.1.normalization.weight', 'resnet.encoder.stages.2.layers.3.layer.0.normalization.num_batches_tracked', 'resnet.encoder.stages.3.layers.1.layer.0.normalization.running_var', 'resnet.encoder.stages.2.layers.1.layer.0.normalization.bias', 'resnet.encoder.stages.1.layers.2.layer.1.normalization.running_var', 'resnet.encoder.stages.0.layers.1.layer.0.normalization.bias', 'resnet.encoder.stages.0.layers.0.layer.1.convolution.weight', 'resnet.encoder.stages.3.layers.1.layer.2.normalization.num_batches_tracked', 'resnet.encoder.stages.0.layers.0.layer.0.normalization.weight', 'resnet.encoder.stages.1.layers.1.layer.1.normalization.num_batches_tracked', 'resnet.encoder.stages.1.layers.1.layer.2.normalization.running_mean', 'resnet.encoder.stages.2.layers.2.layer.1.normalization.running_mean', 'resnet.encoder.stages.2.layers.5.layer.1.normalization.running_var', 'resnet.encoder.stages.1.layers.2.layer.2.normalization.bias', 'resnet.encoder.stages.1.layers.0.layer.1.normalization.weight', 'resnet.encoder.stages.1.layers.1.layer.2.convolution.weight', 'resnet.encoder.stages.2.layers.1.layer.0.convolution.weight', 'resnet.encoder.stages.3.layers.1.layer.0.convolution.weight', 'resnet.encoder.stages.2.layers.5.layer.1.normalization.running_mean', 'resnet.encoder.stages.3.layers.0.shortcut.normalization.running_var', 'resnet.encoder.stages.0.layers.2.layer.2.normalization.num_batches_tracked', 'resnet.encoder.stages.1.layers.1.layer.1.normalization.weight', 'resnet.encoder.stages.0.layers.1.layer.1.normalization.num_batches_tracked', 'resnet.encoder.stages.3.layers.0.layer.2.normalization.bias', 'resnet.encoder.stages.2.layers.0.layer.0.normalization.running_mean', 'resnet.encoder.stages.0.layers.2.layer.1.normalization.num_batches_tracked', 'resnet.encoder.stages.2.layers.3.layer.1.normalization.weight', 'resnet.encoder.stages.1.layers.3.layer.1.normalization.running_mean', 'resnet.encoder.stages.1.layers.0.layer.2.normalization.running_mean', 'resnet.encoder.stages.2.layers.0.layer.2.normalization.weight', 'resnet.encoder.stages.2.layers.0.layer.0.convolution.weight', 'resnet.encoder.stages.1.layers.0.shortcut.normalization.bias', 'resnet.encoder.stages.2.layers.2.layer.2.normalization.weight', 'resnet.encoder.stages.0.layers.2.layer.2.normalization.running_mean', 'resnet.encoder.stages.1.layers.1.layer.2.normalization.num_batches_tracked', 'resnet.encoder.stages.2.layers.0.layer.1.convolution.weight', 'resnet.encoder.stages.1.layers.3.layer.2.normalization.running_mean', 'resnet.encoder.stages.3.layers.2.layer.2.normalization.running_mean', 'resnet.encoder.stages.2.layers.4.layer.0.normalization.running_var', 'resnet.encoder.stages.1.layers.1.layer.2.normalization.weight', 'resnet.embedder.embedder.normalization.bias', 'resnet.encoder.stages.1.layers.3.layer.0.normalization.weight', 'resnet.encoder.stages.3.layers.0.shortcut.normalization.running_mean', 'resnet.encoder.stages.1.layers.3.layer.1.normalization.bias', 'resnet.encoder.stages.0.layers.0.shortcut.convolution.weight', 'resnet.encoder.stages.0.layers.1.layer.1.normalization.running_mean', 'resnet.encoder.stages.2.layers.2.layer.2.normalization.running_var', 'resnet.encoder.stages.3.layers.2.layer.0.normalization.running_mean', 'resnet.encoder.stages.2.layers.1.layer.1.normalization.bias', 'resnet.encoder.stages.0.layers.0.layer.1.normalization.weight', 'resnet.encoder.stages.2.layers.0.layer.2.normalization.running_var', 'resnet.encoder.stages.2.layers.0.shortcut.convolution.weight', 'resnet.encoder.stages.1.layers.0.shortcut.convolution.weight', 'resnet.encoder.stages.2.layers.3.layer.1.normalization.num_batches_tracked', 'resnet.encoder.stages.2.layers.1.layer.0.normalization.weight', 'resnet.encoder.stages.1.layers.3.layer.2.normalization.running_var', 'resnet.encoder.stages.2.layers.2.layer.0.normalization.running_mean']\n",
            "- This IS expected if you are initializing ViTForImageClassification from the checkpoint of a model trained on another task or with another architecture (e.g. initializing a BertForSequenceClassification model from a BertForPreTraining model).\n",
            "- This IS NOT expected if you are initializing ViTForImageClassification from the checkpoint of a model that you expect to be exactly identical (initializing a BertForSequenceClassification model from a BertForSequenceClassification model).\n",
            "Some weights of ViTForImageClassification were not initialized from the model checkpoint at microsoft/resnet-50 and are newly initialized: ['encoder.layer.10.attention.output.dense.bias', 'encoder.layer.11.layernorm_after.weight', 'encoder.layer.7.attention.output.dense.bias', 'encoder.layer.3.layernorm_before.bias', 'encoder.layer.9.attention.output.dense.bias', 'encoder.layer.4.output.dense.bias', 'encoder.layer.7.attention.attention.value.weight', 'encoder.layer.11.layernorm_before.bias', 'encoder.layer.0.intermediate.dense.weight', 'encoder.layer.8.attention.attention.query.bias', 'encoder.layer.1.attention.attention.key.weight', 'encoder.layer.1.output.dense.bias', 'encoder.layer.8.attention.attention.value.bias', 'encoder.layer.11.layernorm_before.weight', 'encoder.layer.7.attention.attention.query.bias', 'encoder.layer.4.attention.attention.key.bias', 'encoder.layer.1.attention.attention.query.bias', 'encoder.layer.9.layernorm_before.weight', 'encoder.layer.0.attention.output.dense.bias', 'encoder.layer.10.attention.attention.value.weight', 'encoder.layer.11.attention.output.dense.bias', 'encoder.layer.9.attention.attention.key.bias', 'encoder.layer.0.intermediate.dense.bias', 'encoder.layer.8.intermediate.dense.weight', 'encoder.layer.9.layernorm_before.bias', 'encoder.layer.8.attention.attention.query.weight', 'encoder.layer.9.output.dense.weight', 'encoder.layer.1.attention.output.dense.weight', 'encoder.layer.5.attention.attention.query.weight', 'encoder.layer.7.attention.attention.query.weight', 'encoder.layer.4.layernorm_before.weight', 'embeddings.patch_embeddings.projection.weight', 'encoder.layer.0.layernorm_before.bias', 'encoder.layer.2.output.dense.weight', 'encoder.layer.3.layernorm_before.weight', 'encoder.layer.6.attention.attention.query.weight', 'encoder.layer.3.attention.attention.query.weight', 'encoder.layer.7.output.dense.weight', 'encoder.layer.4.attention.output.dense.bias', 'encoder.layer.5.attention.attention.value.bias', 'encoder.layer.10.attention.attention.key.bias', 'encoder.layer.10.intermediate.dense.weight', 'encoder.layer.5.output.dense.bias', 'encoder.layer.7.layernorm_after.weight', 'embeddings.position_embeddings', 'encoder.layer.2.layernorm_after.bias', 'encoder.layer.1.intermediate.dense.weight', 'encoder.layer.11.attention.attention.query.weight', 'encoder.layer.5.attention.attention.query.bias', 'encoder.layer.5.layernorm_after.bias', 'encoder.layer.9.attention.attention.query.weight', 'encoder.layer.11.attention.output.dense.weight', 'encoder.layer.5.intermediate.dense.weight', 'encoder.layer.2.layernorm_before.bias', 'encoder.layer.2.output.dense.bias', 'encoder.layer.5.attention.attention.key.bias', 'encoder.layer.8.output.dense.bias', 'encoder.layer.1.layernorm_after.weight', 'encoder.layer.5.attention.attention.value.weight', 'encoder.layer.5.intermediate.dense.bias', 'encoder.layer.10.output.dense.weight', 'encoder.layer.10.attention.attention.key.weight', 'encoder.layer.2.attention.attention.value.bias', 'encoder.layer.11.output.dense.bias', 'encoder.layer.9.attention.attention.value.weight', 'encoder.layer.5.layernorm_before.bias', 'encoder.layer.7.attention.output.dense.weight', 'encoder.layer.2.attention.attention.query.bias', 'encoder.layer.9.attention.attention.key.weight', 'encoder.layer.6.layernorm_after.weight', 'encoder.layer.6.attention.attention.value.bias', 'encoder.layer.11.attention.attention.value.weight', 'encoder.layer.1.attention.output.dense.bias', 'encoder.layer.0.attention.output.dense.weight', 'encoder.layer.6.output.dense.weight', 'encoder.layer.0.layernorm_after.weight', 'encoder.layer.4.attention.attention.key.weight', 'classifier.weight', 'encoder.layer.4.attention.attention.query.bias', 'encoder.layer.7.intermediate.dense.bias', 'encoder.layer.9.attention.attention.query.bias', 'encoder.layer.8.output.dense.weight', 'encoder.layer.4.layernorm_after.weight', 'encoder.layer.0.attention.attention.query.bias', 'encoder.layer.8.attention.output.dense.bias', 'encoder.layer.11.layernorm_after.bias', 'encoder.layer.9.layernorm_after.bias', 'encoder.layer.10.intermediate.dense.bias', 'encoder.layer.0.output.dense.bias', 'encoder.layer.8.layernorm_after.weight', 'encoder.layer.8.intermediate.dense.bias', 'encoder.layer.3.attention.attention.value.bias', 'encoder.layer.0.output.dense.weight', 'encoder.layer.3.intermediate.dense.weight', 'encoder.layer.4.attention.output.dense.weight', 'encoder.layer.6.layernorm_before.weight', 'encoder.layer.8.attention.attention.key.weight', 'encoder.layer.10.output.dense.bias', 'encoder.layer.3.layernorm_after.weight', 'encoder.layer.6.intermediate.dense.bias', 'encoder.layer.4.attention.attention.value.bias', 'encoder.layer.5.attention.output.dense.bias', 'encoder.layer.9.output.dense.bias', 'encoder.layer.1.attention.attention.query.weight', 'encoder.layer.2.attention.attention.key.bias', 'encoder.layer.4.intermediate.dense.weight', 'encoder.layer.6.attention.attention.query.bias', 'encoder.layer.5.attention.output.dense.weight', 'encoder.layer.9.layernorm_after.weight', 'encoder.layer.3.attention.attention.key.bias', 'encoder.layer.11.intermediate.dense.bias', 'encoder.layer.0.attention.attention.query.weight', 'encoder.layer.1.attention.attention.value.weight', 'encoder.layer.11.intermediate.dense.weight', 'encoder.layer.8.layernorm_before.weight', 'encoder.layer.2.attention.output.dense.bias', 'encoder.layer.6.layernorm_before.bias', 'encoder.layer.2.attention.attention.value.weight', 'encoder.layer.1.attention.attention.value.bias', 'encoder.layer.7.attention.attention.key.bias', 'encoder.layer.6.output.dense.bias', 'layernorm.weight', 'encoder.layer.3.layernorm_after.bias', 'encoder.layer.4.intermediate.dense.bias', 'encoder.layer.2.attention.output.dense.weight', 'encoder.layer.3.attention.attention.query.bias', 'encoder.layer.1.output.dense.weight', 'encoder.layer.7.intermediate.dense.weight', 'encoder.layer.11.attention.attention.key.weight', 'encoder.layer.9.intermediate.dense.bias', 'encoder.layer.2.attention.attention.query.weight', 'encoder.layer.0.layernorm_after.bias', 'encoder.layer.6.layernorm_after.bias', 'encoder.layer.7.output.dense.bias', 'encoder.layer.6.attention.attention.key.weight', 'encoder.layer.5.layernorm_after.weight', 'embeddings.cls_token', 'encoder.layer.7.layernorm_before.weight', 'encoder.layer.8.layernorm_before.bias', 'encoder.layer.3.output.dense.weight', 'encoder.layer.0.attention.attention.value.bias', 'classifier.bias', 'encoder.layer.2.intermediate.dense.weight', 'encoder.layer.1.attention.attention.key.bias', 'encoder.layer.3.attention.output.dense.weight', 'encoder.layer.11.attention.attention.value.bias', 'encoder.layer.10.layernorm_after.weight', 'encoder.layer.6.attention.output.dense.bias', 'encoder.layer.2.layernorm_before.weight', 'encoder.layer.10.layernorm_before.bias', 'encoder.layer.5.attention.attention.key.weight', 'encoder.layer.3.attention.attention.value.weight', 'encoder.layer.6.intermediate.dense.weight', 'encoder.layer.7.attention.attention.key.weight', 'encoder.layer.0.layernorm_before.weight', 'encoder.layer.4.attention.attention.query.weight', 'embeddings.patch_embeddings.projection.bias', 'encoder.layer.7.layernorm_before.bias', 'encoder.layer.7.layernorm_after.bias', 'encoder.layer.3.output.dense.bias', 'encoder.layer.7.attention.attention.value.bias', 'encoder.layer.6.attention.attention.value.weight', 'encoder.layer.2.attention.attention.key.weight', 'encoder.layer.3.intermediate.dense.bias', 'encoder.layer.10.layernorm_after.bias', 'encoder.layer.10.attention.output.dense.weight', 'encoder.layer.4.layernorm_after.bias', 'encoder.layer.11.output.dense.weight', 'encoder.layer.4.attention.attention.value.weight', 'encoder.layer.3.attention.output.dense.bias', 'encoder.layer.2.layernorm_after.weight', 'encoder.layer.0.attention.attention.value.weight', 'encoder.layer.2.intermediate.dense.bias', 'layernorm.bias', 'encoder.layer.4.output.dense.weight', 'encoder.layer.5.output.dense.weight', 'encoder.layer.9.attention.attention.value.bias', 'encoder.layer.8.attention.attention.value.weight', 'encoder.layer.8.layernorm_after.bias', 'encoder.layer.1.layernorm_after.bias', 'encoder.layer.10.layernorm_before.weight', 'encoder.layer.0.attention.attention.key.bias', 'encoder.layer.11.attention.attention.key.bias', 'encoder.layer.6.attention.output.dense.weight', 'encoder.layer.10.attention.attention.query.weight', 'encoder.layer.9.intermediate.dense.weight', 'encoder.layer.10.attention.attention.query.bias', 'encoder.layer.3.attention.attention.key.weight', 'encoder.layer.8.attention.output.dense.weight', 'encoder.layer.8.attention.attention.key.bias', 'encoder.layer.10.attention.attention.value.bias', 'encoder.layer.1.intermediate.dense.bias', 'encoder.layer.4.layernorm_before.bias', 'encoder.layer.9.attention.output.dense.weight', 'encoder.layer.1.layernorm_before.weight', 'encoder.layer.6.attention.attention.key.bias', 'encoder.layer.1.layernorm_before.bias', 'encoder.layer.0.attention.attention.key.weight', 'encoder.layer.11.attention.attention.query.bias', 'encoder.layer.5.layernorm_before.weight']\n",
            "You should probably TRAIN this model on a down-stream task to be able to use it for predictions and inference.\n"
          ]
        },
        {
          "output_type": "display_data",
          "data": {
            "text/plain": [
              "<IPython.core.display.HTML object>"
            ],
            "text/html": [
              "Tracking run with wandb version 0.15.4"
            ]
          },
          "metadata": {}
        },
        {
          "output_type": "display_data",
          "data": {
            "text/plain": [
              "<IPython.core.display.HTML object>"
            ],
            "text/html": [
              "Run data is saved locally in <code>/content/wandb/run-20230702_112647-9zzbef2a</code>"
            ]
          },
          "metadata": {}
        },
        {
          "output_type": "display_data",
          "data": {
            "text/plain": [
              "<IPython.core.display.HTML object>"
            ],
            "text/html": [
              "Syncing run <strong><a href='https://wandb.ai/deep_bekeif/cnn_with_aug/runs/9zzbef2a' target=\"_blank\">feasible-sun-2</a></strong> to <a href='https://wandb.ai/deep_bekeif/cnn_with_aug' target=\"_blank\">Weights & Biases</a> (<a href='https://wandb.me/run' target=\"_blank\">docs</a>)<br/>"
            ]
          },
          "metadata": {}
        },
        {
          "output_type": "display_data",
          "data": {
            "text/plain": [
              "<IPython.core.display.HTML object>"
            ],
            "text/html": [
              " View project at <a href='https://wandb.ai/deep_bekeif/cnn_with_aug' target=\"_blank\">https://wandb.ai/deep_bekeif/cnn_with_aug</a>"
            ]
          },
          "metadata": {}
        },
        {
          "output_type": "display_data",
          "data": {
            "text/plain": [
              "<IPython.core.display.HTML object>"
            ],
            "text/html": [
              " View run at <a href='https://wandb.ai/deep_bekeif/cnn_with_aug/runs/9zzbef2a' target=\"_blank\">https://wandb.ai/deep_bekeif/cnn_with_aug/runs/9zzbef2a</a>"
            ]
          },
          "metadata": {}
        },
        {
          "output_type": "stream",
          "name": "stderr",
          "text": [
            "You are using a model of type resnet to instantiate a model of type vit. This is not supported for all configurations of models and can yield errors.\n",
            "Some weights of the model checkpoint at microsoft/resnet-50 were not used when initializing ViTForImageClassification: ['resnet.embedder.embedder.normalization.running_var', 'resnet.encoder.stages.3.layers.2.layer.1.normalization.running_mean', 'resnet.encoder.stages.1.layers.0.layer.0.normalization.num_batches_tracked', 'resnet.encoder.stages.2.layers.3.layer.0.normalization.running_mean', 'resnet.encoder.stages.1.layers.3.layer.2.normalization.weight', 'resnet.encoder.stages.1.layers.3.layer.1.convolution.weight', 'resnet.encoder.stages.2.layers.1.layer.2.normalization.num_batches_tracked', 'resnet.encoder.stages.2.layers.0.layer.1.normalization.running_var', 'resnet.encoder.stages.2.layers.2.layer.2.normalization.running_mean', 'resnet.encoder.stages.3.layers.2.layer.0.normalization.bias', 'resnet.encoder.stages.1.layers.1.layer.0.normalization.running_var', 'resnet.embedder.embedder.convolution.weight', 'resnet.embedder.embedder.normalization.weight', 'resnet.encoder.stages.3.layers.2.layer.0.normalization.weight', 'resnet.encoder.stages.2.layers.0.layer.1.normalization.bias', 'resnet.encoder.stages.2.layers.4.layer.0.normalization.running_mean', 'resnet.encoder.stages.0.layers.2.layer.0.normalization.running_mean', 'resnet.encoder.stages.0.layers.0.layer.2.normalization.running_mean', 'resnet.encoder.stages.1.layers.1.layer.1.normalization.running_var', 'resnet.encoder.stages.1.layers.0.layer.0.convolution.weight', 'resnet.encoder.stages.1.layers.3.layer.0.normalization.bias', 'resnet.encoder.stages.3.layers.2.layer.2.normalization.bias', 'resnet.encoder.stages.2.layers.4.layer.1.normalization.running_mean', 'resnet.encoder.stages.3.layers.0.layer.1.normalization.num_batches_tracked', 'resnet.encoder.stages.3.layers.2.layer.1.normalization.running_var', 'resnet.encoder.stages.0.layers.1.layer.1.normalization.weight', 'resnet.encoder.stages.3.layers.1.layer.1.normalization.bias', 'resnet.encoder.stages.2.layers.5.layer.0.convolution.weight', 'resnet.encoder.stages.0.layers.2.layer.1.normalization.running_mean', 'resnet.encoder.stages.0.layers.1.layer.2.normalization.running_mean', 'resnet.encoder.stages.0.layers.0.layer.0.normalization.num_batches_tracked', 'resnet.encoder.stages.1.layers.1.layer.1.normalization.bias', 'resnet.encoder.stages.3.layers.0.layer.0.normalization.bias', 'resnet.encoder.stages.2.layers.4.layer.2.convolution.weight', 'resnet.encoder.stages.0.layers.1.layer.2.normalization.bias', 'resnet.encoder.stages.2.layers.5.layer.2.normalization.num_batches_tracked', 'resnet.encoder.stages.0.layers.0.layer.1.normalization.num_batches_tracked', 'resnet.encoder.stages.3.layers.0.layer.2.normalization.num_batches_tracked', 'resnet.encoder.stages.2.layers.1.layer.0.normalization.num_batches_tracked', 'resnet.encoder.stages.3.layers.1.layer.1.normalization.running_mean', 'resnet.encoder.stages.1.layers.0.layer.1.normalization.bias', 'resnet.encoder.stages.2.layers.3.layer.1.convolution.weight', 'resnet.encoder.stages.2.layers.3.layer.0.normalization.running_var', 'resnet.encoder.stages.3.layers.0.shortcut.convolution.weight', 'resnet.encoder.stages.0.layers.0.layer.2.convolution.weight', 'resnet.encoder.stages.1.layers.3.layer.2.normalization.num_batches_tracked', 'resnet.encoder.stages.3.layers.0.layer.1.convolution.weight', 'resnet.encoder.stages.3.layers.0.layer.2.normalization.running_mean', 'resnet.encoder.stages.3.layers.0.layer.0.normalization.weight', 'resnet.encoder.stages.2.layers.5.layer.0.normalization.weight', 'resnet.encoder.stages.1.layers.1.layer.2.normalization.bias', 'resnet.encoder.stages.2.layers.0.layer.0.normalization.num_batches_tracked', 'resnet.embedder.embedder.normalization.num_batches_tracked', 'resnet.encoder.stages.1.layers.2.layer.1.normalization.weight', 'resnet.encoder.stages.1.layers.3.layer.1.normalization.weight', 'resnet.encoder.stages.2.layers.5.layer.2.normalization.running_mean', 'resnet.encoder.stages.1.layers.0.layer.1.normalization.running_var', 'resnet.encoder.stages.3.layers.2.layer.0.normalization.running_var', 'resnet.encoder.stages.0.layers.0.layer.1.normalization.running_mean', 'resnet.encoder.stages.2.layers.0.layer.2.convolution.weight', 'resnet.encoder.stages.1.layers.2.layer.1.normalization.running_mean', 'resnet.encoder.stages.3.layers.1.layer.1.normalization.num_batches_tracked', 'resnet.encoder.stages.1.layers.0.shortcut.normalization.running_var', 'resnet.encoder.stages.2.layers.2.layer.2.normalization.num_batches_tracked', 'resnet.encoder.stages.3.layers.2.layer.1.normalization.bias', 'resnet.encoder.stages.1.layers.3.layer.0.normalization.running_var', 'resnet.encoder.stages.2.layers.1.layer.1.normalization.num_batches_tracked', 'resnet.encoder.stages.1.layers.1.layer.0.convolution.weight', 'resnet.encoder.stages.3.layers.0.layer.0.normalization.running_var', 'resnet.encoder.stages.2.layers.0.layer.1.normalization.num_batches_tracked', 'resnet.encoder.stages.1.layers.2.layer.2.normalization.running_mean', 'resnet.encoder.stages.2.layers.4.layer.0.normalization.bias', 'resnet.encoder.stages.2.layers.3.layer.0.convolution.weight', 'resnet.encoder.stages.2.layers.4.layer.1.normalization.num_batches_tracked', 'resnet.encoder.stages.3.layers.1.layer.2.normalization.weight', 'resnet.encoder.stages.3.layers.0.layer.2.normalization.running_var', 'resnet.encoder.stages.3.layers.0.layer.0.normalization.running_mean', 'resnet.encoder.stages.1.layers.0.layer.0.normalization.weight', 'resnet.encoder.stages.0.layers.0.layer.1.normalization.running_var', 'resnet.encoder.stages.2.layers.4.layer.2.normalization.num_batches_tracked', 'resnet.encoder.stages.2.layers.0.layer.1.normalization.weight', 'resnet.encoder.stages.2.layers.3.layer.0.normalization.bias', 'resnet.encoder.stages.0.layers.0.shortcut.normalization.num_batches_tracked', 'resnet.encoder.stages.0.layers.0.shortcut.normalization.running_var', 'resnet.encoder.stages.3.layers.1.layer.2.normalization.running_var', 'resnet.encoder.stages.0.layers.2.layer.1.convolution.weight', 'resnet.encoder.stages.0.layers.0.layer.2.normalization.bias', 'resnet.encoder.stages.1.layers.1.layer.2.normalization.running_var', 'resnet.encoder.stages.2.layers.4.layer.1.normalization.weight', 'resnet.encoder.stages.3.layers.0.layer.0.convolution.weight', 'resnet.encoder.stages.1.layers.0.shortcut.normalization.weight', 'resnet.encoder.stages.2.layers.2.layer.1.normalization.weight', 'resnet.encoder.stages.3.layers.2.layer.1.convolution.weight', 'resnet.encoder.stages.3.layers.1.layer.0.normalization.num_batches_tracked', 'resnet.encoder.stages.0.layers.2.layer.2.normalization.weight', 'resnet.encoder.stages.2.layers.4.layer.0.convolution.weight', 'resnet.encoder.stages.3.layers.2.layer.0.normalization.num_batches_tracked', 'resnet.encoder.stages.2.layers.2.layer.1.normalization.running_var', 'resnet.encoder.stages.2.layers.4.layer.2.normalization.running_mean', 'resnet.encoder.stages.3.layers.2.layer.1.normalization.weight', 'resnet.encoder.stages.0.layers.1.layer.1.convolution.weight', 'resnet.encoder.stages.2.layers.2.layer.1.normalization.bias', 'resnet.encoder.stages.1.layers.1.layer.0.normalization.num_batches_tracked', 'resnet.encoder.stages.1.layers.2.layer.0.convolution.weight', 'resnet.encoder.stages.2.layers.3.layer.1.normalization.running_var', 'resnet.encoder.stages.1.layers.2.layer.2.convolution.weight', 'resnet.encoder.stages.1.layers.3.layer.1.normalization.num_batches_tracked', 'resnet.encoder.stages.1.layers.0.layer.2.normalization.weight', 'resnet.encoder.stages.1.layers.2.layer.0.normalization.bias', 'resnet.encoder.stages.0.layers.1.layer.0.normalization.running_var', 'resnet.encoder.stages.1.layers.0.layer.1.normalization.running_mean', 'resnet.encoder.stages.3.layers.2.layer.1.normalization.num_batches_tracked', 'resnet.encoder.stages.2.layers.5.layer.1.normalization.weight', 'resnet.encoder.stages.3.layers.2.layer.2.normalization.weight', 'resnet.encoder.stages.3.layers.1.layer.0.normalization.bias', 'resnet.encoder.stages.3.layers.1.layer.0.normalization.running_mean', 'resnet.encoder.stages.2.layers.1.layer.2.convolution.weight', 'resnet.encoder.stages.0.layers.2.layer.0.normalization.bias', 'resnet.encoder.stages.2.layers.4.layer.2.normalization.running_var', 'resnet.encoder.stages.1.layers.3.layer.0.convolution.weight', 'resnet.encoder.stages.2.layers.0.layer.1.normalization.running_mean', 'resnet.encoder.stages.2.layers.0.shortcut.normalization.running_mean', 'resnet.encoder.stages.0.layers.2.layer.0.normalization.running_var', 'resnet.encoder.stages.1.layers.2.layer.0.normalization.weight', 'resnet.encoder.stages.2.layers.3.layer.2.convolution.weight', 'resnet.encoder.stages.2.layers.4.layer.1.normalization.bias', 'resnet.encoder.stages.0.layers.0.layer.0.normalization.running_mean', 'resnet.encoder.stages.2.layers.1.layer.2.normalization.running_mean', 'resnet.encoder.stages.1.layers.0.layer.2.normalization.num_batches_tracked', 'resnet.encoder.stages.2.layers.0.shortcut.normalization.running_var', 'resnet.encoder.stages.2.layers.4.layer.2.normalization.weight', 'resnet.encoder.stages.2.layers.2.layer.1.normalization.num_batches_tracked', 'resnet.encoder.stages.1.layers.1.layer.1.convolution.weight', 'resnet.encoder.stages.0.layers.1.layer.2.convolution.weight', 'resnet.encoder.stages.1.layers.3.layer.0.normalization.num_batches_tracked', 'resnet.encoder.stages.2.layers.3.layer.0.normalization.weight', 'resnet.encoder.stages.0.layers.1.layer.2.normalization.num_batches_tracked', 'resnet.encoder.stages.2.layers.2.layer.0.normalization.weight', 'resnet.encoder.stages.2.layers.0.layer.0.normalization.running_var', 'resnet.encoder.stages.1.layers.2.layer.0.normalization.running_mean', 'resnet.encoder.stages.0.layers.1.layer.2.normalization.running_var', 'resnet.encoder.stages.0.layers.0.layer.0.normalization.bias', 'resnet.encoder.stages.3.layers.0.layer.0.normalization.num_batches_tracked', 'resnet.encoder.stages.0.layers.0.layer.2.normalization.weight', 'resnet.encoder.stages.3.layers.0.shortcut.normalization.bias', 'resnet.encoder.stages.2.layers.3.layer.2.normalization.running_mean', 'resnet.encoder.stages.1.layers.3.layer.1.normalization.running_var', 'resnet.encoder.stages.2.layers.3.layer.2.normalization.running_var', 'resnet.encoder.stages.1.layers.2.layer.0.normalization.num_batches_tracked', 'resnet.encoder.stages.3.layers.1.layer.2.normalization.running_mean', 'resnet.encoder.stages.2.layers.0.layer.0.normalization.bias', 'resnet.encoder.stages.2.layers.1.layer.0.normalization.running_var', 'resnet.encoder.stages.2.layers.3.layer.2.normalization.num_batches_tracked', 'resnet.encoder.stages.0.layers.1.layer.1.normalization.running_var', 'resnet.encoder.stages.2.layers.0.shortcut.normalization.num_batches_tracked', 'resnet.encoder.stages.0.layers.2.layer.1.normalization.running_var', 'resnet.encoder.stages.3.layers.0.layer.1.normalization.bias', 'resnet.encoder.stages.0.layers.0.layer.2.normalization.running_var', 'resnet.encoder.stages.2.layers.1.layer.2.normalization.running_var', 'resnet.encoder.stages.1.layers.3.layer.0.normalization.running_mean', 'resnet.encoder.stages.3.layers.0.shortcut.normalization.weight', 'resnet.encoder.stages.1.layers.2.layer.1.normalization.bias', 'resnet.encoder.stages.3.layers.0.layer.1.normalization.running_mean', 'resnet.encoder.stages.2.layers.3.layer.1.normalization.bias', 'resnet.encoder.stages.3.layers.0.layer.2.normalization.weight', 'resnet.encoder.stages.2.layers.4.layer.2.normalization.bias', 'resnet.encoder.stages.2.layers.0.layer.0.normalization.weight', 'resnet.encoder.stages.0.layers.1.layer.0.convolution.weight', 'resnet.encoder.stages.3.layers.1.layer.1.convolution.weight', 'resnet.encoder.stages.3.layers.1.layer.2.normalization.bias', 'resnet.encoder.stages.0.layers.1.layer.0.normalization.weight', 'resnet.encoder.stages.2.layers.2.layer.2.convolution.weight', 'resnet.encoder.stages.2.layers.5.layer.2.normalization.bias', 'resnet.encoder.stages.0.layers.2.layer.0.convolution.weight', 'resnet.encoder.stages.2.layers.5.layer.2.normalization.weight', 'resnet.encoder.stages.2.layers.4.layer.0.normalization.num_batches_tracked', 'resnet.encoder.stages.1.layers.2.layer.0.normalization.running_var', 'resnet.encoder.stages.3.layers.2.layer.2.normalization.running_var', 'resnet.encoder.stages.2.layers.5.layer.1.normalization.num_batches_tracked', 'resnet.encoder.stages.2.layers.5.layer.2.convolution.weight', 'resnet.encoder.stages.2.layers.1.layer.1.normalization.running_var', 'resnet.encoder.stages.1.layers.1.layer.0.normalization.running_mean', 'resnet.encoder.stages.2.layers.2.layer.1.convolution.weight', 'resnet.encoder.stages.2.layers.0.shortcut.normalization.weight', 'resnet.encoder.stages.2.layers.0.layer.2.normalization.running_mean', 'resnet.encoder.stages.0.layers.0.shortcut.normalization.weight', 'resnet.encoder.stages.0.layers.2.layer.1.normalization.bias', 'resnet.encoder.stages.3.layers.0.shortcut.normalization.num_batches_tracked', 'resnet.encoder.stages.3.layers.1.layer.2.convolution.weight', 'resnet.encoder.stages.1.layers.0.layer.1.convolution.weight', 'resnet.encoder.stages.3.layers.0.layer.1.normalization.running_var', 'resnet.encoder.stages.3.layers.1.layer.1.normalization.running_var', 'resnet.encoder.stages.3.layers.2.layer.2.convolution.weight', 'resnet.encoder.stages.2.layers.0.layer.2.normalization.bias', 'resnet.encoder.stages.1.layers.2.layer.1.normalization.num_batches_tracked', 'resnet.encoder.stages.1.layers.0.shortcut.normalization.num_batches_tracked', 'resnet.encoder.stages.1.layers.2.layer.2.normalization.weight', 'resnet.encoder.stages.2.layers.1.layer.1.normalization.running_mean', 'resnet.encoder.stages.1.layers.1.layer.0.normalization.weight', 'resnet.encoder.stages.3.layers.1.layer.1.normalization.weight', 'resnet.encoder.stages.2.layers.4.layer.1.normalization.running_var', 'resnet.encoder.stages.2.layers.5.layer.0.normalization.running_var', 'resnet.encoder.stages.2.layers.5.layer.1.normalization.bias', 'resnet.encoder.stages.2.layers.1.layer.1.convolution.weight', 'resnet.encoder.stages.2.layers.2.layer.2.normalization.bias', 'resnet.encoder.stages.1.layers.0.layer.2.normalization.running_var', 'resnet.encoder.stages.1.layers.0.layer.0.normalization.running_mean', 'resnet.encoder.stages.3.layers.2.layer.0.convolution.weight', 'resnet.encoder.stages.1.layers.0.layer.1.normalization.num_batches_tracked', 'resnet.encoder.stages.1.layers.2.layer.1.convolution.weight', 'resnet.encoder.stages.0.layers.0.layer.2.normalization.num_batches_tracked', 'resnet.encoder.stages.2.layers.1.layer.2.normalization.bias', 'resnet.encoder.stages.2.layers.5.layer.2.normalization.running_var', 'resnet.encoder.stages.1.layers.0.layer.2.convolution.weight', 'resnet.encoder.stages.3.layers.0.layer.2.convolution.weight', 'resnet.encoder.stages.2.layers.1.layer.0.normalization.running_mean', 'resnet.encoder.stages.1.layers.3.layer.2.normalization.bias', 'resnet.encoder.stages.2.layers.5.layer.0.normalization.running_mean', 'resnet.encoder.stages.1.layers.3.layer.2.convolution.weight', 'classifier.1.bias', 'resnet.encoder.stages.1.layers.2.layer.2.normalization.num_batches_tracked', 'resnet.encoder.stages.1.layers.0.layer.0.normalization.running_var', 'resnet.encoder.stages.2.layers.5.layer.1.convolution.weight', 'resnet.encoder.stages.0.layers.2.layer.2.normalization.running_var', 'resnet.encoder.stages.1.layers.0.layer.0.normalization.bias', 'resnet.encoder.stages.2.layers.0.layer.2.normalization.num_batches_tracked', 'resnet.encoder.stages.2.layers.5.layer.0.normalization.bias', 'resnet.encoder.stages.0.layers.2.layer.2.normalization.bias', 'resnet.encoder.stages.2.layers.2.layer.0.normalization.num_batches_tracked', 'resnet.encoder.stages.0.layers.1.layer.0.normalization.running_mean', 'resnet.encoder.stages.0.layers.2.layer.0.normalization.num_batches_tracked', 'classifier.1.weight', 'resnet.encoder.stages.0.layers.1.layer.1.normalization.bias', 'resnet.encoder.stages.0.layers.1.layer.2.normalization.weight', 'resnet.encoder.stages.0.layers.0.layer.1.normalization.bias', 'resnet.encoder.stages.0.layers.0.layer.0.normalization.running_var', 'resnet.encoder.stages.2.layers.2.layer.0.normalization.bias', 'resnet.encoder.stages.3.layers.2.layer.2.normalization.num_batches_tracked', 'resnet.encoder.stages.2.layers.4.layer.1.convolution.weight', 'resnet.encoder.stages.2.layers.3.layer.1.normalization.running_mean', 'resnet.encoder.stages.0.layers.2.layer.1.normalization.weight', 'resnet.encoder.stages.1.layers.2.layer.2.normalization.running_var', 'resnet.encoder.stages.0.layers.0.shortcut.normalization.bias', 'resnet.encoder.stages.1.layers.0.shortcut.normalization.running_mean', 'resnet.encoder.stages.1.layers.1.layer.1.normalization.running_mean', 'resnet.encoder.stages.0.layers.1.layer.0.normalization.num_batches_tracked', 'resnet.embedder.embedder.normalization.running_mean', 'resnet.encoder.stages.2.layers.2.layer.0.convolution.weight', 'resnet.encoder.stages.0.layers.0.layer.0.convolution.weight', 'resnet.encoder.stages.2.layers.3.layer.2.normalization.bias', 'resnet.encoder.stages.2.layers.5.layer.0.normalization.num_batches_tracked', 'resnet.encoder.stages.3.layers.1.layer.0.normalization.weight', 'resnet.encoder.stages.2.layers.0.shortcut.normalization.bias', 'resnet.encoder.stages.2.layers.3.layer.2.normalization.weight', 'resnet.encoder.stages.0.layers.0.shortcut.normalization.running_mean', 'resnet.encoder.stages.3.layers.0.layer.1.normalization.weight', 'resnet.encoder.stages.0.layers.2.layer.0.normalization.weight', 'resnet.encoder.stages.2.layers.4.layer.0.normalization.weight', 'resnet.encoder.stages.2.layers.2.layer.0.normalization.running_var', 'resnet.encoder.stages.0.layers.2.layer.2.convolution.weight', 'resnet.encoder.stages.2.layers.1.layer.2.normalization.weight', 'resnet.encoder.stages.1.layers.0.layer.2.normalization.bias', 'resnet.encoder.stages.1.layers.1.layer.0.normalization.bias', 'resnet.encoder.stages.2.layers.1.layer.1.normalization.weight', 'resnet.encoder.stages.2.layers.3.layer.0.normalization.num_batches_tracked', 'resnet.encoder.stages.3.layers.1.layer.0.normalization.running_var', 'resnet.encoder.stages.2.layers.1.layer.0.normalization.bias', 'resnet.encoder.stages.1.layers.2.layer.1.normalization.running_var', 'resnet.encoder.stages.0.layers.1.layer.0.normalization.bias', 'resnet.encoder.stages.0.layers.0.layer.1.convolution.weight', 'resnet.encoder.stages.3.layers.1.layer.2.normalization.num_batches_tracked', 'resnet.encoder.stages.0.layers.0.layer.0.normalization.weight', 'resnet.encoder.stages.1.layers.1.layer.1.normalization.num_batches_tracked', 'resnet.encoder.stages.1.layers.1.layer.2.normalization.running_mean', 'resnet.encoder.stages.2.layers.2.layer.1.normalization.running_mean', 'resnet.encoder.stages.2.layers.5.layer.1.normalization.running_var', 'resnet.encoder.stages.1.layers.2.layer.2.normalization.bias', 'resnet.encoder.stages.1.layers.0.layer.1.normalization.weight', 'resnet.encoder.stages.1.layers.1.layer.2.convolution.weight', 'resnet.encoder.stages.2.layers.1.layer.0.convolution.weight', 'resnet.encoder.stages.3.layers.1.layer.0.convolution.weight', 'resnet.encoder.stages.2.layers.5.layer.1.normalization.running_mean', 'resnet.encoder.stages.3.layers.0.shortcut.normalization.running_var', 'resnet.encoder.stages.0.layers.2.layer.2.normalization.num_batches_tracked', 'resnet.encoder.stages.1.layers.1.layer.1.normalization.weight', 'resnet.encoder.stages.0.layers.1.layer.1.normalization.num_batches_tracked', 'resnet.encoder.stages.3.layers.0.layer.2.normalization.bias', 'resnet.encoder.stages.2.layers.0.layer.0.normalization.running_mean', 'resnet.encoder.stages.0.layers.2.layer.1.normalization.num_batches_tracked', 'resnet.encoder.stages.2.layers.3.layer.1.normalization.weight', 'resnet.encoder.stages.1.layers.3.layer.1.normalization.running_mean', 'resnet.encoder.stages.1.layers.0.layer.2.normalization.running_mean', 'resnet.encoder.stages.2.layers.0.layer.2.normalization.weight', 'resnet.encoder.stages.2.layers.0.layer.0.convolution.weight', 'resnet.encoder.stages.1.layers.0.shortcut.normalization.bias', 'resnet.encoder.stages.2.layers.2.layer.2.normalization.weight', 'resnet.encoder.stages.0.layers.2.layer.2.normalization.running_mean', 'resnet.encoder.stages.1.layers.1.layer.2.normalization.num_batches_tracked', 'resnet.encoder.stages.2.layers.0.layer.1.convolution.weight', 'resnet.encoder.stages.1.layers.3.layer.2.normalization.running_mean', 'resnet.encoder.stages.3.layers.2.layer.2.normalization.running_mean', 'resnet.encoder.stages.2.layers.4.layer.0.normalization.running_var', 'resnet.encoder.stages.1.layers.1.layer.2.normalization.weight', 'resnet.embedder.embedder.normalization.bias', 'resnet.encoder.stages.1.layers.3.layer.0.normalization.weight', 'resnet.encoder.stages.3.layers.0.shortcut.normalization.running_mean', 'resnet.encoder.stages.1.layers.3.layer.1.normalization.bias', 'resnet.encoder.stages.0.layers.0.shortcut.convolution.weight', 'resnet.encoder.stages.0.layers.1.layer.1.normalization.running_mean', 'resnet.encoder.stages.2.layers.2.layer.2.normalization.running_var', 'resnet.encoder.stages.3.layers.2.layer.0.normalization.running_mean', 'resnet.encoder.stages.2.layers.1.layer.1.normalization.bias', 'resnet.encoder.stages.0.layers.0.layer.1.normalization.weight', 'resnet.encoder.stages.2.layers.0.layer.2.normalization.running_var', 'resnet.encoder.stages.2.layers.0.shortcut.convolution.weight', 'resnet.encoder.stages.1.layers.0.shortcut.convolution.weight', 'resnet.encoder.stages.2.layers.3.layer.1.normalization.num_batches_tracked', 'resnet.encoder.stages.2.layers.1.layer.0.normalization.weight', 'resnet.encoder.stages.1.layers.3.layer.2.normalization.running_var', 'resnet.encoder.stages.2.layers.2.layer.0.normalization.running_mean']\n",
            "- This IS expected if you are initializing ViTForImageClassification from the checkpoint of a model trained on another task or with another architecture (e.g. initializing a BertForSequenceClassification model from a BertForPreTraining model).\n",
            "- This IS NOT expected if you are initializing ViTForImageClassification from the checkpoint of a model that you expect to be exactly identical (initializing a BertForSequenceClassification model from a BertForSequenceClassification model).\n",
            "Some weights of ViTForImageClassification were not initialized from the model checkpoint at microsoft/resnet-50 and are newly initialized: ['encoder.layer.10.attention.output.dense.bias', 'encoder.layer.11.layernorm_after.weight', 'encoder.layer.7.attention.output.dense.bias', 'encoder.layer.3.layernorm_before.bias', 'encoder.layer.9.attention.output.dense.bias', 'encoder.layer.4.output.dense.bias', 'encoder.layer.7.attention.attention.value.weight', 'encoder.layer.11.layernorm_before.bias', 'encoder.layer.0.intermediate.dense.weight', 'encoder.layer.8.attention.attention.query.bias', 'encoder.layer.1.attention.attention.key.weight', 'encoder.layer.1.output.dense.bias', 'encoder.layer.8.attention.attention.value.bias', 'encoder.layer.11.layernorm_before.weight', 'encoder.layer.7.attention.attention.query.bias', 'encoder.layer.4.attention.attention.key.bias', 'encoder.layer.1.attention.attention.query.bias', 'encoder.layer.9.layernorm_before.weight', 'encoder.layer.0.attention.output.dense.bias', 'encoder.layer.10.attention.attention.value.weight', 'encoder.layer.11.attention.output.dense.bias', 'encoder.layer.9.attention.attention.key.bias', 'encoder.layer.0.intermediate.dense.bias', 'encoder.layer.8.intermediate.dense.weight', 'encoder.layer.9.layernorm_before.bias', 'encoder.layer.8.attention.attention.query.weight', 'encoder.layer.9.output.dense.weight', 'encoder.layer.1.attention.output.dense.weight', 'encoder.layer.5.attention.attention.query.weight', 'encoder.layer.7.attention.attention.query.weight', 'encoder.layer.4.layernorm_before.weight', 'embeddings.patch_embeddings.projection.weight', 'encoder.layer.0.layernorm_before.bias', 'encoder.layer.2.output.dense.weight', 'encoder.layer.3.layernorm_before.weight', 'encoder.layer.6.attention.attention.query.weight', 'encoder.layer.3.attention.attention.query.weight', 'encoder.layer.7.output.dense.weight', 'encoder.layer.4.attention.output.dense.bias', 'encoder.layer.5.attention.attention.value.bias', 'encoder.layer.10.attention.attention.key.bias', 'encoder.layer.10.intermediate.dense.weight', 'encoder.layer.5.output.dense.bias', 'encoder.layer.7.layernorm_after.weight', 'embeddings.position_embeddings', 'encoder.layer.2.layernorm_after.bias', 'encoder.layer.1.intermediate.dense.weight', 'encoder.layer.11.attention.attention.query.weight', 'encoder.layer.5.attention.attention.query.bias', 'encoder.layer.5.layernorm_after.bias', 'encoder.layer.9.attention.attention.query.weight', 'encoder.layer.11.attention.output.dense.weight', 'encoder.layer.5.intermediate.dense.weight', 'encoder.layer.2.layernorm_before.bias', 'encoder.layer.2.output.dense.bias', 'encoder.layer.5.attention.attention.key.bias', 'encoder.layer.8.output.dense.bias', 'encoder.layer.1.layernorm_after.weight', 'encoder.layer.5.attention.attention.value.weight', 'encoder.layer.5.intermediate.dense.bias', 'encoder.layer.10.output.dense.weight', 'encoder.layer.10.attention.attention.key.weight', 'encoder.layer.2.attention.attention.value.bias', 'encoder.layer.11.output.dense.bias', 'encoder.layer.9.attention.attention.value.weight', 'encoder.layer.5.layernorm_before.bias', 'encoder.layer.7.attention.output.dense.weight', 'encoder.layer.2.attention.attention.query.bias', 'encoder.layer.9.attention.attention.key.weight', 'encoder.layer.6.layernorm_after.weight', 'encoder.layer.6.attention.attention.value.bias', 'encoder.layer.11.attention.attention.value.weight', 'encoder.layer.1.attention.output.dense.bias', 'encoder.layer.0.attention.output.dense.weight', 'encoder.layer.6.output.dense.weight', 'encoder.layer.0.layernorm_after.weight', 'encoder.layer.4.attention.attention.key.weight', 'classifier.weight', 'encoder.layer.4.attention.attention.query.bias', 'encoder.layer.7.intermediate.dense.bias', 'encoder.layer.9.attention.attention.query.bias', 'encoder.layer.8.output.dense.weight', 'encoder.layer.4.layernorm_after.weight', 'encoder.layer.0.attention.attention.query.bias', 'encoder.layer.8.attention.output.dense.bias', 'encoder.layer.11.layernorm_after.bias', 'encoder.layer.9.layernorm_after.bias', 'encoder.layer.10.intermediate.dense.bias', 'encoder.layer.0.output.dense.bias', 'encoder.layer.8.layernorm_after.weight', 'encoder.layer.8.intermediate.dense.bias', 'encoder.layer.3.attention.attention.value.bias', 'encoder.layer.0.output.dense.weight', 'encoder.layer.3.intermediate.dense.weight', 'encoder.layer.4.attention.output.dense.weight', 'encoder.layer.6.layernorm_before.weight', 'encoder.layer.8.attention.attention.key.weight', 'encoder.layer.10.output.dense.bias', 'encoder.layer.3.layernorm_after.weight', 'encoder.layer.6.intermediate.dense.bias', 'encoder.layer.4.attention.attention.value.bias', 'encoder.layer.5.attention.output.dense.bias', 'encoder.layer.9.output.dense.bias', 'encoder.layer.1.attention.attention.query.weight', 'encoder.layer.2.attention.attention.key.bias', 'encoder.layer.4.intermediate.dense.weight', 'encoder.layer.6.attention.attention.query.bias', 'encoder.layer.5.attention.output.dense.weight', 'encoder.layer.9.layernorm_after.weight', 'encoder.layer.3.attention.attention.key.bias', 'encoder.layer.11.intermediate.dense.bias', 'encoder.layer.0.attention.attention.query.weight', 'encoder.layer.1.attention.attention.value.weight', 'encoder.layer.11.intermediate.dense.weight', 'encoder.layer.8.layernorm_before.weight', 'encoder.layer.2.attention.output.dense.bias', 'encoder.layer.6.layernorm_before.bias', 'encoder.layer.2.attention.attention.value.weight', 'encoder.layer.1.attention.attention.value.bias', 'encoder.layer.7.attention.attention.key.bias', 'encoder.layer.6.output.dense.bias', 'layernorm.weight', 'encoder.layer.3.layernorm_after.bias', 'encoder.layer.4.intermediate.dense.bias', 'encoder.layer.2.attention.output.dense.weight', 'encoder.layer.3.attention.attention.query.bias', 'encoder.layer.1.output.dense.weight', 'encoder.layer.7.intermediate.dense.weight', 'encoder.layer.11.attention.attention.key.weight', 'encoder.layer.9.intermediate.dense.bias', 'encoder.layer.2.attention.attention.query.weight', 'encoder.layer.0.layernorm_after.bias', 'encoder.layer.6.layernorm_after.bias', 'encoder.layer.7.output.dense.bias', 'encoder.layer.6.attention.attention.key.weight', 'encoder.layer.5.layernorm_after.weight', 'embeddings.cls_token', 'encoder.layer.7.layernorm_before.weight', 'encoder.layer.8.layernorm_before.bias', 'encoder.layer.3.output.dense.weight', 'encoder.layer.0.attention.attention.value.bias', 'classifier.bias', 'encoder.layer.2.intermediate.dense.weight', 'encoder.layer.1.attention.attention.key.bias', 'encoder.layer.3.attention.output.dense.weight', 'encoder.layer.11.attention.attention.value.bias', 'encoder.layer.10.layernorm_after.weight', 'encoder.layer.6.attention.output.dense.bias', 'encoder.layer.2.layernorm_before.weight', 'encoder.layer.10.layernorm_before.bias', 'encoder.layer.5.attention.attention.key.weight', 'encoder.layer.3.attention.attention.value.weight', 'encoder.layer.6.intermediate.dense.weight', 'encoder.layer.7.attention.attention.key.weight', 'encoder.layer.0.layernorm_before.weight', 'encoder.layer.4.attention.attention.query.weight', 'embeddings.patch_embeddings.projection.bias', 'encoder.layer.7.layernorm_before.bias', 'encoder.layer.7.layernorm_after.bias', 'encoder.layer.3.output.dense.bias', 'encoder.layer.7.attention.attention.value.bias', 'encoder.layer.6.attention.attention.value.weight', 'encoder.layer.2.attention.attention.key.weight', 'encoder.layer.3.intermediate.dense.bias', 'encoder.layer.10.layernorm_after.bias', 'encoder.layer.10.attention.output.dense.weight', 'encoder.layer.4.layernorm_after.bias', 'encoder.layer.11.output.dense.weight', 'encoder.layer.4.attention.attention.value.weight', 'encoder.layer.3.attention.output.dense.bias', 'encoder.layer.2.layernorm_after.weight', 'encoder.layer.0.attention.attention.value.weight', 'encoder.layer.2.intermediate.dense.bias', 'layernorm.bias', 'encoder.layer.4.output.dense.weight', 'encoder.layer.5.output.dense.weight', 'encoder.layer.9.attention.attention.value.bias', 'encoder.layer.8.attention.attention.value.weight', 'encoder.layer.8.layernorm_after.bias', 'encoder.layer.1.layernorm_after.bias', 'encoder.layer.10.layernorm_before.weight', 'encoder.layer.0.attention.attention.key.bias', 'encoder.layer.11.attention.attention.key.bias', 'encoder.layer.6.attention.output.dense.weight', 'encoder.layer.10.attention.attention.query.weight', 'encoder.layer.9.intermediate.dense.weight', 'encoder.layer.10.attention.attention.query.bias', 'encoder.layer.3.attention.attention.key.weight', 'encoder.layer.8.attention.output.dense.weight', 'encoder.layer.8.attention.attention.key.bias', 'encoder.layer.10.attention.attention.value.bias', 'encoder.layer.1.intermediate.dense.bias', 'encoder.layer.4.layernorm_before.bias', 'encoder.layer.9.attention.output.dense.weight', 'encoder.layer.1.layernorm_before.weight', 'encoder.layer.6.attention.attention.key.bias', 'encoder.layer.1.layernorm_before.bias', 'encoder.layer.0.attention.attention.key.weight', 'encoder.layer.11.attention.attention.query.bias', 'encoder.layer.5.layernorm_before.weight']\n",
            "You should probably TRAIN this model on a down-stream task to be able to use it for predictions and inference.\n"
          ]
        }
      ]
    },
    {
      "cell_type": "code",
      "source": [
        "train_results = trainer.train()\n",
        "trainer.save_model()\n",
        "trainer.log_metrics(\"train\", train_results.metrics)\n",
        "trainer.save_metrics(\"train\", train_results.metrics)\n",
        "trainer.save_state()\n",
        "\n",
        "wandb.finish()"
      ],
      "metadata": {
        "colab": {
          "base_uri": "https://localhost:8080/",
          "height": 1000,
          "referenced_widgets": [
            "fe15697ef5e440978bf3a7d292eee167",
            "08f9bf8e83d14bed971527a6b42de233",
            "5ce6178a83a7417caa7d12edd8f605f0",
            "a2989b368b6f4714a54e3bf44883dea9",
            "f3716049b140430390a8d75741b8a175",
            "aaa7f0909c614786aa66319c466c44d7",
            "8cf4b273c4e144eba1cda2c7a1a1aac1",
            "870a405122b049b8baf6fafce5e7f32f"
          ]
        },
        "id": "hJnxpA-GU0UM",
        "outputId": "3fc480e2-87f0-41b3-af39-9a24b6148e71"
      },
      "execution_count": null,
      "outputs": [
        {
          "output_type": "stream",
          "name": "stderr",
          "text": [
            "You are using a model of type resnet to instantiate a model of type vit. This is not supported for all configurations of models and can yield errors.\n",
            "Some weights of the model checkpoint at microsoft/resnet-50 were not used when initializing ViTForImageClassification: ['resnet.embedder.embedder.normalization.running_var', 'resnet.encoder.stages.3.layers.2.layer.1.normalization.running_mean', 'resnet.encoder.stages.1.layers.0.layer.0.normalization.num_batches_tracked', 'resnet.encoder.stages.2.layers.3.layer.0.normalization.running_mean', 'resnet.encoder.stages.1.layers.3.layer.2.normalization.weight', 'resnet.encoder.stages.1.layers.3.layer.1.convolution.weight', 'resnet.encoder.stages.2.layers.1.layer.2.normalization.num_batches_tracked', 'resnet.encoder.stages.2.layers.0.layer.1.normalization.running_var', 'resnet.encoder.stages.2.layers.2.layer.2.normalization.running_mean', 'resnet.encoder.stages.3.layers.2.layer.0.normalization.bias', 'resnet.encoder.stages.1.layers.1.layer.0.normalization.running_var', 'resnet.embedder.embedder.convolution.weight', 'resnet.embedder.embedder.normalization.weight', 'resnet.encoder.stages.3.layers.2.layer.0.normalization.weight', 'resnet.encoder.stages.2.layers.0.layer.1.normalization.bias', 'resnet.encoder.stages.2.layers.4.layer.0.normalization.running_mean', 'resnet.encoder.stages.0.layers.2.layer.0.normalization.running_mean', 'resnet.encoder.stages.0.layers.0.layer.2.normalization.running_mean', 'resnet.encoder.stages.1.layers.1.layer.1.normalization.running_var', 'resnet.encoder.stages.1.layers.0.layer.0.convolution.weight', 'resnet.encoder.stages.1.layers.3.layer.0.normalization.bias', 'resnet.encoder.stages.3.layers.2.layer.2.normalization.bias', 'resnet.encoder.stages.2.layers.4.layer.1.normalization.running_mean', 'resnet.encoder.stages.3.layers.0.layer.1.normalization.num_batches_tracked', 'resnet.encoder.stages.3.layers.2.layer.1.normalization.running_var', 'resnet.encoder.stages.0.layers.1.layer.1.normalization.weight', 'resnet.encoder.stages.3.layers.1.layer.1.normalization.bias', 'resnet.encoder.stages.2.layers.5.layer.0.convolution.weight', 'resnet.encoder.stages.0.layers.2.layer.1.normalization.running_mean', 'resnet.encoder.stages.0.layers.1.layer.2.normalization.running_mean', 'resnet.encoder.stages.0.layers.0.layer.0.normalization.num_batches_tracked', 'resnet.encoder.stages.1.layers.1.layer.1.normalization.bias', 'resnet.encoder.stages.3.layers.0.layer.0.normalization.bias', 'resnet.encoder.stages.2.layers.4.layer.2.convolution.weight', 'resnet.encoder.stages.0.layers.1.layer.2.normalization.bias', 'resnet.encoder.stages.2.layers.5.layer.2.normalization.num_batches_tracked', 'resnet.encoder.stages.0.layers.0.layer.1.normalization.num_batches_tracked', 'resnet.encoder.stages.3.layers.0.layer.2.normalization.num_batches_tracked', 'resnet.encoder.stages.2.layers.1.layer.0.normalization.num_batches_tracked', 'resnet.encoder.stages.3.layers.1.layer.1.normalization.running_mean', 'resnet.encoder.stages.1.layers.0.layer.1.normalization.bias', 'resnet.encoder.stages.2.layers.3.layer.1.convolution.weight', 'resnet.encoder.stages.2.layers.3.layer.0.normalization.running_var', 'resnet.encoder.stages.3.layers.0.shortcut.convolution.weight', 'resnet.encoder.stages.0.layers.0.layer.2.convolution.weight', 'resnet.encoder.stages.1.layers.3.layer.2.normalization.num_batches_tracked', 'resnet.encoder.stages.3.layers.0.layer.1.convolution.weight', 'resnet.encoder.stages.3.layers.0.layer.2.normalization.running_mean', 'resnet.encoder.stages.3.layers.0.layer.0.normalization.weight', 'resnet.encoder.stages.2.layers.5.layer.0.normalization.weight', 'resnet.encoder.stages.1.layers.1.layer.2.normalization.bias', 'resnet.encoder.stages.2.layers.0.layer.0.normalization.num_batches_tracked', 'resnet.embedder.embedder.normalization.num_batches_tracked', 'resnet.encoder.stages.1.layers.2.layer.1.normalization.weight', 'resnet.encoder.stages.1.layers.3.layer.1.normalization.weight', 'resnet.encoder.stages.2.layers.5.layer.2.normalization.running_mean', 'resnet.encoder.stages.1.layers.0.layer.1.normalization.running_var', 'resnet.encoder.stages.3.layers.2.layer.0.normalization.running_var', 'resnet.encoder.stages.0.layers.0.layer.1.normalization.running_mean', 'resnet.encoder.stages.2.layers.0.layer.2.convolution.weight', 'resnet.encoder.stages.1.layers.2.layer.1.normalization.running_mean', 'resnet.encoder.stages.3.layers.1.layer.1.normalization.num_batches_tracked', 'resnet.encoder.stages.1.layers.0.shortcut.normalization.running_var', 'resnet.encoder.stages.2.layers.2.layer.2.normalization.num_batches_tracked', 'resnet.encoder.stages.3.layers.2.layer.1.normalization.bias', 'resnet.encoder.stages.1.layers.3.layer.0.normalization.running_var', 'resnet.encoder.stages.2.layers.1.layer.1.normalization.num_batches_tracked', 'resnet.encoder.stages.1.layers.1.layer.0.convolution.weight', 'resnet.encoder.stages.3.layers.0.layer.0.normalization.running_var', 'resnet.encoder.stages.2.layers.0.layer.1.normalization.num_batches_tracked', 'resnet.encoder.stages.1.layers.2.layer.2.normalization.running_mean', 'resnet.encoder.stages.2.layers.4.layer.0.normalization.bias', 'resnet.encoder.stages.2.layers.3.layer.0.convolution.weight', 'resnet.encoder.stages.2.layers.4.layer.1.normalization.num_batches_tracked', 'resnet.encoder.stages.3.layers.1.layer.2.normalization.weight', 'resnet.encoder.stages.3.layers.0.layer.2.normalization.running_var', 'resnet.encoder.stages.3.layers.0.layer.0.normalization.running_mean', 'resnet.encoder.stages.1.layers.0.layer.0.normalization.weight', 'resnet.encoder.stages.0.layers.0.layer.1.normalization.running_var', 'resnet.encoder.stages.2.layers.4.layer.2.normalization.num_batches_tracked', 'resnet.encoder.stages.2.layers.0.layer.1.normalization.weight', 'resnet.encoder.stages.2.layers.3.layer.0.normalization.bias', 'resnet.encoder.stages.0.layers.0.shortcut.normalization.num_batches_tracked', 'resnet.encoder.stages.0.layers.0.shortcut.normalization.running_var', 'resnet.encoder.stages.3.layers.1.layer.2.normalization.running_var', 'resnet.encoder.stages.0.layers.2.layer.1.convolution.weight', 'resnet.encoder.stages.0.layers.0.layer.2.normalization.bias', 'resnet.encoder.stages.1.layers.1.layer.2.normalization.running_var', 'resnet.encoder.stages.2.layers.4.layer.1.normalization.weight', 'resnet.encoder.stages.3.layers.0.layer.0.convolution.weight', 'resnet.encoder.stages.1.layers.0.shortcut.normalization.weight', 'resnet.encoder.stages.2.layers.2.layer.1.normalization.weight', 'resnet.encoder.stages.3.layers.2.layer.1.convolution.weight', 'resnet.encoder.stages.3.layers.1.layer.0.normalization.num_batches_tracked', 'resnet.encoder.stages.0.layers.2.layer.2.normalization.weight', 'resnet.encoder.stages.2.layers.4.layer.0.convolution.weight', 'resnet.encoder.stages.3.layers.2.layer.0.normalization.num_batches_tracked', 'resnet.encoder.stages.2.layers.2.layer.1.normalization.running_var', 'resnet.encoder.stages.2.layers.4.layer.2.normalization.running_mean', 'resnet.encoder.stages.3.layers.2.layer.1.normalization.weight', 'resnet.encoder.stages.0.layers.1.layer.1.convolution.weight', 'resnet.encoder.stages.2.layers.2.layer.1.normalization.bias', 'resnet.encoder.stages.1.layers.1.layer.0.normalization.num_batches_tracked', 'resnet.encoder.stages.1.layers.2.layer.0.convolution.weight', 'resnet.encoder.stages.2.layers.3.layer.1.normalization.running_var', 'resnet.encoder.stages.1.layers.2.layer.2.convolution.weight', 'resnet.encoder.stages.1.layers.3.layer.1.normalization.num_batches_tracked', 'resnet.encoder.stages.1.layers.0.layer.2.normalization.weight', 'resnet.encoder.stages.1.layers.2.layer.0.normalization.bias', 'resnet.encoder.stages.0.layers.1.layer.0.normalization.running_var', 'resnet.encoder.stages.1.layers.0.layer.1.normalization.running_mean', 'resnet.encoder.stages.3.layers.2.layer.1.normalization.num_batches_tracked', 'resnet.encoder.stages.2.layers.5.layer.1.normalization.weight', 'resnet.encoder.stages.3.layers.2.layer.2.normalization.weight', 'resnet.encoder.stages.3.layers.1.layer.0.normalization.bias', 'resnet.encoder.stages.3.layers.1.layer.0.normalization.running_mean', 'resnet.encoder.stages.2.layers.1.layer.2.convolution.weight', 'resnet.encoder.stages.0.layers.2.layer.0.normalization.bias', 'resnet.encoder.stages.2.layers.4.layer.2.normalization.running_var', 'resnet.encoder.stages.1.layers.3.layer.0.convolution.weight', 'resnet.encoder.stages.2.layers.0.layer.1.normalization.running_mean', 'resnet.encoder.stages.2.layers.0.shortcut.normalization.running_mean', 'resnet.encoder.stages.0.layers.2.layer.0.normalization.running_var', 'resnet.encoder.stages.1.layers.2.layer.0.normalization.weight', 'resnet.encoder.stages.2.layers.3.layer.2.convolution.weight', 'resnet.encoder.stages.2.layers.4.layer.1.normalization.bias', 'resnet.encoder.stages.0.layers.0.layer.0.normalization.running_mean', 'resnet.encoder.stages.2.layers.1.layer.2.normalization.running_mean', 'resnet.encoder.stages.1.layers.0.layer.2.normalization.num_batches_tracked', 'resnet.encoder.stages.2.layers.0.shortcut.normalization.running_var', 'resnet.encoder.stages.2.layers.4.layer.2.normalization.weight', 'resnet.encoder.stages.2.layers.2.layer.1.normalization.num_batches_tracked', 'resnet.encoder.stages.1.layers.1.layer.1.convolution.weight', 'resnet.encoder.stages.0.layers.1.layer.2.convolution.weight', 'resnet.encoder.stages.1.layers.3.layer.0.normalization.num_batches_tracked', 'resnet.encoder.stages.2.layers.3.layer.0.normalization.weight', 'resnet.encoder.stages.0.layers.1.layer.2.normalization.num_batches_tracked', 'resnet.encoder.stages.2.layers.2.layer.0.normalization.weight', 'resnet.encoder.stages.2.layers.0.layer.0.normalization.running_var', 'resnet.encoder.stages.1.layers.2.layer.0.normalization.running_mean', 'resnet.encoder.stages.0.layers.1.layer.2.normalization.running_var', 'resnet.encoder.stages.0.layers.0.layer.0.normalization.bias', 'resnet.encoder.stages.3.layers.0.layer.0.normalization.num_batches_tracked', 'resnet.encoder.stages.0.layers.0.layer.2.normalization.weight', 'resnet.encoder.stages.3.layers.0.shortcut.normalization.bias', 'resnet.encoder.stages.2.layers.3.layer.2.normalization.running_mean', 'resnet.encoder.stages.1.layers.3.layer.1.normalization.running_var', 'resnet.encoder.stages.2.layers.3.layer.2.normalization.running_var', 'resnet.encoder.stages.1.layers.2.layer.0.normalization.num_batches_tracked', 'resnet.encoder.stages.3.layers.1.layer.2.normalization.running_mean', 'resnet.encoder.stages.2.layers.0.layer.0.normalization.bias', 'resnet.encoder.stages.2.layers.1.layer.0.normalization.running_var', 'resnet.encoder.stages.2.layers.3.layer.2.normalization.num_batches_tracked', 'resnet.encoder.stages.0.layers.1.layer.1.normalization.running_var', 'resnet.encoder.stages.2.layers.0.shortcut.normalization.num_batches_tracked', 'resnet.encoder.stages.0.layers.2.layer.1.normalization.running_var', 'resnet.encoder.stages.3.layers.0.layer.1.normalization.bias', 'resnet.encoder.stages.0.layers.0.layer.2.normalization.running_var', 'resnet.encoder.stages.2.layers.1.layer.2.normalization.running_var', 'resnet.encoder.stages.1.layers.3.layer.0.normalization.running_mean', 'resnet.encoder.stages.3.layers.0.shortcut.normalization.weight', 'resnet.encoder.stages.1.layers.2.layer.1.normalization.bias', 'resnet.encoder.stages.3.layers.0.layer.1.normalization.running_mean', 'resnet.encoder.stages.2.layers.3.layer.1.normalization.bias', 'resnet.encoder.stages.3.layers.0.layer.2.normalization.weight', 'resnet.encoder.stages.2.layers.4.layer.2.normalization.bias', 'resnet.encoder.stages.2.layers.0.layer.0.normalization.weight', 'resnet.encoder.stages.0.layers.1.layer.0.convolution.weight', 'resnet.encoder.stages.3.layers.1.layer.1.convolution.weight', 'resnet.encoder.stages.3.layers.1.layer.2.normalization.bias', 'resnet.encoder.stages.0.layers.1.layer.0.normalization.weight', 'resnet.encoder.stages.2.layers.2.layer.2.convolution.weight', 'resnet.encoder.stages.2.layers.5.layer.2.normalization.bias', 'resnet.encoder.stages.0.layers.2.layer.0.convolution.weight', 'resnet.encoder.stages.2.layers.5.layer.2.normalization.weight', 'resnet.encoder.stages.2.layers.4.layer.0.normalization.num_batches_tracked', 'resnet.encoder.stages.1.layers.2.layer.0.normalization.running_var', 'resnet.encoder.stages.3.layers.2.layer.2.normalization.running_var', 'resnet.encoder.stages.2.layers.5.layer.1.normalization.num_batches_tracked', 'resnet.encoder.stages.2.layers.5.layer.2.convolution.weight', 'resnet.encoder.stages.2.layers.1.layer.1.normalization.running_var', 'resnet.encoder.stages.1.layers.1.layer.0.normalization.running_mean', 'resnet.encoder.stages.2.layers.2.layer.1.convolution.weight', 'resnet.encoder.stages.2.layers.0.shortcut.normalization.weight', 'resnet.encoder.stages.2.layers.0.layer.2.normalization.running_mean', 'resnet.encoder.stages.0.layers.0.shortcut.normalization.weight', 'resnet.encoder.stages.0.layers.2.layer.1.normalization.bias', 'resnet.encoder.stages.3.layers.0.shortcut.normalization.num_batches_tracked', 'resnet.encoder.stages.3.layers.1.layer.2.convolution.weight', 'resnet.encoder.stages.1.layers.0.layer.1.convolution.weight', 'resnet.encoder.stages.3.layers.0.layer.1.normalization.running_var', 'resnet.encoder.stages.3.layers.1.layer.1.normalization.running_var', 'resnet.encoder.stages.3.layers.2.layer.2.convolution.weight', 'resnet.encoder.stages.2.layers.0.layer.2.normalization.bias', 'resnet.encoder.stages.1.layers.2.layer.1.normalization.num_batches_tracked', 'resnet.encoder.stages.1.layers.0.shortcut.normalization.num_batches_tracked', 'resnet.encoder.stages.1.layers.2.layer.2.normalization.weight', 'resnet.encoder.stages.2.layers.1.layer.1.normalization.running_mean', 'resnet.encoder.stages.1.layers.1.layer.0.normalization.weight', 'resnet.encoder.stages.3.layers.1.layer.1.normalization.weight', 'resnet.encoder.stages.2.layers.4.layer.1.normalization.running_var', 'resnet.encoder.stages.2.layers.5.layer.0.normalization.running_var', 'resnet.encoder.stages.2.layers.5.layer.1.normalization.bias', 'resnet.encoder.stages.2.layers.1.layer.1.convolution.weight', 'resnet.encoder.stages.2.layers.2.layer.2.normalization.bias', 'resnet.encoder.stages.1.layers.0.layer.2.normalization.running_var', 'resnet.encoder.stages.1.layers.0.layer.0.normalization.running_mean', 'resnet.encoder.stages.3.layers.2.layer.0.convolution.weight', 'resnet.encoder.stages.1.layers.0.layer.1.normalization.num_batches_tracked', 'resnet.encoder.stages.1.layers.2.layer.1.convolution.weight', 'resnet.encoder.stages.0.layers.0.layer.2.normalization.num_batches_tracked', 'resnet.encoder.stages.2.layers.1.layer.2.normalization.bias', 'resnet.encoder.stages.2.layers.5.layer.2.normalization.running_var', 'resnet.encoder.stages.1.layers.0.layer.2.convolution.weight', 'resnet.encoder.stages.3.layers.0.layer.2.convolution.weight', 'resnet.encoder.stages.2.layers.1.layer.0.normalization.running_mean', 'resnet.encoder.stages.1.layers.3.layer.2.normalization.bias', 'resnet.encoder.stages.2.layers.5.layer.0.normalization.running_mean', 'resnet.encoder.stages.1.layers.3.layer.2.convolution.weight', 'classifier.1.bias', 'resnet.encoder.stages.1.layers.2.layer.2.normalization.num_batches_tracked', 'resnet.encoder.stages.1.layers.0.layer.0.normalization.running_var', 'resnet.encoder.stages.2.layers.5.layer.1.convolution.weight', 'resnet.encoder.stages.0.layers.2.layer.2.normalization.running_var', 'resnet.encoder.stages.1.layers.0.layer.0.normalization.bias', 'resnet.encoder.stages.2.layers.0.layer.2.normalization.num_batches_tracked', 'resnet.encoder.stages.2.layers.5.layer.0.normalization.bias', 'resnet.encoder.stages.0.layers.2.layer.2.normalization.bias', 'resnet.encoder.stages.2.layers.2.layer.0.normalization.num_batches_tracked', 'resnet.encoder.stages.0.layers.1.layer.0.normalization.running_mean', 'resnet.encoder.stages.0.layers.2.layer.0.normalization.num_batches_tracked', 'classifier.1.weight', 'resnet.encoder.stages.0.layers.1.layer.1.normalization.bias', 'resnet.encoder.stages.0.layers.1.layer.2.normalization.weight', 'resnet.encoder.stages.0.layers.0.layer.1.normalization.bias', 'resnet.encoder.stages.0.layers.0.layer.0.normalization.running_var', 'resnet.encoder.stages.2.layers.2.layer.0.normalization.bias', 'resnet.encoder.stages.3.layers.2.layer.2.normalization.num_batches_tracked', 'resnet.encoder.stages.2.layers.4.layer.1.convolution.weight', 'resnet.encoder.stages.2.layers.3.layer.1.normalization.running_mean', 'resnet.encoder.stages.0.layers.2.layer.1.normalization.weight', 'resnet.encoder.stages.1.layers.2.layer.2.normalization.running_var', 'resnet.encoder.stages.0.layers.0.shortcut.normalization.bias', 'resnet.encoder.stages.1.layers.0.shortcut.normalization.running_mean', 'resnet.encoder.stages.1.layers.1.layer.1.normalization.running_mean', 'resnet.encoder.stages.0.layers.1.layer.0.normalization.num_batches_tracked', 'resnet.embedder.embedder.normalization.running_mean', 'resnet.encoder.stages.2.layers.2.layer.0.convolution.weight', 'resnet.encoder.stages.0.layers.0.layer.0.convolution.weight', 'resnet.encoder.stages.2.layers.3.layer.2.normalization.bias', 'resnet.encoder.stages.2.layers.5.layer.0.normalization.num_batches_tracked', 'resnet.encoder.stages.3.layers.1.layer.0.normalization.weight', 'resnet.encoder.stages.2.layers.0.shortcut.normalization.bias', 'resnet.encoder.stages.2.layers.3.layer.2.normalization.weight', 'resnet.encoder.stages.0.layers.0.shortcut.normalization.running_mean', 'resnet.encoder.stages.3.layers.0.layer.1.normalization.weight', 'resnet.encoder.stages.0.layers.2.layer.0.normalization.weight', 'resnet.encoder.stages.2.layers.4.layer.0.normalization.weight', 'resnet.encoder.stages.2.layers.2.layer.0.normalization.running_var', 'resnet.encoder.stages.0.layers.2.layer.2.convolution.weight', 'resnet.encoder.stages.2.layers.1.layer.2.normalization.weight', 'resnet.encoder.stages.1.layers.0.layer.2.normalization.bias', 'resnet.encoder.stages.1.layers.1.layer.0.normalization.bias', 'resnet.encoder.stages.2.layers.1.layer.1.normalization.weight', 'resnet.encoder.stages.2.layers.3.layer.0.normalization.num_batches_tracked', 'resnet.encoder.stages.3.layers.1.layer.0.normalization.running_var', 'resnet.encoder.stages.2.layers.1.layer.0.normalization.bias', 'resnet.encoder.stages.1.layers.2.layer.1.normalization.running_var', 'resnet.encoder.stages.0.layers.1.layer.0.normalization.bias', 'resnet.encoder.stages.0.layers.0.layer.1.convolution.weight', 'resnet.encoder.stages.3.layers.1.layer.2.normalization.num_batches_tracked', 'resnet.encoder.stages.0.layers.0.layer.0.normalization.weight', 'resnet.encoder.stages.1.layers.1.layer.1.normalization.num_batches_tracked', 'resnet.encoder.stages.1.layers.1.layer.2.normalization.running_mean', 'resnet.encoder.stages.2.layers.2.layer.1.normalization.running_mean', 'resnet.encoder.stages.2.layers.5.layer.1.normalization.running_var', 'resnet.encoder.stages.1.layers.2.layer.2.normalization.bias', 'resnet.encoder.stages.1.layers.0.layer.1.normalization.weight', 'resnet.encoder.stages.1.layers.1.layer.2.convolution.weight', 'resnet.encoder.stages.2.layers.1.layer.0.convolution.weight', 'resnet.encoder.stages.3.layers.1.layer.0.convolution.weight', 'resnet.encoder.stages.2.layers.5.layer.1.normalization.running_mean', 'resnet.encoder.stages.3.layers.0.shortcut.normalization.running_var', 'resnet.encoder.stages.0.layers.2.layer.2.normalization.num_batches_tracked', 'resnet.encoder.stages.1.layers.1.layer.1.normalization.weight', 'resnet.encoder.stages.0.layers.1.layer.1.normalization.num_batches_tracked', 'resnet.encoder.stages.3.layers.0.layer.2.normalization.bias', 'resnet.encoder.stages.2.layers.0.layer.0.normalization.running_mean', 'resnet.encoder.stages.0.layers.2.layer.1.normalization.num_batches_tracked', 'resnet.encoder.stages.2.layers.3.layer.1.normalization.weight', 'resnet.encoder.stages.1.layers.3.layer.1.normalization.running_mean', 'resnet.encoder.stages.1.layers.0.layer.2.normalization.running_mean', 'resnet.encoder.stages.2.layers.0.layer.2.normalization.weight', 'resnet.encoder.stages.2.layers.0.layer.0.convolution.weight', 'resnet.encoder.stages.1.layers.0.shortcut.normalization.bias', 'resnet.encoder.stages.2.layers.2.layer.2.normalization.weight', 'resnet.encoder.stages.0.layers.2.layer.2.normalization.running_mean', 'resnet.encoder.stages.1.layers.1.layer.2.normalization.num_batches_tracked', 'resnet.encoder.stages.2.layers.0.layer.1.convolution.weight', 'resnet.encoder.stages.1.layers.3.layer.2.normalization.running_mean', 'resnet.encoder.stages.3.layers.2.layer.2.normalization.running_mean', 'resnet.encoder.stages.2.layers.4.layer.0.normalization.running_var', 'resnet.encoder.stages.1.layers.1.layer.2.normalization.weight', 'resnet.embedder.embedder.normalization.bias', 'resnet.encoder.stages.1.layers.3.layer.0.normalization.weight', 'resnet.encoder.stages.3.layers.0.shortcut.normalization.running_mean', 'resnet.encoder.stages.1.layers.3.layer.1.normalization.bias', 'resnet.encoder.stages.0.layers.0.shortcut.convolution.weight', 'resnet.encoder.stages.0.layers.1.layer.1.normalization.running_mean', 'resnet.encoder.stages.2.layers.2.layer.2.normalization.running_var', 'resnet.encoder.stages.3.layers.2.layer.0.normalization.running_mean', 'resnet.encoder.stages.2.layers.1.layer.1.normalization.bias', 'resnet.encoder.stages.0.layers.0.layer.1.normalization.weight', 'resnet.encoder.stages.2.layers.0.layer.2.normalization.running_var', 'resnet.encoder.stages.2.layers.0.shortcut.convolution.weight', 'resnet.encoder.stages.1.layers.0.shortcut.convolution.weight', 'resnet.encoder.stages.2.layers.3.layer.1.normalization.num_batches_tracked', 'resnet.encoder.stages.2.layers.1.layer.0.normalization.weight', 'resnet.encoder.stages.1.layers.3.layer.2.normalization.running_var', 'resnet.encoder.stages.2.layers.2.layer.0.normalization.running_mean']\n",
            "- This IS expected if you are initializing ViTForImageClassification from the checkpoint of a model trained on another task or with another architecture (e.g. initializing a BertForSequenceClassification model from a BertForPreTraining model).\n",
            "- This IS NOT expected if you are initializing ViTForImageClassification from the checkpoint of a model that you expect to be exactly identical (initializing a BertForSequenceClassification model from a BertForSequenceClassification model).\n",
            "Some weights of ViTForImageClassification were not initialized from the model checkpoint at microsoft/resnet-50 and are newly initialized: ['encoder.layer.10.attention.output.dense.bias', 'encoder.layer.11.layernorm_after.weight', 'encoder.layer.7.attention.output.dense.bias', 'encoder.layer.3.layernorm_before.bias', 'encoder.layer.9.attention.output.dense.bias', 'encoder.layer.4.output.dense.bias', 'encoder.layer.7.attention.attention.value.weight', 'encoder.layer.11.layernorm_before.bias', 'encoder.layer.0.intermediate.dense.weight', 'encoder.layer.8.attention.attention.query.bias', 'encoder.layer.1.attention.attention.key.weight', 'encoder.layer.1.output.dense.bias', 'encoder.layer.8.attention.attention.value.bias', 'encoder.layer.11.layernorm_before.weight', 'encoder.layer.7.attention.attention.query.bias', 'encoder.layer.4.attention.attention.key.bias', 'encoder.layer.1.attention.attention.query.bias', 'encoder.layer.9.layernorm_before.weight', 'encoder.layer.0.attention.output.dense.bias', 'encoder.layer.10.attention.attention.value.weight', 'encoder.layer.11.attention.output.dense.bias', 'encoder.layer.9.attention.attention.key.bias', 'encoder.layer.0.intermediate.dense.bias', 'encoder.layer.8.intermediate.dense.weight', 'encoder.layer.9.layernorm_before.bias', 'encoder.layer.8.attention.attention.query.weight', 'encoder.layer.9.output.dense.weight', 'encoder.layer.1.attention.output.dense.weight', 'encoder.layer.5.attention.attention.query.weight', 'encoder.layer.7.attention.attention.query.weight', 'encoder.layer.4.layernorm_before.weight', 'embeddings.patch_embeddings.projection.weight', 'encoder.layer.0.layernorm_before.bias', 'encoder.layer.2.output.dense.weight', 'encoder.layer.3.layernorm_before.weight', 'encoder.layer.6.attention.attention.query.weight', 'encoder.layer.3.attention.attention.query.weight', 'encoder.layer.7.output.dense.weight', 'encoder.layer.4.attention.output.dense.bias', 'encoder.layer.5.attention.attention.value.bias', 'encoder.layer.10.attention.attention.key.bias', 'encoder.layer.10.intermediate.dense.weight', 'encoder.layer.5.output.dense.bias', 'encoder.layer.7.layernorm_after.weight', 'embeddings.position_embeddings', 'encoder.layer.2.layernorm_after.bias', 'encoder.layer.1.intermediate.dense.weight', 'encoder.layer.11.attention.attention.query.weight', 'encoder.layer.5.attention.attention.query.bias', 'encoder.layer.5.layernorm_after.bias', 'encoder.layer.9.attention.attention.query.weight', 'encoder.layer.11.attention.output.dense.weight', 'encoder.layer.5.intermediate.dense.weight', 'encoder.layer.2.layernorm_before.bias', 'encoder.layer.2.output.dense.bias', 'encoder.layer.5.attention.attention.key.bias', 'encoder.layer.8.output.dense.bias', 'encoder.layer.1.layernorm_after.weight', 'encoder.layer.5.attention.attention.value.weight', 'encoder.layer.5.intermediate.dense.bias', 'encoder.layer.10.output.dense.weight', 'encoder.layer.10.attention.attention.key.weight', 'encoder.layer.2.attention.attention.value.bias', 'encoder.layer.11.output.dense.bias', 'encoder.layer.9.attention.attention.value.weight', 'encoder.layer.5.layernorm_before.bias', 'encoder.layer.7.attention.output.dense.weight', 'encoder.layer.2.attention.attention.query.bias', 'encoder.layer.9.attention.attention.key.weight', 'encoder.layer.6.layernorm_after.weight', 'encoder.layer.6.attention.attention.value.bias', 'encoder.layer.11.attention.attention.value.weight', 'encoder.layer.1.attention.output.dense.bias', 'encoder.layer.0.attention.output.dense.weight', 'encoder.layer.6.output.dense.weight', 'encoder.layer.0.layernorm_after.weight', 'encoder.layer.4.attention.attention.key.weight', 'classifier.weight', 'encoder.layer.4.attention.attention.query.bias', 'encoder.layer.7.intermediate.dense.bias', 'encoder.layer.9.attention.attention.query.bias', 'encoder.layer.8.output.dense.weight', 'encoder.layer.4.layernorm_after.weight', 'encoder.layer.0.attention.attention.query.bias', 'encoder.layer.8.attention.output.dense.bias', 'encoder.layer.11.layernorm_after.bias', 'encoder.layer.9.layernorm_after.bias', 'encoder.layer.10.intermediate.dense.bias', 'encoder.layer.0.output.dense.bias', 'encoder.layer.8.layernorm_after.weight', 'encoder.layer.8.intermediate.dense.bias', 'encoder.layer.3.attention.attention.value.bias', 'encoder.layer.0.output.dense.weight', 'encoder.layer.3.intermediate.dense.weight', 'encoder.layer.4.attention.output.dense.weight', 'encoder.layer.6.layernorm_before.weight', 'encoder.layer.8.attention.attention.key.weight', 'encoder.layer.10.output.dense.bias', 'encoder.layer.3.layernorm_after.weight', 'encoder.layer.6.intermediate.dense.bias', 'encoder.layer.4.attention.attention.value.bias', 'encoder.layer.5.attention.output.dense.bias', 'encoder.layer.9.output.dense.bias', 'encoder.layer.1.attention.attention.query.weight', 'encoder.layer.2.attention.attention.key.bias', 'encoder.layer.4.intermediate.dense.weight', 'encoder.layer.6.attention.attention.query.bias', 'encoder.layer.5.attention.output.dense.weight', 'encoder.layer.9.layernorm_after.weight', 'encoder.layer.3.attention.attention.key.bias', 'encoder.layer.11.intermediate.dense.bias', 'encoder.layer.0.attention.attention.query.weight', 'encoder.layer.1.attention.attention.value.weight', 'encoder.layer.11.intermediate.dense.weight', 'encoder.layer.8.layernorm_before.weight', 'encoder.layer.2.attention.output.dense.bias', 'encoder.layer.6.layernorm_before.bias', 'encoder.layer.2.attention.attention.value.weight', 'encoder.layer.1.attention.attention.value.bias', 'encoder.layer.7.attention.attention.key.bias', 'encoder.layer.6.output.dense.bias', 'layernorm.weight', 'encoder.layer.3.layernorm_after.bias', 'encoder.layer.4.intermediate.dense.bias', 'encoder.layer.2.attention.output.dense.weight', 'encoder.layer.3.attention.attention.query.bias', 'encoder.layer.1.output.dense.weight', 'encoder.layer.7.intermediate.dense.weight', 'encoder.layer.11.attention.attention.key.weight', 'encoder.layer.9.intermediate.dense.bias', 'encoder.layer.2.attention.attention.query.weight', 'encoder.layer.0.layernorm_after.bias', 'encoder.layer.6.layernorm_after.bias', 'encoder.layer.7.output.dense.bias', 'encoder.layer.6.attention.attention.key.weight', 'encoder.layer.5.layernorm_after.weight', 'embeddings.cls_token', 'encoder.layer.7.layernorm_before.weight', 'encoder.layer.8.layernorm_before.bias', 'encoder.layer.3.output.dense.weight', 'encoder.layer.0.attention.attention.value.bias', 'classifier.bias', 'encoder.layer.2.intermediate.dense.weight', 'encoder.layer.1.attention.attention.key.bias', 'encoder.layer.3.attention.output.dense.weight', 'encoder.layer.11.attention.attention.value.bias', 'encoder.layer.10.layernorm_after.weight', 'encoder.layer.6.attention.output.dense.bias', 'encoder.layer.2.layernorm_before.weight', 'encoder.layer.10.layernorm_before.bias', 'encoder.layer.5.attention.attention.key.weight', 'encoder.layer.3.attention.attention.value.weight', 'encoder.layer.6.intermediate.dense.weight', 'encoder.layer.7.attention.attention.key.weight', 'encoder.layer.0.layernorm_before.weight', 'encoder.layer.4.attention.attention.query.weight', 'embeddings.patch_embeddings.projection.bias', 'encoder.layer.7.layernorm_before.bias', 'encoder.layer.7.layernorm_after.bias', 'encoder.layer.3.output.dense.bias', 'encoder.layer.7.attention.attention.value.bias', 'encoder.layer.6.attention.attention.value.weight', 'encoder.layer.2.attention.attention.key.weight', 'encoder.layer.3.intermediate.dense.bias', 'encoder.layer.10.layernorm_after.bias', 'encoder.layer.10.attention.output.dense.weight', 'encoder.layer.4.layernorm_after.bias', 'encoder.layer.11.output.dense.weight', 'encoder.layer.4.attention.attention.value.weight', 'encoder.layer.3.attention.output.dense.bias', 'encoder.layer.2.layernorm_after.weight', 'encoder.layer.0.attention.attention.value.weight', 'encoder.layer.2.intermediate.dense.bias', 'layernorm.bias', 'encoder.layer.4.output.dense.weight', 'encoder.layer.5.output.dense.weight', 'encoder.layer.9.attention.attention.value.bias', 'encoder.layer.8.attention.attention.value.weight', 'encoder.layer.8.layernorm_after.bias', 'encoder.layer.1.layernorm_after.bias', 'encoder.layer.10.layernorm_before.weight', 'encoder.layer.0.attention.attention.key.bias', 'encoder.layer.11.attention.attention.key.bias', 'encoder.layer.6.attention.output.dense.weight', 'encoder.layer.10.attention.attention.query.weight', 'encoder.layer.9.intermediate.dense.weight', 'encoder.layer.10.attention.attention.query.bias', 'encoder.layer.3.attention.attention.key.weight', 'encoder.layer.8.attention.output.dense.weight', 'encoder.layer.8.attention.attention.key.bias', 'encoder.layer.10.attention.attention.value.bias', 'encoder.layer.1.intermediate.dense.bias', 'encoder.layer.4.layernorm_before.bias', 'encoder.layer.9.attention.output.dense.weight', 'encoder.layer.1.layernorm_before.weight', 'encoder.layer.6.attention.attention.key.bias', 'encoder.layer.1.layernorm_before.bias', 'encoder.layer.0.attention.attention.key.weight', 'encoder.layer.11.attention.attention.query.bias', 'encoder.layer.5.layernorm_before.weight']\n",
            "You should probably TRAIN this model on a down-stream task to be able to use it for predictions and inference.\n",
            "/usr/local/lib/python3.10/dist-packages/transformers/optimization.py:411: FutureWarning: This implementation of AdamW is deprecated and will be removed in a future version. Use the PyTorch implementation torch.optim.AdamW instead, or set `no_deprecation_warning=True` to disable this warning\n",
            "  warnings.warn(\n"
          ]
        },
        {
          "output_type": "display_data",
          "data": {
            "text/plain": [
              "<IPython.core.display.HTML object>"
            ],
            "text/html": [
              "\n",
              "    <div>\n",
              "      \n",
              "      <progress value='770' max='770' style='width:300px; height:20px; vertical-align: middle;'></progress>\n",
              "      [770/770 06:42, Epoch 5/5]\n",
              "    </div>\n",
              "    <table border=\"1\" class=\"dataframe\">\n",
              "  <thead>\n",
              " <tr style=\"text-align: left;\">\n",
              "      <th>Step</th>\n",
              "      <th>Training Loss</th>\n",
              "      <th>Validation Loss</th>\n",
              "      <th>Accuracy</th>\n",
              "    </tr>\n",
              "  </thead>\n",
              "  <tbody>\n",
              "    <tr>\n",
              "      <td>50</td>\n",
              "      <td>1.058200</td>\n",
              "      <td>1.007590</td>\n",
              "      <td>0.494290</td>\n",
              "    </tr>\n",
              "    <tr>\n",
              "      <td>100</td>\n",
              "      <td>0.944900</td>\n",
              "      <td>0.962383</td>\n",
              "      <td>0.481240</td>\n",
              "    </tr>\n",
              "    <tr>\n",
              "      <td>150</td>\n",
              "      <td>0.906700</td>\n",
              "      <td>0.788853</td>\n",
              "      <td>0.675367</td>\n",
              "    </tr>\n",
              "    <tr>\n",
              "      <td>200</td>\n",
              "      <td>0.822800</td>\n",
              "      <td>0.882754</td>\n",
              "      <td>0.598695</td>\n",
              "    </tr>\n",
              "    <tr>\n",
              "      <td>250</td>\n",
              "      <td>0.945000</td>\n",
              "      <td>0.752794</td>\n",
              "      <td>0.667210</td>\n",
              "    </tr>\n",
              "    <tr>\n",
              "      <td>300</td>\n",
              "      <td>0.990200</td>\n",
              "      <td>0.718278</td>\n",
              "      <td>0.657423</td>\n",
              "    </tr>\n",
              "    <tr>\n",
              "      <td>350</td>\n",
              "      <td>0.643100</td>\n",
              "      <td>0.625987</td>\n",
              "      <td>0.719413</td>\n",
              "    </tr>\n",
              "    <tr>\n",
              "      <td>400</td>\n",
              "      <td>0.781800</td>\n",
              "      <td>0.814145</td>\n",
              "      <td>0.655791</td>\n",
              "    </tr>\n",
              "    <tr>\n",
              "      <td>450</td>\n",
              "      <td>0.598300</td>\n",
              "      <td>0.783055</td>\n",
              "      <td>0.690049</td>\n",
              "    </tr>\n",
              "    <tr>\n",
              "      <td>500</td>\n",
              "      <td>0.574400</td>\n",
              "      <td>0.606931</td>\n",
              "      <td>0.732463</td>\n",
              "    </tr>\n",
              "    <tr>\n",
              "      <td>550</td>\n",
              "      <td>0.564200</td>\n",
              "      <td>0.623138</td>\n",
              "      <td>0.730832</td>\n",
              "    </tr>\n",
              "    <tr>\n",
              "      <td>600</td>\n",
              "      <td>0.600200</td>\n",
              "      <td>0.628611</td>\n",
              "      <td>0.730832</td>\n",
              "    </tr>\n",
              "    <tr>\n",
              "      <td>650</td>\n",
              "      <td>0.508100</td>\n",
              "      <td>0.609853</td>\n",
              "      <td>0.750408</td>\n",
              "    </tr>\n",
              "    <tr>\n",
              "      <td>700</td>\n",
              "      <td>0.603800</td>\n",
              "      <td>0.712227</td>\n",
              "      <td>0.712887</td>\n",
              "    </tr>\n",
              "    <tr>\n",
              "      <td>750</td>\n",
              "      <td>0.519700</td>\n",
              "      <td>0.615449</td>\n",
              "      <td>0.743883</td>\n",
              "    </tr>\n",
              "  </tbody>\n",
              "</table><p>"
            ]
          },
          "metadata": {}
        },
        {
          "output_type": "stream",
          "name": "stdout",
          "text": [
            "***** train metrics *****\n",
            "  epoch                    =         5.0\n",
            "  total_flos               = 884451758GF\n",
            "  train_loss               =      0.7807\n",
            "  train_runtime            =  0:06:42.59\n",
            "  train_samples_per_second =       30.44\n",
            "  train_steps_per_second   =       1.913\n"
          ]
        },
        {
          "output_type": "display_data",
          "data": {
            "text/plain": [
              "<IPython.core.display.HTML object>"
            ],
            "text/html": [
              "Waiting for W&B process to finish... <strong style=\"color:green\">(success).</strong>"
            ]
          },
          "metadata": {}
        },
        {
          "output_type": "display_data",
          "data": {
            "text/plain": [
              "VBox(children=(Label(value='0.002 MB of 0.002 MB uploaded (0.000 MB deduped)\\r'), FloatProgress(value=1.0, max…"
            ],
            "application/vnd.jupyter.widget-view+json": {
              "version_major": 2,
              "version_minor": 0,
              "model_id": "fe15697ef5e440978bf3a7d292eee167"
            }
          },
          "metadata": {}
        },
        {
          "output_type": "display_data",
          "data": {
            "text/plain": [
              "<IPython.core.display.HTML object>"
            ],
            "text/html": [
              "<style>\n",
              "    table.wandb td:nth-child(1) { padding: 0 10px; text-align: left ; width: auto;} td:nth-child(2) {text-align: left ; width: 100%}\n",
              "    .wandb-row { display: flex; flex-direction: row; flex-wrap: wrap; justify-content: flex-start; width: 100% }\n",
              "    .wandb-col { display: flex; flex-direction: column; flex-basis: 100%; flex: 1; padding: 10px; }\n",
              "    </style>\n",
              "<div class=\"wandb-row\"><div class=\"wandb-col\"><h3>Run history:</h3><br/><table class=\"wandb\"><tr><td>eval/accuracy</td><td>▁▁▆▄▆▆▇▆▆█▇▇█▇█</td></tr><tr><td>eval/loss</td><td>█▇▄▆▄▃▁▅▄▁▁▁▁▃▁</td></tr><tr><td>eval/runtime</td><td>▂▂▄▃▃▁▁▃█▅▆▃▂▅▄</td></tr><tr><td>eval/samples_per_second</td><td>▆▇▅▆▆██▆▁▄▃▆▇▃▅</td></tr><tr><td>eval/steps_per_second</td><td>▆▇▅▆▆██▆▁▄▃▆▇▃▅</td></tr><tr><td>train/epoch</td><td>▁▁▁▂▂▂▂▂▂▃▃▃▃▃▄▄▄▄▄▄▅▅▅▅▅▆▆▆▆▆▆▇▇▇▇▇▇███</td></tr><tr><td>train/global_step</td><td>▁▁▁▂▂▂▂▂▂▃▃▃▃▃▄▄▄▄▄▄▅▅▅▅▅▆▆▆▆▆▆▇▇▇▇▇▇███</td></tr><tr><td>train/learning_rate</td><td>████▇▇▇▇▇▆▆▆▆▆▆▅▅▅▅▅▅▄▄▄▄▄▃▃▃▃▃▂▂▂▂▂▂▁▁▁</td></tr><tr><td>train/loss</td><td>█▄▃▃▂▂▃▂▂▂▂▂▂▂▂▃▂▂▁▂▂▂▁▁▂▂▁▂▁▁▁▂▁▁▂▁▁▁▁▁</td></tr><tr><td>train/total_flos</td><td>▁</td></tr><tr><td>train/train_loss</td><td>▁</td></tr><tr><td>train/train_runtime</td><td>▁</td></tr><tr><td>train/train_samples_per_second</td><td>▁</td></tr><tr><td>train/train_steps_per_second</td><td>▁</td></tr></table><br/></div><div class=\"wandb-col\"><h3>Run summary:</h3><br/><table class=\"wandb\"><tr><td>eval/accuracy</td><td>0.74388</td></tr><tr><td>eval/loss</td><td>0.61545</td></tr><tr><td>eval/runtime</td><td>8.7986</td></tr><tr><td>eval/samples_per_second</td><td>69.67</td></tr><tr><td>eval/steps_per_second</td><td>8.751</td></tr><tr><td>train/epoch</td><td>5.0</td></tr><tr><td>train/global_step</td><td>770</td></tr><tr><td>train/learning_rate</td><td>0.0</td></tr><tr><td>train/loss</td><td>0.5562</td></tr><tr><td>train/total_flos</td><td>9.496728442678579e+17</td></tr><tr><td>train/train_loss</td><td>0.78066</td></tr><tr><td>train/train_runtime</td><td>402.5993</td></tr><tr><td>train/train_samples_per_second</td><td>30.44</td></tr><tr><td>train/train_steps_per_second</td><td>1.913</td></tr></table><br/></div></div>"
            ]
          },
          "metadata": {}
        },
        {
          "output_type": "display_data",
          "data": {
            "text/plain": [
              "<IPython.core.display.HTML object>"
            ],
            "text/html": [
              " View run <strong style=\"color:#cdcd00\">feasible-sun-2</strong> at: <a href='https://wandb.ai/deep_bekeif/cnn_with_aug/runs/9zzbef2a' target=\"_blank\">https://wandb.ai/deep_bekeif/cnn_with_aug/runs/9zzbef2a</a><br/>Synced 5 W&B file(s), 0 media file(s), 0 artifact file(s) and 0 other file(s)"
            ]
          },
          "metadata": {}
        },
        {
          "output_type": "display_data",
          "data": {
            "text/plain": [
              "<IPython.core.display.HTML object>"
            ],
            "text/html": [
              "Find logs at: <code>./wandb/run-20230702_112647-9zzbef2a/logs</code>"
            ]
          },
          "metadata": {}
        }
      ]
    },
    {
      "cell_type": "code",
      "source": [
        "#display Confusion Matrix\n",
        "pred = trainer.predict(test_dataset)\n",
        "\n",
        "cm_display = met.ConfusionMatrixDisplay(confusion_matrix = compute_metrics(pred), display_labels = labels_names)\n",
        "\n",
        "cm_display.plot()\n",
        "plt.show()"
      ],
      "metadata": {
        "colab": {
          "base_uri": "https://localhost:8080/",
          "height": 449
        },
        "id": "p8k46NAXXsdk",
        "outputId": "1e438153-6ff2-4303-8e29-4d0107b0753f"
      },
      "execution_count": null,
      "outputs": [
        {
          "output_type": "display_data",
          "data": {
            "text/plain": [
              "<IPython.core.display.HTML object>"
            ],
            "text/html": []
          },
          "metadata": {}
        },
        {
          "output_type": "display_data",
          "data": {
            "text/plain": [
              "<Figure size 640x480 with 2 Axes>"
            ],
            "image/png": "[encoded data removed]"
          },
          "metadata": {}
        }
      ]
    },
    {
      "cell_type": "markdown",
      "source": [
        "#EfficientFormer"
      ],
      "metadata": {
        "id": "35MYeAQp5MRs"
      }
    },
    {
      "cell_type": "markdown",
      "source": [
        "###Import and create model"
      ],
      "metadata": {
        "id": "9EXj9vb45cun"
      }
    },
    {
      "cell_type": "code",
      "source": [
        "from transformers import EfficientFormerForImageClassification\n",
        "from transformers import AutoImageProcessor\n",
        "\n",
        "# define the EfficientFormer Model\n",
        "def model_init():\n",
        "  model = EfficientFormerForImageClassification.from_pretrained(\"snap-research/efficientformer-l1-300\")\n",
        "  model.config.label2id = {tumor_type: i for i, tumor_type in enumerate(labels_names)}\n",
        "  model.config.num_labels = len(labels_names)\n",
        "  model.config.id2label = {str(i): tumor_type for i, tumor_type in enumerate(labels_names)}\n",
        "  return model"
      ],
      "metadata": {
        "id": "uQb9OvgC5NST"
      },
      "execution_count": 13,
      "outputs": []
    },
    {
      "cell_type": "markdown",
      "source": [
        "##Create Transforms"
      ],
      "metadata": {
        "id": "v0l6ll_l6FdW"
      }
    },
    {
      "cell_type": "code",
      "source": [
        "torch.cuda.empty_cache()\n",
        "# Define the augmentation pipeline with imgaug\n",
        "augmenter = iaa.Sequential([\n",
        "    iaa.Fliplr(0.5),  # horizontally flip with probability of 0.5\n",
        "    iaa.Sometimes(0.3, iaa.GaussianBlur((0, 1.0))),  # apply Gaussian blur with probability of 0.3\n",
        "    iaa.Sometimes(0.5, iaa.SaltAndPepper(0.05)),  # Add Salt and Pepper noise with probability of 0.5\n",
        "    iaa.Sometimes(0.3, iaa.AdditivePoissonNoise(lam=(0, 30))),  # Add Poisson noise with probability of 0.3\n",
        "])\n",
        "\n",
        "# imgaug works with numpy images (HWC) but torchvision with PIL images, so we have to convert\n",
        "imgaug_transform = Lambda(lambda img: augmenter.augment_image(np.array(img)))\n",
        "\n",
        "# Define transformations for the train dataset (without augmentation)\n",
        "train_transforms_without_aug = transforms.Compose([\n",
        "    transforms.Resize((224, 224),interpolation=Image.BILINEAR),  # Resize 512x512 images to 224x224 using bilinear interpolation\n",
        "    transforms.ToTensor(),  # Convert image to PyTorch tensor and automatically rescale to [0,1] by dividing by 255\n",
        "    transforms.Normalize((0.5, 0.5, 0.5), (0.5, 0.5, 0.5))  # Normalize image tensor to range [-1,1]\n",
        "])\n",
        "\n",
        "# Define transformations for the train dataset (including augmentation)\n",
        "train_transforms_with_aug = transforms.Compose([\n",
        "    transforms.Resize((224, 224),interpolation=Image.BILINEAR),  # Resize 512x512 images to 224x224 using bilinear interpolation\n",
        "    imgaug_transform,\n",
        "    transforms.ToTensor(),  # Convert image to PyTorch tensor and automatically rescale to [0,1] by dividing by 255\n",
        "    transforms.Normalize((0.5, 0.5, 0.5), (0.5, 0.5, 0.5))  # Normalize image tensor to range [-1,1]\n",
        "])\n",
        "\n",
        "# Define transformations for the test dataset\n",
        "test_transforms = transforms.Compose([\n",
        "    transforms.Resize((224, 224),interpolation=Image.BILINEAR),  # Resize 512x512 images to 224x224 using bilinear interpolation\n",
        "    transforms.ToTensor(),  # Convert image to PyTorch tensor and automatically rescale to [0,1] by dividing by 255\n",
        "    transforms.Normalize((0.5, 0.5, 0.5), (0.5, 0.5, 0.5))  # Normalize image tensor to range [-1,1]\n",
        "])"
      ],
      "metadata": {
        "id": "Kkpepp-U5nHM"
      },
      "execution_count": 9,
      "outputs": []
    },
    {
      "cell_type": "markdown",
      "source": [
        "## Without Augmentation"
      ],
      "metadata": {
        "id": "KN_LdgEo6gFh"
      }
    },
    {
      "cell_type": "code",
      "source": [
        "#This needs to be re-defined when the notebook is this long:\n",
        "def collate_fn(batch):\n",
        "    return {\n",
        "        'pixel_values': torch.stack([x['pixel_values'] for x in batch]),\n",
        "        'labels': torch.tensor([x['labels'] for x in batch])\n",
        "    }\n",
        "\n",
        "metric = load_metric(\"accuracy\")\n",
        "\n",
        "def compute_metrics(p):\n",
        "    return metric.compute(predictions=np.argmax(p.predictions, axis=1), references=p.label_ids)"
      ],
      "metadata": {
        "id": "nNxjVzTU-8Et"
      },
      "execution_count": 10,
      "outputs": []
    },
    {
      "cell_type": "code",
      "source": [
        "# Load the datasets from folders and process the dataset with the transform\n",
        "train_dataset = ImageFolder(data_path + '/brain_dataset/train', transform=train_transforms_without_aug)\n",
        "test_dataset = ImageFolder(data_path + '/brain_dataset/test', transform=test_transforms)"
      ],
      "metadata": {
        "id": "usHAE5GE6gfD"
      },
      "execution_count": 11,
      "outputs": []
    },
    {
      "cell_type": "code",
      "source": [
        "# Initialize a new run\n",
        "\n",
        "# Define the TrainingArguments\n",
        "training_args = TrainingArguments(\n",
        "  output_dir=output_vit_no_aug,\n",
        "  per_device_train_batch_size=16,\n",
        "  evaluation_strategy=\"steps\",\n",
        "  num_train_epochs=15,\n",
        "  fp16=True,\n",
        "  save_steps=100,#100\n",
        "  eval_steps=50,#100\n",
        "  logging_steps=10,\n",
        "  learning_rate=2e-4,\n",
        "  save_total_limit=2,\n",
        "  remove_unused_columns=False,\n",
        "  push_to_hub=False,\n",
        "  report_to='wandb',\n",
        "  load_best_model_at_end=True,\n",
        "  seed = seed\n",
        ")\n",
        "\n",
        "\n",
        "trainer = Trainer(\n",
        "    model_init=model_init,\n",
        "    args=training_args,\n",
        "    compute_metrics=compute_metrics,\n",
        "    train_dataset=train_dataset,\n",
        "    eval_dataset=test_dataset,\n",
        "    data_collator= lambda samples: {'pixel_values': torch.stack([sample[0] for sample in samples]),\n",
        "                                   'labels': torch.tensor([sample[1] for sample in samples])},\n",
        ")"
      ],
      "metadata": {
        "colab": {
          "base_uri": "https://localhost:8080/"
        },
        "id": "OylaRYOP6xDF",
        "outputId": "586e9c1f-7f33-4a69-828f-df3108dd6ace"
      },
      "execution_count": 18,
      "outputs": [
        {
          "output_type": "stream",
          "name": "stderr",
          "text": [
            "Some weights of the model checkpoint at snap-research/efficientformer-l1-300 were not used when initializing EfficientFormerForImageClassification: ['distillation_classifier.bias', 'distillation_classifier.weight']\n",
            "- This IS expected if you are initializing EfficientFormerForImageClassification from the checkpoint of a model trained on another task or with another architecture (e.g. initializing a BertForSequenceClassification model from a BertForPreTraining model).\n",
            "- This IS NOT expected if you are initializing EfficientFormerForImageClassification from the checkpoint of a model that you expect to be exactly identical (initializing a BertForSequenceClassification model from a BertForSequenceClassification model).\n"
          ]
        }
      ]
    },
    {
      "cell_type": "code",
      "source": [
        "wandb.init(project=\"eff_vit_with_aug\")\n",
        "#Train model:\n",
        "train_results = trainer.train()\n",
        "trainer.save_model()\n",
        "trainer.log_metrics(\"train\", train_results.metrics)\n",
        "trainer.save_metrics(\"train\", train_results.metrics)\n",
        "trainer.save_state()\n",
        "wandb.finish()"
      ],
      "metadata": {
        "colab": {
          "base_uri": "https://localhost:8080/",
          "height": 1000,
          "referenced_widgets": [
            "d84568dfd5154dc28bf0b55684e317a0",
            "0b071901c80a442a8f77d43712f8bfd0",
            "f182459aef0e4bd0aa38bfd5b9e6e1fb",
            "86ec1480b3bc41d098970a75294ab83d",
            "daae331cb81c493da12822750e7cb8ba",
            "55d3d2c481564c5db094b016db76ff4b",
            "0b146b7f58a44e9aa5f2644f0aeea8bd",
            "6d82c55b9be745cba015af009c81f364"
          ]
        },
        "id": "LEkPJOsV0UYl",
        "outputId": "864b6ded-7499-468c-a2eb-55ffddc17e54"
      },
      "execution_count": 19,
      "outputs": [
        {
          "metadata": {
            "tags": null
          },
          "name": "stderr",
          "output_type": "stream",
          "text": [
            "\u001b[34m\u001b[1mwandb\u001b[0m: Currently logged in as: \u001b[33mlitvingil\u001b[0m (\u001b[33mdeep_bekeif\u001b[0m). Use \u001b[1m`wandb login --relogin`\u001b[0m to force relogin\n"
          ]
        },
        {
          "data": {
            "text/html": [
              "Tracking run with wandb version 0.15.5"
            ],
            "text/plain": [
              "<IPython.core.display.HTML object>"
            ]
          },
          "metadata": {},
          "output_type": "display_data"
        },
        {
          "data": {
            "text/html": [
              "Run data is saved locally in <code>/content/wandb/run-20230706_113607-3npklywb</code>"
            ],
            "text/plain": [
              "<IPython.core.display.HTML object>"
            ]
          },
          "metadata": {},
          "output_type": "display_data"
        },
        {
          "data": {
            "text/html": [
              "Syncing run <strong><a href='https://wandb.ai/deep_bekeif/eff_vit_with_aug/runs/3npklywb' target=\"_blank\">sparkling-violet-3</a></strong> to <a href='https://wandb.ai/deep_bekeif/eff_vit_with_aug' target=\"_blank\">Weights & Biases</a> (<a href='https://wandb.me/run' target=\"_blank\">docs</a>)<br/>"
            ],
            "text/plain": [
              "<IPython.core.display.HTML object>"
            ]
          },
          "metadata": {},
          "output_type": "display_data"
        },
        {
          "data": {
            "text/html": [
              " View project at <a href='https://wandb.ai/deep_bekeif/eff_vit_with_aug' target=\"_blank\">https://wandb.ai/deep_bekeif/eff_vit_with_aug</a>"
            ],
            "text/plain": [
              "<IPython.core.display.HTML object>"
            ]
          },
          "metadata": {},
          "output_type": "display_data"
        },
        {
          "data": {
            "text/html": [
              " View run at <a href='https://wandb.ai/deep_bekeif/eff_vit_with_aug/runs/3npklywb' target=\"_blank\">https://wandb.ai/deep_bekeif/eff_vit_with_aug/runs/3npklywb</a>"
            ],
            "text/plain": [
              "<IPython.core.display.HTML object>"
            ]
          },
          "metadata": {},
          "output_type": "display_data"
        },
        {
          "metadata": {
            "tags": null
          },
          "name": "stderr",
          "output_type": "stream",
          "text": [
            "Some weights of the model checkpoint at snap-research/efficientformer-l1-300 were not used when initializing EfficientFormerForImageClassification: ['distillation_classifier.bias', 'distillation_classifier.weight']\n",
            "- This IS expected if you are initializing EfficientFormerForImageClassification from the checkpoint of a model trained on another task or with another architecture (e.g. initializing a BertForSequenceClassification model from a BertForPreTraining model).\n",
            "- This IS NOT expected if you are initializing EfficientFormerForImageClassification from the checkpoint of a model that you expect to be exactly identical (initializing a BertForSequenceClassification model from a BertForSequenceClassification model).\n",
            "/usr/local/lib/python3.10/dist-packages/transformers/optimization.py:411: FutureWarning: This implementation of AdamW is deprecated and will be removed in a future version. Use the PyTorch implementation torch.optim.AdamW instead, or set `no_deprecation_warning=True` to disable this warning\n",
            "  warnings.warn(\n"
          ]
        },
        {
          "data": {
            "text/html": [
              "\n",
              "    <div>\n",
              "      \n",
              "      <progress value='515' max='2310' style='width:300px; height:20px; vertical-align: middle;'></progress>\n",
              "      [ 515/2310 03:15 < 11:25, 2.62 it/s, Epoch 3.34/15]\n",
              "    </div>\n",
              "    <table border=\"1\" class=\"dataframe\">\n",
              "  <thead>\n",
              " <tr style=\"text-align: left;\">\n",
              "      <th>Step</th>\n",
              "      <th>Training Loss</th>\n",
              "      <th>Validation Loss</th>\n",
              "      <th>Accuracy</th>\n",
              "    </tr>\n",
              "  </thead>\n",
              "  <tbody>\n",
              "    <tr>\n",
              "      <td>50</td>\n",
              "      <td>0.497700</td>\n",
              "      <td>1.165688</td>\n",
              "      <td>0.649266</td>\n",
              "    </tr>\n",
              "    <tr>\n",
              "      <td>100</td>\n",
              "      <td>0.426300</td>\n",
              "      <td>0.329744</td>\n",
              "      <td>0.882545</td>\n",
              "    </tr>\n",
              "    <tr>\n",
              "      <td>150</td>\n",
              "      <td>0.221000</td>\n",
              "      <td>0.308642</td>\n",
              "      <td>0.903752</td>\n",
              "    </tr>\n",
              "    <tr>\n",
              "      <td>200</td>\n",
              "      <td>0.197200</td>\n",
              "      <td>0.184380</td>\n",
              "      <td>0.960848</td>\n",
              "    </tr>\n",
              "    <tr>\n",
              "      <td>250</td>\n",
              "      <td>0.166100</td>\n",
              "      <td>0.507530</td>\n",
              "      <td>0.838499</td>\n",
              "    </tr>\n",
              "    <tr>\n",
              "      <td>300</td>\n",
              "      <td>0.057100</td>\n",
              "      <td>0.495160</td>\n",
              "      <td>0.897227</td>\n",
              "    </tr>\n",
              "    <tr>\n",
              "      <td>350</td>\n",
              "      <td>0.024100</td>\n",
              "      <td>0.116779</td>\n",
              "      <td>0.977162</td>\n",
              "    </tr>\n",
              "    <tr>\n",
              "      <td>400</td>\n",
              "      <td>0.002900</td>\n",
              "      <td>0.345643</td>\n",
              "      <td>0.949429</td>\n",
              "    </tr>\n",
              "    <tr>\n",
              "      <td>450</td>\n",
              "      <td>0.025400</td>\n",
              "      <td>0.251672</td>\n",
              "      <td>0.959217</td>\n",
              "    </tr>\n",
              "    <tr>\n",
              "      <td>500</td>\n",
              "      <td>0.019300</td>\n",
              "      <td>0.119560</td>\n",
              "      <td>0.977162</td>\n",
              "    </tr>\n",
              "  </tbody>\n",
              "</table><p>"
            ],
            "text/plain": [
              "<IPython.core.display.HTML object>"
            ]
          },
          "metadata": {},
          "output_type": "display_data"
        },
        {
          "output_type": "display_data",
          "data": {
            "text/plain": [
              "<IPython.core.display.HTML object>"
            ],
            "text/html": [
              "\n",
              "    <div>\n",
              "      \n",
              "      <progress value='2310' max='2310' style='width:300px; height:20px; vertical-align: middle;'></progress>\n",
              "      [2310/2310 14:48, Epoch 15/15]\n",
              "    </div>\n",
              "    <table border=\"1\" class=\"dataframe\">\n",
              "  <thead>\n",
              " <tr style=\"text-align: left;\">\n",
              "      <th>Step</th>\n",
              "      <th>Training Loss</th>\n",
              "      <th>Validation Loss</th>\n",
              "      <th>Accuracy</th>\n",
              "    </tr>\n",
              "  </thead>\n",
              "  <tbody>\n",
              "    <tr>\n",
              "      <td>50</td>\n",
              "      <td>0.497700</td>\n",
              "      <td>1.165688</td>\n",
              "      <td>0.649266</td>\n",
              "    </tr>\n",
              "    <tr>\n",
              "      <td>100</td>\n",
              "      <td>0.426300</td>\n",
              "      <td>0.329744</td>\n",
              "      <td>0.882545</td>\n",
              "    </tr>\n",
              "    <tr>\n",
              "      <td>150</td>\n",
              "      <td>0.221000</td>\n",
              "      <td>0.308642</td>\n",
              "      <td>0.903752</td>\n",
              "    </tr>\n",
              "    <tr>\n",
              "      <td>200</td>\n",
              "      <td>0.197200</td>\n",
              "      <td>0.184380</td>\n",
              "      <td>0.960848</td>\n",
              "    </tr>\n",
              "    <tr>\n",
              "      <td>250</td>\n",
              "      <td>0.166100</td>\n",
              "      <td>0.507530</td>\n",
              "      <td>0.838499</td>\n",
              "    </tr>\n",
              "    <tr>\n",
              "      <td>300</td>\n",
              "      <td>0.057100</td>\n",
              "      <td>0.495160</td>\n",
              "      <td>0.897227</td>\n",
              "    </tr>\n",
              "    <tr>\n",
              "      <td>350</td>\n",
              "      <td>0.024100</td>\n",
              "      <td>0.116779</td>\n",
              "      <td>0.977162</td>\n",
              "    </tr>\n",
              "    <tr>\n",
              "      <td>400</td>\n",
              "      <td>0.002900</td>\n",
              "      <td>0.345643</td>\n",
              "      <td>0.949429</td>\n",
              "    </tr>\n",
              "    <tr>\n",
              "      <td>450</td>\n",
              "      <td>0.025400</td>\n",
              "      <td>0.251672</td>\n",
              "      <td>0.959217</td>\n",
              "    </tr>\n",
              "    <tr>\n",
              "      <td>500</td>\n",
              "      <td>0.019300</td>\n",
              "      <td>0.119560</td>\n",
              "      <td>0.977162</td>\n",
              "    </tr>\n",
              "    <tr>\n",
              "      <td>550</td>\n",
              "      <td>0.006200</td>\n",
              "      <td>0.113984</td>\n",
              "      <td>0.978793</td>\n",
              "    </tr>\n",
              "    <tr>\n",
              "      <td>600</td>\n",
              "      <td>0.041300</td>\n",
              "      <td>0.169076</td>\n",
              "      <td>0.967374</td>\n",
              "    </tr>\n",
              "    <tr>\n",
              "      <td>650</td>\n",
              "      <td>0.000000</td>\n",
              "      <td>0.128103</td>\n",
              "      <td>0.980424</td>\n",
              "    </tr>\n",
              "    <tr>\n",
              "      <td>700</td>\n",
              "      <td>0.000300</td>\n",
              "      <td>0.137957</td>\n",
              "      <td>0.975530</td>\n",
              "    </tr>\n",
              "    <tr>\n",
              "      <td>750</td>\n",
              "      <td>0.000500</td>\n",
              "      <td>0.076592</td>\n",
              "      <td>0.982055</td>\n",
              "    </tr>\n",
              "    <tr>\n",
              "      <td>800</td>\n",
              "      <td>0.000100</td>\n",
              "      <td>0.208434</td>\n",
              "      <td>0.973899</td>\n",
              "    </tr>\n",
              "    <tr>\n",
              "      <td>850</td>\n",
              "      <td>0.000000</td>\n",
              "      <td>0.152724</td>\n",
              "      <td>0.977162</td>\n",
              "    </tr>\n",
              "    <tr>\n",
              "      <td>900</td>\n",
              "      <td>0.000000</td>\n",
              "      <td>0.121889</td>\n",
              "      <td>0.970636</td>\n",
              "    </tr>\n",
              "    <tr>\n",
              "      <td>950</td>\n",
              "      <td>0.011400</td>\n",
              "      <td>0.068255</td>\n",
              "      <td>0.988581</td>\n",
              "    </tr>\n",
              "    <tr>\n",
              "      <td>1000</td>\n",
              "      <td>0.000500</td>\n",
              "      <td>0.180906</td>\n",
              "      <td>0.975530</td>\n",
              "    </tr>\n",
              "    <tr>\n",
              "      <td>1050</td>\n",
              "      <td>0.000100</td>\n",
              "      <td>0.181584</td>\n",
              "      <td>0.980424</td>\n",
              "    </tr>\n",
              "    <tr>\n",
              "      <td>1100</td>\n",
              "      <td>0.000000</td>\n",
              "      <td>0.150022</td>\n",
              "      <td>0.982055</td>\n",
              "    </tr>\n",
              "    <tr>\n",
              "      <td>1150</td>\n",
              "      <td>0.000100</td>\n",
              "      <td>0.153902</td>\n",
              "      <td>0.980424</td>\n",
              "    </tr>\n",
              "    <tr>\n",
              "      <td>1200</td>\n",
              "      <td>0.000100</td>\n",
              "      <td>0.130018</td>\n",
              "      <td>0.980424</td>\n",
              "    </tr>\n",
              "    <tr>\n",
              "      <td>1250</td>\n",
              "      <td>0.000000</td>\n",
              "      <td>0.151560</td>\n",
              "      <td>0.982055</td>\n",
              "    </tr>\n",
              "    <tr>\n",
              "      <td>1300</td>\n",
              "      <td>0.000400</td>\n",
              "      <td>0.152844</td>\n",
              "      <td>0.983687</td>\n",
              "    </tr>\n",
              "    <tr>\n",
              "      <td>1350</td>\n",
              "      <td>0.002000</td>\n",
              "      <td>0.207546</td>\n",
              "      <td>0.978793</td>\n",
              "    </tr>\n",
              "    <tr>\n",
              "      <td>1400</td>\n",
              "      <td>0.000000</td>\n",
              "      <td>0.142784</td>\n",
              "      <td>0.982055</td>\n",
              "    </tr>\n",
              "    <tr>\n",
              "      <td>1450</td>\n",
              "      <td>0.000000</td>\n",
              "      <td>0.156371</td>\n",
              "      <td>0.977162</td>\n",
              "    </tr>\n",
              "    <tr>\n",
              "      <td>1500</td>\n",
              "      <td>0.000000</td>\n",
              "      <td>0.141886</td>\n",
              "      <td>0.978793</td>\n",
              "    </tr>\n",
              "    <tr>\n",
              "      <td>1550</td>\n",
              "      <td>0.000000</td>\n",
              "      <td>0.173622</td>\n",
              "      <td>0.977162</td>\n",
              "    </tr>\n",
              "    <tr>\n",
              "      <td>1600</td>\n",
              "      <td>0.000000</td>\n",
              "      <td>0.176020</td>\n",
              "      <td>0.975530</td>\n",
              "    </tr>\n",
              "    <tr>\n",
              "      <td>1650</td>\n",
              "      <td>0.000000</td>\n",
              "      <td>0.147501</td>\n",
              "      <td>0.980424</td>\n",
              "    </tr>\n",
              "    <tr>\n",
              "      <td>1700</td>\n",
              "      <td>0.000000</td>\n",
              "      <td>0.140108</td>\n",
              "      <td>0.983687</td>\n",
              "    </tr>\n",
              "    <tr>\n",
              "      <td>1750</td>\n",
              "      <td>0.000000</td>\n",
              "      <td>0.127862</td>\n",
              "      <td>0.985318</td>\n",
              "    </tr>\n",
              "    <tr>\n",
              "      <td>1800</td>\n",
              "      <td>0.000000</td>\n",
              "      <td>0.119874</td>\n",
              "      <td>0.986949</td>\n",
              "    </tr>\n",
              "    <tr>\n",
              "      <td>1850</td>\n",
              "      <td>0.000000</td>\n",
              "      <td>0.142275</td>\n",
              "      <td>0.983687</td>\n",
              "    </tr>\n",
              "    <tr>\n",
              "      <td>1900</td>\n",
              "      <td>0.000000</td>\n",
              "      <td>0.122612</td>\n",
              "      <td>0.988581</td>\n",
              "    </tr>\n",
              "    <tr>\n",
              "      <td>1950</td>\n",
              "      <td>0.000000</td>\n",
              "      <td>0.128685</td>\n",
              "      <td>0.986949</td>\n",
              "    </tr>\n",
              "    <tr>\n",
              "      <td>2000</td>\n",
              "      <td>0.000000</td>\n",
              "      <td>0.127153</td>\n",
              "      <td>0.986949</td>\n",
              "    </tr>\n",
              "    <tr>\n",
              "      <td>2050</td>\n",
              "      <td>0.000000</td>\n",
              "      <td>0.123158</td>\n",
              "      <td>0.988581</td>\n",
              "    </tr>\n",
              "    <tr>\n",
              "      <td>2100</td>\n",
              "      <td>0.000000</td>\n",
              "      <td>0.130948</td>\n",
              "      <td>0.986949</td>\n",
              "    </tr>\n",
              "    <tr>\n",
              "      <td>2150</td>\n",
              "      <td>0.000000</td>\n",
              "      <td>0.115738</td>\n",
              "      <td>0.990212</td>\n",
              "    </tr>\n",
              "    <tr>\n",
              "      <td>2200</td>\n",
              "      <td>0.000000</td>\n",
              "      <td>0.140264</td>\n",
              "      <td>0.983687</td>\n",
              "    </tr>\n",
              "    <tr>\n",
              "      <td>2250</td>\n",
              "      <td>0.000500</td>\n",
              "      <td>0.130639</td>\n",
              "      <td>0.985318</td>\n",
              "    </tr>\n",
              "    <tr>\n",
              "      <td>2300</td>\n",
              "      <td>0.000000</td>\n",
              "      <td>0.121154</td>\n",
              "      <td>0.990212</td>\n",
              "    </tr>\n",
              "  </tbody>\n",
              "</table><p>"
            ]
          },
          "metadata": {}
        },
        {
          "output_type": "stream",
          "name": "stdout",
          "text": [
            "***** train metrics *****\n",
            "  epoch                    =        15.0\n",
            "  total_flos               = 366175246GF\n",
            "  train_loss               =      0.0792\n",
            "  train_runtime            =  0:14:48.86\n",
            "  train_samples_per_second =      41.362\n",
            "  train_steps_per_second   =       2.599\n"
          ]
        },
        {
          "output_type": "display_data",
          "data": {
            "text/plain": [
              "<IPython.core.display.HTML object>"
            ],
            "text/html": [
              "Waiting for W&B process to finish... <strong style=\"color:green\">(success).</strong>"
            ]
          },
          "metadata": {}
        },
        {
          "output_type": "display_data",
          "data": {
            "text/plain": [
              "VBox(children=(Label(value='0.002 MB of 0.002 MB uploaded (0.000 MB deduped)\\r'), FloatProgress(value=1.0, max…"
            ],
            "application/vnd.jupyter.widget-view+json": {
              "version_major": 2,
              "version_minor": 0,
              "model_id": "d84568dfd5154dc28bf0b55684e317a0"
            }
          },
          "metadata": {}
        },
        {
          "output_type": "display_data",
          "data": {
            "text/plain": [
              "<IPython.core.display.HTML object>"
            ],
            "text/html": [
              "<style>\n",
              "    table.wandb td:nth-child(1) { padding: 0 10px; text-align: left ; width: auto;} td:nth-child(2) {text-align: left ; width: 100%}\n",
              "    .wandb-row { display: flex; flex-direction: row; flex-wrap: wrap; justify-content: flex-start; width: 100% }\n",
              "    .wandb-col { display: flex; flex-direction: column; flex-basis: 100%; flex: 1; padding: 10px; }\n",
              "    </style>\n",
              "<div class=\"wandb-row\"><div class=\"wandb-col\"><h3>Run history:</h3><br/><table class=\"wandb\"><tr><td>eval/accuracy</td><td>▁▆▆▇▅▆█▇████████████████████████████████</td></tr><tr><td>eval/loss</td><td>█▃▃▂▄▄▁▂▁▁▂▁▁▁▂▁▁▂▂▂▁▂▂▂▁▂▁▂▂▁▁▁▁▁▁▁▁▁▁▁</td></tr><tr><td>eval/runtime</td><td>▃▄▇▂▅▆▂▄▂█▃▅▅▄▂▅▆▁▆▃▅▂▄▆▂▆▁▆▃▅▆▂▇▆▅▁▅▁▄▆</td></tr><tr><td>eval/samples_per_second</td><td>▆▅▂▇▃▃▇▅▇▁▆▄▄▅▇▄▃█▃▆▄▇▄▃▇▃█▃▆▃▃▇▂▃▄█▄█▅▃</td></tr><tr><td>eval/steps_per_second</td><td>▆▅▂▇▃▃▇▅▇▁▆▄▄▅▇▄▃█▃▆▄▇▅▃▇▃█▃▆▃▃▇▂▃▄█▄█▅▃</td></tr><tr><td>train/epoch</td><td>▁▁▁▁▂▂▂▂▂▃▃▃▃▃▃▄▄▄▄▄▅▅▅▅▅▅▆▆▆▆▆▇▇▇▇▇▇███</td></tr><tr><td>train/global_step</td><td>▁▁▁▁▂▂▂▂▂▃▃▃▃▃▃▄▄▄▄▄▅▅▅▅▅▅▆▆▆▆▆▇▇▇▇▇▇███</td></tr><tr><td>train/learning_rate</td><td>████▇▇▇▇▇▆▆▆▆▆▆▅▅▅▅▅▄▄▄▄▄▄▃▃▃▃▃▂▂▂▂▂▂▁▁▁</td></tr><tr><td>train/loss</td><td>█▂▂▁▁▁▁▁▁▁▁▁▁▁▁▁▁▁▁▁▁▁▁▁▁▁▁▁▁▁▁▁▁▁▁▁▁▁▁▁</td></tr><tr><td>train/total_flos</td><td>▁</td></tr><tr><td>train/train_loss</td><td>▁</td></tr><tr><td>train/train_runtime</td><td>▁</td></tr><tr><td>train/train_samples_per_second</td><td>▁</td></tr><tr><td>train/train_steps_per_second</td><td>▁</td></tr></table><br/></div><div class=\"wandb-col\"><h3>Run summary:</h3><br/><table class=\"wandb\"><tr><td>eval/accuracy</td><td>0.99021</td></tr><tr><td>eval/loss</td><td>0.12115</td></tr><tr><td>eval/runtime</td><td>7.6554</td></tr><tr><td>eval/samples_per_second</td><td>80.074</td></tr><tr><td>eval/steps_per_second</td><td>10.058</td></tr><tr><td>train/epoch</td><td>15.0</td></tr><tr><td>train/global_step</td><td>2310</td></tr><tr><td>train/learning_rate</td><td>0.0</td></tr><tr><td>train/loss</td><td>0.0</td></tr><tr><td>train/total_flos</td><td>3.9317767701037056e+17</td></tr><tr><td>train/train_loss</td><td>0.0792</td></tr><tr><td>train/train_runtime</td><td>888.8612</td></tr><tr><td>train/train_samples_per_second</td><td>41.362</td></tr><tr><td>train/train_steps_per_second</td><td>2.599</td></tr></table><br/></div></div>"
            ]
          },
          "metadata": {}
        },
        {
          "output_type": "display_data",
          "data": {
            "text/plain": [
              "<IPython.core.display.HTML object>"
            ],
            "text/html": [
              " View run <strong style=\"color:#cdcd00\">sparkling-violet-3</strong> at: <a href='https://wandb.ai/deep_bekeif/eff_vit_with_aug/runs/3npklywb' target=\"_blank\">https://wandb.ai/deep_bekeif/eff_vit_with_aug/runs/3npklywb</a><br/>Synced 5 W&B file(s), 0 media file(s), 0 artifact file(s) and 0 other file(s)"
            ]
          },
          "metadata": {}
        },
        {
          "output_type": "display_data",
          "data": {
            "text/plain": [
              "<IPython.core.display.HTML object>"
            ],
            "text/html": [
              "Find logs at: <code>./wandb/run-20230706_113607-3npklywb/logs</code>"
            ]
          },
          "metadata": {}
        }
      ]
    },
    {
      "cell_type": "markdown",
      "source": [
        "## With Augmentation"
      ],
      "metadata": {
        "id": "QkWza8S27Di_"
      }
    },
    {
      "cell_type": "code",
      "source": [
        "# Load the datasets from folders and process the dataset with the transform\n",
        "train_dataset = ImageFolder(data_path + '/brain_dataset/train', transform=train_transforms_with_aug)\n",
        "test_dataset = ImageFolder(data_path + '/brain_dataset/test', transform=test_transforms)"
      ],
      "metadata": {
        "id": "7JXZl0q87I6e"
      },
      "execution_count": 20,
      "outputs": []
    },
    {
      "cell_type": "code",
      "source": [
        "# Initialize a new run\n",
        "\n",
        "# Define the TrainingArguments\n",
        "training_args = TrainingArguments(\n",
        "  output_dir=output_vit_no_aug,\n",
        "  per_device_train_batch_size=16,\n",
        "  evaluation_strategy=\"steps\",\n",
        "  num_train_epochs=15,\n",
        "  fp16=True,\n",
        "  save_steps=100,#100\n",
        "  eval_steps=50,#100\n",
        "  logging_steps=10,\n",
        "  learning_rate=2e-4,\n",
        "  save_total_limit=2,\n",
        "  remove_unused_columns=False,\n",
        "  push_to_hub=False,\n",
        "  report_to='wandb',\n",
        "  load_best_model_at_end=True,\n",
        "  seed = seed\n",
        ")\n",
        "\n",
        "\n",
        "trainer = Trainer(\n",
        "    model_init=model_init,\n",
        "    args=training_args,\n",
        "    compute_metrics=compute_metrics,\n",
        "    train_dataset=train_dataset,\n",
        "    eval_dataset=test_dataset,\n",
        "    data_collator= lambda samples: {'pixel_values': torch.stack([sample[0] for sample in samples]),\n",
        "                                   'labels': torch.tensor([sample[1] for sample in samples])},\n",
        ")"
      ],
      "metadata": {
        "colab": {
          "base_uri": "https://localhost:8080/"
        },
        "id": "OOw_iq5D7Ob3",
        "outputId": "39d59350-4bdb-4265-f2b3-9e9d0b75366d"
      },
      "execution_count": 21,
      "outputs": [
        {
          "output_type": "stream",
          "name": "stderr",
          "text": [
            "Some weights of the model checkpoint at snap-research/efficientformer-l1-300 were not used when initializing EfficientFormerForImageClassification: ['distillation_classifier.bias', 'distillation_classifier.weight']\n",
            "- This IS expected if you are initializing EfficientFormerForImageClassification from the checkpoint of a model trained on another task or with another architecture (e.g. initializing a BertForSequenceClassification model from a BertForPreTraining model).\n",
            "- This IS NOT expected if you are initializing EfficientFormerForImageClassification from the checkpoint of a model that you expect to be exactly identical (initializing a BertForSequenceClassification model from a BertForSequenceClassification model).\n"
          ]
        }
      ]
    },
    {
      "cell_type": "code",
      "source": [
        "wandb.init(project=\"eff_vit_with_aug\")\n",
        "#Train model:\n",
        "train_results = trainer.train()\n",
        "trainer.save_model()\n",
        "trainer.log_metrics(\"train\", train_results.metrics)\n",
        "trainer.save_metrics(\"train\", train_results.metrics)\n",
        "trainer.save_state()\n",
        "wandb.finish()"
      ],
      "metadata": {
        "id": "6J9ZcKOV7Q5V",
        "colab": {
          "base_uri": "https://localhost:8080/",
          "height": 1000
        },
        "outputId": "590a3126-da27-469e-8f29-b23f0315cf27"
      },
      "execution_count": 22,
      "outputs": [
        {
          "data": {
            "text/html": [
              "Tracking run with wandb version 0.15.5"
            ],
            "text/plain": [
              "<IPython.core.display.HTML object>"
            ]
          },
          "metadata": {},
          "output_type": "display_data"
        },
        {
          "data": {
            "text/html": [
              "Run data is saved locally in <code>/content/wandb/run-20230706_115243-p2yt98i0</code>"
            ],
            "text/plain": [
              "<IPython.core.display.HTML object>"
            ]
          },
          "metadata": {},
          "output_type": "display_data"
        },
        {
          "data": {
            "text/html": [
              "Syncing run <strong><a href='https://wandb.ai/deep_bekeif/eff_vit_with_aug/runs/p2yt98i0' target=\"_blank\">expert-paper-4</a></strong> to <a href='https://wandb.ai/deep_bekeif/eff_vit_with_aug' target=\"_blank\">Weights & Biases</a> (<a href='https://wandb.me/run' target=\"_blank\">docs</a>)<br/>"
            ],
            "text/plain": [
              "<IPython.core.display.HTML object>"
            ]
          },
          "metadata": {},
          "output_type": "display_data"
        },
        {
          "data": {
            "text/html": [
              " View project at <a href='https://wandb.ai/deep_bekeif/eff_vit_with_aug' target=\"_blank\">https://wandb.ai/deep_bekeif/eff_vit_with_aug</a>"
            ],
            "text/plain": [
              "<IPython.core.display.HTML object>"
            ]
          },
          "metadata": {},
          "output_type": "display_data"
        },
        {
          "data": {
            "text/html": [
              " View run at <a href='https://wandb.ai/deep_bekeif/eff_vit_with_aug/runs/p2yt98i0' target=\"_blank\">https://wandb.ai/deep_bekeif/eff_vit_with_aug/runs/p2yt98i0</a>"
            ],
            "text/plain": [
              "<IPython.core.display.HTML object>"
            ]
          },
          "metadata": {},
          "output_type": "display_data"
        },
        {
          "metadata": {
            "tags": null
          },
          "name": "stderr",
          "output_type": "stream",
          "text": [
            "Some weights of the model checkpoint at snap-research/efficientformer-l1-300 were not used when initializing EfficientFormerForImageClassification: ['distillation_classifier.bias', 'distillation_classifier.weight']\n",
            "- This IS expected if you are initializing EfficientFormerForImageClassification from the checkpoint of a model trained on another task or with another architecture (e.g. initializing a BertForSequenceClassification model from a BertForPreTraining model).\n",
            "- This IS NOT expected if you are initializing EfficientFormerForImageClassification from the checkpoint of a model that you expect to be exactly identical (initializing a BertForSequenceClassification model from a BertForSequenceClassification model).\n",
            "/usr/local/lib/python3.10/dist-packages/transformers/optimization.py:411: FutureWarning: This implementation of AdamW is deprecated and will be removed in a future version. Use the PyTorch implementation torch.optim.AdamW instead, or set `no_deprecation_warning=True` to disable this warning\n",
            "  warnings.warn(\n"
          ]
        },
        {
          "data": {
            "text/html": [
              "\n",
              "    <div>\n",
              "      \n",
              "      <progress value='1951' max='2310' style='width:300px; height:20px; vertical-align: middle;'></progress>\n",
              "      [1951/2310 14:28 < 02:40, 2.24 it/s, Epoch 12.66/15]\n",
              "    </div>\n",
              "    <table border=\"1\" class=\"dataframe\">\n",
              "  <thead>\n",
              " <tr style=\"text-align: left;\">\n",
              "      <th>Step</th>\n",
              "      <th>Training Loss</th>\n",
              "      <th>Validation Loss</th>\n",
              "      <th>Accuracy</th>\n",
              "    </tr>\n",
              "  </thead>\n",
              "  <tbody>\n",
              "    <tr>\n",
              "      <td>50</td>\n",
              "      <td>0.520500</td>\n",
              "      <td>0.653517</td>\n",
              "      <td>0.787928</td>\n",
              "    </tr>\n",
              "    <tr>\n",
              "      <td>100</td>\n",
              "      <td>0.498200</td>\n",
              "      <td>0.269240</td>\n",
              "      <td>0.910277</td>\n",
              "    </tr>\n",
              "    <tr>\n",
              "      <td>150</td>\n",
              "      <td>0.332700</td>\n",
              "      <td>0.560298</td>\n",
              "      <td>0.817292</td>\n",
              "    </tr>\n",
              "    <tr>\n",
              "      <td>200</td>\n",
              "      <td>0.195800</td>\n",
              "      <td>0.319811</td>\n",
              "      <td>0.893964</td>\n",
              "    </tr>\n",
              "    <tr>\n",
              "      <td>250</td>\n",
              "      <td>0.324300</td>\n",
              "      <td>0.201889</td>\n",
              "      <td>0.923328</td>\n",
              "    </tr>\n",
              "    <tr>\n",
              "      <td>300</td>\n",
              "      <td>0.200900</td>\n",
              "      <td>0.265060</td>\n",
              "      <td>0.923328</td>\n",
              "    </tr>\n",
              "    <tr>\n",
              "      <td>350</td>\n",
              "      <td>0.262600</td>\n",
              "      <td>0.291674</td>\n",
              "      <td>0.920065</td>\n",
              "    </tr>\n",
              "    <tr>\n",
              "      <td>400</td>\n",
              "      <td>0.118300</td>\n",
              "      <td>0.097557</td>\n",
              "      <td>0.959217</td>\n",
              "    </tr>\n",
              "    <tr>\n",
              "      <td>450</td>\n",
              "      <td>0.132900</td>\n",
              "      <td>0.211417</td>\n",
              "      <td>0.941272</td>\n",
              "    </tr>\n",
              "    <tr>\n",
              "      <td>500</td>\n",
              "      <td>0.069200</td>\n",
              "      <td>0.105135</td>\n",
              "      <td>0.973899</td>\n",
              "    </tr>\n",
              "    <tr>\n",
              "      <td>550</td>\n",
              "      <td>0.090000</td>\n",
              "      <td>0.169374</td>\n",
              "      <td>0.960848</td>\n",
              "    </tr>\n",
              "    <tr>\n",
              "      <td>600</td>\n",
              "      <td>0.060800</td>\n",
              "      <td>0.166781</td>\n",
              "      <td>0.957586</td>\n",
              "    </tr>\n",
              "    <tr>\n",
              "      <td>650</td>\n",
              "      <td>0.115800</td>\n",
              "      <td>0.081715</td>\n",
              "      <td>0.978793</td>\n",
              "    </tr>\n",
              "    <tr>\n",
              "      <td>700</td>\n",
              "      <td>0.047400</td>\n",
              "      <td>0.091550</td>\n",
              "      <td>0.980424</td>\n",
              "    </tr>\n",
              "    <tr>\n",
              "      <td>750</td>\n",
              "      <td>0.067400</td>\n",
              "      <td>0.166789</td>\n",
              "      <td>0.960848</td>\n",
              "    </tr>\n",
              "    <tr>\n",
              "      <td>800</td>\n",
              "      <td>0.025800</td>\n",
              "      <td>0.130996</td>\n",
              "      <td>0.973899</td>\n",
              "    </tr>\n",
              "    <tr>\n",
              "      <td>850</td>\n",
              "      <td>0.030500</td>\n",
              "      <td>0.126761</td>\n",
              "      <td>0.972268</td>\n",
              "    </tr>\n",
              "    <tr>\n",
              "      <td>900</td>\n",
              "      <td>0.067600</td>\n",
              "      <td>0.161172</td>\n",
              "      <td>0.965742</td>\n",
              "    </tr>\n",
              "    <tr>\n",
              "      <td>950</td>\n",
              "      <td>0.003800</td>\n",
              "      <td>0.159876</td>\n",
              "      <td>0.969005</td>\n",
              "    </tr>\n",
              "    <tr>\n",
              "      <td>1000</td>\n",
              "      <td>0.002000</td>\n",
              "      <td>0.181216</td>\n",
              "      <td>0.967374</td>\n",
              "    </tr>\n",
              "    <tr>\n",
              "      <td>1050</td>\n",
              "      <td>0.044800</td>\n",
              "      <td>0.147842</td>\n",
              "      <td>0.969005</td>\n",
              "    </tr>\n",
              "    <tr>\n",
              "      <td>1100</td>\n",
              "      <td>0.027500</td>\n",
              "      <td>0.147781</td>\n",
              "      <td>0.975530</td>\n",
              "    </tr>\n",
              "    <tr>\n",
              "      <td>1150</td>\n",
              "      <td>0.059500</td>\n",
              "      <td>0.127596</td>\n",
              "      <td>0.975530</td>\n",
              "    </tr>\n",
              "    <tr>\n",
              "      <td>1200</td>\n",
              "      <td>0.001700</td>\n",
              "      <td>0.131664</td>\n",
              "      <td>0.975530</td>\n",
              "    </tr>\n",
              "    <tr>\n",
              "      <td>1250</td>\n",
              "      <td>0.059700</td>\n",
              "      <td>0.117599</td>\n",
              "      <td>0.972268</td>\n",
              "    </tr>\n",
              "    <tr>\n",
              "      <td>1300</td>\n",
              "      <td>0.013900</td>\n",
              "      <td>0.094734</td>\n",
              "      <td>0.980424</td>\n",
              "    </tr>\n",
              "    <tr>\n",
              "      <td>1350</td>\n",
              "      <td>0.012100</td>\n",
              "      <td>0.100977</td>\n",
              "      <td>0.978793</td>\n",
              "    </tr>\n",
              "    <tr>\n",
              "      <td>1400</td>\n",
              "      <td>0.000700</td>\n",
              "      <td>0.095023</td>\n",
              "      <td>0.985318</td>\n",
              "    </tr>\n",
              "    <tr>\n",
              "      <td>1450</td>\n",
              "      <td>0.000300</td>\n",
              "      <td>0.088430</td>\n",
              "      <td>0.983687</td>\n",
              "    </tr>\n",
              "    <tr>\n",
              "      <td>1500</td>\n",
              "      <td>0.000900</td>\n",
              "      <td>0.089859</td>\n",
              "      <td>0.983687</td>\n",
              "    </tr>\n",
              "    <tr>\n",
              "      <td>1550</td>\n",
              "      <td>0.000400</td>\n",
              "      <td>0.112063</td>\n",
              "      <td>0.980424</td>\n",
              "    </tr>\n",
              "    <tr>\n",
              "      <td>1600</td>\n",
              "      <td>0.000600</td>\n",
              "      <td>0.084463</td>\n",
              "      <td>0.983687</td>\n",
              "    </tr>\n",
              "    <tr>\n",
              "      <td>1650</td>\n",
              "      <td>0.002800</td>\n",
              "      <td>0.086946</td>\n",
              "      <td>0.980424</td>\n",
              "    </tr>\n",
              "    <tr>\n",
              "      <td>1700</td>\n",
              "      <td>0.034500</td>\n",
              "      <td>0.094177</td>\n",
              "      <td>0.980424</td>\n",
              "    </tr>\n",
              "    <tr>\n",
              "      <td>1750</td>\n",
              "      <td>0.004100</td>\n",
              "      <td>0.103019</td>\n",
              "      <td>0.977162</td>\n",
              "    </tr>\n",
              "    <tr>\n",
              "      <td>1800</td>\n",
              "      <td>0.014300</td>\n",
              "      <td>0.109625</td>\n",
              "      <td>0.973899</td>\n",
              "    </tr>\n",
              "    <tr>\n",
              "      <td>1850</td>\n",
              "      <td>0.219400</td>\n",
              "      <td>0.092211</td>\n",
              "      <td>0.982055</td>\n",
              "    </tr>\n",
              "    <tr>\n",
              "      <td>1900</td>\n",
              "      <td>0.000500</td>\n",
              "      <td>0.108257</td>\n",
              "      <td>0.980424</td>\n",
              "    </tr>\n",
              "  </tbody>\n",
              "</table><p>\n",
              "    <div>\n",
              "      \n",
              "      <progress value='10' max='77' style='width:300px; height:20px; vertical-align: middle;'></progress>\n",
              "      [10/77 00:00 < 00:06, 10.26 it/s]\n",
              "    </div>\n",
              "    "
            ],
            "text/plain": [
              "<IPython.core.display.HTML object>"
            ]
          },
          "metadata": {},
          "output_type": "display_data"
        },
        {
          "output_type": "display_data",
          "data": {
            "text/plain": [
              "<IPython.core.display.HTML object>"
            ],
            "text/html": [
              "\n",
              "    <div>\n",
              "      \n",
              "      <progress value='2310' max='2310' style='width:300px; height:20px; vertical-align: middle;'></progress>\n",
              "      [2310/2310 17:17, Epoch 15/15]\n",
              "    </div>\n",
              "    <table border=\"1\" class=\"dataframe\">\n",
              "  <thead>\n",
              " <tr style=\"text-align: left;\">\n",
              "      <th>Step</th>\n",
              "      <th>Training Loss</th>\n",
              "      <th>Validation Loss</th>\n",
              "      <th>Accuracy</th>\n",
              "    </tr>\n",
              "  </thead>\n",
              "  <tbody>\n",
              "    <tr>\n",
              "      <td>50</td>\n",
              "      <td>0.520500</td>\n",
              "      <td>0.653517</td>\n",
              "      <td>0.787928</td>\n",
              "    </tr>\n",
              "    <tr>\n",
              "      <td>100</td>\n",
              "      <td>0.498200</td>\n",
              "      <td>0.269240</td>\n",
              "      <td>0.910277</td>\n",
              "    </tr>\n",
              "    <tr>\n",
              "      <td>150</td>\n",
              "      <td>0.332700</td>\n",
              "      <td>0.560298</td>\n",
              "      <td>0.817292</td>\n",
              "    </tr>\n",
              "    <tr>\n",
              "      <td>200</td>\n",
              "      <td>0.195800</td>\n",
              "      <td>0.319811</td>\n",
              "      <td>0.893964</td>\n",
              "    </tr>\n",
              "    <tr>\n",
              "      <td>250</td>\n",
              "      <td>0.324300</td>\n",
              "      <td>0.201889</td>\n",
              "      <td>0.923328</td>\n",
              "    </tr>\n",
              "    <tr>\n",
              "      <td>300</td>\n",
              "      <td>0.200900</td>\n",
              "      <td>0.265060</td>\n",
              "      <td>0.923328</td>\n",
              "    </tr>\n",
              "    <tr>\n",
              "      <td>350</td>\n",
              "      <td>0.262600</td>\n",
              "      <td>0.291674</td>\n",
              "      <td>0.920065</td>\n",
              "    </tr>\n",
              "    <tr>\n",
              "      <td>400</td>\n",
              "      <td>0.118300</td>\n",
              "      <td>0.097557</td>\n",
              "      <td>0.959217</td>\n",
              "    </tr>\n",
              "    <tr>\n",
              "      <td>450</td>\n",
              "      <td>0.132900</td>\n",
              "      <td>0.211417</td>\n",
              "      <td>0.941272</td>\n",
              "    </tr>\n",
              "    <tr>\n",
              "      <td>500</td>\n",
              "      <td>0.069200</td>\n",
              "      <td>0.105135</td>\n",
              "      <td>0.973899</td>\n",
              "    </tr>\n",
              "    <tr>\n",
              "      <td>550</td>\n",
              "      <td>0.090000</td>\n",
              "      <td>0.169374</td>\n",
              "      <td>0.960848</td>\n",
              "    </tr>\n",
              "    <tr>\n",
              "      <td>600</td>\n",
              "      <td>0.060800</td>\n",
              "      <td>0.166781</td>\n",
              "      <td>0.957586</td>\n",
              "    </tr>\n",
              "    <tr>\n",
              "      <td>650</td>\n",
              "      <td>0.115800</td>\n",
              "      <td>0.081715</td>\n",
              "      <td>0.978793</td>\n",
              "    </tr>\n",
              "    <tr>\n",
              "      <td>700</td>\n",
              "      <td>0.047400</td>\n",
              "      <td>0.091550</td>\n",
              "      <td>0.980424</td>\n",
              "    </tr>\n",
              "    <tr>\n",
              "      <td>750</td>\n",
              "      <td>0.067400</td>\n",
              "      <td>0.166789</td>\n",
              "      <td>0.960848</td>\n",
              "    </tr>\n",
              "    <tr>\n",
              "      <td>800</td>\n",
              "      <td>0.025800</td>\n",
              "      <td>0.130996</td>\n",
              "      <td>0.973899</td>\n",
              "    </tr>\n",
              "    <tr>\n",
              "      <td>850</td>\n",
              "      <td>0.030500</td>\n",
              "      <td>0.126761</td>\n",
              "      <td>0.972268</td>\n",
              "    </tr>\n",
              "    <tr>\n",
              "      <td>900</td>\n",
              "      <td>0.067600</td>\n",
              "      <td>0.161172</td>\n",
              "      <td>0.965742</td>\n",
              "    </tr>\n",
              "    <tr>\n",
              "      <td>950</td>\n",
              "      <td>0.003800</td>\n",
              "      <td>0.159876</td>\n",
              "      <td>0.969005</td>\n",
              "    </tr>\n",
              "    <tr>\n",
              "      <td>1000</td>\n",
              "      <td>0.002000</td>\n",
              "      <td>0.181216</td>\n",
              "      <td>0.967374</td>\n",
              "    </tr>\n",
              "    <tr>\n",
              "      <td>1050</td>\n",
              "      <td>0.044800</td>\n",
              "      <td>0.147842</td>\n",
              "      <td>0.969005</td>\n",
              "    </tr>\n",
              "    <tr>\n",
              "      <td>1100</td>\n",
              "      <td>0.027500</td>\n",
              "      <td>0.147781</td>\n",
              "      <td>0.975530</td>\n",
              "    </tr>\n",
              "    <tr>\n",
              "      <td>1150</td>\n",
              "      <td>0.059500</td>\n",
              "      <td>0.127596</td>\n",
              "      <td>0.975530</td>\n",
              "    </tr>\n",
              "    <tr>\n",
              "      <td>1200</td>\n",
              "      <td>0.001700</td>\n",
              "      <td>0.131664</td>\n",
              "      <td>0.975530</td>\n",
              "    </tr>\n",
              "    <tr>\n",
              "      <td>1250</td>\n",
              "      <td>0.059700</td>\n",
              "      <td>0.117599</td>\n",
              "      <td>0.972268</td>\n",
              "    </tr>\n",
              "    <tr>\n",
              "      <td>1300</td>\n",
              "      <td>0.013900</td>\n",
              "      <td>0.094734</td>\n",
              "      <td>0.980424</td>\n",
              "    </tr>\n",
              "    <tr>\n",
              "      <td>1350</td>\n",
              "      <td>0.012100</td>\n",
              "      <td>0.100977</td>\n",
              "      <td>0.978793</td>\n",
              "    </tr>\n",
              "    <tr>\n",
              "      <td>1400</td>\n",
              "      <td>0.000700</td>\n",
              "      <td>0.095023</td>\n",
              "      <td>0.985318</td>\n",
              "    </tr>\n",
              "    <tr>\n",
              "      <td>1450</td>\n",
              "      <td>0.000300</td>\n",
              "      <td>0.088430</td>\n",
              "      <td>0.983687</td>\n",
              "    </tr>\n",
              "    <tr>\n",
              "      <td>1500</td>\n",
              "      <td>0.000900</td>\n",
              "      <td>0.089859</td>\n",
              "      <td>0.983687</td>\n",
              "    </tr>\n",
              "    <tr>\n",
              "      <td>1550</td>\n",
              "      <td>0.000400</td>\n",
              "      <td>0.112063</td>\n",
              "      <td>0.980424</td>\n",
              "    </tr>\n",
              "    <tr>\n",
              "      <td>1600</td>\n",
              "      <td>0.000600</td>\n",
              "      <td>0.084463</td>\n",
              "      <td>0.983687</td>\n",
              "    </tr>\n",
              "    <tr>\n",
              "      <td>1650</td>\n",
              "      <td>0.002800</td>\n",
              "      <td>0.086946</td>\n",
              "      <td>0.980424</td>\n",
              "    </tr>\n",
              "    <tr>\n",
              "      <td>1700</td>\n",
              "      <td>0.034500</td>\n",
              "      <td>0.094177</td>\n",
              "      <td>0.980424</td>\n",
              "    </tr>\n",
              "    <tr>\n",
              "      <td>1750</td>\n",
              "      <td>0.004100</td>\n",
              "      <td>0.103019</td>\n",
              "      <td>0.977162</td>\n",
              "    </tr>\n",
              "    <tr>\n",
              "      <td>1800</td>\n",
              "      <td>0.014300</td>\n",
              "      <td>0.109625</td>\n",
              "      <td>0.973899</td>\n",
              "    </tr>\n",
              "    <tr>\n",
              "      <td>1850</td>\n",
              "      <td>0.219400</td>\n",
              "      <td>0.092211</td>\n",
              "      <td>0.982055</td>\n",
              "    </tr>\n",
              "    <tr>\n",
              "      <td>1900</td>\n",
              "      <td>0.000500</td>\n",
              "      <td>0.108257</td>\n",
              "      <td>0.980424</td>\n",
              "    </tr>\n",
              "    <tr>\n",
              "      <td>1950</td>\n",
              "      <td>0.000200</td>\n",
              "      <td>0.091216</td>\n",
              "      <td>0.982055</td>\n",
              "    </tr>\n",
              "    <tr>\n",
              "      <td>2000</td>\n",
              "      <td>0.000100</td>\n",
              "      <td>0.088663</td>\n",
              "      <td>0.985318</td>\n",
              "    </tr>\n",
              "    <tr>\n",
              "      <td>2050</td>\n",
              "      <td>0.005700</td>\n",
              "      <td>0.085337</td>\n",
              "      <td>0.982055</td>\n",
              "    </tr>\n",
              "    <tr>\n",
              "      <td>2100</td>\n",
              "      <td>0.034100</td>\n",
              "      <td>0.087938</td>\n",
              "      <td>0.982055</td>\n",
              "    </tr>\n",
              "    <tr>\n",
              "      <td>2150</td>\n",
              "      <td>0.022500</td>\n",
              "      <td>0.078990</td>\n",
              "      <td>0.983687</td>\n",
              "    </tr>\n",
              "    <tr>\n",
              "      <td>2200</td>\n",
              "      <td>0.017600</td>\n",
              "      <td>0.078148</td>\n",
              "      <td>0.982055</td>\n",
              "    </tr>\n",
              "    <tr>\n",
              "      <td>2250</td>\n",
              "      <td>0.000100</td>\n",
              "      <td>0.072188</td>\n",
              "      <td>0.986949</td>\n",
              "    </tr>\n",
              "    <tr>\n",
              "      <td>2300</td>\n",
              "      <td>0.000400</td>\n",
              "      <td>0.073737</td>\n",
              "      <td>0.980424</td>\n",
              "    </tr>\n",
              "  </tbody>\n",
              "</table><p>"
            ]
          },
          "metadata": {}
        },
        {
          "output_type": "stream",
          "name": "stdout",
          "text": [
            "***** train metrics *****\n",
            "  epoch                    =        15.0\n",
            "  total_flos               = 366175246GF\n",
            "  train_loss               =      0.1281\n",
            "  train_runtime            =  0:17:18.24\n",
            "  train_samples_per_second =      35.411\n",
            "  train_steps_per_second   =       2.225\n"
          ]
        },
        {
          "output_type": "display_data",
          "data": {
            "text/plain": [
              "<IPython.core.display.HTML object>"
            ],
            "text/html": [
              "Waiting for W&B process to finish... <strong style=\"color:green\">(success).</strong>"
            ]
          },
          "metadata": {}
        },
        {
          "output_type": "display_data",
          "data": {
            "text/plain": [
              "<IPython.core.display.HTML object>"
            ],
            "text/html": [
              "<style>\n",
              "    table.wandb td:nth-child(1) { padding: 0 10px; text-align: left ; width: auto;} td:nth-child(2) {text-align: left ; width: 100%}\n",
              "    .wandb-row { display: flex; flex-direction: row; flex-wrap: wrap; justify-content: flex-start; width: 100% }\n",
              "    .wandb-col { display: flex; flex-direction: column; flex-basis: 100%; flex: 1; padding: 10px; }\n",
              "    </style>\n",
              "<div class=\"wandb-row\"><div class=\"wandb-col\"><h3>Run history:</h3><br/><table class=\"wandb\"><tr><td>eval/accuracy</td><td>▁▅▂▅▆▆▆▆█▇▇██▇▇▇▇▇▇██▇██████████████████</td></tr><tr><td>eval/loss</td><td>█▃▇▄▃▃▄▃▁▂▂▁▁▂▂▂▂▂▂▂▂▂▁▁▁▁▁▁▁▁▁▁▁▁▁▁▁▁▁▁</td></tr><tr><td>eval/runtime</td><td>▁▂▂▁▂▁▃▂▃▂▃▃▂▄▃▃▂▂▂▃▂▃▁▂▂▁█▂▃▂▃▄▂▂▂▃▂▃▂▂</td></tr><tr><td>eval/samples_per_second</td><td>█▇▇█▇█▆▇▆▇▅▆▇▅▆▆▇▇▇▆▇▆█▇▆█▁▆▆▇▆▅▇▆▇▅▇▆▇▇</td></tr><tr><td>eval/steps_per_second</td><td>█▇▇█▇█▆▇▆▇▅▆▇▅▆▆▇▇▇▆▇▆█▇▆█▁▆▆▇▆▅▇▆▇▅▇▆▇▇</td></tr><tr><td>train/epoch</td><td>▁▁▁▁▂▂▂▂▂▃▃▃▃▃▃▄▄▄▄▄▅▅▅▅▅▅▆▆▆▆▆▇▇▇▇▇▇███</td></tr><tr><td>train/global_step</td><td>▁▁▁▁▂▂▂▂▂▃▃▃▃▃▃▄▄▄▄▄▅▅▅▅▅▅▆▆▆▆▆▇▇▇▇▇▇███</td></tr><tr><td>train/learning_rate</td><td>████▇▇▇▇▇▆▆▆▆▆▆▅▅▅▅▅▄▄▄▄▄▄▃▃▃▃▃▂▂▂▂▂▂▁▁▁</td></tr><tr><td>train/loss</td><td>█▂▂▂▁▁▁▁▁▁▁▁▁▁▁▁▁▁▁▁▁▁▁▁▁▁▁▁▁▁▁▁▁▁▁▁▁▁▁▁</td></tr><tr><td>train/total_flos</td><td>▁</td></tr><tr><td>train/train_loss</td><td>▁</td></tr><tr><td>train/train_runtime</td><td>▁</td></tr><tr><td>train/train_samples_per_second</td><td>▁</td></tr><tr><td>train/train_steps_per_second</td><td>▁</td></tr></table><br/></div><div class=\"wandb-col\"><h3>Run summary:</h3><br/><table class=\"wandb\"><tr><td>eval/accuracy</td><td>0.98042</td></tr><tr><td>eval/loss</td><td>0.07374</td></tr><tr><td>eval/runtime</td><td>7.9677</td></tr><tr><td>eval/samples_per_second</td><td>76.936</td></tr><tr><td>eval/steps_per_second</td><td>9.664</td></tr><tr><td>train/epoch</td><td>15.0</td></tr><tr><td>train/global_step</td><td>2310</td></tr><tr><td>train/learning_rate</td><td>0.0</td></tr><tr><td>train/loss</td><td>0.0</td></tr><tr><td>train/total_flos</td><td>3.9317767701037056e+17</td></tr><tr><td>train/train_loss</td><td>0.12808</td></tr><tr><td>train/train_runtime</td><td>1038.2438</td></tr><tr><td>train/train_samples_per_second</td><td>35.411</td></tr><tr><td>train/train_steps_per_second</td><td>2.225</td></tr></table><br/></div></div>"
            ]
          },
          "metadata": {}
        },
        {
          "output_type": "display_data",
          "data": {
            "text/plain": [
              "<IPython.core.display.HTML object>"
            ],
            "text/html": [
              " View run <strong style=\"color:#cdcd00\">expert-paper-4</strong> at: <a href='https://wandb.ai/deep_bekeif/eff_vit_with_aug/runs/p2yt98i0' target=\"_blank\">https://wandb.ai/deep_bekeif/eff_vit_with_aug/runs/p2yt98i0</a><br/>Synced 5 W&B file(s), 0 media file(s), 0 artifact file(s) and 0 other file(s)"
            ]
          },
          "metadata": {}
        },
        {
          "output_type": "display_data",
          "data": {
            "text/plain": [
              "<IPython.core.display.HTML object>"
            ],
            "text/html": [
              "Find logs at: <code>./wandb/run-20230706_115243-p2yt98i0/logs</code>"
            ]
          },
          "metadata": {}
        }
      ]
    }
  ],
  "metadata": {
    "accelerator": "GPU",
    "colab": {
      "collapsed_sections": [
        "e8pOlK68_21b",
        "GtJNGP6yS9I8",
        "5C9ZT2fPUbqc",
        "4cZvzMmILYsi",
        "krzSz6X_UuhZ",
        "B0QUfYorUxfu"
      ],
      "provenance": [],
      "gpuType": "A100",
      "include_colab_link": true
    },
    "kernelspec": {
      "display_name": "Python 3",
      "name": "python3"
    },
    "language_info": {
      "name": "python"
    },
    "widgets": {
      "application/vnd.jupyter.widget-state+json": {
        "7b0b645b32144ccf810f3a15796ef66c": {
          "model_module": "@jupyter-widgets/controls",
          "model_name": "VBoxModel",
          "model_module_version": "1.5.0",
          "state": {
            "_dom_classes": [],
            "_model_module": "@jupyter-widgets/controls",
            "_model_module_version": "1.5.0",
            "_model_name": "VBoxModel",
            "_view_count": null,
            "_view_module": "@jupyter-widgets/controls",
            "_view_module_version": "1.5.0",
            "_view_name": "VBoxView",
            "box_style": "",
            "children": [
              "IPY_MODEL_1e4a25437b634ef894b21972431432b4",
              "IPY_MODEL_e936fd6952fe41dca9ffe96a6450787b"
            ],
            "layout": "IPY_MODEL_06ce33f8bd3048248a7076bd1515d46b"
          }
        },
        "1e4a25437b634ef894b21972431432b4": {
          "model_module": "@jupyter-widgets/controls",
          "model_name": "LabelModel",
          "model_module_version": "1.5.0",
          "state": {
            "_dom_classes": [],
            "_model_module": "@jupyter-widgets/controls",
            "_model_module_version": "1.5.0",
            "_model_name": "LabelModel",
            "_view_count": null,
            "_view_module": "@jupyter-widgets/controls",
            "_view_module_version": "1.5.0",
            "_view_name": "LabelView",
            "description": "",
            "description_tooltip": null,
            "layout": "IPY_MODEL_7a130b04a5ce4dce99eb61334816e362",
            "placeholder": "​",
            "style": "IPY_MODEL_a08c3126a6684d97a0c2f6517ade5eed",
            "value": "0.002 MB of 0.019 MB uploaded (0.000 MB deduped)\r"
          }
        },
        "e936fd6952fe41dca9ffe96a6450787b": {
          "model_module": "@jupyter-widgets/controls",
          "model_name": "FloatProgressModel",
          "model_module_version": "1.5.0",
          "state": {
            "_dom_classes": [],
            "_model_module": "@jupyter-widgets/controls",
            "_model_module_version": "1.5.0",
            "_model_name": "FloatProgressModel",
            "_view_count": null,
            "_view_module": "@jupyter-widgets/controls",
            "_view_module_version": "1.5.0",
            "_view_name": "ProgressView",
            "bar_style": "",
            "description": "",
            "description_tooltip": null,
            "layout": "IPY_MODEL_19061d6836ed4fa697b1f8697e7d46d9",
            "max": 1,
            "min": 0,
            "orientation": "horizontal",
            "style": "IPY_MODEL_9b5bf20b83cc4d7496466d045034ea9d",
            "value": 0.10976948408342481
          }
        },
        "06ce33f8bd3048248a7076bd1515d46b": {
          "model_module": "@jupyter-widgets/base",
          "model_name": "LayoutModel",
          "model_module_version": "1.2.0",
          "state": {
            "_model_module": "@jupyter-widgets/base",
            "_model_module_version": "1.2.0",
            "_model_name": "LayoutModel",
            "_view_count": null,
            "_view_module": "@jupyter-widgets/base",
            "_view_module_version": "1.2.0",
            "_view_name": "LayoutView",
            "align_content": null,
            "align_items": null,
            "align_self": null,
            "border": null,
            "bottom": null,
            "display": null,
            "flex": null,
            "flex_flow": null,
            "grid_area": null,
            "grid_auto_columns": null,
            "grid_auto_flow": null,
            "grid_auto_rows": null,
            "grid_column": null,
            "grid_gap": null,
            "grid_row": null,
            "grid_template_areas": null,
            "grid_template_columns": null,
            "grid_template_rows": null,
            "height": null,
            "justify_content": null,
            "justify_items": null,
            "left": null,
            "margin": null,
            "max_height": null,
            "max_width": null,
            "min_height": null,
            "min_width": null,
            "object_fit": null,
            "object_position": null,
            "order": null,
            "overflow": null,
            "overflow_x": null,
            "overflow_y": null,
            "padding": null,
            "right": null,
            "top": null,
            "visibility": null,
            "width": null
          }
        },
        "7a130b04a5ce4dce99eb61334816e362": {
          "model_module": "@jupyter-widgets/base",
          "model_name": "LayoutModel",
          "model_module_version": "1.2.0",
          "state": {
            "_model_module": "@jupyter-widgets/base",
            "_model_module_version": "1.2.0",
            "_model_name": "LayoutModel",
            "_view_count": null,
            "_view_module": "@jupyter-widgets/base",
            "_view_module_version": "1.2.0",
            "_view_name": "LayoutView",
            "align_content": null,
            "align_items": null,
            "align_self": null,
            "border": null,
            "bottom": null,
            "display": null,
            "flex": null,
            "flex_flow": null,
            "grid_area": null,
            "grid_auto_columns": null,
            "grid_auto_flow": null,
            "grid_auto_rows": null,
            "grid_column": null,
            "grid_gap": null,
            "grid_row": null,
            "grid_template_areas": null,
            "grid_template_columns": null,
            "grid_template_rows": null,
            "height": null,
            "justify_content": null,
            "justify_items": null,
            "left": null,
            "margin": null,
            "max_height": null,
            "max_width": null,
            "min_height": null,
            "min_width": null,
            "object_fit": null,
            "object_position": null,
            "order": null,
            "overflow": null,
            "overflow_x": null,
            "overflow_y": null,
            "padding": null,
            "right": null,
            "top": null,
            "visibility": null,
            "width": null
          }
        },
        "a08c3126a6684d97a0c2f6517ade5eed": {
          "model_module": "@jupyter-widgets/controls",
          "model_name": "DescriptionStyleModel",
          "model_module_version": "1.5.0",
          "state": {
            "_model_module": "@jupyter-widgets/controls",
            "_model_module_version": "1.5.0",
            "_model_name": "DescriptionStyleModel",
            "_view_count": null,
            "_view_module": "@jupyter-widgets/base",
            "_view_module_version": "1.2.0",
            "_view_name": "StyleView",
            "description_width": ""
          }
        },
        "19061d6836ed4fa697b1f8697e7d46d9": {
          "model_module": "@jupyter-widgets/base",
          "model_name": "LayoutModel",
          "model_module_version": "1.2.0",
          "state": {
            "_model_module": "@jupyter-widgets/base",
            "_model_module_version": "1.2.0",
            "_model_name": "LayoutModel",
            "_view_count": null,
            "_view_module": "@jupyter-widgets/base",
            "_view_module_version": "1.2.0",
            "_view_name": "LayoutView",
            "align_content": null,
            "align_items": null,
            "align_self": null,
            "border": null,
            "bottom": null,
            "display": null,
            "flex": null,
            "flex_flow": null,
            "grid_area": null,
            "grid_auto_columns": null,
            "grid_auto_flow": null,
            "grid_auto_rows": null,
            "grid_column": null,
            "grid_gap": null,
            "grid_row": null,
            "grid_template_areas": null,
            "grid_template_columns": null,
            "grid_template_rows": null,
            "height": null,
            "justify_content": null,
            "justify_items": null,
            "left": null,
            "margin": null,
            "max_height": null,
            "max_width": null,
            "min_height": null,
            "min_width": null,
            "object_fit": null,
            "object_position": null,
            "order": null,
            "overflow": null,
            "overflow_x": null,
            "overflow_y": null,
            "padding": null,
            "right": null,
            "top": null,
            "visibility": null,
            "width": null
          }
        },
        "9b5bf20b83cc4d7496466d045034ea9d": {
          "model_module": "@jupyter-widgets/controls",
          "model_name": "ProgressStyleModel",
          "model_module_version": "1.5.0",
          "state": {
            "_model_module": "@jupyter-widgets/controls",
            "_model_module_version": "1.5.0",
            "_model_name": "ProgressStyleModel",
            "_view_count": null,
            "_view_module": "@jupyter-widgets/base",
            "_view_module_version": "1.2.0",
            "_view_name": "StyleView",
            "bar_color": null,
            "description_width": ""
          }
        },
        "fe15697ef5e440978bf3a7d292eee167": {
          "model_module": "@jupyter-widgets/controls",
          "model_name": "VBoxModel",
          "model_module_version": "1.5.0",
          "state": {
            "_dom_classes": [],
            "_model_module": "@jupyter-widgets/controls",
            "_model_module_version": "1.5.0",
            "_model_name": "VBoxModel",
            "_view_count": null,
            "_view_module": "@jupyter-widgets/controls",
            "_view_module_version": "1.5.0",
            "_view_name": "VBoxView",
            "box_style": "",
            "children": [
              "IPY_MODEL_08f9bf8e83d14bed971527a6b42de233",
              "IPY_MODEL_5ce6178a83a7417caa7d12edd8f605f0"
            ],
            "layout": "IPY_MODEL_a2989b368b6f4714a54e3bf44883dea9"
          }
        },
        "08f9bf8e83d14bed971527a6b42de233": {
          "model_module": "@jupyter-widgets/controls",
          "model_name": "LabelModel",
          "model_module_version": "1.5.0",
          "state": {
            "_dom_classes": [],
            "_model_module": "@jupyter-widgets/controls",
            "_model_module_version": "1.5.0",
            "_model_name": "LabelModel",
            "_view_count": null,
            "_view_module": "@jupyter-widgets/controls",
            "_view_module_version": "1.5.0",
            "_view_name": "LabelView",
            "description": "",
            "description_tooltip": null,
            "layout": "IPY_MODEL_f3716049b140430390a8d75741b8a175",
            "placeholder": "​",
            "style": "IPY_MODEL_aaa7f0909c614786aa66319c466c44d7",
            "value": "0.002 MB of 0.020 MB uploaded (0.000 MB deduped)\r"
          }
        },
        "5ce6178a83a7417caa7d12edd8f605f0": {
          "model_module": "@jupyter-widgets/controls",
          "model_name": "FloatProgressModel",
          "model_module_version": "1.5.0",
          "state": {
            "_dom_classes": [],
            "_model_module": "@jupyter-widgets/controls",
            "_model_module_version": "1.5.0",
            "_model_name": "FloatProgressModel",
            "_view_count": null,
            "_view_module": "@jupyter-widgets/controls",
            "_view_module_version": "1.5.0",
            "_view_name": "ProgressView",
            "bar_style": "",
            "description": "",
            "description_tooltip": null,
            "layout": "IPY_MODEL_8cf4b273c4e144eba1cda2c7a1a1aac1",
            "max": 1,
            "min": 0,
            "orientation": "horizontal",
            "style": "IPY_MODEL_870a405122b049b8baf6fafce5e7f32f",
            "value": 0.10532867333748265
          }
        },
        "a2989b368b6f4714a54e3bf44883dea9": {
          "model_module": "@jupyter-widgets/base",
          "model_name": "LayoutModel",
          "model_module_version": "1.2.0",
          "state": {
            "_model_module": "@jupyter-widgets/base",
            "_model_module_version": "1.2.0",
            "_model_name": "LayoutModel",
            "_view_count": null,
            "_view_module": "@jupyter-widgets/base",
            "_view_module_version": "1.2.0",
            "_view_name": "LayoutView",
            "align_content": null,
            "align_items": null,
            "align_self": null,
            "border": null,
            "bottom": null,
            "display": null,
            "flex": null,
            "flex_flow": null,
            "grid_area": null,
            "grid_auto_columns": null,
            "grid_auto_flow": null,
            "grid_auto_rows": null,
            "grid_column": null,
            "grid_gap": null,
            "grid_row": null,
            "grid_template_areas": null,
            "grid_template_columns": null,
            "grid_template_rows": null,
            "height": null,
            "justify_content": null,
            "justify_items": null,
            "left": null,
            "margin": null,
            "max_height": null,
            "max_width": null,
            "min_height": null,
            "min_width": null,
            "object_fit": null,
            "object_position": null,
            "order": null,
            "overflow": null,
            "overflow_x": null,
            "overflow_y": null,
            "padding": null,
            "right": null,
            "top": null,
            "visibility": null,
            "width": null
          }
        },
        "f3716049b140430390a8d75741b8a175": {
          "model_module": "@jupyter-widgets/base",
          "model_name": "LayoutModel",
          "model_module_version": "1.2.0",
          "state": {
            "_model_module": "@jupyter-widgets/base",
            "_model_module_version": "1.2.0",
            "_model_name": "LayoutModel",
            "_view_count": null,
            "_view_module": "@jupyter-widgets/base",
            "_view_module_version": "1.2.0",
            "_view_name": "LayoutView",
            "align_content": null,
            "align_items": null,
            "align_self": null,
            "border": null,
            "bottom": null,
            "display": null,
            "flex": null,
            "flex_flow": null,
            "grid_area": null,
            "grid_auto_columns": null,
            "grid_auto_flow": null,
            "grid_auto_rows": null,
            "grid_column": null,
            "grid_gap": null,
            "grid_row": null,
            "grid_template_areas": null,
            "grid_template_columns": null,
            "grid_template_rows": null,
            "height": null,
            "justify_content": null,
            "justify_items": null,
            "left": null,
            "margin": null,
            "max_height": null,
            "max_width": null,
            "min_height": null,
            "min_width": null,
            "object_fit": null,
            "object_position": null,
            "order": null,
            "overflow": null,
            "overflow_x": null,
            "overflow_y": null,
            "padding": null,
            "right": null,
            "top": null,
            "visibility": null,
            "width": null
          }
        },
        "aaa7f0909c614786aa66319c466c44d7": {
          "model_module": "@jupyter-widgets/controls",
          "model_name": "DescriptionStyleModel",
          "model_module_version": "1.5.0",
          "state": {
            "_model_module": "@jupyter-widgets/controls",
            "_model_module_version": "1.5.0",
            "_model_name": "DescriptionStyleModel",
            "_view_count": null,
            "_view_module": "@jupyter-widgets/base",
            "_view_module_version": "1.2.0",
            "_view_name": "StyleView",
            "description_width": ""
          }
        },
        "8cf4b273c4e144eba1cda2c7a1a1aac1": {
          "model_module": "@jupyter-widgets/base",
          "model_name": "LayoutModel",
          "model_module_version": "1.2.0",
          "state": {
            "_model_module": "@jupyter-widgets/base",
            "_model_module_version": "1.2.0",
            "_model_name": "LayoutModel",
            "_view_count": null,
            "_view_module": "@jupyter-widgets/base",
            "_view_module_version": "1.2.0",
            "_view_name": "LayoutView",
            "align_content": null,
            "align_items": null,
            "align_self": null,
            "border": null,
            "bottom": null,
            "display": null,
            "flex": null,
            "flex_flow": null,
            "grid_area": null,
            "grid_auto_columns": null,
            "grid_auto_flow": null,
            "grid_auto_rows": null,
            "grid_column": null,
            "grid_gap": null,
            "grid_row": null,
            "grid_template_areas": null,
            "grid_template_columns": null,
            "grid_template_rows": null,
            "height": null,
            "justify_content": null,
            "justify_items": null,
            "left": null,
            "margin": null,
            "max_height": null,
            "max_width": null,
            "min_height": null,
            "min_width": null,
            "object_fit": null,
            "object_position": null,
            "order": null,
            "overflow": null,
            "overflow_x": null,
            "overflow_y": null,
            "padding": null,
            "right": null,
            "top": null,
            "visibility": null,
            "width": null
          }
        },
        "870a405122b049b8baf6fafce5e7f32f": {
          "model_module": "@jupyter-widgets/controls",
          "model_name": "ProgressStyleModel",
          "model_module_version": "1.5.0",
          "state": {
            "_model_module": "@jupyter-widgets/controls",
            "_model_module_version": "1.5.0",
            "_model_name": "ProgressStyleModel",
            "_view_count": null,
            "_view_module": "@jupyter-widgets/base",
            "_view_module_version": "1.2.0",
            "_view_name": "StyleView",
            "bar_color": null,
            "description_width": ""
          }
        },
        "c274518a78be489c8e37f2d713adce2e": {
          "model_module": "@jupyter-widgets/controls",
          "model_name": "HBoxModel",
          "model_module_version": "1.5.0",
          "state": {
            "_dom_classes": [],
            "_model_module": "@jupyter-widgets/controls",
            "_model_module_version": "1.5.0",
            "_model_name": "HBoxModel",
            "_view_count": null,
            "_view_module": "@jupyter-widgets/controls",
            "_view_module_version": "1.5.0",
            "_view_name": "HBoxView",
            "box_style": "",
            "children": [
              "IPY_MODEL_66ceb6d5524248d9a321cd6a6014c2ff",
              "IPY_MODEL_b1fef4bc421d465caa1dbeb97a65bba3",
              "IPY_MODEL_6f8e010856cd4940b859b5d1a06ad0a3"
            ],
            "layout": "IPY_MODEL_a9f7f4897e95436897024426d20d324e"
          }
        },
        "66ceb6d5524248d9a321cd6a6014c2ff": {
          "model_module": "@jupyter-widgets/controls",
          "model_name": "HTMLModel",
          "model_module_version": "1.5.0",
          "state": {
            "_dom_classes": [],
            "_model_module": "@jupyter-widgets/controls",
            "_model_module_version": "1.5.0",
            "_model_name": "HTMLModel",
            "_view_count": null,
            "_view_module": "@jupyter-widgets/controls",
            "_view_module_version": "1.5.0",
            "_view_name": "HTMLView",
            "description": "",
            "description_tooltip": null,
            "layout": "IPY_MODEL_7bfc198d6c554b219865e00e2ba5cc45",
            "placeholder": "​",
            "style": "IPY_MODEL_058757c72182488e8e5ee9db427adc81",
            "value": "Downloading builder script: "
          }
        },
        "b1fef4bc421d465caa1dbeb97a65bba3": {
          "model_module": "@jupyter-widgets/controls",
          "model_name": "FloatProgressModel",
          "model_module_version": "1.5.0",
          "state": {
            "_dom_classes": [],
            "_model_module": "@jupyter-widgets/controls",
            "_model_module_version": "1.5.0",
            "_model_name": "FloatProgressModel",
            "_view_count": null,
            "_view_module": "@jupyter-widgets/controls",
            "_view_module_version": "1.5.0",
            "_view_name": "ProgressView",
            "bar_style": "success",
            "description": "",
            "description_tooltip": null,
            "layout": "IPY_MODEL_b281060b8107458bac092186336962d9",
            "max": 1652,
            "min": 0,
            "orientation": "horizontal",
            "style": "IPY_MODEL_0a1492b49ca749b38f43804366a93761",
            "value": 1652
          }
        },
        "6f8e010856cd4940b859b5d1a06ad0a3": {
          "model_module": "@jupyter-widgets/controls",
          "model_name": "HTMLModel",
          "model_module_version": "1.5.0",
          "state": {
            "_dom_classes": [],
            "_model_module": "@jupyter-widgets/controls",
            "_model_module_version": "1.5.0",
            "_model_name": "HTMLModel",
            "_view_count": null,
            "_view_module": "@jupyter-widgets/controls",
            "_view_module_version": "1.5.0",
            "_view_name": "HTMLView",
            "description": "",
            "description_tooltip": null,
            "layout": "IPY_MODEL_b6e37bdf317b4f1d82afd5cd1d276dbf",
            "placeholder": "​",
            "style": "IPY_MODEL_376501286ad042419cd58399eef26929",
            "value": " 4.21k/? [00:00&lt;00:00, 275kB/s]"
          }
        },
        "a9f7f4897e95436897024426d20d324e": {
          "model_module": "@jupyter-widgets/base",
          "model_name": "LayoutModel",
          "model_module_version": "1.2.0",
          "state": {
            "_model_module": "@jupyter-widgets/base",
            "_model_module_version": "1.2.0",
            "_model_name": "LayoutModel",
            "_view_count": null,
            "_view_module": "@jupyter-widgets/base",
            "_view_module_version": "1.2.0",
            "_view_name": "LayoutView",
            "align_content": null,
            "align_items": null,
            "align_self": null,
            "border": null,
            "bottom": null,
            "display": null,
            "flex": null,
            "flex_flow": null,
            "grid_area": null,
            "grid_auto_columns": null,
            "grid_auto_flow": null,
            "grid_auto_rows": null,
            "grid_column": null,
            "grid_gap": null,
            "grid_row": null,
            "grid_template_areas": null,
            "grid_template_columns": null,
            "grid_template_rows": null,
            "height": null,
            "justify_content": null,
            "justify_items": null,
            "left": null,
            "margin": null,
            "max_height": null,
            "max_width": null,
            "min_height": null,
            "min_width": null,
            "object_fit": null,
            "object_position": null,
            "order": null,
            "overflow": null,
            "overflow_x": null,
            "overflow_y": null,
            "padding": null,
            "right": null,
            "top": null,
            "visibility": null,
            "width": null
          }
        },
        "7bfc198d6c554b219865e00e2ba5cc45": {
          "model_module": "@jupyter-widgets/base",
          "model_name": "LayoutModel",
          "model_module_version": "1.2.0",
          "state": {
            "_model_module": "@jupyter-widgets/base",
            "_model_module_version": "1.2.0",
            "_model_name": "LayoutModel",
            "_view_count": null,
            "_view_module": "@jupyter-widgets/base",
            "_view_module_version": "1.2.0",
            "_view_name": "LayoutView",
            "align_content": null,
            "align_items": null,
            "align_self": null,
            "border": null,
            "bottom": null,
            "display": null,
            "flex": null,
            "flex_flow": null,
            "grid_area": null,
            "grid_auto_columns": null,
            "grid_auto_flow": null,
            "grid_auto_rows": null,
            "grid_column": null,
            "grid_gap": null,
            "grid_row": null,
            "grid_template_areas": null,
            "grid_template_columns": null,
            "grid_template_rows": null,
            "height": null,
            "justify_content": null,
            "justify_items": null,
            "left": null,
            "margin": null,
            "max_height": null,
            "max_width": null,
            "min_height": null,
            "min_width": null,
            "object_fit": null,
            "object_position": null,
            "order": null,
            "overflow": null,
            "overflow_x": null,
            "overflow_y": null,
            "padding": null,
            "right": null,
            "top": null,
            "visibility": null,
            "width": null
          }
        },
        "058757c72182488e8e5ee9db427adc81": {
          "model_module": "@jupyter-widgets/controls",
          "model_name": "DescriptionStyleModel",
          "model_module_version": "1.5.0",
          "state": {
            "_model_module": "@jupyter-widgets/controls",
            "_model_module_version": "1.5.0",
            "_model_name": "DescriptionStyleModel",
            "_view_count": null,
            "_view_module": "@jupyter-widgets/base",
            "_view_module_version": "1.2.0",
            "_view_name": "StyleView",
            "description_width": ""
          }
        },
        "b281060b8107458bac092186336962d9": {
          "model_module": "@jupyter-widgets/base",
          "model_name": "LayoutModel",
          "model_module_version": "1.2.0",
          "state": {
            "_model_module": "@jupyter-widgets/base",
            "_model_module_version": "1.2.0",
            "_model_name": "LayoutModel",
            "_view_count": null,
            "_view_module": "@jupyter-widgets/base",
            "_view_module_version": "1.2.0",
            "_view_name": "LayoutView",
            "align_content": null,
            "align_items": null,
            "align_self": null,
            "border": null,
            "bottom": null,
            "display": null,
            "flex": null,
            "flex_flow": null,
            "grid_area": null,
            "grid_auto_columns": null,
            "grid_auto_flow": null,
            "grid_auto_rows": null,
            "grid_column": null,
            "grid_gap": null,
            "grid_row": null,
            "grid_template_areas": null,
            "grid_template_columns": null,
            "grid_template_rows": null,
            "height": null,
            "justify_content": null,
            "justify_items": null,
            "left": null,
            "margin": null,
            "max_height": null,
            "max_width": null,
            "min_height": null,
            "min_width": null,
            "object_fit": null,
            "object_position": null,
            "order": null,
            "overflow": null,
            "overflow_x": null,
            "overflow_y": null,
            "padding": null,
            "right": null,
            "top": null,
            "visibility": null,
            "width": null
          }
        },
        "0a1492b49ca749b38f43804366a93761": {
          "model_module": "@jupyter-widgets/controls",
          "model_name": "ProgressStyleModel",
          "model_module_version": "1.5.0",
          "state": {
            "_model_module": "@jupyter-widgets/controls",
            "_model_module_version": "1.5.0",
            "_model_name": "ProgressStyleModel",
            "_view_count": null,
            "_view_module": "@jupyter-widgets/base",
            "_view_module_version": "1.2.0",
            "_view_name": "StyleView",
            "bar_color": null,
            "description_width": ""
          }
        },
        "b6e37bdf317b4f1d82afd5cd1d276dbf": {
          "model_module": "@jupyter-widgets/base",
          "model_name": "LayoutModel",
          "model_module_version": "1.2.0",
          "state": {
            "_model_module": "@jupyter-widgets/base",
            "_model_module_version": "1.2.0",
            "_model_name": "LayoutModel",
            "_view_count": null,
            "_view_module": "@jupyter-widgets/base",
            "_view_module_version": "1.2.0",
            "_view_name": "LayoutView",
            "align_content": null,
            "align_items": null,
            "align_self": null,
            "border": null,
            "bottom": null,
            "display": null,
            "flex": null,
            "flex_flow": null,
            "grid_area": null,
            "grid_auto_columns": null,
            "grid_auto_flow": null,
            "grid_auto_rows": null,
            "grid_column": null,
            "grid_gap": null,
            "grid_row": null,
            "grid_template_areas": null,
            "grid_template_columns": null,
            "grid_template_rows": null,
            "height": null,
            "justify_content": null,
            "justify_items": null,
            "left": null,
            "margin": null,
            "max_height": null,
            "max_width": null,
            "min_height": null,
            "min_width": null,
            "object_fit": null,
            "object_position": null,
            "order": null,
            "overflow": null,
            "overflow_x": null,
            "overflow_y": null,
            "padding": null,
            "right": null,
            "top": null,
            "visibility": null,
            "width": null
          }
        },
        "376501286ad042419cd58399eef26929": {
          "model_module": "@jupyter-widgets/controls",
          "model_name": "DescriptionStyleModel",
          "model_module_version": "1.5.0",
          "state": {
            "_model_module": "@jupyter-widgets/controls",
            "_model_module_version": "1.5.0",
            "_model_name": "DescriptionStyleModel",
            "_view_count": null,
            "_view_module": "@jupyter-widgets/base",
            "_view_module_version": "1.2.0",
            "_view_name": "StyleView",
            "description_width": ""
          }
        },
        "d84568dfd5154dc28bf0b55684e317a0": {
          "model_module": "@jupyter-widgets/controls",
          "model_name": "VBoxModel",
          "model_module_version": "1.5.0",
          "state": {
            "_dom_classes": [],
            "_model_module": "@jupyter-widgets/controls",
            "_model_module_version": "1.5.0",
            "_model_name": "VBoxModel",
            "_view_count": null,
            "_view_module": "@jupyter-widgets/controls",
            "_view_module_version": "1.5.0",
            "_view_name": "VBoxView",
            "box_style": "",
            "children": [
              "IPY_MODEL_0b071901c80a442a8f77d43712f8bfd0",
              "IPY_MODEL_f182459aef0e4bd0aa38bfd5b9e6e1fb"
            ],
            "layout": "IPY_MODEL_86ec1480b3bc41d098970a75294ab83d"
          }
        },
        "0b071901c80a442a8f77d43712f8bfd0": {
          "model_module": "@jupyter-widgets/controls",
          "model_name": "LabelModel",
          "model_module_version": "1.5.0",
          "state": {
            "_dom_classes": [],
            "_model_module": "@jupyter-widgets/controls",
            "_model_module_version": "1.5.0",
            "_model_name": "LabelModel",
            "_view_count": null,
            "_view_module": "@jupyter-widgets/controls",
            "_view_module_version": "1.5.0",
            "_view_name": "LabelView",
            "description": "",
            "description_tooltip": null,
            "layout": "IPY_MODEL_daae331cb81c493da12822750e7cb8ba",
            "placeholder": "​",
            "style": "IPY_MODEL_55d3d2c481564c5db094b016db76ff4b",
            "value": "0.035 MB of 0.035 MB uploaded (0.000 MB deduped)\r"
          }
        },
        "f182459aef0e4bd0aa38bfd5b9e6e1fb": {
          "model_module": "@jupyter-widgets/controls",
          "model_name": "FloatProgressModel",
          "model_module_version": "1.5.0",
          "state": {
            "_dom_classes": [],
            "_model_module": "@jupyter-widgets/controls",
            "_model_module_version": "1.5.0",
            "_model_name": "FloatProgressModel",
            "_view_count": null,
            "_view_module": "@jupyter-widgets/controls",
            "_view_module_version": "1.5.0",
            "_view_name": "ProgressView",
            "bar_style": "",
            "description": "",
            "description_tooltip": null,
            "layout": "IPY_MODEL_0b146b7f58a44e9aa5f2644f0aeea8bd",
            "max": 1,
            "min": 0,
            "orientation": "horizontal",
            "style": "IPY_MODEL_6d82c55b9be745cba015af009c81f364",
            "value": 1
          }
        },
        "86ec1480b3bc41d098970a75294ab83d": {
          "model_module": "@jupyter-widgets/base",
          "model_name": "LayoutModel",
          "model_module_version": "1.2.0",
          "state": {
            "_model_module": "@jupyter-widgets/base",
            "_model_module_version": "1.2.0",
            "_model_name": "LayoutModel",
            "_view_count": null,
            "_view_module": "@jupyter-widgets/base",
            "_view_module_version": "1.2.0",
            "_view_name": "LayoutView",
            "align_content": null,
            "align_items": null,
            "align_self": null,
            "border": null,
            "bottom": null,
            "display": null,
            "flex": null,
            "flex_flow": null,
            "grid_area": null,
            "grid_auto_columns": null,
            "grid_auto_flow": null,
            "grid_auto_rows": null,
            "grid_column": null,
            "grid_gap": null,
            "grid_row": null,
            "grid_template_areas": null,
            "grid_template_columns": null,
            "grid_template_rows": null,
            "height": null,
            "justify_content": null,
            "justify_items": null,
            "left": null,
            "margin": null,
            "max_height": null,
            "max_width": null,
            "min_height": null,
            "min_width": null,
            "object_fit": null,
            "object_position": null,
            "order": null,
            "overflow": null,
            "overflow_x": null,
            "overflow_y": null,
            "padding": null,
            "right": null,
            "top": null,
            "visibility": null,
            "width": null
          }
        },
        "daae331cb81c493da12822750e7cb8ba": {
          "model_module": "@jupyter-widgets/base",
          "model_name": "LayoutModel",
          "model_module_version": "1.2.0",
          "state": {
            "_model_module": "@jupyter-widgets/base",
            "_model_module_version": "1.2.0",
            "_model_name": "LayoutModel",
            "_view_count": null,
            "_view_module": "@jupyter-widgets/base",
            "_view_module_version": "1.2.0",
            "_view_name": "LayoutView",
            "align_content": null,
            "align_items": null,
            "align_self": null,
            "border": null,
            "bottom": null,
            "display": null,
            "flex": null,
            "flex_flow": null,
            "grid_area": null,
            "grid_auto_columns": null,
            "grid_auto_flow": null,
            "grid_auto_rows": null,
            "grid_column": null,
            "grid_gap": null,
            "grid_row": null,
            "grid_template_areas": null,
            "grid_template_columns": null,
            "grid_template_rows": null,
            "height": null,
            "justify_content": null,
            "justify_items": null,
            "left": null,
            "margin": null,
            "max_height": null,
            "max_width": null,
            "min_height": null,
            "min_width": null,
            "object_fit": null,
            "object_position": null,
            "order": null,
            "overflow": null,
            "overflow_x": null,
            "overflow_y": null,
            "padding": null,
            "right": null,
            "top": null,
            "visibility": null,
            "width": null
          }
        },
        "55d3d2c481564c5db094b016db76ff4b": {
          "model_module": "@jupyter-widgets/controls",
          "model_name": "DescriptionStyleModel",
          "model_module_version": "1.5.0",
          "state": {
            "_model_module": "@jupyter-widgets/controls",
            "_model_module_version": "1.5.0",
            "_model_name": "DescriptionStyleModel",
            "_view_count": null,
            "_view_module": "@jupyter-widgets/base",
            "_view_module_version": "1.2.0",
            "_view_name": "StyleView",
            "description_width": ""
          }
        },
        "0b146b7f58a44e9aa5f2644f0aeea8bd": {
          "model_module": "@jupyter-widgets/base",
          "model_name": "LayoutModel",
          "model_module_version": "1.2.0",
          "state": {
            "_model_module": "@jupyter-widgets/base",
            "_model_module_version": "1.2.0",
            "_model_name": "LayoutModel",
            "_view_count": null,
            "_view_module": "@jupyter-widgets/base",
            "_view_module_version": "1.2.0",
            "_view_name": "LayoutView",
            "align_content": null,
            "align_items": null,
            "align_self": null,
            "border": null,
            "bottom": null,
            "display": null,
            "flex": null,
            "flex_flow": null,
            "grid_area": null,
            "grid_auto_columns": null,
            "grid_auto_flow": null,
            "grid_auto_rows": null,
            "grid_column": null,
            "grid_gap": null,
            "grid_row": null,
            "grid_template_areas": null,
            "grid_template_columns": null,
            "grid_template_rows": null,
            "height": null,
            "justify_content": null,
            "justify_items": null,
            "left": null,
            "margin": null,
            "max_height": null,
            "max_width": null,
            "min_height": null,
            "min_width": null,
            "object_fit": null,
            "object_position": null,
            "order": null,
            "overflow": null,
            "overflow_x": null,
            "overflow_y": null,
            "padding": null,
            "right": null,
            "top": null,
            "visibility": null,
            "width": null
          }
        },
        "6d82c55b9be745cba015af009c81f364": {
          "model_module": "@jupyter-widgets/controls",
          "model_name": "ProgressStyleModel",
          "model_module_version": "1.5.0",
          "state": {
            "_model_module": "@jupyter-widgets/controls",
            "_model_module_version": "1.5.0",
            "_model_name": "ProgressStyleModel",
            "_view_count": null,
            "_view_module": "@jupyter-widgets/base",
            "_view_module_version": "1.2.0",
            "_view_name": "StyleView",
            "bar_color": null,
            "description_width": ""
          }
        }
      }
    }
  },
  "nbformat": 4,
  "nbformat_minor": 0
}